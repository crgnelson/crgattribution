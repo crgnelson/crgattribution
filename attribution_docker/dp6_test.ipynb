{
 "cells": [
  {
   "cell_type": "code",
   "execution_count": 1,
   "metadata": {},
   "outputs": [],
   "source": [
    "from marketing_attribution_models import MAM\n",
    "import pandas as pd\n",
    "import numpy as np\n",
    "from collections import defaultdict\n",
    "import matplotlib.pyplot as plt\n",
    "from markovclick.models import MarkovClickstream\n",
    "from markovclick.viz import visualise_markov_chain\n",
    "import os\n",
    "import graphviz\n",
    "import matplotlib as mpl\n",
    "from pandas.io import gbq\n",
    "import pandas_gbq\n",
    "import glob\n",
    "from pylab import *\n",
    "import tempfile\n",
    "import json\n",
    "from datetime import timedelta\n",
    "import seaborn as sns\n",
    "import gc\n",
    "from datetime import datetime\n",
    "import re\n",
    "from google.cloud import bigquery"
   ]
  },
  {
   "cell_type": "code",
   "execution_count": null,
   "metadata": {},
   "outputs": [],
   "source": []
  },
  {
   "cell_type": "code",
   "execution_count": null,
   "metadata": {},
   "outputs": [],
   "source": [
    " attributions = MAM(\n",
    "            sub_df,\n",
    "            group_channels=True,\n",
    "            channels_colname=touchpoint,\n",
    "            journey_with_conv_colname=transaction,\n",
    "            group_channels_by_id_list=[ids],\n",
    "            group_timestamp_colname=date,\n",
    "            create_journey_id_based_on_conversion=True,\n",
    "        )"
   ]
  }
 ],
 "metadata": {
  "kernelspec": {
   "display_name": "clean_env",
   "language": "python",
   "name": "python3"
  },
  "language_info": {
   "codemirror_mode": {
    "name": "ipython",
    "version": 3
   },
   "file_extension": ".py",
   "mimetype": "text/x-python",
   "name": "python",
   "nbconvert_exporter": "python",
   "pygments_lexer": "ipython3",
   "version": "3.9.20"
  }
 },
 "nbformat": 4,
 "nbformat_minor": 2
}
