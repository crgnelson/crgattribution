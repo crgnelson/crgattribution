{
 "cells": [
  {
   "cell_type": "code",
   "execution_count": 1,
   "metadata": {},
   "outputs": [
    {
     "name": "stdout",
     "output_type": "stream",
     "text": [
      "Fetching data for 2025-01-15\n"
     ]
    },
    {
     "name": "stderr",
     "output_type": "stream",
     "text": [
      "/opt/anaconda3/envs/clean_env/lib/python3.9/site-packages/google/cloud/bigquery/table.py:2309: UserWarning: Unable to represent RANGE schema as struct using pandas ArrowDtype. Using `object` instead. To use ArrowDtype, use pandas >= 1.5 and pyarrow >= 10.0.1.\n",
      "  warnings.warn(_RANGE_PYARROW_WARNING)\n",
      "/opt/anaconda3/envs/clean_env/lib/python3.9/site-packages/google/cloud/bigquery/table.py:2323: UserWarning: Unable to represent RANGE schema as struct using pandas ArrowDtype. Using `object` instead. To use ArrowDtype, use pandas >= 1.5 and pyarrow >= 10.0.1.\n",
      "  warnings.warn(_RANGE_PYARROW_WARNING)\n",
      "/opt/anaconda3/envs/clean_env/lib/python3.9/site-packages/google/cloud/bigquery/table.py:2337: UserWarning: Unable to represent RANGE schema as struct using pandas ArrowDtype. Using `object` instead. To use ArrowDtype, use pandas >= 1.5 and pyarrow >= 10.0.1.\n",
      "  warnings.warn(_RANGE_PYARROW_WARNING)\n"
     ]
    },
    {
     "name": "stdout",
     "output_type": "stream",
     "text": [
      "Processed data for 2025-01-15\n",
      "Fetching data for 2025-01-16\n"
     ]
    },
    {
     "name": "stderr",
     "output_type": "stream",
     "text": [
      "/opt/anaconda3/envs/clean_env/lib/python3.9/site-packages/google/cloud/bigquery/table.py:2309: UserWarning: Unable to represent RANGE schema as struct using pandas ArrowDtype. Using `object` instead. To use ArrowDtype, use pandas >= 1.5 and pyarrow >= 10.0.1.\n",
      "  warnings.warn(_RANGE_PYARROW_WARNING)\n",
      "/opt/anaconda3/envs/clean_env/lib/python3.9/site-packages/google/cloud/bigquery/table.py:2323: UserWarning: Unable to represent RANGE schema as struct using pandas ArrowDtype. Using `object` instead. To use ArrowDtype, use pandas >= 1.5 and pyarrow >= 10.0.1.\n",
      "  warnings.warn(_RANGE_PYARROW_WARNING)\n",
      "/opt/anaconda3/envs/clean_env/lib/python3.9/site-packages/google/cloud/bigquery/table.py:2337: UserWarning: Unable to represent RANGE schema as struct using pandas ArrowDtype. Using `object` instead. To use ArrowDtype, use pandas >= 1.5 and pyarrow >= 10.0.1.\n",
      "  warnings.warn(_RANGE_PYARROW_WARNING)\n"
     ]
    },
    {
     "name": "stdout",
     "output_type": "stream",
     "text": [
      "Processed data for 2025-01-16\n",
      "Fetching data for 2025-01-17\n"
     ]
    },
    {
     "name": "stderr",
     "output_type": "stream",
     "text": [
      "/opt/anaconda3/envs/clean_env/lib/python3.9/site-packages/google/cloud/bigquery/table.py:2309: UserWarning: Unable to represent RANGE schema as struct using pandas ArrowDtype. Using `object` instead. To use ArrowDtype, use pandas >= 1.5 and pyarrow >= 10.0.1.\n",
      "  warnings.warn(_RANGE_PYARROW_WARNING)\n",
      "/opt/anaconda3/envs/clean_env/lib/python3.9/site-packages/google/cloud/bigquery/table.py:2323: UserWarning: Unable to represent RANGE schema as struct using pandas ArrowDtype. Using `object` instead. To use ArrowDtype, use pandas >= 1.5 and pyarrow >= 10.0.1.\n",
      "  warnings.warn(_RANGE_PYARROW_WARNING)\n",
      "/opt/anaconda3/envs/clean_env/lib/python3.9/site-packages/google/cloud/bigquery/table.py:2337: UserWarning: Unable to represent RANGE schema as struct using pandas ArrowDtype. Using `object` instead. To use ArrowDtype, use pandas >= 1.5 and pyarrow >= 10.0.1.\n",
      "  warnings.warn(_RANGE_PYARROW_WARNING)\n"
     ]
    },
    {
     "name": "stdout",
     "output_type": "stream",
     "text": [
      "Processed data for 2025-01-17\n",
      "Fetching data for 2025-01-18\n"
     ]
    },
    {
     "name": "stderr",
     "output_type": "stream",
     "text": [
      "/opt/anaconda3/envs/clean_env/lib/python3.9/site-packages/google/cloud/bigquery/table.py:2309: UserWarning: Unable to represent RANGE schema as struct using pandas ArrowDtype. Using `object` instead. To use ArrowDtype, use pandas >= 1.5 and pyarrow >= 10.0.1.\n",
      "  warnings.warn(_RANGE_PYARROW_WARNING)\n",
      "/opt/anaconda3/envs/clean_env/lib/python3.9/site-packages/google/cloud/bigquery/table.py:2323: UserWarning: Unable to represent RANGE schema as struct using pandas ArrowDtype. Using `object` instead. To use ArrowDtype, use pandas >= 1.5 and pyarrow >= 10.0.1.\n",
      "  warnings.warn(_RANGE_PYARROW_WARNING)\n",
      "/opt/anaconda3/envs/clean_env/lib/python3.9/site-packages/google/cloud/bigquery/table.py:2337: UserWarning: Unable to represent RANGE schema as struct using pandas ArrowDtype. Using `object` instead. To use ArrowDtype, use pandas >= 1.5 and pyarrow >= 10.0.1.\n",
      "  warnings.warn(_RANGE_PYARROW_WARNING)\n"
     ]
    },
    {
     "name": "stdout",
     "output_type": "stream",
     "text": [
      "Processed data for 2025-01-18\n",
      "Fetching data for 2025-01-19\n"
     ]
    },
    {
     "name": "stderr",
     "output_type": "stream",
     "text": [
      "/opt/anaconda3/envs/clean_env/lib/python3.9/site-packages/google/cloud/bigquery/table.py:2309: UserWarning: Unable to represent RANGE schema as struct using pandas ArrowDtype. Using `object` instead. To use ArrowDtype, use pandas >= 1.5 and pyarrow >= 10.0.1.\n",
      "  warnings.warn(_RANGE_PYARROW_WARNING)\n",
      "/opt/anaconda3/envs/clean_env/lib/python3.9/site-packages/google/cloud/bigquery/table.py:2323: UserWarning: Unable to represent RANGE schema as struct using pandas ArrowDtype. Using `object` instead. To use ArrowDtype, use pandas >= 1.5 and pyarrow >= 10.0.1.\n",
      "  warnings.warn(_RANGE_PYARROW_WARNING)\n",
      "/opt/anaconda3/envs/clean_env/lib/python3.9/site-packages/google/cloud/bigquery/table.py:2337: UserWarning: Unable to represent RANGE schema as struct using pandas ArrowDtype. Using `object` instead. To use ArrowDtype, use pandas >= 1.5 and pyarrow >= 10.0.1.\n",
      "  warnings.warn(_RANGE_PYARROW_WARNING)\n"
     ]
    },
    {
     "name": "stdout",
     "output_type": "stream",
     "text": [
      "Processed data for 2025-01-19\n",
      "Fetching data for 2025-01-20\n"
     ]
    },
    {
     "name": "stderr",
     "output_type": "stream",
     "text": [
      "/opt/anaconda3/envs/clean_env/lib/python3.9/site-packages/google/cloud/bigquery/table.py:2309: UserWarning: Unable to represent RANGE schema as struct using pandas ArrowDtype. Using `object` instead. To use ArrowDtype, use pandas >= 1.5 and pyarrow >= 10.0.1.\n",
      "  warnings.warn(_RANGE_PYARROW_WARNING)\n",
      "/opt/anaconda3/envs/clean_env/lib/python3.9/site-packages/google/cloud/bigquery/table.py:2323: UserWarning: Unable to represent RANGE schema as struct using pandas ArrowDtype. Using `object` instead. To use ArrowDtype, use pandas >= 1.5 and pyarrow >= 10.0.1.\n",
      "  warnings.warn(_RANGE_PYARROW_WARNING)\n",
      "/opt/anaconda3/envs/clean_env/lib/python3.9/site-packages/google/cloud/bigquery/table.py:2337: UserWarning: Unable to represent RANGE schema as struct using pandas ArrowDtype. Using `object` instead. To use ArrowDtype, use pandas >= 1.5 and pyarrow >= 10.0.1.\n",
      "  warnings.warn(_RANGE_PYARROW_WARNING)\n"
     ]
    },
    {
     "name": "stdout",
     "output_type": "stream",
     "text": [
      "Processed data for 2025-01-20\n",
      "Fetching data for 2025-01-21\n"
     ]
    },
    {
     "name": "stderr",
     "output_type": "stream",
     "text": [
      "/opt/anaconda3/envs/clean_env/lib/python3.9/site-packages/google/cloud/bigquery/table.py:2309: UserWarning: Unable to represent RANGE schema as struct using pandas ArrowDtype. Using `object` instead. To use ArrowDtype, use pandas >= 1.5 and pyarrow >= 10.0.1.\n",
      "  warnings.warn(_RANGE_PYARROW_WARNING)\n",
      "/opt/anaconda3/envs/clean_env/lib/python3.9/site-packages/google/cloud/bigquery/table.py:2323: UserWarning: Unable to represent RANGE schema as struct using pandas ArrowDtype. Using `object` instead. To use ArrowDtype, use pandas >= 1.5 and pyarrow >= 10.0.1.\n",
      "  warnings.warn(_RANGE_PYARROW_WARNING)\n",
      "/opt/anaconda3/envs/clean_env/lib/python3.9/site-packages/google/cloud/bigquery/table.py:2337: UserWarning: Unable to represent RANGE schema as struct using pandas ArrowDtype. Using `object` instead. To use ArrowDtype, use pandas >= 1.5 and pyarrow >= 10.0.1.\n",
      "  warnings.warn(_RANGE_PYARROW_WARNING)\n"
     ]
    },
    {
     "name": "stdout",
     "output_type": "stream",
     "text": [
      "Processed data for 2025-01-21\n",
      "Fetching data for 2025-01-22\n"
     ]
    },
    {
     "name": "stderr",
     "output_type": "stream",
     "text": [
      "/opt/anaconda3/envs/clean_env/lib/python3.9/site-packages/google/cloud/bigquery/table.py:2309: UserWarning: Unable to represent RANGE schema as struct using pandas ArrowDtype. Using `object` instead. To use ArrowDtype, use pandas >= 1.5 and pyarrow >= 10.0.1.\n",
      "  warnings.warn(_RANGE_PYARROW_WARNING)\n",
      "/opt/anaconda3/envs/clean_env/lib/python3.9/site-packages/google/cloud/bigquery/table.py:2323: UserWarning: Unable to represent RANGE schema as struct using pandas ArrowDtype. Using `object` instead. To use ArrowDtype, use pandas >= 1.5 and pyarrow >= 10.0.1.\n",
      "  warnings.warn(_RANGE_PYARROW_WARNING)\n",
      "/opt/anaconda3/envs/clean_env/lib/python3.9/site-packages/google/cloud/bigquery/table.py:2337: UserWarning: Unable to represent RANGE schema as struct using pandas ArrowDtype. Using `object` instead. To use ArrowDtype, use pandas >= 1.5 and pyarrow >= 10.0.1.\n",
      "  warnings.warn(_RANGE_PYARROW_WARNING)\n"
     ]
    },
    {
     "name": "stdout",
     "output_type": "stream",
     "text": [
      "Processed data for 2025-01-22\n",
      "Fetching data for 2025-01-23\n"
     ]
    },
    {
     "name": "stderr",
     "output_type": "stream",
     "text": [
      "/opt/anaconda3/envs/clean_env/lib/python3.9/site-packages/google/cloud/bigquery/table.py:2309: UserWarning: Unable to represent RANGE schema as struct using pandas ArrowDtype. Using `object` instead. To use ArrowDtype, use pandas >= 1.5 and pyarrow >= 10.0.1.\n",
      "  warnings.warn(_RANGE_PYARROW_WARNING)\n",
      "/opt/anaconda3/envs/clean_env/lib/python3.9/site-packages/google/cloud/bigquery/table.py:2323: UserWarning: Unable to represent RANGE schema as struct using pandas ArrowDtype. Using `object` instead. To use ArrowDtype, use pandas >= 1.5 and pyarrow >= 10.0.1.\n",
      "  warnings.warn(_RANGE_PYARROW_WARNING)\n",
      "/opt/anaconda3/envs/clean_env/lib/python3.9/site-packages/google/cloud/bigquery/table.py:2337: UserWarning: Unable to represent RANGE schema as struct using pandas ArrowDtype. Using `object` instead. To use ArrowDtype, use pandas >= 1.5 and pyarrow >= 10.0.1.\n",
      "  warnings.warn(_RANGE_PYARROW_WARNING)\n"
     ]
    },
    {
     "name": "stdout",
     "output_type": "stream",
     "text": [
      "Processed data for 2025-01-23\n",
      "Fetching data for 2025-01-24\n"
     ]
    },
    {
     "name": "stderr",
     "output_type": "stream",
     "text": [
      "/opt/anaconda3/envs/clean_env/lib/python3.9/site-packages/google/cloud/bigquery/table.py:2309: UserWarning: Unable to represent RANGE schema as struct using pandas ArrowDtype. Using `object` instead. To use ArrowDtype, use pandas >= 1.5 and pyarrow >= 10.0.1.\n",
      "  warnings.warn(_RANGE_PYARROW_WARNING)\n",
      "/opt/anaconda3/envs/clean_env/lib/python3.9/site-packages/google/cloud/bigquery/table.py:2323: UserWarning: Unable to represent RANGE schema as struct using pandas ArrowDtype. Using `object` instead. To use ArrowDtype, use pandas >= 1.5 and pyarrow >= 10.0.1.\n",
      "  warnings.warn(_RANGE_PYARROW_WARNING)\n",
      "/opt/anaconda3/envs/clean_env/lib/python3.9/site-packages/google/cloud/bigquery/table.py:2337: UserWarning: Unable to represent RANGE schema as struct using pandas ArrowDtype. Using `object` instead. To use ArrowDtype, use pandas >= 1.5 and pyarrow >= 10.0.1.\n",
      "  warnings.warn(_RANGE_PYARROW_WARNING)\n"
     ]
    },
    {
     "name": "stdout",
     "output_type": "stream",
     "text": [
      "Processed data for 2025-01-24\n",
      "Fetching data for 2025-01-25\n"
     ]
    },
    {
     "name": "stderr",
     "output_type": "stream",
     "text": [
      "/opt/anaconda3/envs/clean_env/lib/python3.9/site-packages/google/cloud/bigquery/table.py:2309: UserWarning: Unable to represent RANGE schema as struct using pandas ArrowDtype. Using `object` instead. To use ArrowDtype, use pandas >= 1.5 and pyarrow >= 10.0.1.\n",
      "  warnings.warn(_RANGE_PYARROW_WARNING)\n",
      "/opt/anaconda3/envs/clean_env/lib/python3.9/site-packages/google/cloud/bigquery/table.py:2323: UserWarning: Unable to represent RANGE schema as struct using pandas ArrowDtype. Using `object` instead. To use ArrowDtype, use pandas >= 1.5 and pyarrow >= 10.0.1.\n",
      "  warnings.warn(_RANGE_PYARROW_WARNING)\n",
      "/opt/anaconda3/envs/clean_env/lib/python3.9/site-packages/google/cloud/bigquery/table.py:2337: UserWarning: Unable to represent RANGE schema as struct using pandas ArrowDtype. Using `object` instead. To use ArrowDtype, use pandas >= 1.5 and pyarrow >= 10.0.1.\n",
      "  warnings.warn(_RANGE_PYARROW_WARNING)\n"
     ]
    },
    {
     "name": "stdout",
     "output_type": "stream",
     "text": [
      "Processed data for 2025-01-25\n",
      "Fetching data for 2025-01-26\n"
     ]
    },
    {
     "name": "stderr",
     "output_type": "stream",
     "text": [
      "/opt/anaconda3/envs/clean_env/lib/python3.9/site-packages/google/cloud/bigquery/table.py:2309: UserWarning: Unable to represent RANGE schema as struct using pandas ArrowDtype. Using `object` instead. To use ArrowDtype, use pandas >= 1.5 and pyarrow >= 10.0.1.\n",
      "  warnings.warn(_RANGE_PYARROW_WARNING)\n",
      "/opt/anaconda3/envs/clean_env/lib/python3.9/site-packages/google/cloud/bigquery/table.py:2323: UserWarning: Unable to represent RANGE schema as struct using pandas ArrowDtype. Using `object` instead. To use ArrowDtype, use pandas >= 1.5 and pyarrow >= 10.0.1.\n",
      "  warnings.warn(_RANGE_PYARROW_WARNING)\n",
      "/opt/anaconda3/envs/clean_env/lib/python3.9/site-packages/google/cloud/bigquery/table.py:2337: UserWarning: Unable to represent RANGE schema as struct using pandas ArrowDtype. Using `object` instead. To use ArrowDtype, use pandas >= 1.5 and pyarrow >= 10.0.1.\n",
      "  warnings.warn(_RANGE_PYARROW_WARNING)\n"
     ]
    },
    {
     "name": "stdout",
     "output_type": "stream",
     "text": [
      "Processed data for 2025-01-26\n",
      "Fetching data for 2025-01-27\n"
     ]
    },
    {
     "name": "stderr",
     "output_type": "stream",
     "text": [
      "/opt/anaconda3/envs/clean_env/lib/python3.9/site-packages/google/cloud/bigquery/table.py:2309: UserWarning: Unable to represent RANGE schema as struct using pandas ArrowDtype. Using `object` instead. To use ArrowDtype, use pandas >= 1.5 and pyarrow >= 10.0.1.\n",
      "  warnings.warn(_RANGE_PYARROW_WARNING)\n",
      "/opt/anaconda3/envs/clean_env/lib/python3.9/site-packages/google/cloud/bigquery/table.py:2323: UserWarning: Unable to represent RANGE schema as struct using pandas ArrowDtype. Using `object` instead. To use ArrowDtype, use pandas >= 1.5 and pyarrow >= 10.0.1.\n",
      "  warnings.warn(_RANGE_PYARROW_WARNING)\n",
      "/opt/anaconda3/envs/clean_env/lib/python3.9/site-packages/google/cloud/bigquery/table.py:2337: UserWarning: Unable to represent RANGE schema as struct using pandas ArrowDtype. Using `object` instead. To use ArrowDtype, use pandas >= 1.5 and pyarrow >= 10.0.1.\n",
      "  warnings.warn(_RANGE_PYARROW_WARNING)\n"
     ]
    },
    {
     "name": "stdout",
     "output_type": "stream",
     "text": [
      "Processed data for 2025-01-27\n",
      "Fetching data for 2025-01-28\n"
     ]
    },
    {
     "name": "stderr",
     "output_type": "stream",
     "text": [
      "/opt/anaconda3/envs/clean_env/lib/python3.9/site-packages/google/cloud/bigquery/table.py:2309: UserWarning: Unable to represent RANGE schema as struct using pandas ArrowDtype. Using `object` instead. To use ArrowDtype, use pandas >= 1.5 and pyarrow >= 10.0.1.\n",
      "  warnings.warn(_RANGE_PYARROW_WARNING)\n",
      "/opt/anaconda3/envs/clean_env/lib/python3.9/site-packages/google/cloud/bigquery/table.py:2323: UserWarning: Unable to represent RANGE schema as struct using pandas ArrowDtype. Using `object` instead. To use ArrowDtype, use pandas >= 1.5 and pyarrow >= 10.0.1.\n",
      "  warnings.warn(_RANGE_PYARROW_WARNING)\n",
      "/opt/anaconda3/envs/clean_env/lib/python3.9/site-packages/google/cloud/bigquery/table.py:2337: UserWarning: Unable to represent RANGE schema as struct using pandas ArrowDtype. Using `object` instead. To use ArrowDtype, use pandas >= 1.5 and pyarrow >= 10.0.1.\n",
      "  warnings.warn(_RANGE_PYARROW_WARNING)\n"
     ]
    },
    {
     "name": "stdout",
     "output_type": "stream",
     "text": [
      "Processed data for 2025-01-28\n",
      "Fetching data for 2025-01-29\n"
     ]
    },
    {
     "name": "stderr",
     "output_type": "stream",
     "text": [
      "/opt/anaconda3/envs/clean_env/lib/python3.9/site-packages/google/cloud/bigquery/table.py:2309: UserWarning: Unable to represent RANGE schema as struct using pandas ArrowDtype. Using `object` instead. To use ArrowDtype, use pandas >= 1.5 and pyarrow >= 10.0.1.\n",
      "  warnings.warn(_RANGE_PYARROW_WARNING)\n",
      "/opt/anaconda3/envs/clean_env/lib/python3.9/site-packages/google/cloud/bigquery/table.py:2323: UserWarning: Unable to represent RANGE schema as struct using pandas ArrowDtype. Using `object` instead. To use ArrowDtype, use pandas >= 1.5 and pyarrow >= 10.0.1.\n",
      "  warnings.warn(_RANGE_PYARROW_WARNING)\n",
      "/opt/anaconda3/envs/clean_env/lib/python3.9/site-packages/google/cloud/bigquery/table.py:2337: UserWarning: Unable to represent RANGE schema as struct using pandas ArrowDtype. Using `object` instead. To use ArrowDtype, use pandas >= 1.5 and pyarrow >= 10.0.1.\n",
      "  warnings.warn(_RANGE_PYARROW_WARNING)\n"
     ]
    },
    {
     "name": "stdout",
     "output_type": "stream",
     "text": [
      "Processed data for 2025-01-29\n",
      "Fetching data for 2025-01-30\n"
     ]
    },
    {
     "name": "stderr",
     "output_type": "stream",
     "text": [
      "/opt/anaconda3/envs/clean_env/lib/python3.9/site-packages/google/cloud/bigquery/table.py:2309: UserWarning: Unable to represent RANGE schema as struct using pandas ArrowDtype. Using `object` instead. To use ArrowDtype, use pandas >= 1.5 and pyarrow >= 10.0.1.\n",
      "  warnings.warn(_RANGE_PYARROW_WARNING)\n",
      "/opt/anaconda3/envs/clean_env/lib/python3.9/site-packages/google/cloud/bigquery/table.py:2323: UserWarning: Unable to represent RANGE schema as struct using pandas ArrowDtype. Using `object` instead. To use ArrowDtype, use pandas >= 1.5 and pyarrow >= 10.0.1.\n",
      "  warnings.warn(_RANGE_PYARROW_WARNING)\n",
      "/opt/anaconda3/envs/clean_env/lib/python3.9/site-packages/google/cloud/bigquery/table.py:2337: UserWarning: Unable to represent RANGE schema as struct using pandas ArrowDtype. Using `object` instead. To use ArrowDtype, use pandas >= 1.5 and pyarrow >= 10.0.1.\n",
      "  warnings.warn(_RANGE_PYARROW_WARNING)\n"
     ]
    },
    {
     "name": "stdout",
     "output_type": "stream",
     "text": [
      "Processed data for 2025-01-30\n"
     ]
    }
   ],
   "source": [
    "from marketing_attribution_models import MAM\n",
    "import pandas as pd\n",
    "import numpy as np\n",
    "from collections import defaultdict\n",
    "import matplotlib.pyplot as plt\n",
    "from markovclick.models import MarkovClickstream\n",
    "from markovclick.viz import visualise_markov_chain\n",
    "import os\n",
    "import graphviz\n",
    "import matplotlib as mpl\n",
    "from pandas.io import gbq\n",
    "import pandas_gbq\n",
    "import glob\n",
    "from pylab import *\n",
    "import tempfile\n",
    "import json\n",
    "from datetime import timedelta\n",
    "import seaborn as sns\n",
    "import gc\n",
    "from datetime import datetime\n",
    "import re\n",
    "from google.cloud import bigquery\n",
    "\n",
    "################################################# Data Loading  #########################################\n",
    "\n",
    "project = \"ft-customer-analytics\"\n",
    "location = \"EU\"\n",
    "client = bigquery.Client(project=project, location=location)\n",
    "\n",
    "################################################# Define variables #################################################\n",
    "\n",
    "ids = \"user_guid\"\n",
    "date = \"attribution_visit_start_time\"\n",
    "touchpoint = \"touchpoint\"\n",
    "transaction = \"converting_visit\"\n",
    "\n",
    "################################################# Define the date range for processing #################################################\n",
    "\n",
    "start_date = pd.to_datetime(\"2025-01-15\")  # Start of the range\n",
    "end_date = pd.to_datetime(\"2025-01-30\") \n",
    "\n",
    "start_date = start_date.date()\n",
    "end_date = end_date.date() \n",
    "\n",
    "table_id = \"ft-customer-analytics.crg_nniu.historical_conversion_users_2023_onwards_90_days_lookback\"\n",
    "\n",
    "################################################# Output DataFrames  #################################################\n",
    "\n",
    "attribution_df_all_subs_90 = pd.DataFrame()\n",
    "normalized_removal_effects_all_subs_90 = pd.DataFrame()\n",
    "markov_transition_matrix_all_subs_90 = pd.DataFrame()\n",
    "user_df_all_subs_90 = pd.DataFrame()\n",
    "conversion_window_df_subs = pd.DataFrame()\n",
    "\n",
    "################################################# Process Data for Each Day #########################################\n",
    "\n",
    "for current_date in pd.date_range(start_date, end_date, freq=\"D\"):\n",
    "    # Create SQL query for the current date\n",
    "    query = f\"\"\"\n",
    "    SELECT * FROM {table_id}\n",
    "    WHERE DATE(conversion_visit_timestamp) = \"{current_date.strftime('%Y-%m-%d')}\"\n",
    "    \"\"\"\n",
    "    print(f\"Fetching data for {current_date.strftime('%Y-%m-%d')}\")\n",
    "\n",
    "\n",
    "    # Execute the query\n",
    "    query_job = client.query(query)\n",
    "    df = query_job.to_dataframe()\n",
    "\n",
    "    if df.empty:\n",
    "        print(f\"No data for {current_date.strftime('%Y-%m-%d')}\")\n",
    "        continue\n",
    "\n",
    "    ################################################# Data Cleaning  #########################################\n",
    "    \n",
    "    df[\"original_transaction\"] = df[\"converting_visit\"]\n",
    "    sub_df = df[df[\"conversion_type\"] == \"Subscription\"].drop(columns=[\"conversion_type\"])\n",
    "\n",
    "    sub_df[\"user_max_date\"] = sub_df.groupby(ids)[\"conversion_visit_timestamp\"].transform(\"max\")\n",
    "    sub_df[transaction] = 0\n",
    "    sub_df.loc[(sub_df[date] == sub_df[\"user_max_date\"]) & (sub_df[\"original_transaction\"] == 1), transaction] = 1\n",
    "\n",
    "    #sub_df.drop(columns=[\"user_max_date\"], inplace=True)\n",
    "    sub_df = sub_df.sort_values([ids, date], ascending=[False, True])\n",
    "\n",
    "    sub_df[\"run_date\"] = current_date.date()\n",
    "\n",
    "    ################################################# Median day calculation #########################################\n",
    "    \n",
    "    # Initialize a list to store each user's median time to subscribe\n",
    "    user_median_days = []\n",
    "\n",
    "    # Calculate the median days for each user\n",
    "    for user_guid, user_data in sub_df.groupby(ids):\n",
    "        # Find the earliest visit where transaction = 0 (initial visit)\n",
    "        first_visit = user_data[user_data[transaction] == 0][date].min()\n",
    "\n",
    "        # If no valid first visit is found, skip this user\n",
    "        if pd.isnull(first_visit):\n",
    "            continue\n",
    "\n",
    "        # Find the conversion date (transaction = 1)\n",
    "        conversion_date = user_data[user_data[transaction] == 1][date].min()\n",
    "\n",
    "        # Calculate the time difference in days\n",
    "        if pd.notnull(conversion_date):\n",
    "            days_to_convert = (conversion_date - first_visit).days\n",
    "            user_median_days.append(days_to_convert)\n",
    "\n",
    "    # Calculate the median of the user's conversion times\n",
    "    if user_median_days:\n",
    "        median_days_to_subscribe = pd.Series(user_median_days).median()\n",
    "    else:\n",
    "        median_days_to_subscribe = None  # If no data, set median as None\n",
    "\n",
    "    # Add the calculated median days and run date to the output DataFrame\n",
    "    conversion_window_df_subs = pd.concat(\n",
    "        [\n",
    "            conversion_window_df_subs,\n",
    "            pd.DataFrame(\n",
    "                {\n",
    "                    \"stage\": [\"subscriber\"],\n",
    "                    \"median_days\": [median_days_to_subscribe],\n",
    "                    \"run_date\": [current_date.date()],\n",
    "                }\n",
    "            ),\n",
    "        ],\n",
    "        ignore_index=True,\n",
    "    )\n",
    "\n",
    "\n",
    "    ################################################# MAM Initialization #########################################\n",
    "\n",
    "    try:\n",
    "        # Initialize the MAM class\n",
    "        attributions = MAM(\n",
    "            sub_df,\n",
    "            group_channels=True,\n",
    "            channels_colname=touchpoint,\n",
    "            journey_with_conv_colname=transaction,\n",
    "            group_channels_by_id_list=[ids],\n",
    "            group_timestamp_colname=date,\n",
    "            create_journey_id_based_on_conversion=True,\n",
    "        )\n",
    "\n",
    "        ################################################# Apply Attribution Models #########################################\n",
    "\n",
    "        attributions.attribution_last_click()\n",
    "        attributions.attribution_first_click()\n",
    "        attributions.attribution_position_based(\n",
    "            list_positions_first_middle_last=[0.3, 0.3, 0.4]\n",
    "        )\n",
    "        attributions.attribution_time_decay(\n",
    "            decay_over_time=0.6, frequency=7\n",
    "        )  # Frequency in hours\n",
    "        attribution_markov = attributions.attribution_markov(\n",
    "            transition_to_same_state=False\n",
    "        )\n",
    "\n",
    "        ################################################# Process Results #########################################\n",
    "\n",
    "        # User-level attribution data\n",
    "        user_df_temp = attributions.as_pd_dataframe()\n",
    "        user_df_temp[\"num_touchpoints\"] = (\n",
    "            user_df_temp[\"channels_agg\"].str.split(\" > \").apply(len)\n",
    "        )\n",
    "        user_df_temp[\"run_date\"] = current_date.date()\n",
    "\n",
    "        # Extract user_guid from journey_id\n",
    "        user_df_temp['user_guid'] = user_df_temp['journey_id'].str.extract(r'id:(.*)_J:0')[0]\n",
    "\n",
    "        # Prepare df for merging\n",
    "        df['conversion_visit_timestamp_date'] = df['conversion_visit_timestamp'].dt.date\n",
    "        product_arrangement_df = df[['user_guid', 'conversion_visit_timestamp_date', 'product_arrangement_id']].drop_duplicates()\n",
    "\n",
    "        # Merge user_df_temp with product_arrangement_df\n",
    "        user_df_temp = user_df_temp.merge(\n",
    "            product_arrangement_df,\n",
    "            left_on=['user_guid', 'run_date'],\n",
    "            right_on=['user_guid', 'conversion_visit_timestamp_date'],\n",
    "            how='left'\n",
    "        )\n",
    "\n",
    "        # Drop 'conversion_visit_timestamp_date' column after merge\n",
    "        user_df_temp.drop(columns=['conversion_visit_timestamp_date'], inplace=True)\n",
    "\n",
    "        # Now concatenate user_df_temp into user_df_all_subs_90\n",
    "        user_df_all_subs_90 = pd.concat(\n",
    "            [user_df_all_subs_90, user_df_temp], ignore_index=True\n",
    "        )\n",
    "\n",
    "        # Proceed with processing markov_transition_matrix and other dataframes as before\n",
    "        # Markov transition matrix\n",
    "        markov_transition_matrix = attribution_markov[2].round(3)\n",
    "        markov_transition_matrix = markov_transition_matrix.rename(\n",
    "            index=lambda x: x.replace(\"(inicio)\", \"(start)\"),\n",
    "            columns=lambda x: x.replace(\"(inicio)\", \"(start)\"),\n",
    "        )\n",
    "        markov_transition_matrix.reset_index(inplace=True)\n",
    "        markov_transition_matrix = pd.melt(\n",
    "            markov_transition_matrix,\n",
    "            id_vars=\"index\",\n",
    "            var_name=\"destination\",\n",
    "            value_name=\"probability\",\n",
    "        )\n",
    "        markov_transition_matrix.columns = [\"source\", \"destination\", \"probability\"]\n",
    "        markov_transition_matrix[\"run_date\"] = current_date.date()\n",
    "        markov_transition_matrix_all_subs_90 = pd.concat(\n",
    "            [markov_transition_matrix_all_subs_90, markov_transition_matrix],\n",
    "            ignore_index=True,\n",
    "        )\n",
    "\n",
    "        # Removal effects\n",
    "        removal_effect_matrix = attribution_markov[3].round(3)\n",
    "        channels = removal_effect_matrix.index\n",
    "        removal_effect_values = removal_effect_matrix[[\"removal_effect\"]]\n",
    "        normalized_values = (removal_effect_values / removal_effect_values.sum()) * 100\n",
    "        normalized_removal_effects = pd.DataFrame(\n",
    "            normalized_values, index=channels, columns=[\"removal_effect\"]\n",
    "        )\n",
    "        normalized_removal_effects[\"run_date\"] = current_date.date()\n",
    "        normalized_removal_effects[\"removal_effect_raw\"] = (\n",
    "            removal_effect_values.values.flatten()\n",
    "        )\n",
    "        normalized_removal_effects.reset_index(inplace=True)\n",
    "        normalized_removal_effects.rename(columns={\"index\": \"channel\"}, inplace=True)\n",
    "        normalized_removal_effects_all_subs_90 = pd.concat(\n",
    "            [normalized_removal_effects_all_subs_90, normalized_removal_effects],\n",
    "            ignore_index=True,\n",
    "        )\n",
    "\n",
    "        # Attribution by channels and models\n",
    "        attribution_df = attributions.group_by_channels_models\n",
    "        attribution_df[\"run_date\"] = current_date.date()\n",
    "        attribution_df.columns = attribution_df.columns.str.replace(\n",
    "            \".\", \"_\", regex=False\n",
    "        ).str.replace(\" \", \"_\", regex=False)\n",
    "        attribution_df_all_subs_90 = pd.concat(\n",
    "            [attribution_df_all_subs_90, attribution_df], ignore_index=True\n",
    "        )\n",
    "\n",
    "        print(f\"Processed data for {current_date.strftime('%Y-%m-%d')}\")\n",
    "\n",
    "    except Exception as e:\n",
    "        print(\n",
    "            f\"An error occurred for the date {current_date.strftime('%Y-%m-%d')}: {e}\"\n",
    "        )\n",
    "        continue\n",
    "\n",
    "################################################# Finalize Results #########################################\n",
    "\n",
    "attribution_df_all_subs_90[\"conversion_window\"] = 90\n",
    "normalized_removal_effects_all_subs_90[\"conversion_window\"] = 90\n",
    "markov_transition_matrix_all_subs_90[\"conversion_window\"] = 90\n",
    "user_df_all_subs_90[\"conversion_window\"] = 90\n",
    "\n",
    "attribution_df_all_subs_90[\"conversion_type\"] = \"Subscription\"\n",
    "normalized_removal_effects_all_subs_90[\"conversion_type\"] = \"Subscription\"\n",
    "markov_transition_matrix_all_subs_90[\"conversion_type\"] = \"Subscription\"\n",
    "user_df_all_subs_90[\"conversion_type\"] = \"Subscription\"\n",
    "\n"
   ]
  },
  {
   "cell_type": "code",
   "execution_count": 4,
   "metadata": {},
   "outputs": [],
   "source": [
    "attribution_df_all_subs_90.to_csv(\"attribution_df_all_subs_90.csv\", index=False)\n",
    "normalized_removal_effects_all_subs_90.to_csv(\"normalized_removal_effects_all_subs_90.csv\", index=False)\n",
    "markov_transition_matrix_all_subs_90.to_csv(\"markov_transition_matrix_all_subs_90.csv\", index=False)\n",
    "user_df_all_subs_90.to_csv(\"user_df_all_subs_90.csv\", index=False)"
   ]
  },
  {
   "cell_type": "code",
   "execution_count": 11,
   "metadata": {},
   "outputs": [
    {
     "name": "stdout",
     "output_type": "stream",
     "text": [
      "Fetching data for 2023-01-01\n"
     ]
    },
    {
     "name": "stderr",
     "output_type": "stream",
     "text": [
      "/opt/anaconda3/envs/clean_env/lib/python3.9/site-packages/google/cloud/bigquery/table.py:2309: UserWarning: Unable to represent RANGE schema as struct using pandas ArrowDtype. Using `object` instead. To use ArrowDtype, use pandas >= 1.5 and pyarrow >= 10.0.1.\n",
      "  warnings.warn(_RANGE_PYARROW_WARNING)\n",
      "/opt/anaconda3/envs/clean_env/lib/python3.9/site-packages/google/cloud/bigquery/table.py:2323: UserWarning: Unable to represent RANGE schema as struct using pandas ArrowDtype. Using `object` instead. To use ArrowDtype, use pandas >= 1.5 and pyarrow >= 10.0.1.\n",
      "  warnings.warn(_RANGE_PYARROW_WARNING)\n",
      "/opt/anaconda3/envs/clean_env/lib/python3.9/site-packages/google/cloud/bigquery/table.py:2337: UserWarning: Unable to represent RANGE schema as struct using pandas ArrowDtype. Using `object` instead. To use ArrowDtype, use pandas >= 1.5 and pyarrow >= 10.0.1.\n",
      "  warnings.warn(_RANGE_PYARROW_WARNING)\n"
     ]
    },
    {
     "name": "stdout",
     "output_type": "stream",
     "text": [
      "Processed data for 2023-01-01\n",
      "Fetching data for 2023-01-02\n"
     ]
    },
    {
     "name": "stderr",
     "output_type": "stream",
     "text": [
      "/opt/anaconda3/envs/clean_env/lib/python3.9/site-packages/google/cloud/bigquery/table.py:2309: UserWarning: Unable to represent RANGE schema as struct using pandas ArrowDtype. Using `object` instead. To use ArrowDtype, use pandas >= 1.5 and pyarrow >= 10.0.1.\n",
      "  warnings.warn(_RANGE_PYARROW_WARNING)\n",
      "/opt/anaconda3/envs/clean_env/lib/python3.9/site-packages/google/cloud/bigquery/table.py:2323: UserWarning: Unable to represent RANGE schema as struct using pandas ArrowDtype. Using `object` instead. To use ArrowDtype, use pandas >= 1.5 and pyarrow >= 10.0.1.\n",
      "  warnings.warn(_RANGE_PYARROW_WARNING)\n",
      "/opt/anaconda3/envs/clean_env/lib/python3.9/site-packages/google/cloud/bigquery/table.py:2337: UserWarning: Unable to represent RANGE schema as struct using pandas ArrowDtype. Using `object` instead. To use ArrowDtype, use pandas >= 1.5 and pyarrow >= 10.0.1.\n",
      "  warnings.warn(_RANGE_PYARROW_WARNING)\n"
     ]
    },
    {
     "name": "stdout",
     "output_type": "stream",
     "text": [
      "Processed data for 2023-01-02\n",
      "Fetching data for 2023-01-03\n"
     ]
    },
    {
     "name": "stderr",
     "output_type": "stream",
     "text": [
      "/opt/anaconda3/envs/clean_env/lib/python3.9/site-packages/google/cloud/bigquery/table.py:2309: UserWarning: Unable to represent RANGE schema as struct using pandas ArrowDtype. Using `object` instead. To use ArrowDtype, use pandas >= 1.5 and pyarrow >= 10.0.1.\n",
      "  warnings.warn(_RANGE_PYARROW_WARNING)\n",
      "/opt/anaconda3/envs/clean_env/lib/python3.9/site-packages/google/cloud/bigquery/table.py:2323: UserWarning: Unable to represent RANGE schema as struct using pandas ArrowDtype. Using `object` instead. To use ArrowDtype, use pandas >= 1.5 and pyarrow >= 10.0.1.\n",
      "  warnings.warn(_RANGE_PYARROW_WARNING)\n",
      "/opt/anaconda3/envs/clean_env/lib/python3.9/site-packages/google/cloud/bigquery/table.py:2337: UserWarning: Unable to represent RANGE schema as struct using pandas ArrowDtype. Using `object` instead. To use ArrowDtype, use pandas >= 1.5 and pyarrow >= 10.0.1.\n",
      "  warnings.warn(_RANGE_PYARROW_WARNING)\n"
     ]
    },
    {
     "name": "stdout",
     "output_type": "stream",
     "text": [
      "Processed data for 2023-01-03\n",
      "Fetching data for 2023-01-04\n"
     ]
    },
    {
     "name": "stderr",
     "output_type": "stream",
     "text": [
      "/opt/anaconda3/envs/clean_env/lib/python3.9/site-packages/google/cloud/bigquery/table.py:2309: UserWarning: Unable to represent RANGE schema as struct using pandas ArrowDtype. Using `object` instead. To use ArrowDtype, use pandas >= 1.5 and pyarrow >= 10.0.1.\n",
      "  warnings.warn(_RANGE_PYARROW_WARNING)\n",
      "/opt/anaconda3/envs/clean_env/lib/python3.9/site-packages/google/cloud/bigquery/table.py:2323: UserWarning: Unable to represent RANGE schema as struct using pandas ArrowDtype. Using `object` instead. To use ArrowDtype, use pandas >= 1.5 and pyarrow >= 10.0.1.\n",
      "  warnings.warn(_RANGE_PYARROW_WARNING)\n",
      "/opt/anaconda3/envs/clean_env/lib/python3.9/site-packages/google/cloud/bigquery/table.py:2337: UserWarning: Unable to represent RANGE schema as struct using pandas ArrowDtype. Using `object` instead. To use ArrowDtype, use pandas >= 1.5 and pyarrow >= 10.0.1.\n",
      "  warnings.warn(_RANGE_PYARROW_WARNING)\n"
     ]
    },
    {
     "name": "stdout",
     "output_type": "stream",
     "text": [
      "Processed data for 2023-01-04\n",
      "Fetching data for 2023-01-05\n"
     ]
    },
    {
     "name": "stderr",
     "output_type": "stream",
     "text": [
      "/opt/anaconda3/envs/clean_env/lib/python3.9/site-packages/google/cloud/bigquery/table.py:2309: UserWarning: Unable to represent RANGE schema as struct using pandas ArrowDtype. Using `object` instead. To use ArrowDtype, use pandas >= 1.5 and pyarrow >= 10.0.1.\n",
      "  warnings.warn(_RANGE_PYARROW_WARNING)\n",
      "/opt/anaconda3/envs/clean_env/lib/python3.9/site-packages/google/cloud/bigquery/table.py:2323: UserWarning: Unable to represent RANGE schema as struct using pandas ArrowDtype. Using `object` instead. To use ArrowDtype, use pandas >= 1.5 and pyarrow >= 10.0.1.\n",
      "  warnings.warn(_RANGE_PYARROW_WARNING)\n",
      "/opt/anaconda3/envs/clean_env/lib/python3.9/site-packages/google/cloud/bigquery/table.py:2337: UserWarning: Unable to represent RANGE schema as struct using pandas ArrowDtype. Using `object` instead. To use ArrowDtype, use pandas >= 1.5 and pyarrow >= 10.0.1.\n",
      "  warnings.warn(_RANGE_PYARROW_WARNING)\n"
     ]
    },
    {
     "name": "stdout",
     "output_type": "stream",
     "text": [
      "Processed data for 2023-01-05\n",
      "Fetching data for 2023-01-06\n"
     ]
    },
    {
     "name": "stderr",
     "output_type": "stream",
     "text": [
      "/opt/anaconda3/envs/clean_env/lib/python3.9/site-packages/google/cloud/bigquery/table.py:2309: UserWarning: Unable to represent RANGE schema as struct using pandas ArrowDtype. Using `object` instead. To use ArrowDtype, use pandas >= 1.5 and pyarrow >= 10.0.1.\n",
      "  warnings.warn(_RANGE_PYARROW_WARNING)\n",
      "/opt/anaconda3/envs/clean_env/lib/python3.9/site-packages/google/cloud/bigquery/table.py:2323: UserWarning: Unable to represent RANGE schema as struct using pandas ArrowDtype. Using `object` instead. To use ArrowDtype, use pandas >= 1.5 and pyarrow >= 10.0.1.\n",
      "  warnings.warn(_RANGE_PYARROW_WARNING)\n",
      "/opt/anaconda3/envs/clean_env/lib/python3.9/site-packages/google/cloud/bigquery/table.py:2337: UserWarning: Unable to represent RANGE schema as struct using pandas ArrowDtype. Using `object` instead. To use ArrowDtype, use pandas >= 1.5 and pyarrow >= 10.0.1.\n",
      "  warnings.warn(_RANGE_PYARROW_WARNING)\n"
     ]
    },
    {
     "name": "stdout",
     "output_type": "stream",
     "text": [
      "Processed data for 2023-01-06\n",
      "Fetching data for 2023-01-07\n"
     ]
    },
    {
     "name": "stderr",
     "output_type": "stream",
     "text": [
      "/opt/anaconda3/envs/clean_env/lib/python3.9/site-packages/google/cloud/bigquery/table.py:2309: UserWarning: Unable to represent RANGE schema as struct using pandas ArrowDtype. Using `object` instead. To use ArrowDtype, use pandas >= 1.5 and pyarrow >= 10.0.1.\n",
      "  warnings.warn(_RANGE_PYARROW_WARNING)\n",
      "/opt/anaconda3/envs/clean_env/lib/python3.9/site-packages/google/cloud/bigquery/table.py:2323: UserWarning: Unable to represent RANGE schema as struct using pandas ArrowDtype. Using `object` instead. To use ArrowDtype, use pandas >= 1.5 and pyarrow >= 10.0.1.\n",
      "  warnings.warn(_RANGE_PYARROW_WARNING)\n",
      "/opt/anaconda3/envs/clean_env/lib/python3.9/site-packages/google/cloud/bigquery/table.py:2337: UserWarning: Unable to represent RANGE schema as struct using pandas ArrowDtype. Using `object` instead. To use ArrowDtype, use pandas >= 1.5 and pyarrow >= 10.0.1.\n",
      "  warnings.warn(_RANGE_PYARROW_WARNING)\n"
     ]
    },
    {
     "name": "stdout",
     "output_type": "stream",
     "text": [
      "Processed data for 2023-01-07\n",
      "Fetching data for 2023-01-08\n"
     ]
    },
    {
     "name": "stderr",
     "output_type": "stream",
     "text": [
      "/opt/anaconda3/envs/clean_env/lib/python3.9/site-packages/google/cloud/bigquery/table.py:2309: UserWarning: Unable to represent RANGE schema as struct using pandas ArrowDtype. Using `object` instead. To use ArrowDtype, use pandas >= 1.5 and pyarrow >= 10.0.1.\n",
      "  warnings.warn(_RANGE_PYARROW_WARNING)\n",
      "/opt/anaconda3/envs/clean_env/lib/python3.9/site-packages/google/cloud/bigquery/table.py:2323: UserWarning: Unable to represent RANGE schema as struct using pandas ArrowDtype. Using `object` instead. To use ArrowDtype, use pandas >= 1.5 and pyarrow >= 10.0.1.\n",
      "  warnings.warn(_RANGE_PYARROW_WARNING)\n",
      "/opt/anaconda3/envs/clean_env/lib/python3.9/site-packages/google/cloud/bigquery/table.py:2337: UserWarning: Unable to represent RANGE schema as struct using pandas ArrowDtype. Using `object` instead. To use ArrowDtype, use pandas >= 1.5 and pyarrow >= 10.0.1.\n",
      "  warnings.warn(_RANGE_PYARROW_WARNING)\n"
     ]
    },
    {
     "name": "stdout",
     "output_type": "stream",
     "text": [
      "Processed data for 2023-01-08\n",
      "Fetching data for 2023-01-09\n"
     ]
    },
    {
     "name": "stderr",
     "output_type": "stream",
     "text": [
      "/opt/anaconda3/envs/clean_env/lib/python3.9/site-packages/google/cloud/bigquery/table.py:2309: UserWarning: Unable to represent RANGE schema as struct using pandas ArrowDtype. Using `object` instead. To use ArrowDtype, use pandas >= 1.5 and pyarrow >= 10.0.1.\n",
      "  warnings.warn(_RANGE_PYARROW_WARNING)\n",
      "/opt/anaconda3/envs/clean_env/lib/python3.9/site-packages/google/cloud/bigquery/table.py:2323: UserWarning: Unable to represent RANGE schema as struct using pandas ArrowDtype. Using `object` instead. To use ArrowDtype, use pandas >= 1.5 and pyarrow >= 10.0.1.\n",
      "  warnings.warn(_RANGE_PYARROW_WARNING)\n",
      "/opt/anaconda3/envs/clean_env/lib/python3.9/site-packages/google/cloud/bigquery/table.py:2337: UserWarning: Unable to represent RANGE schema as struct using pandas ArrowDtype. Using `object` instead. To use ArrowDtype, use pandas >= 1.5 and pyarrow >= 10.0.1.\n",
      "  warnings.warn(_RANGE_PYARROW_WARNING)\n"
     ]
    },
    {
     "name": "stdout",
     "output_type": "stream",
     "text": [
      "Processed data for 2023-01-09\n",
      "Fetching data for 2023-01-10\n"
     ]
    },
    {
     "name": "stderr",
     "output_type": "stream",
     "text": [
      "/opt/anaconda3/envs/clean_env/lib/python3.9/site-packages/google/cloud/bigquery/table.py:2309: UserWarning: Unable to represent RANGE schema as struct using pandas ArrowDtype. Using `object` instead. To use ArrowDtype, use pandas >= 1.5 and pyarrow >= 10.0.1.\n",
      "  warnings.warn(_RANGE_PYARROW_WARNING)\n",
      "/opt/anaconda3/envs/clean_env/lib/python3.9/site-packages/google/cloud/bigquery/table.py:2323: UserWarning: Unable to represent RANGE schema as struct using pandas ArrowDtype. Using `object` instead. To use ArrowDtype, use pandas >= 1.5 and pyarrow >= 10.0.1.\n",
      "  warnings.warn(_RANGE_PYARROW_WARNING)\n",
      "/opt/anaconda3/envs/clean_env/lib/python3.9/site-packages/google/cloud/bigquery/table.py:2337: UserWarning: Unable to represent RANGE schema as struct using pandas ArrowDtype. Using `object` instead. To use ArrowDtype, use pandas >= 1.5 and pyarrow >= 10.0.1.\n",
      "  warnings.warn(_RANGE_PYARROW_WARNING)\n"
     ]
    },
    {
     "name": "stdout",
     "output_type": "stream",
     "text": [
      "Processed data for 2023-01-10\n",
      "Fetching data for 2023-01-11\n"
     ]
    },
    {
     "name": "stderr",
     "output_type": "stream",
     "text": [
      "/opt/anaconda3/envs/clean_env/lib/python3.9/site-packages/google/cloud/bigquery/table.py:2309: UserWarning: Unable to represent RANGE schema as struct using pandas ArrowDtype. Using `object` instead. To use ArrowDtype, use pandas >= 1.5 and pyarrow >= 10.0.1.\n",
      "  warnings.warn(_RANGE_PYARROW_WARNING)\n",
      "/opt/anaconda3/envs/clean_env/lib/python3.9/site-packages/google/cloud/bigquery/table.py:2323: UserWarning: Unable to represent RANGE schema as struct using pandas ArrowDtype. Using `object` instead. To use ArrowDtype, use pandas >= 1.5 and pyarrow >= 10.0.1.\n",
      "  warnings.warn(_RANGE_PYARROW_WARNING)\n",
      "/opt/anaconda3/envs/clean_env/lib/python3.9/site-packages/google/cloud/bigquery/table.py:2337: UserWarning: Unable to represent RANGE schema as struct using pandas ArrowDtype. Using `object` instead. To use ArrowDtype, use pandas >= 1.5 and pyarrow >= 10.0.1.\n",
      "  warnings.warn(_RANGE_PYARROW_WARNING)\n"
     ]
    },
    {
     "name": "stdout",
     "output_type": "stream",
     "text": [
      "Processed data for 2023-01-11\n",
      "Fetching data for 2023-01-12\n"
     ]
    },
    {
     "name": "stderr",
     "output_type": "stream",
     "text": [
      "/opt/anaconda3/envs/clean_env/lib/python3.9/site-packages/google/cloud/bigquery/table.py:2309: UserWarning: Unable to represent RANGE schema as struct using pandas ArrowDtype. Using `object` instead. To use ArrowDtype, use pandas >= 1.5 and pyarrow >= 10.0.1.\n",
      "  warnings.warn(_RANGE_PYARROW_WARNING)\n",
      "/opt/anaconda3/envs/clean_env/lib/python3.9/site-packages/google/cloud/bigquery/table.py:2323: UserWarning: Unable to represent RANGE schema as struct using pandas ArrowDtype. Using `object` instead. To use ArrowDtype, use pandas >= 1.5 and pyarrow >= 10.0.1.\n",
      "  warnings.warn(_RANGE_PYARROW_WARNING)\n",
      "/opt/anaconda3/envs/clean_env/lib/python3.9/site-packages/google/cloud/bigquery/table.py:2337: UserWarning: Unable to represent RANGE schema as struct using pandas ArrowDtype. Using `object` instead. To use ArrowDtype, use pandas >= 1.5 and pyarrow >= 10.0.1.\n",
      "  warnings.warn(_RANGE_PYARROW_WARNING)\n"
     ]
    },
    {
     "name": "stdout",
     "output_type": "stream",
     "text": [
      "Processed data for 2023-01-12\n",
      "Fetching data for 2023-01-13\n"
     ]
    },
    {
     "name": "stderr",
     "output_type": "stream",
     "text": [
      "/opt/anaconda3/envs/clean_env/lib/python3.9/site-packages/google/cloud/bigquery/table.py:2309: UserWarning: Unable to represent RANGE schema as struct using pandas ArrowDtype. Using `object` instead. To use ArrowDtype, use pandas >= 1.5 and pyarrow >= 10.0.1.\n",
      "  warnings.warn(_RANGE_PYARROW_WARNING)\n",
      "/opt/anaconda3/envs/clean_env/lib/python3.9/site-packages/google/cloud/bigquery/table.py:2323: UserWarning: Unable to represent RANGE schema as struct using pandas ArrowDtype. Using `object` instead. To use ArrowDtype, use pandas >= 1.5 and pyarrow >= 10.0.1.\n",
      "  warnings.warn(_RANGE_PYARROW_WARNING)\n",
      "/opt/anaconda3/envs/clean_env/lib/python3.9/site-packages/google/cloud/bigquery/table.py:2337: UserWarning: Unable to represent RANGE schema as struct using pandas ArrowDtype. Using `object` instead. To use ArrowDtype, use pandas >= 1.5 and pyarrow >= 10.0.1.\n",
      "  warnings.warn(_RANGE_PYARROW_WARNING)\n"
     ]
    },
    {
     "name": "stdout",
     "output_type": "stream",
     "text": [
      "Processed data for 2023-01-13\n",
      "Fetching data for 2023-01-14\n"
     ]
    },
    {
     "name": "stderr",
     "output_type": "stream",
     "text": [
      "/opt/anaconda3/envs/clean_env/lib/python3.9/site-packages/google/cloud/bigquery/table.py:2309: UserWarning: Unable to represent RANGE schema as struct using pandas ArrowDtype. Using `object` instead. To use ArrowDtype, use pandas >= 1.5 and pyarrow >= 10.0.1.\n",
      "  warnings.warn(_RANGE_PYARROW_WARNING)\n",
      "/opt/anaconda3/envs/clean_env/lib/python3.9/site-packages/google/cloud/bigquery/table.py:2323: UserWarning: Unable to represent RANGE schema as struct using pandas ArrowDtype. Using `object` instead. To use ArrowDtype, use pandas >= 1.5 and pyarrow >= 10.0.1.\n",
      "  warnings.warn(_RANGE_PYARROW_WARNING)\n",
      "/opt/anaconda3/envs/clean_env/lib/python3.9/site-packages/google/cloud/bigquery/table.py:2337: UserWarning: Unable to represent RANGE schema as struct using pandas ArrowDtype. Using `object` instead. To use ArrowDtype, use pandas >= 1.5 and pyarrow >= 10.0.1.\n",
      "  warnings.warn(_RANGE_PYARROW_WARNING)\n"
     ]
    },
    {
     "name": "stdout",
     "output_type": "stream",
     "text": [
      "Processed data for 2023-01-14\n",
      "Fetching data for 2023-01-15\n"
     ]
    },
    {
     "name": "stderr",
     "output_type": "stream",
     "text": [
      "/opt/anaconda3/envs/clean_env/lib/python3.9/site-packages/google/cloud/bigquery/table.py:2309: UserWarning: Unable to represent RANGE schema as struct using pandas ArrowDtype. Using `object` instead. To use ArrowDtype, use pandas >= 1.5 and pyarrow >= 10.0.1.\n",
      "  warnings.warn(_RANGE_PYARROW_WARNING)\n",
      "/opt/anaconda3/envs/clean_env/lib/python3.9/site-packages/google/cloud/bigquery/table.py:2323: UserWarning: Unable to represent RANGE schema as struct using pandas ArrowDtype. Using `object` instead. To use ArrowDtype, use pandas >= 1.5 and pyarrow >= 10.0.1.\n",
      "  warnings.warn(_RANGE_PYARROW_WARNING)\n",
      "/opt/anaconda3/envs/clean_env/lib/python3.9/site-packages/google/cloud/bigquery/table.py:2337: UserWarning: Unable to represent RANGE schema as struct using pandas ArrowDtype. Using `object` instead. To use ArrowDtype, use pandas >= 1.5 and pyarrow >= 10.0.1.\n",
      "  warnings.warn(_RANGE_PYARROW_WARNING)\n"
     ]
    },
    {
     "name": "stdout",
     "output_type": "stream",
     "text": [
      "Processed data for 2023-01-15\n",
      "Fetching data for 2023-01-16\n"
     ]
    },
    {
     "name": "stderr",
     "output_type": "stream",
     "text": [
      "/opt/anaconda3/envs/clean_env/lib/python3.9/site-packages/google/cloud/bigquery/table.py:2309: UserWarning: Unable to represent RANGE schema as struct using pandas ArrowDtype. Using `object` instead. To use ArrowDtype, use pandas >= 1.5 and pyarrow >= 10.0.1.\n",
      "  warnings.warn(_RANGE_PYARROW_WARNING)\n",
      "/opt/anaconda3/envs/clean_env/lib/python3.9/site-packages/google/cloud/bigquery/table.py:2323: UserWarning: Unable to represent RANGE schema as struct using pandas ArrowDtype. Using `object` instead. To use ArrowDtype, use pandas >= 1.5 and pyarrow >= 10.0.1.\n",
      "  warnings.warn(_RANGE_PYARROW_WARNING)\n",
      "/opt/anaconda3/envs/clean_env/lib/python3.9/site-packages/google/cloud/bigquery/table.py:2337: UserWarning: Unable to represent RANGE schema as struct using pandas ArrowDtype. Using `object` instead. To use ArrowDtype, use pandas >= 1.5 and pyarrow >= 10.0.1.\n",
      "  warnings.warn(_RANGE_PYARROW_WARNING)\n"
     ]
    },
    {
     "name": "stdout",
     "output_type": "stream",
     "text": [
      "Processed data for 2023-01-16\n",
      "Fetching data for 2023-01-17\n"
     ]
    },
    {
     "name": "stderr",
     "output_type": "stream",
     "text": [
      "/opt/anaconda3/envs/clean_env/lib/python3.9/site-packages/google/cloud/bigquery/table.py:2309: UserWarning: Unable to represent RANGE schema as struct using pandas ArrowDtype. Using `object` instead. To use ArrowDtype, use pandas >= 1.5 and pyarrow >= 10.0.1.\n",
      "  warnings.warn(_RANGE_PYARROW_WARNING)\n",
      "/opt/anaconda3/envs/clean_env/lib/python3.9/site-packages/google/cloud/bigquery/table.py:2323: UserWarning: Unable to represent RANGE schema as struct using pandas ArrowDtype. Using `object` instead. To use ArrowDtype, use pandas >= 1.5 and pyarrow >= 10.0.1.\n",
      "  warnings.warn(_RANGE_PYARROW_WARNING)\n",
      "/opt/anaconda3/envs/clean_env/lib/python3.9/site-packages/google/cloud/bigquery/table.py:2337: UserWarning: Unable to represent RANGE schema as struct using pandas ArrowDtype. Using `object` instead. To use ArrowDtype, use pandas >= 1.5 and pyarrow >= 10.0.1.\n",
      "  warnings.warn(_RANGE_PYARROW_WARNING)\n"
     ]
    },
    {
     "name": "stdout",
     "output_type": "stream",
     "text": [
      "Processed data for 2023-01-17\n",
      "Fetching data for 2023-01-18\n"
     ]
    },
    {
     "name": "stderr",
     "output_type": "stream",
     "text": [
      "/opt/anaconda3/envs/clean_env/lib/python3.9/site-packages/google/cloud/bigquery/table.py:2309: UserWarning: Unable to represent RANGE schema as struct using pandas ArrowDtype. Using `object` instead. To use ArrowDtype, use pandas >= 1.5 and pyarrow >= 10.0.1.\n",
      "  warnings.warn(_RANGE_PYARROW_WARNING)\n",
      "/opt/anaconda3/envs/clean_env/lib/python3.9/site-packages/google/cloud/bigquery/table.py:2323: UserWarning: Unable to represent RANGE schema as struct using pandas ArrowDtype. Using `object` instead. To use ArrowDtype, use pandas >= 1.5 and pyarrow >= 10.0.1.\n",
      "  warnings.warn(_RANGE_PYARROW_WARNING)\n",
      "/opt/anaconda3/envs/clean_env/lib/python3.9/site-packages/google/cloud/bigquery/table.py:2337: UserWarning: Unable to represent RANGE schema as struct using pandas ArrowDtype. Using `object` instead. To use ArrowDtype, use pandas >= 1.5 and pyarrow >= 10.0.1.\n",
      "  warnings.warn(_RANGE_PYARROW_WARNING)\n"
     ]
    },
    {
     "name": "stdout",
     "output_type": "stream",
     "text": [
      "Processed data for 2023-01-18\n",
      "Fetching data for 2023-01-19\n"
     ]
    },
    {
     "name": "stderr",
     "output_type": "stream",
     "text": [
      "/opt/anaconda3/envs/clean_env/lib/python3.9/site-packages/google/cloud/bigquery/table.py:2309: UserWarning: Unable to represent RANGE schema as struct using pandas ArrowDtype. Using `object` instead. To use ArrowDtype, use pandas >= 1.5 and pyarrow >= 10.0.1.\n",
      "  warnings.warn(_RANGE_PYARROW_WARNING)\n",
      "/opt/anaconda3/envs/clean_env/lib/python3.9/site-packages/google/cloud/bigquery/table.py:2323: UserWarning: Unable to represent RANGE schema as struct using pandas ArrowDtype. Using `object` instead. To use ArrowDtype, use pandas >= 1.5 and pyarrow >= 10.0.1.\n",
      "  warnings.warn(_RANGE_PYARROW_WARNING)\n",
      "/opt/anaconda3/envs/clean_env/lib/python3.9/site-packages/google/cloud/bigquery/table.py:2337: UserWarning: Unable to represent RANGE schema as struct using pandas ArrowDtype. Using `object` instead. To use ArrowDtype, use pandas >= 1.5 and pyarrow >= 10.0.1.\n",
      "  warnings.warn(_RANGE_PYARROW_WARNING)\n"
     ]
    },
    {
     "name": "stdout",
     "output_type": "stream",
     "text": [
      "Processed data for 2023-01-19\n",
      "Fetching data for 2023-01-20\n"
     ]
    },
    {
     "name": "stderr",
     "output_type": "stream",
     "text": [
      "/opt/anaconda3/envs/clean_env/lib/python3.9/site-packages/google/cloud/bigquery/table.py:2309: UserWarning: Unable to represent RANGE schema as struct using pandas ArrowDtype. Using `object` instead. To use ArrowDtype, use pandas >= 1.5 and pyarrow >= 10.0.1.\n",
      "  warnings.warn(_RANGE_PYARROW_WARNING)\n",
      "/opt/anaconda3/envs/clean_env/lib/python3.9/site-packages/google/cloud/bigquery/table.py:2323: UserWarning: Unable to represent RANGE schema as struct using pandas ArrowDtype. Using `object` instead. To use ArrowDtype, use pandas >= 1.5 and pyarrow >= 10.0.1.\n",
      "  warnings.warn(_RANGE_PYARROW_WARNING)\n",
      "/opt/anaconda3/envs/clean_env/lib/python3.9/site-packages/google/cloud/bigquery/table.py:2337: UserWarning: Unable to represent RANGE schema as struct using pandas ArrowDtype. Using `object` instead. To use ArrowDtype, use pandas >= 1.5 and pyarrow >= 10.0.1.\n",
      "  warnings.warn(_RANGE_PYARROW_WARNING)\n"
     ]
    },
    {
     "name": "stdout",
     "output_type": "stream",
     "text": [
      "Processed data for 2023-01-20\n",
      "Fetching data for 2023-01-21\n"
     ]
    },
    {
     "name": "stderr",
     "output_type": "stream",
     "text": [
      "/opt/anaconda3/envs/clean_env/lib/python3.9/site-packages/google/cloud/bigquery/table.py:2309: UserWarning: Unable to represent RANGE schema as struct using pandas ArrowDtype. Using `object` instead. To use ArrowDtype, use pandas >= 1.5 and pyarrow >= 10.0.1.\n",
      "  warnings.warn(_RANGE_PYARROW_WARNING)\n",
      "/opt/anaconda3/envs/clean_env/lib/python3.9/site-packages/google/cloud/bigquery/table.py:2323: UserWarning: Unable to represent RANGE schema as struct using pandas ArrowDtype. Using `object` instead. To use ArrowDtype, use pandas >= 1.5 and pyarrow >= 10.0.1.\n",
      "  warnings.warn(_RANGE_PYARROW_WARNING)\n",
      "/opt/anaconda3/envs/clean_env/lib/python3.9/site-packages/google/cloud/bigquery/table.py:2337: UserWarning: Unable to represent RANGE schema as struct using pandas ArrowDtype. Using `object` instead. To use ArrowDtype, use pandas >= 1.5 and pyarrow >= 10.0.1.\n",
      "  warnings.warn(_RANGE_PYARROW_WARNING)\n"
     ]
    },
    {
     "name": "stdout",
     "output_type": "stream",
     "text": [
      "Processed data for 2023-01-21\n",
      "Fetching data for 2023-01-22\n"
     ]
    },
    {
     "name": "stderr",
     "output_type": "stream",
     "text": [
      "/opt/anaconda3/envs/clean_env/lib/python3.9/site-packages/google/cloud/bigquery/table.py:2309: UserWarning: Unable to represent RANGE schema as struct using pandas ArrowDtype. Using `object` instead. To use ArrowDtype, use pandas >= 1.5 and pyarrow >= 10.0.1.\n",
      "  warnings.warn(_RANGE_PYARROW_WARNING)\n",
      "/opt/anaconda3/envs/clean_env/lib/python3.9/site-packages/google/cloud/bigquery/table.py:2323: UserWarning: Unable to represent RANGE schema as struct using pandas ArrowDtype. Using `object` instead. To use ArrowDtype, use pandas >= 1.5 and pyarrow >= 10.0.1.\n",
      "  warnings.warn(_RANGE_PYARROW_WARNING)\n",
      "/opt/anaconda3/envs/clean_env/lib/python3.9/site-packages/google/cloud/bigquery/table.py:2337: UserWarning: Unable to represent RANGE schema as struct using pandas ArrowDtype. Using `object` instead. To use ArrowDtype, use pandas >= 1.5 and pyarrow >= 10.0.1.\n",
      "  warnings.warn(_RANGE_PYARROW_WARNING)\n"
     ]
    },
    {
     "name": "stdout",
     "output_type": "stream",
     "text": [
      "Processed data for 2023-01-22\n",
      "Fetching data for 2023-01-23\n"
     ]
    },
    {
     "name": "stderr",
     "output_type": "stream",
     "text": [
      "/opt/anaconda3/envs/clean_env/lib/python3.9/site-packages/google/cloud/bigquery/table.py:2309: UserWarning: Unable to represent RANGE schema as struct using pandas ArrowDtype. Using `object` instead. To use ArrowDtype, use pandas >= 1.5 and pyarrow >= 10.0.1.\n",
      "  warnings.warn(_RANGE_PYARROW_WARNING)\n",
      "/opt/anaconda3/envs/clean_env/lib/python3.9/site-packages/google/cloud/bigquery/table.py:2323: UserWarning: Unable to represent RANGE schema as struct using pandas ArrowDtype. Using `object` instead. To use ArrowDtype, use pandas >= 1.5 and pyarrow >= 10.0.1.\n",
      "  warnings.warn(_RANGE_PYARROW_WARNING)\n",
      "/opt/anaconda3/envs/clean_env/lib/python3.9/site-packages/google/cloud/bigquery/table.py:2337: UserWarning: Unable to represent RANGE schema as struct using pandas ArrowDtype. Using `object` instead. To use ArrowDtype, use pandas >= 1.5 and pyarrow >= 10.0.1.\n",
      "  warnings.warn(_RANGE_PYARROW_WARNING)\n"
     ]
    },
    {
     "name": "stdout",
     "output_type": "stream",
     "text": [
      "Processed data for 2023-01-23\n",
      "Fetching data for 2023-01-24\n"
     ]
    },
    {
     "name": "stderr",
     "output_type": "stream",
     "text": [
      "/opt/anaconda3/envs/clean_env/lib/python3.9/site-packages/google/cloud/bigquery/table.py:2309: UserWarning: Unable to represent RANGE schema as struct using pandas ArrowDtype. Using `object` instead. To use ArrowDtype, use pandas >= 1.5 and pyarrow >= 10.0.1.\n",
      "  warnings.warn(_RANGE_PYARROW_WARNING)\n",
      "/opt/anaconda3/envs/clean_env/lib/python3.9/site-packages/google/cloud/bigquery/table.py:2323: UserWarning: Unable to represent RANGE schema as struct using pandas ArrowDtype. Using `object` instead. To use ArrowDtype, use pandas >= 1.5 and pyarrow >= 10.0.1.\n",
      "  warnings.warn(_RANGE_PYARROW_WARNING)\n",
      "/opt/anaconda3/envs/clean_env/lib/python3.9/site-packages/google/cloud/bigquery/table.py:2337: UserWarning: Unable to represent RANGE schema as struct using pandas ArrowDtype. Using `object` instead. To use ArrowDtype, use pandas >= 1.5 and pyarrow >= 10.0.1.\n",
      "  warnings.warn(_RANGE_PYARROW_WARNING)\n"
     ]
    },
    {
     "name": "stdout",
     "output_type": "stream",
     "text": [
      "Processed data for 2023-01-24\n",
      "Fetching data for 2023-01-25\n"
     ]
    },
    {
     "name": "stderr",
     "output_type": "stream",
     "text": [
      "/opt/anaconda3/envs/clean_env/lib/python3.9/site-packages/google/cloud/bigquery/table.py:2309: UserWarning: Unable to represent RANGE schema as struct using pandas ArrowDtype. Using `object` instead. To use ArrowDtype, use pandas >= 1.5 and pyarrow >= 10.0.1.\n",
      "  warnings.warn(_RANGE_PYARROW_WARNING)\n",
      "/opt/anaconda3/envs/clean_env/lib/python3.9/site-packages/google/cloud/bigquery/table.py:2323: UserWarning: Unable to represent RANGE schema as struct using pandas ArrowDtype. Using `object` instead. To use ArrowDtype, use pandas >= 1.5 and pyarrow >= 10.0.1.\n",
      "  warnings.warn(_RANGE_PYARROW_WARNING)\n",
      "/opt/anaconda3/envs/clean_env/lib/python3.9/site-packages/google/cloud/bigquery/table.py:2337: UserWarning: Unable to represent RANGE schema as struct using pandas ArrowDtype. Using `object` instead. To use ArrowDtype, use pandas >= 1.5 and pyarrow >= 10.0.1.\n",
      "  warnings.warn(_RANGE_PYARROW_WARNING)\n"
     ]
    },
    {
     "name": "stdout",
     "output_type": "stream",
     "text": [
      "Processed data for 2023-01-25\n",
      "Fetching data for 2023-01-26\n"
     ]
    },
    {
     "name": "stderr",
     "output_type": "stream",
     "text": [
      "/opt/anaconda3/envs/clean_env/lib/python3.9/site-packages/google/cloud/bigquery/table.py:2309: UserWarning: Unable to represent RANGE schema as struct using pandas ArrowDtype. Using `object` instead. To use ArrowDtype, use pandas >= 1.5 and pyarrow >= 10.0.1.\n",
      "  warnings.warn(_RANGE_PYARROW_WARNING)\n",
      "/opt/anaconda3/envs/clean_env/lib/python3.9/site-packages/google/cloud/bigquery/table.py:2323: UserWarning: Unable to represent RANGE schema as struct using pandas ArrowDtype. Using `object` instead. To use ArrowDtype, use pandas >= 1.5 and pyarrow >= 10.0.1.\n",
      "  warnings.warn(_RANGE_PYARROW_WARNING)\n",
      "/opt/anaconda3/envs/clean_env/lib/python3.9/site-packages/google/cloud/bigquery/table.py:2337: UserWarning: Unable to represent RANGE schema as struct using pandas ArrowDtype. Using `object` instead. To use ArrowDtype, use pandas >= 1.5 and pyarrow >= 10.0.1.\n",
      "  warnings.warn(_RANGE_PYARROW_WARNING)\n"
     ]
    },
    {
     "name": "stdout",
     "output_type": "stream",
     "text": [
      "Processed data for 2023-01-26\n",
      "Fetching data for 2023-01-27\n"
     ]
    },
    {
     "name": "stderr",
     "output_type": "stream",
     "text": [
      "/opt/anaconda3/envs/clean_env/lib/python3.9/site-packages/google/cloud/bigquery/table.py:2309: UserWarning: Unable to represent RANGE schema as struct using pandas ArrowDtype. Using `object` instead. To use ArrowDtype, use pandas >= 1.5 and pyarrow >= 10.0.1.\n",
      "  warnings.warn(_RANGE_PYARROW_WARNING)\n",
      "/opt/anaconda3/envs/clean_env/lib/python3.9/site-packages/google/cloud/bigquery/table.py:2323: UserWarning: Unable to represent RANGE schema as struct using pandas ArrowDtype. Using `object` instead. To use ArrowDtype, use pandas >= 1.5 and pyarrow >= 10.0.1.\n",
      "  warnings.warn(_RANGE_PYARROW_WARNING)\n",
      "/opt/anaconda3/envs/clean_env/lib/python3.9/site-packages/google/cloud/bigquery/table.py:2337: UserWarning: Unable to represent RANGE schema as struct using pandas ArrowDtype. Using `object` instead. To use ArrowDtype, use pandas >= 1.5 and pyarrow >= 10.0.1.\n",
      "  warnings.warn(_RANGE_PYARROW_WARNING)\n"
     ]
    },
    {
     "name": "stdout",
     "output_type": "stream",
     "text": [
      "Processed data for 2023-01-27\n",
      "Fetching data for 2023-01-28\n"
     ]
    },
    {
     "name": "stderr",
     "output_type": "stream",
     "text": [
      "/opt/anaconda3/envs/clean_env/lib/python3.9/site-packages/google/cloud/bigquery/table.py:2309: UserWarning: Unable to represent RANGE schema as struct using pandas ArrowDtype. Using `object` instead. To use ArrowDtype, use pandas >= 1.5 and pyarrow >= 10.0.1.\n",
      "  warnings.warn(_RANGE_PYARROW_WARNING)\n",
      "/opt/anaconda3/envs/clean_env/lib/python3.9/site-packages/google/cloud/bigquery/table.py:2323: UserWarning: Unable to represent RANGE schema as struct using pandas ArrowDtype. Using `object` instead. To use ArrowDtype, use pandas >= 1.5 and pyarrow >= 10.0.1.\n",
      "  warnings.warn(_RANGE_PYARROW_WARNING)\n",
      "/opt/anaconda3/envs/clean_env/lib/python3.9/site-packages/google/cloud/bigquery/table.py:2337: UserWarning: Unable to represent RANGE schema as struct using pandas ArrowDtype. Using `object` instead. To use ArrowDtype, use pandas >= 1.5 and pyarrow >= 10.0.1.\n",
      "  warnings.warn(_RANGE_PYARROW_WARNING)\n"
     ]
    },
    {
     "name": "stdout",
     "output_type": "stream",
     "text": [
      "Processed data for 2023-01-28\n",
      "Fetching data for 2023-01-29\n"
     ]
    },
    {
     "name": "stderr",
     "output_type": "stream",
     "text": [
      "/opt/anaconda3/envs/clean_env/lib/python3.9/site-packages/google/cloud/bigquery/table.py:2309: UserWarning: Unable to represent RANGE schema as struct using pandas ArrowDtype. Using `object` instead. To use ArrowDtype, use pandas >= 1.5 and pyarrow >= 10.0.1.\n",
      "  warnings.warn(_RANGE_PYARROW_WARNING)\n",
      "/opt/anaconda3/envs/clean_env/lib/python3.9/site-packages/google/cloud/bigquery/table.py:2323: UserWarning: Unable to represent RANGE schema as struct using pandas ArrowDtype. Using `object` instead. To use ArrowDtype, use pandas >= 1.5 and pyarrow >= 10.0.1.\n",
      "  warnings.warn(_RANGE_PYARROW_WARNING)\n",
      "/opt/anaconda3/envs/clean_env/lib/python3.9/site-packages/google/cloud/bigquery/table.py:2337: UserWarning: Unable to represent RANGE schema as struct using pandas ArrowDtype. Using `object` instead. To use ArrowDtype, use pandas >= 1.5 and pyarrow >= 10.0.1.\n",
      "  warnings.warn(_RANGE_PYARROW_WARNING)\n"
     ]
    },
    {
     "name": "stdout",
     "output_type": "stream",
     "text": [
      "Processed data for 2023-01-29\n",
      "Fetching data for 2023-01-30\n"
     ]
    },
    {
     "name": "stderr",
     "output_type": "stream",
     "text": [
      "/opt/anaconda3/envs/clean_env/lib/python3.9/site-packages/google/cloud/bigquery/table.py:2309: UserWarning: Unable to represent RANGE schema as struct using pandas ArrowDtype. Using `object` instead. To use ArrowDtype, use pandas >= 1.5 and pyarrow >= 10.0.1.\n",
      "  warnings.warn(_RANGE_PYARROW_WARNING)\n",
      "/opt/anaconda3/envs/clean_env/lib/python3.9/site-packages/google/cloud/bigquery/table.py:2323: UserWarning: Unable to represent RANGE schema as struct using pandas ArrowDtype. Using `object` instead. To use ArrowDtype, use pandas >= 1.5 and pyarrow >= 10.0.1.\n",
      "  warnings.warn(_RANGE_PYARROW_WARNING)\n",
      "/opt/anaconda3/envs/clean_env/lib/python3.9/site-packages/google/cloud/bigquery/table.py:2337: UserWarning: Unable to represent RANGE schema as struct using pandas ArrowDtype. Using `object` instead. To use ArrowDtype, use pandas >= 1.5 and pyarrow >= 10.0.1.\n",
      "  warnings.warn(_RANGE_PYARROW_WARNING)\n"
     ]
    },
    {
     "name": "stdout",
     "output_type": "stream",
     "text": [
      "Processed data for 2023-01-30\n",
      "Fetching data for 2023-01-31\n"
     ]
    },
    {
     "name": "stderr",
     "output_type": "stream",
     "text": [
      "/opt/anaconda3/envs/clean_env/lib/python3.9/site-packages/google/cloud/bigquery/table.py:2309: UserWarning: Unable to represent RANGE schema as struct using pandas ArrowDtype. Using `object` instead. To use ArrowDtype, use pandas >= 1.5 and pyarrow >= 10.0.1.\n",
      "  warnings.warn(_RANGE_PYARROW_WARNING)\n",
      "/opt/anaconda3/envs/clean_env/lib/python3.9/site-packages/google/cloud/bigquery/table.py:2323: UserWarning: Unable to represent RANGE schema as struct using pandas ArrowDtype. Using `object` instead. To use ArrowDtype, use pandas >= 1.5 and pyarrow >= 10.0.1.\n",
      "  warnings.warn(_RANGE_PYARROW_WARNING)\n",
      "/opt/anaconda3/envs/clean_env/lib/python3.9/site-packages/google/cloud/bigquery/table.py:2337: UserWarning: Unable to represent RANGE schema as struct using pandas ArrowDtype. Using `object` instead. To use ArrowDtype, use pandas >= 1.5 and pyarrow >= 10.0.1.\n",
      "  warnings.warn(_RANGE_PYARROW_WARNING)\n"
     ]
    },
    {
     "name": "stdout",
     "output_type": "stream",
     "text": [
      "Processed data for 2023-01-31\n",
      "Fetching data for 2023-02-01\n"
     ]
    },
    {
     "name": "stderr",
     "output_type": "stream",
     "text": [
      "/opt/anaconda3/envs/clean_env/lib/python3.9/site-packages/google/cloud/bigquery/table.py:2309: UserWarning: Unable to represent RANGE schema as struct using pandas ArrowDtype. Using `object` instead. To use ArrowDtype, use pandas >= 1.5 and pyarrow >= 10.0.1.\n",
      "  warnings.warn(_RANGE_PYARROW_WARNING)\n",
      "/opt/anaconda3/envs/clean_env/lib/python3.9/site-packages/google/cloud/bigquery/table.py:2323: UserWarning: Unable to represent RANGE schema as struct using pandas ArrowDtype. Using `object` instead. To use ArrowDtype, use pandas >= 1.5 and pyarrow >= 10.0.1.\n",
      "  warnings.warn(_RANGE_PYARROW_WARNING)\n",
      "/opt/anaconda3/envs/clean_env/lib/python3.9/site-packages/google/cloud/bigquery/table.py:2337: UserWarning: Unable to represent RANGE schema as struct using pandas ArrowDtype. Using `object` instead. To use ArrowDtype, use pandas >= 1.5 and pyarrow >= 10.0.1.\n",
      "  warnings.warn(_RANGE_PYARROW_WARNING)\n"
     ]
    },
    {
     "name": "stdout",
     "output_type": "stream",
     "text": [
      "Processed data for 2023-02-01\n",
      "Fetching data for 2023-02-02\n"
     ]
    },
    {
     "name": "stderr",
     "output_type": "stream",
     "text": [
      "/opt/anaconda3/envs/clean_env/lib/python3.9/site-packages/google/cloud/bigquery/table.py:2309: UserWarning: Unable to represent RANGE schema as struct using pandas ArrowDtype. Using `object` instead. To use ArrowDtype, use pandas >= 1.5 and pyarrow >= 10.0.1.\n",
      "  warnings.warn(_RANGE_PYARROW_WARNING)\n",
      "/opt/anaconda3/envs/clean_env/lib/python3.9/site-packages/google/cloud/bigquery/table.py:2323: UserWarning: Unable to represent RANGE schema as struct using pandas ArrowDtype. Using `object` instead. To use ArrowDtype, use pandas >= 1.5 and pyarrow >= 10.0.1.\n",
      "  warnings.warn(_RANGE_PYARROW_WARNING)\n",
      "/opt/anaconda3/envs/clean_env/lib/python3.9/site-packages/google/cloud/bigquery/table.py:2337: UserWarning: Unable to represent RANGE schema as struct using pandas ArrowDtype. Using `object` instead. To use ArrowDtype, use pandas >= 1.5 and pyarrow >= 10.0.1.\n",
      "  warnings.warn(_RANGE_PYARROW_WARNING)\n"
     ]
    },
    {
     "name": "stdout",
     "output_type": "stream",
     "text": [
      "Processed data for 2023-02-02\n",
      "Fetching data for 2023-02-03\n"
     ]
    },
    {
     "name": "stderr",
     "output_type": "stream",
     "text": [
      "/opt/anaconda3/envs/clean_env/lib/python3.9/site-packages/google/cloud/bigquery/table.py:2309: UserWarning: Unable to represent RANGE schema as struct using pandas ArrowDtype. Using `object` instead. To use ArrowDtype, use pandas >= 1.5 and pyarrow >= 10.0.1.\n",
      "  warnings.warn(_RANGE_PYARROW_WARNING)\n",
      "/opt/anaconda3/envs/clean_env/lib/python3.9/site-packages/google/cloud/bigquery/table.py:2323: UserWarning: Unable to represent RANGE schema as struct using pandas ArrowDtype. Using `object` instead. To use ArrowDtype, use pandas >= 1.5 and pyarrow >= 10.0.1.\n",
      "  warnings.warn(_RANGE_PYARROW_WARNING)\n",
      "/opt/anaconda3/envs/clean_env/lib/python3.9/site-packages/google/cloud/bigquery/table.py:2337: UserWarning: Unable to represent RANGE schema as struct using pandas ArrowDtype. Using `object` instead. To use ArrowDtype, use pandas >= 1.5 and pyarrow >= 10.0.1.\n",
      "  warnings.warn(_RANGE_PYARROW_WARNING)\n"
     ]
    },
    {
     "name": "stdout",
     "output_type": "stream",
     "text": [
      "Processed data for 2023-02-03\n",
      "Fetching data for 2023-02-04\n"
     ]
    },
    {
     "name": "stderr",
     "output_type": "stream",
     "text": [
      "/opt/anaconda3/envs/clean_env/lib/python3.9/site-packages/google/cloud/bigquery/table.py:2309: UserWarning: Unable to represent RANGE schema as struct using pandas ArrowDtype. Using `object` instead. To use ArrowDtype, use pandas >= 1.5 and pyarrow >= 10.0.1.\n",
      "  warnings.warn(_RANGE_PYARROW_WARNING)\n",
      "/opt/anaconda3/envs/clean_env/lib/python3.9/site-packages/google/cloud/bigquery/table.py:2323: UserWarning: Unable to represent RANGE schema as struct using pandas ArrowDtype. Using `object` instead. To use ArrowDtype, use pandas >= 1.5 and pyarrow >= 10.0.1.\n",
      "  warnings.warn(_RANGE_PYARROW_WARNING)\n",
      "/opt/anaconda3/envs/clean_env/lib/python3.9/site-packages/google/cloud/bigquery/table.py:2337: UserWarning: Unable to represent RANGE schema as struct using pandas ArrowDtype. Using `object` instead. To use ArrowDtype, use pandas >= 1.5 and pyarrow >= 10.0.1.\n",
      "  warnings.warn(_RANGE_PYARROW_WARNING)\n"
     ]
    },
    {
     "name": "stdout",
     "output_type": "stream",
     "text": [
      "Processed data for 2023-02-04\n",
      "Fetching data for 2023-02-05\n"
     ]
    },
    {
     "name": "stderr",
     "output_type": "stream",
     "text": [
      "/opt/anaconda3/envs/clean_env/lib/python3.9/site-packages/google/cloud/bigquery/table.py:2309: UserWarning: Unable to represent RANGE schema as struct using pandas ArrowDtype. Using `object` instead. To use ArrowDtype, use pandas >= 1.5 and pyarrow >= 10.0.1.\n",
      "  warnings.warn(_RANGE_PYARROW_WARNING)\n",
      "/opt/anaconda3/envs/clean_env/lib/python3.9/site-packages/google/cloud/bigquery/table.py:2323: UserWarning: Unable to represent RANGE schema as struct using pandas ArrowDtype. Using `object` instead. To use ArrowDtype, use pandas >= 1.5 and pyarrow >= 10.0.1.\n",
      "  warnings.warn(_RANGE_PYARROW_WARNING)\n",
      "/opt/anaconda3/envs/clean_env/lib/python3.9/site-packages/google/cloud/bigquery/table.py:2337: UserWarning: Unable to represent RANGE schema as struct using pandas ArrowDtype. Using `object` instead. To use ArrowDtype, use pandas >= 1.5 and pyarrow >= 10.0.1.\n",
      "  warnings.warn(_RANGE_PYARROW_WARNING)\n"
     ]
    },
    {
     "name": "stdout",
     "output_type": "stream",
     "text": [
      "Processed data for 2023-02-05\n",
      "Fetching data for 2023-02-06\n"
     ]
    },
    {
     "name": "stderr",
     "output_type": "stream",
     "text": [
      "/opt/anaconda3/envs/clean_env/lib/python3.9/site-packages/google/cloud/bigquery/table.py:2309: UserWarning: Unable to represent RANGE schema as struct using pandas ArrowDtype. Using `object` instead. To use ArrowDtype, use pandas >= 1.5 and pyarrow >= 10.0.1.\n",
      "  warnings.warn(_RANGE_PYARROW_WARNING)\n",
      "/opt/anaconda3/envs/clean_env/lib/python3.9/site-packages/google/cloud/bigquery/table.py:2323: UserWarning: Unable to represent RANGE schema as struct using pandas ArrowDtype. Using `object` instead. To use ArrowDtype, use pandas >= 1.5 and pyarrow >= 10.0.1.\n",
      "  warnings.warn(_RANGE_PYARROW_WARNING)\n",
      "/opt/anaconda3/envs/clean_env/lib/python3.9/site-packages/google/cloud/bigquery/table.py:2337: UserWarning: Unable to represent RANGE schema as struct using pandas ArrowDtype. Using `object` instead. To use ArrowDtype, use pandas >= 1.5 and pyarrow >= 10.0.1.\n",
      "  warnings.warn(_RANGE_PYARROW_WARNING)\n"
     ]
    },
    {
     "name": "stdout",
     "output_type": "stream",
     "text": [
      "Processed data for 2023-02-06\n",
      "Fetching data for 2023-02-07\n"
     ]
    },
    {
     "name": "stderr",
     "output_type": "stream",
     "text": [
      "/opt/anaconda3/envs/clean_env/lib/python3.9/site-packages/google/cloud/bigquery/table.py:2309: UserWarning: Unable to represent RANGE schema as struct using pandas ArrowDtype. Using `object` instead. To use ArrowDtype, use pandas >= 1.5 and pyarrow >= 10.0.1.\n",
      "  warnings.warn(_RANGE_PYARROW_WARNING)\n",
      "/opt/anaconda3/envs/clean_env/lib/python3.9/site-packages/google/cloud/bigquery/table.py:2323: UserWarning: Unable to represent RANGE schema as struct using pandas ArrowDtype. Using `object` instead. To use ArrowDtype, use pandas >= 1.5 and pyarrow >= 10.0.1.\n",
      "  warnings.warn(_RANGE_PYARROW_WARNING)\n",
      "/opt/anaconda3/envs/clean_env/lib/python3.9/site-packages/google/cloud/bigquery/table.py:2337: UserWarning: Unable to represent RANGE schema as struct using pandas ArrowDtype. Using `object` instead. To use ArrowDtype, use pandas >= 1.5 and pyarrow >= 10.0.1.\n",
      "  warnings.warn(_RANGE_PYARROW_WARNING)\n"
     ]
    },
    {
     "name": "stdout",
     "output_type": "stream",
     "text": [
      "Processed data for 2023-02-07\n",
      "Fetching data for 2023-02-08\n"
     ]
    },
    {
     "name": "stderr",
     "output_type": "stream",
     "text": [
      "/opt/anaconda3/envs/clean_env/lib/python3.9/site-packages/google/cloud/bigquery/table.py:2309: UserWarning: Unable to represent RANGE schema as struct using pandas ArrowDtype. Using `object` instead. To use ArrowDtype, use pandas >= 1.5 and pyarrow >= 10.0.1.\n",
      "  warnings.warn(_RANGE_PYARROW_WARNING)\n",
      "/opt/anaconda3/envs/clean_env/lib/python3.9/site-packages/google/cloud/bigquery/table.py:2323: UserWarning: Unable to represent RANGE schema as struct using pandas ArrowDtype. Using `object` instead. To use ArrowDtype, use pandas >= 1.5 and pyarrow >= 10.0.1.\n",
      "  warnings.warn(_RANGE_PYARROW_WARNING)\n",
      "/opt/anaconda3/envs/clean_env/lib/python3.9/site-packages/google/cloud/bigquery/table.py:2337: UserWarning: Unable to represent RANGE schema as struct using pandas ArrowDtype. Using `object` instead. To use ArrowDtype, use pandas >= 1.5 and pyarrow >= 10.0.1.\n",
      "  warnings.warn(_RANGE_PYARROW_WARNING)\n"
     ]
    },
    {
     "name": "stdout",
     "output_type": "stream",
     "text": [
      "Processed data for 2023-02-08\n",
      "Fetching data for 2023-02-09\n"
     ]
    },
    {
     "name": "stderr",
     "output_type": "stream",
     "text": [
      "/opt/anaconda3/envs/clean_env/lib/python3.9/site-packages/google/cloud/bigquery/table.py:2309: UserWarning: Unable to represent RANGE schema as struct using pandas ArrowDtype. Using `object` instead. To use ArrowDtype, use pandas >= 1.5 and pyarrow >= 10.0.1.\n",
      "  warnings.warn(_RANGE_PYARROW_WARNING)\n",
      "/opt/anaconda3/envs/clean_env/lib/python3.9/site-packages/google/cloud/bigquery/table.py:2323: UserWarning: Unable to represent RANGE schema as struct using pandas ArrowDtype. Using `object` instead. To use ArrowDtype, use pandas >= 1.5 and pyarrow >= 10.0.1.\n",
      "  warnings.warn(_RANGE_PYARROW_WARNING)\n",
      "/opt/anaconda3/envs/clean_env/lib/python3.9/site-packages/google/cloud/bigquery/table.py:2337: UserWarning: Unable to represent RANGE schema as struct using pandas ArrowDtype. Using `object` instead. To use ArrowDtype, use pandas >= 1.5 and pyarrow >= 10.0.1.\n",
      "  warnings.warn(_RANGE_PYARROW_WARNING)\n"
     ]
    },
    {
     "name": "stdout",
     "output_type": "stream",
     "text": [
      "Processed data for 2023-02-09\n",
      "Fetching data for 2023-02-10\n"
     ]
    },
    {
     "name": "stderr",
     "output_type": "stream",
     "text": [
      "/opt/anaconda3/envs/clean_env/lib/python3.9/site-packages/google/cloud/bigquery/table.py:2309: UserWarning: Unable to represent RANGE schema as struct using pandas ArrowDtype. Using `object` instead. To use ArrowDtype, use pandas >= 1.5 and pyarrow >= 10.0.1.\n",
      "  warnings.warn(_RANGE_PYARROW_WARNING)\n",
      "/opt/anaconda3/envs/clean_env/lib/python3.9/site-packages/google/cloud/bigquery/table.py:2323: UserWarning: Unable to represent RANGE schema as struct using pandas ArrowDtype. Using `object` instead. To use ArrowDtype, use pandas >= 1.5 and pyarrow >= 10.0.1.\n",
      "  warnings.warn(_RANGE_PYARROW_WARNING)\n",
      "/opt/anaconda3/envs/clean_env/lib/python3.9/site-packages/google/cloud/bigquery/table.py:2337: UserWarning: Unable to represent RANGE schema as struct using pandas ArrowDtype. Using `object` instead. To use ArrowDtype, use pandas >= 1.5 and pyarrow >= 10.0.1.\n",
      "  warnings.warn(_RANGE_PYARROW_WARNING)\n"
     ]
    },
    {
     "name": "stdout",
     "output_type": "stream",
     "text": [
      "Processed data for 2023-02-10\n",
      "Fetching data for 2023-02-11\n"
     ]
    },
    {
     "name": "stderr",
     "output_type": "stream",
     "text": [
      "/opt/anaconda3/envs/clean_env/lib/python3.9/site-packages/google/cloud/bigquery/table.py:2309: UserWarning: Unable to represent RANGE schema as struct using pandas ArrowDtype. Using `object` instead. To use ArrowDtype, use pandas >= 1.5 and pyarrow >= 10.0.1.\n",
      "  warnings.warn(_RANGE_PYARROW_WARNING)\n",
      "/opt/anaconda3/envs/clean_env/lib/python3.9/site-packages/google/cloud/bigquery/table.py:2323: UserWarning: Unable to represent RANGE schema as struct using pandas ArrowDtype. Using `object` instead. To use ArrowDtype, use pandas >= 1.5 and pyarrow >= 10.0.1.\n",
      "  warnings.warn(_RANGE_PYARROW_WARNING)\n",
      "/opt/anaconda3/envs/clean_env/lib/python3.9/site-packages/google/cloud/bigquery/table.py:2337: UserWarning: Unable to represent RANGE schema as struct using pandas ArrowDtype. Using `object` instead. To use ArrowDtype, use pandas >= 1.5 and pyarrow >= 10.0.1.\n",
      "  warnings.warn(_RANGE_PYARROW_WARNING)\n"
     ]
    },
    {
     "name": "stdout",
     "output_type": "stream",
     "text": [
      "Processed data for 2023-02-11\n",
      "Fetching data for 2023-02-12\n"
     ]
    },
    {
     "name": "stderr",
     "output_type": "stream",
     "text": [
      "/opt/anaconda3/envs/clean_env/lib/python3.9/site-packages/google/cloud/bigquery/table.py:2309: UserWarning: Unable to represent RANGE schema as struct using pandas ArrowDtype. Using `object` instead. To use ArrowDtype, use pandas >= 1.5 and pyarrow >= 10.0.1.\n",
      "  warnings.warn(_RANGE_PYARROW_WARNING)\n",
      "/opt/anaconda3/envs/clean_env/lib/python3.9/site-packages/google/cloud/bigquery/table.py:2323: UserWarning: Unable to represent RANGE schema as struct using pandas ArrowDtype. Using `object` instead. To use ArrowDtype, use pandas >= 1.5 and pyarrow >= 10.0.1.\n",
      "  warnings.warn(_RANGE_PYARROW_WARNING)\n",
      "/opt/anaconda3/envs/clean_env/lib/python3.9/site-packages/google/cloud/bigquery/table.py:2337: UserWarning: Unable to represent RANGE schema as struct using pandas ArrowDtype. Using `object` instead. To use ArrowDtype, use pandas >= 1.5 and pyarrow >= 10.0.1.\n",
      "  warnings.warn(_RANGE_PYARROW_WARNING)\n"
     ]
    },
    {
     "name": "stdout",
     "output_type": "stream",
     "text": [
      "Processed data for 2023-02-12\n",
      "Fetching data for 2023-02-13\n"
     ]
    },
    {
     "name": "stderr",
     "output_type": "stream",
     "text": [
      "/opt/anaconda3/envs/clean_env/lib/python3.9/site-packages/google/cloud/bigquery/table.py:2309: UserWarning: Unable to represent RANGE schema as struct using pandas ArrowDtype. Using `object` instead. To use ArrowDtype, use pandas >= 1.5 and pyarrow >= 10.0.1.\n",
      "  warnings.warn(_RANGE_PYARROW_WARNING)\n",
      "/opt/anaconda3/envs/clean_env/lib/python3.9/site-packages/google/cloud/bigquery/table.py:2323: UserWarning: Unable to represent RANGE schema as struct using pandas ArrowDtype. Using `object` instead. To use ArrowDtype, use pandas >= 1.5 and pyarrow >= 10.0.1.\n",
      "  warnings.warn(_RANGE_PYARROW_WARNING)\n",
      "/opt/anaconda3/envs/clean_env/lib/python3.9/site-packages/google/cloud/bigquery/table.py:2337: UserWarning: Unable to represent RANGE schema as struct using pandas ArrowDtype. Using `object` instead. To use ArrowDtype, use pandas >= 1.5 and pyarrow >= 10.0.1.\n",
      "  warnings.warn(_RANGE_PYARROW_WARNING)\n"
     ]
    },
    {
     "name": "stdout",
     "output_type": "stream",
     "text": [
      "Processed data for 2023-02-13\n",
      "Fetching data for 2023-02-14\n"
     ]
    },
    {
     "name": "stderr",
     "output_type": "stream",
     "text": [
      "/opt/anaconda3/envs/clean_env/lib/python3.9/site-packages/google/cloud/bigquery/table.py:2309: UserWarning: Unable to represent RANGE schema as struct using pandas ArrowDtype. Using `object` instead. To use ArrowDtype, use pandas >= 1.5 and pyarrow >= 10.0.1.\n",
      "  warnings.warn(_RANGE_PYARROW_WARNING)\n",
      "/opt/anaconda3/envs/clean_env/lib/python3.9/site-packages/google/cloud/bigquery/table.py:2323: UserWarning: Unable to represent RANGE schema as struct using pandas ArrowDtype. Using `object` instead. To use ArrowDtype, use pandas >= 1.5 and pyarrow >= 10.0.1.\n",
      "  warnings.warn(_RANGE_PYARROW_WARNING)\n",
      "/opt/anaconda3/envs/clean_env/lib/python3.9/site-packages/google/cloud/bigquery/table.py:2337: UserWarning: Unable to represent RANGE schema as struct using pandas ArrowDtype. Using `object` instead. To use ArrowDtype, use pandas >= 1.5 and pyarrow >= 10.0.1.\n",
      "  warnings.warn(_RANGE_PYARROW_WARNING)\n"
     ]
    },
    {
     "name": "stdout",
     "output_type": "stream",
     "text": [
      "Processed data for 2023-02-14\n",
      "Fetching data for 2023-02-15\n"
     ]
    },
    {
     "name": "stderr",
     "output_type": "stream",
     "text": [
      "/opt/anaconda3/envs/clean_env/lib/python3.9/site-packages/google/cloud/bigquery/table.py:2309: UserWarning: Unable to represent RANGE schema as struct using pandas ArrowDtype. Using `object` instead. To use ArrowDtype, use pandas >= 1.5 and pyarrow >= 10.0.1.\n",
      "  warnings.warn(_RANGE_PYARROW_WARNING)\n",
      "/opt/anaconda3/envs/clean_env/lib/python3.9/site-packages/google/cloud/bigquery/table.py:2323: UserWarning: Unable to represent RANGE schema as struct using pandas ArrowDtype. Using `object` instead. To use ArrowDtype, use pandas >= 1.5 and pyarrow >= 10.0.1.\n",
      "  warnings.warn(_RANGE_PYARROW_WARNING)\n",
      "/opt/anaconda3/envs/clean_env/lib/python3.9/site-packages/google/cloud/bigquery/table.py:2337: UserWarning: Unable to represent RANGE schema as struct using pandas ArrowDtype. Using `object` instead. To use ArrowDtype, use pandas >= 1.5 and pyarrow >= 10.0.1.\n",
      "  warnings.warn(_RANGE_PYARROW_WARNING)\n"
     ]
    },
    {
     "name": "stdout",
     "output_type": "stream",
     "text": [
      "Processed data for 2023-02-15\n",
      "Fetching data for 2023-02-16\n"
     ]
    },
    {
     "name": "stderr",
     "output_type": "stream",
     "text": [
      "/opt/anaconda3/envs/clean_env/lib/python3.9/site-packages/google/cloud/bigquery/table.py:2309: UserWarning: Unable to represent RANGE schema as struct using pandas ArrowDtype. Using `object` instead. To use ArrowDtype, use pandas >= 1.5 and pyarrow >= 10.0.1.\n",
      "  warnings.warn(_RANGE_PYARROW_WARNING)\n",
      "/opt/anaconda3/envs/clean_env/lib/python3.9/site-packages/google/cloud/bigquery/table.py:2323: UserWarning: Unable to represent RANGE schema as struct using pandas ArrowDtype. Using `object` instead. To use ArrowDtype, use pandas >= 1.5 and pyarrow >= 10.0.1.\n",
      "  warnings.warn(_RANGE_PYARROW_WARNING)\n",
      "/opt/anaconda3/envs/clean_env/lib/python3.9/site-packages/google/cloud/bigquery/table.py:2337: UserWarning: Unable to represent RANGE schema as struct using pandas ArrowDtype. Using `object` instead. To use ArrowDtype, use pandas >= 1.5 and pyarrow >= 10.0.1.\n",
      "  warnings.warn(_RANGE_PYARROW_WARNING)\n"
     ]
    },
    {
     "name": "stdout",
     "output_type": "stream",
     "text": [
      "Processed data for 2023-02-16\n",
      "Fetching data for 2023-02-17\n"
     ]
    },
    {
     "name": "stderr",
     "output_type": "stream",
     "text": [
      "/opt/anaconda3/envs/clean_env/lib/python3.9/site-packages/google/cloud/bigquery/table.py:2309: UserWarning: Unable to represent RANGE schema as struct using pandas ArrowDtype. Using `object` instead. To use ArrowDtype, use pandas >= 1.5 and pyarrow >= 10.0.1.\n",
      "  warnings.warn(_RANGE_PYARROW_WARNING)\n",
      "/opt/anaconda3/envs/clean_env/lib/python3.9/site-packages/google/cloud/bigquery/table.py:2323: UserWarning: Unable to represent RANGE schema as struct using pandas ArrowDtype. Using `object` instead. To use ArrowDtype, use pandas >= 1.5 and pyarrow >= 10.0.1.\n",
      "  warnings.warn(_RANGE_PYARROW_WARNING)\n",
      "/opt/anaconda3/envs/clean_env/lib/python3.9/site-packages/google/cloud/bigquery/table.py:2337: UserWarning: Unable to represent RANGE schema as struct using pandas ArrowDtype. Using `object` instead. To use ArrowDtype, use pandas >= 1.5 and pyarrow >= 10.0.1.\n",
      "  warnings.warn(_RANGE_PYARROW_WARNING)\n"
     ]
    },
    {
     "name": "stdout",
     "output_type": "stream",
     "text": [
      "Processed data for 2023-02-17\n",
      "Fetching data for 2023-02-18\n"
     ]
    },
    {
     "name": "stderr",
     "output_type": "stream",
     "text": [
      "/opt/anaconda3/envs/clean_env/lib/python3.9/site-packages/google/cloud/bigquery/table.py:2309: UserWarning: Unable to represent RANGE schema as struct using pandas ArrowDtype. Using `object` instead. To use ArrowDtype, use pandas >= 1.5 and pyarrow >= 10.0.1.\n",
      "  warnings.warn(_RANGE_PYARROW_WARNING)\n",
      "/opt/anaconda3/envs/clean_env/lib/python3.9/site-packages/google/cloud/bigquery/table.py:2323: UserWarning: Unable to represent RANGE schema as struct using pandas ArrowDtype. Using `object` instead. To use ArrowDtype, use pandas >= 1.5 and pyarrow >= 10.0.1.\n",
      "  warnings.warn(_RANGE_PYARROW_WARNING)\n",
      "/opt/anaconda3/envs/clean_env/lib/python3.9/site-packages/google/cloud/bigquery/table.py:2337: UserWarning: Unable to represent RANGE schema as struct using pandas ArrowDtype. Using `object` instead. To use ArrowDtype, use pandas >= 1.5 and pyarrow >= 10.0.1.\n",
      "  warnings.warn(_RANGE_PYARROW_WARNING)\n"
     ]
    },
    {
     "name": "stdout",
     "output_type": "stream",
     "text": [
      "Processed data for 2023-02-18\n",
      "Fetching data for 2023-02-19\n"
     ]
    },
    {
     "name": "stderr",
     "output_type": "stream",
     "text": [
      "/opt/anaconda3/envs/clean_env/lib/python3.9/site-packages/google/cloud/bigquery/table.py:2309: UserWarning: Unable to represent RANGE schema as struct using pandas ArrowDtype. Using `object` instead. To use ArrowDtype, use pandas >= 1.5 and pyarrow >= 10.0.1.\n",
      "  warnings.warn(_RANGE_PYARROW_WARNING)\n",
      "/opt/anaconda3/envs/clean_env/lib/python3.9/site-packages/google/cloud/bigquery/table.py:2323: UserWarning: Unable to represent RANGE schema as struct using pandas ArrowDtype. Using `object` instead. To use ArrowDtype, use pandas >= 1.5 and pyarrow >= 10.0.1.\n",
      "  warnings.warn(_RANGE_PYARROW_WARNING)\n",
      "/opt/anaconda3/envs/clean_env/lib/python3.9/site-packages/google/cloud/bigquery/table.py:2337: UserWarning: Unable to represent RANGE schema as struct using pandas ArrowDtype. Using `object` instead. To use ArrowDtype, use pandas >= 1.5 and pyarrow >= 10.0.1.\n",
      "  warnings.warn(_RANGE_PYARROW_WARNING)\n"
     ]
    },
    {
     "name": "stdout",
     "output_type": "stream",
     "text": [
      "Processed data for 2023-02-19\n",
      "Fetching data for 2023-02-20\n"
     ]
    },
    {
     "name": "stderr",
     "output_type": "stream",
     "text": [
      "/opt/anaconda3/envs/clean_env/lib/python3.9/site-packages/google/cloud/bigquery/table.py:2309: UserWarning: Unable to represent RANGE schema as struct using pandas ArrowDtype. Using `object` instead. To use ArrowDtype, use pandas >= 1.5 and pyarrow >= 10.0.1.\n",
      "  warnings.warn(_RANGE_PYARROW_WARNING)\n",
      "/opt/anaconda3/envs/clean_env/lib/python3.9/site-packages/google/cloud/bigquery/table.py:2323: UserWarning: Unable to represent RANGE schema as struct using pandas ArrowDtype. Using `object` instead. To use ArrowDtype, use pandas >= 1.5 and pyarrow >= 10.0.1.\n",
      "  warnings.warn(_RANGE_PYARROW_WARNING)\n",
      "/opt/anaconda3/envs/clean_env/lib/python3.9/site-packages/google/cloud/bigquery/table.py:2337: UserWarning: Unable to represent RANGE schema as struct using pandas ArrowDtype. Using `object` instead. To use ArrowDtype, use pandas >= 1.5 and pyarrow >= 10.0.1.\n",
      "  warnings.warn(_RANGE_PYARROW_WARNING)\n"
     ]
    },
    {
     "name": "stdout",
     "output_type": "stream",
     "text": [
      "Processed data for 2023-02-20\n",
      "Fetching data for 2023-02-21\n"
     ]
    },
    {
     "name": "stderr",
     "output_type": "stream",
     "text": [
      "/opt/anaconda3/envs/clean_env/lib/python3.9/site-packages/google/cloud/bigquery/table.py:2309: UserWarning: Unable to represent RANGE schema as struct using pandas ArrowDtype. Using `object` instead. To use ArrowDtype, use pandas >= 1.5 and pyarrow >= 10.0.1.\n",
      "  warnings.warn(_RANGE_PYARROW_WARNING)\n",
      "/opt/anaconda3/envs/clean_env/lib/python3.9/site-packages/google/cloud/bigquery/table.py:2323: UserWarning: Unable to represent RANGE schema as struct using pandas ArrowDtype. Using `object` instead. To use ArrowDtype, use pandas >= 1.5 and pyarrow >= 10.0.1.\n",
      "  warnings.warn(_RANGE_PYARROW_WARNING)\n",
      "/opt/anaconda3/envs/clean_env/lib/python3.9/site-packages/google/cloud/bigquery/table.py:2337: UserWarning: Unable to represent RANGE schema as struct using pandas ArrowDtype. Using `object` instead. To use ArrowDtype, use pandas >= 1.5 and pyarrow >= 10.0.1.\n",
      "  warnings.warn(_RANGE_PYARROW_WARNING)\n"
     ]
    },
    {
     "name": "stdout",
     "output_type": "stream",
     "text": [
      "Processed data for 2023-02-21\n",
      "Fetching data for 2023-02-22\n"
     ]
    },
    {
     "name": "stderr",
     "output_type": "stream",
     "text": [
      "/opt/anaconda3/envs/clean_env/lib/python3.9/site-packages/google/cloud/bigquery/table.py:2309: UserWarning: Unable to represent RANGE schema as struct using pandas ArrowDtype. Using `object` instead. To use ArrowDtype, use pandas >= 1.5 and pyarrow >= 10.0.1.\n",
      "  warnings.warn(_RANGE_PYARROW_WARNING)\n",
      "/opt/anaconda3/envs/clean_env/lib/python3.9/site-packages/google/cloud/bigquery/table.py:2323: UserWarning: Unable to represent RANGE schema as struct using pandas ArrowDtype. Using `object` instead. To use ArrowDtype, use pandas >= 1.5 and pyarrow >= 10.0.1.\n",
      "  warnings.warn(_RANGE_PYARROW_WARNING)\n",
      "/opt/anaconda3/envs/clean_env/lib/python3.9/site-packages/google/cloud/bigquery/table.py:2337: UserWarning: Unable to represent RANGE schema as struct using pandas ArrowDtype. Using `object` instead. To use ArrowDtype, use pandas >= 1.5 and pyarrow >= 10.0.1.\n",
      "  warnings.warn(_RANGE_PYARROW_WARNING)\n"
     ]
    },
    {
     "name": "stdout",
     "output_type": "stream",
     "text": [
      "Processed data for 2023-02-22\n",
      "Fetching data for 2023-02-23\n"
     ]
    },
    {
     "name": "stderr",
     "output_type": "stream",
     "text": [
      "/opt/anaconda3/envs/clean_env/lib/python3.9/site-packages/google/cloud/bigquery/table.py:2309: UserWarning: Unable to represent RANGE schema as struct using pandas ArrowDtype. Using `object` instead. To use ArrowDtype, use pandas >= 1.5 and pyarrow >= 10.0.1.\n",
      "  warnings.warn(_RANGE_PYARROW_WARNING)\n",
      "/opt/anaconda3/envs/clean_env/lib/python3.9/site-packages/google/cloud/bigquery/table.py:2323: UserWarning: Unable to represent RANGE schema as struct using pandas ArrowDtype. Using `object` instead. To use ArrowDtype, use pandas >= 1.5 and pyarrow >= 10.0.1.\n",
      "  warnings.warn(_RANGE_PYARROW_WARNING)\n",
      "/opt/anaconda3/envs/clean_env/lib/python3.9/site-packages/google/cloud/bigquery/table.py:2337: UserWarning: Unable to represent RANGE schema as struct using pandas ArrowDtype. Using `object` instead. To use ArrowDtype, use pandas >= 1.5 and pyarrow >= 10.0.1.\n",
      "  warnings.warn(_RANGE_PYARROW_WARNING)\n"
     ]
    },
    {
     "name": "stdout",
     "output_type": "stream",
     "text": [
      "Processed data for 2023-02-23\n",
      "Fetching data for 2023-02-24\n"
     ]
    },
    {
     "name": "stderr",
     "output_type": "stream",
     "text": [
      "/opt/anaconda3/envs/clean_env/lib/python3.9/site-packages/google/cloud/bigquery/table.py:2309: UserWarning: Unable to represent RANGE schema as struct using pandas ArrowDtype. Using `object` instead. To use ArrowDtype, use pandas >= 1.5 and pyarrow >= 10.0.1.\n",
      "  warnings.warn(_RANGE_PYARROW_WARNING)\n",
      "/opt/anaconda3/envs/clean_env/lib/python3.9/site-packages/google/cloud/bigquery/table.py:2323: UserWarning: Unable to represent RANGE schema as struct using pandas ArrowDtype. Using `object` instead. To use ArrowDtype, use pandas >= 1.5 and pyarrow >= 10.0.1.\n",
      "  warnings.warn(_RANGE_PYARROW_WARNING)\n",
      "/opt/anaconda3/envs/clean_env/lib/python3.9/site-packages/google/cloud/bigquery/table.py:2337: UserWarning: Unable to represent RANGE schema as struct using pandas ArrowDtype. Using `object` instead. To use ArrowDtype, use pandas >= 1.5 and pyarrow >= 10.0.1.\n",
      "  warnings.warn(_RANGE_PYARROW_WARNING)\n"
     ]
    },
    {
     "name": "stdout",
     "output_type": "stream",
     "text": [
      "Processed data for 2023-02-24\n",
      "Fetching data for 2023-02-25\n"
     ]
    },
    {
     "name": "stderr",
     "output_type": "stream",
     "text": [
      "/opt/anaconda3/envs/clean_env/lib/python3.9/site-packages/google/cloud/bigquery/table.py:2309: UserWarning: Unable to represent RANGE schema as struct using pandas ArrowDtype. Using `object` instead. To use ArrowDtype, use pandas >= 1.5 and pyarrow >= 10.0.1.\n",
      "  warnings.warn(_RANGE_PYARROW_WARNING)\n",
      "/opt/anaconda3/envs/clean_env/lib/python3.9/site-packages/google/cloud/bigquery/table.py:2323: UserWarning: Unable to represent RANGE schema as struct using pandas ArrowDtype. Using `object` instead. To use ArrowDtype, use pandas >= 1.5 and pyarrow >= 10.0.1.\n",
      "  warnings.warn(_RANGE_PYARROW_WARNING)\n",
      "/opt/anaconda3/envs/clean_env/lib/python3.9/site-packages/google/cloud/bigquery/table.py:2337: UserWarning: Unable to represent RANGE schema as struct using pandas ArrowDtype. Using `object` instead. To use ArrowDtype, use pandas >= 1.5 and pyarrow >= 10.0.1.\n",
      "  warnings.warn(_RANGE_PYARROW_WARNING)\n"
     ]
    },
    {
     "name": "stdout",
     "output_type": "stream",
     "text": [
      "Processed data for 2023-02-25\n",
      "Fetching data for 2023-02-26\n"
     ]
    },
    {
     "name": "stderr",
     "output_type": "stream",
     "text": [
      "/opt/anaconda3/envs/clean_env/lib/python3.9/site-packages/google/cloud/bigquery/table.py:2309: UserWarning: Unable to represent RANGE schema as struct using pandas ArrowDtype. Using `object` instead. To use ArrowDtype, use pandas >= 1.5 and pyarrow >= 10.0.1.\n",
      "  warnings.warn(_RANGE_PYARROW_WARNING)\n",
      "/opt/anaconda3/envs/clean_env/lib/python3.9/site-packages/google/cloud/bigquery/table.py:2323: UserWarning: Unable to represent RANGE schema as struct using pandas ArrowDtype. Using `object` instead. To use ArrowDtype, use pandas >= 1.5 and pyarrow >= 10.0.1.\n",
      "  warnings.warn(_RANGE_PYARROW_WARNING)\n",
      "/opt/anaconda3/envs/clean_env/lib/python3.9/site-packages/google/cloud/bigquery/table.py:2337: UserWarning: Unable to represent RANGE schema as struct using pandas ArrowDtype. Using `object` instead. To use ArrowDtype, use pandas >= 1.5 and pyarrow >= 10.0.1.\n",
      "  warnings.warn(_RANGE_PYARROW_WARNING)\n"
     ]
    },
    {
     "name": "stdout",
     "output_type": "stream",
     "text": [
      "Processed data for 2023-02-26\n",
      "Fetching data for 2023-02-27\n"
     ]
    },
    {
     "name": "stderr",
     "output_type": "stream",
     "text": [
      "/opt/anaconda3/envs/clean_env/lib/python3.9/site-packages/google/cloud/bigquery/table.py:2309: UserWarning: Unable to represent RANGE schema as struct using pandas ArrowDtype. Using `object` instead. To use ArrowDtype, use pandas >= 1.5 and pyarrow >= 10.0.1.\n",
      "  warnings.warn(_RANGE_PYARROW_WARNING)\n",
      "/opt/anaconda3/envs/clean_env/lib/python3.9/site-packages/google/cloud/bigquery/table.py:2323: UserWarning: Unable to represent RANGE schema as struct using pandas ArrowDtype. Using `object` instead. To use ArrowDtype, use pandas >= 1.5 and pyarrow >= 10.0.1.\n",
      "  warnings.warn(_RANGE_PYARROW_WARNING)\n",
      "/opt/anaconda3/envs/clean_env/lib/python3.9/site-packages/google/cloud/bigquery/table.py:2337: UserWarning: Unable to represent RANGE schema as struct using pandas ArrowDtype. Using `object` instead. To use ArrowDtype, use pandas >= 1.5 and pyarrow >= 10.0.1.\n",
      "  warnings.warn(_RANGE_PYARROW_WARNING)\n"
     ]
    },
    {
     "name": "stdout",
     "output_type": "stream",
     "text": [
      "Processed data for 2023-02-27\n",
      "Fetching data for 2023-02-28\n"
     ]
    },
    {
     "name": "stderr",
     "output_type": "stream",
     "text": [
      "/opt/anaconda3/envs/clean_env/lib/python3.9/site-packages/google/cloud/bigquery/table.py:2309: UserWarning: Unable to represent RANGE schema as struct using pandas ArrowDtype. Using `object` instead. To use ArrowDtype, use pandas >= 1.5 and pyarrow >= 10.0.1.\n",
      "  warnings.warn(_RANGE_PYARROW_WARNING)\n",
      "/opt/anaconda3/envs/clean_env/lib/python3.9/site-packages/google/cloud/bigquery/table.py:2323: UserWarning: Unable to represent RANGE schema as struct using pandas ArrowDtype. Using `object` instead. To use ArrowDtype, use pandas >= 1.5 and pyarrow >= 10.0.1.\n",
      "  warnings.warn(_RANGE_PYARROW_WARNING)\n",
      "/opt/anaconda3/envs/clean_env/lib/python3.9/site-packages/google/cloud/bigquery/table.py:2337: UserWarning: Unable to represent RANGE schema as struct using pandas ArrowDtype. Using `object` instead. To use ArrowDtype, use pandas >= 1.5 and pyarrow >= 10.0.1.\n",
      "  warnings.warn(_RANGE_PYARROW_WARNING)\n"
     ]
    },
    {
     "name": "stdout",
     "output_type": "stream",
     "text": [
      "Processed data for 2023-02-28\n",
      "Fetching data for 2023-03-01\n"
     ]
    },
    {
     "name": "stderr",
     "output_type": "stream",
     "text": [
      "/opt/anaconda3/envs/clean_env/lib/python3.9/site-packages/google/cloud/bigquery/table.py:2309: UserWarning: Unable to represent RANGE schema as struct using pandas ArrowDtype. Using `object` instead. To use ArrowDtype, use pandas >= 1.5 and pyarrow >= 10.0.1.\n",
      "  warnings.warn(_RANGE_PYARROW_WARNING)\n",
      "/opt/anaconda3/envs/clean_env/lib/python3.9/site-packages/google/cloud/bigquery/table.py:2323: UserWarning: Unable to represent RANGE schema as struct using pandas ArrowDtype. Using `object` instead. To use ArrowDtype, use pandas >= 1.5 and pyarrow >= 10.0.1.\n",
      "  warnings.warn(_RANGE_PYARROW_WARNING)\n",
      "/opt/anaconda3/envs/clean_env/lib/python3.9/site-packages/google/cloud/bigquery/table.py:2337: UserWarning: Unable to represent RANGE schema as struct using pandas ArrowDtype. Using `object` instead. To use ArrowDtype, use pandas >= 1.5 and pyarrow >= 10.0.1.\n",
      "  warnings.warn(_RANGE_PYARROW_WARNING)\n"
     ]
    },
    {
     "name": "stdout",
     "output_type": "stream",
     "text": [
      "Processed data for 2023-03-01\n",
      "Fetching data for 2023-03-02\n"
     ]
    },
    {
     "name": "stderr",
     "output_type": "stream",
     "text": [
      "/opt/anaconda3/envs/clean_env/lib/python3.9/site-packages/google/cloud/bigquery/table.py:2309: UserWarning: Unable to represent RANGE schema as struct using pandas ArrowDtype. Using `object` instead. To use ArrowDtype, use pandas >= 1.5 and pyarrow >= 10.0.1.\n",
      "  warnings.warn(_RANGE_PYARROW_WARNING)\n",
      "/opt/anaconda3/envs/clean_env/lib/python3.9/site-packages/google/cloud/bigquery/table.py:2323: UserWarning: Unable to represent RANGE schema as struct using pandas ArrowDtype. Using `object` instead. To use ArrowDtype, use pandas >= 1.5 and pyarrow >= 10.0.1.\n",
      "  warnings.warn(_RANGE_PYARROW_WARNING)\n",
      "/opt/anaconda3/envs/clean_env/lib/python3.9/site-packages/google/cloud/bigquery/table.py:2337: UserWarning: Unable to represent RANGE schema as struct using pandas ArrowDtype. Using `object` instead. To use ArrowDtype, use pandas >= 1.5 and pyarrow >= 10.0.1.\n",
      "  warnings.warn(_RANGE_PYARROW_WARNING)\n"
     ]
    },
    {
     "name": "stdout",
     "output_type": "stream",
     "text": [
      "Processed data for 2023-03-02\n",
      "Fetching data for 2023-03-03\n"
     ]
    },
    {
     "name": "stderr",
     "output_type": "stream",
     "text": [
      "/opt/anaconda3/envs/clean_env/lib/python3.9/site-packages/google/cloud/bigquery/table.py:2309: UserWarning: Unable to represent RANGE schema as struct using pandas ArrowDtype. Using `object` instead. To use ArrowDtype, use pandas >= 1.5 and pyarrow >= 10.0.1.\n",
      "  warnings.warn(_RANGE_PYARROW_WARNING)\n",
      "/opt/anaconda3/envs/clean_env/lib/python3.9/site-packages/google/cloud/bigquery/table.py:2323: UserWarning: Unable to represent RANGE schema as struct using pandas ArrowDtype. Using `object` instead. To use ArrowDtype, use pandas >= 1.5 and pyarrow >= 10.0.1.\n",
      "  warnings.warn(_RANGE_PYARROW_WARNING)\n",
      "/opt/anaconda3/envs/clean_env/lib/python3.9/site-packages/google/cloud/bigquery/table.py:2337: UserWarning: Unable to represent RANGE schema as struct using pandas ArrowDtype. Using `object` instead. To use ArrowDtype, use pandas >= 1.5 and pyarrow >= 10.0.1.\n",
      "  warnings.warn(_RANGE_PYARROW_WARNING)\n"
     ]
    },
    {
     "name": "stdout",
     "output_type": "stream",
     "text": [
      "Processed data for 2023-03-03\n",
      "Fetching data for 2023-03-04\n"
     ]
    },
    {
     "name": "stderr",
     "output_type": "stream",
     "text": [
      "/opt/anaconda3/envs/clean_env/lib/python3.9/site-packages/google/cloud/bigquery/table.py:2309: UserWarning: Unable to represent RANGE schema as struct using pandas ArrowDtype. Using `object` instead. To use ArrowDtype, use pandas >= 1.5 and pyarrow >= 10.0.1.\n",
      "  warnings.warn(_RANGE_PYARROW_WARNING)\n",
      "/opt/anaconda3/envs/clean_env/lib/python3.9/site-packages/google/cloud/bigquery/table.py:2323: UserWarning: Unable to represent RANGE schema as struct using pandas ArrowDtype. Using `object` instead. To use ArrowDtype, use pandas >= 1.5 and pyarrow >= 10.0.1.\n",
      "  warnings.warn(_RANGE_PYARROW_WARNING)\n",
      "/opt/anaconda3/envs/clean_env/lib/python3.9/site-packages/google/cloud/bigquery/table.py:2337: UserWarning: Unable to represent RANGE schema as struct using pandas ArrowDtype. Using `object` instead. To use ArrowDtype, use pandas >= 1.5 and pyarrow >= 10.0.1.\n",
      "  warnings.warn(_RANGE_PYARROW_WARNING)\n"
     ]
    },
    {
     "name": "stdout",
     "output_type": "stream",
     "text": [
      "Processed data for 2023-03-04\n",
      "Fetching data for 2023-03-05\n"
     ]
    },
    {
     "name": "stderr",
     "output_type": "stream",
     "text": [
      "/opt/anaconda3/envs/clean_env/lib/python3.9/site-packages/google/cloud/bigquery/table.py:2309: UserWarning: Unable to represent RANGE schema as struct using pandas ArrowDtype. Using `object` instead. To use ArrowDtype, use pandas >= 1.5 and pyarrow >= 10.0.1.\n",
      "  warnings.warn(_RANGE_PYARROW_WARNING)\n",
      "/opt/anaconda3/envs/clean_env/lib/python3.9/site-packages/google/cloud/bigquery/table.py:2323: UserWarning: Unable to represent RANGE schema as struct using pandas ArrowDtype. Using `object` instead. To use ArrowDtype, use pandas >= 1.5 and pyarrow >= 10.0.1.\n",
      "  warnings.warn(_RANGE_PYARROW_WARNING)\n",
      "/opt/anaconda3/envs/clean_env/lib/python3.9/site-packages/google/cloud/bigquery/table.py:2337: UserWarning: Unable to represent RANGE schema as struct using pandas ArrowDtype. Using `object` instead. To use ArrowDtype, use pandas >= 1.5 and pyarrow >= 10.0.1.\n",
      "  warnings.warn(_RANGE_PYARROW_WARNING)\n"
     ]
    },
    {
     "name": "stdout",
     "output_type": "stream",
     "text": [
      "Processed data for 2023-03-05\n",
      "Fetching data for 2023-03-06\n"
     ]
    },
    {
     "name": "stderr",
     "output_type": "stream",
     "text": [
      "/opt/anaconda3/envs/clean_env/lib/python3.9/site-packages/google/cloud/bigquery/table.py:2309: UserWarning: Unable to represent RANGE schema as struct using pandas ArrowDtype. Using `object` instead. To use ArrowDtype, use pandas >= 1.5 and pyarrow >= 10.0.1.\n",
      "  warnings.warn(_RANGE_PYARROW_WARNING)\n",
      "/opt/anaconda3/envs/clean_env/lib/python3.9/site-packages/google/cloud/bigquery/table.py:2323: UserWarning: Unable to represent RANGE schema as struct using pandas ArrowDtype. Using `object` instead. To use ArrowDtype, use pandas >= 1.5 and pyarrow >= 10.0.1.\n",
      "  warnings.warn(_RANGE_PYARROW_WARNING)\n",
      "/opt/anaconda3/envs/clean_env/lib/python3.9/site-packages/google/cloud/bigquery/table.py:2337: UserWarning: Unable to represent RANGE schema as struct using pandas ArrowDtype. Using `object` instead. To use ArrowDtype, use pandas >= 1.5 and pyarrow >= 10.0.1.\n",
      "  warnings.warn(_RANGE_PYARROW_WARNING)\n"
     ]
    },
    {
     "name": "stdout",
     "output_type": "stream",
     "text": [
      "Processed data for 2023-03-06\n",
      "Fetching data for 2023-03-07\n"
     ]
    },
    {
     "name": "stderr",
     "output_type": "stream",
     "text": [
      "/opt/anaconda3/envs/clean_env/lib/python3.9/site-packages/google/cloud/bigquery/table.py:2309: UserWarning: Unable to represent RANGE schema as struct using pandas ArrowDtype. Using `object` instead. To use ArrowDtype, use pandas >= 1.5 and pyarrow >= 10.0.1.\n",
      "  warnings.warn(_RANGE_PYARROW_WARNING)\n",
      "/opt/anaconda3/envs/clean_env/lib/python3.9/site-packages/google/cloud/bigquery/table.py:2323: UserWarning: Unable to represent RANGE schema as struct using pandas ArrowDtype. Using `object` instead. To use ArrowDtype, use pandas >= 1.5 and pyarrow >= 10.0.1.\n",
      "  warnings.warn(_RANGE_PYARROW_WARNING)\n",
      "/opt/anaconda3/envs/clean_env/lib/python3.9/site-packages/google/cloud/bigquery/table.py:2337: UserWarning: Unable to represent RANGE schema as struct using pandas ArrowDtype. Using `object` instead. To use ArrowDtype, use pandas >= 1.5 and pyarrow >= 10.0.1.\n",
      "  warnings.warn(_RANGE_PYARROW_WARNING)\n"
     ]
    },
    {
     "name": "stdout",
     "output_type": "stream",
     "text": [
      "Processed data for 2023-03-07\n",
      "Fetching data for 2023-03-08\n"
     ]
    },
    {
     "name": "stderr",
     "output_type": "stream",
     "text": [
      "/opt/anaconda3/envs/clean_env/lib/python3.9/site-packages/google/cloud/bigquery/table.py:2309: UserWarning: Unable to represent RANGE schema as struct using pandas ArrowDtype. Using `object` instead. To use ArrowDtype, use pandas >= 1.5 and pyarrow >= 10.0.1.\n",
      "  warnings.warn(_RANGE_PYARROW_WARNING)\n",
      "/opt/anaconda3/envs/clean_env/lib/python3.9/site-packages/google/cloud/bigquery/table.py:2323: UserWarning: Unable to represent RANGE schema as struct using pandas ArrowDtype. Using `object` instead. To use ArrowDtype, use pandas >= 1.5 and pyarrow >= 10.0.1.\n",
      "  warnings.warn(_RANGE_PYARROW_WARNING)\n",
      "/opt/anaconda3/envs/clean_env/lib/python3.9/site-packages/google/cloud/bigquery/table.py:2337: UserWarning: Unable to represent RANGE schema as struct using pandas ArrowDtype. Using `object` instead. To use ArrowDtype, use pandas >= 1.5 and pyarrow >= 10.0.1.\n",
      "  warnings.warn(_RANGE_PYARROW_WARNING)\n"
     ]
    },
    {
     "name": "stdout",
     "output_type": "stream",
     "text": [
      "Processed data for 2023-03-08\n",
      "Fetching data for 2023-03-09\n"
     ]
    },
    {
     "name": "stderr",
     "output_type": "stream",
     "text": [
      "/opt/anaconda3/envs/clean_env/lib/python3.9/site-packages/google/cloud/bigquery/table.py:2309: UserWarning: Unable to represent RANGE schema as struct using pandas ArrowDtype. Using `object` instead. To use ArrowDtype, use pandas >= 1.5 and pyarrow >= 10.0.1.\n",
      "  warnings.warn(_RANGE_PYARROW_WARNING)\n",
      "/opt/anaconda3/envs/clean_env/lib/python3.9/site-packages/google/cloud/bigquery/table.py:2323: UserWarning: Unable to represent RANGE schema as struct using pandas ArrowDtype. Using `object` instead. To use ArrowDtype, use pandas >= 1.5 and pyarrow >= 10.0.1.\n",
      "  warnings.warn(_RANGE_PYARROW_WARNING)\n",
      "/opt/anaconda3/envs/clean_env/lib/python3.9/site-packages/google/cloud/bigquery/table.py:2337: UserWarning: Unable to represent RANGE schema as struct using pandas ArrowDtype. Using `object` instead. To use ArrowDtype, use pandas >= 1.5 and pyarrow >= 10.0.1.\n",
      "  warnings.warn(_RANGE_PYARROW_WARNING)\n"
     ]
    },
    {
     "name": "stdout",
     "output_type": "stream",
     "text": [
      "Processed data for 2023-03-09\n",
      "Fetching data for 2023-03-10\n"
     ]
    },
    {
     "name": "stderr",
     "output_type": "stream",
     "text": [
      "/opt/anaconda3/envs/clean_env/lib/python3.9/site-packages/google/cloud/bigquery/table.py:2309: UserWarning: Unable to represent RANGE schema as struct using pandas ArrowDtype. Using `object` instead. To use ArrowDtype, use pandas >= 1.5 and pyarrow >= 10.0.1.\n",
      "  warnings.warn(_RANGE_PYARROW_WARNING)\n",
      "/opt/anaconda3/envs/clean_env/lib/python3.9/site-packages/google/cloud/bigquery/table.py:2323: UserWarning: Unable to represent RANGE schema as struct using pandas ArrowDtype. Using `object` instead. To use ArrowDtype, use pandas >= 1.5 and pyarrow >= 10.0.1.\n",
      "  warnings.warn(_RANGE_PYARROW_WARNING)\n",
      "/opt/anaconda3/envs/clean_env/lib/python3.9/site-packages/google/cloud/bigquery/table.py:2337: UserWarning: Unable to represent RANGE schema as struct using pandas ArrowDtype. Using `object` instead. To use ArrowDtype, use pandas >= 1.5 and pyarrow >= 10.0.1.\n",
      "  warnings.warn(_RANGE_PYARROW_WARNING)\n"
     ]
    },
    {
     "name": "stdout",
     "output_type": "stream",
     "text": [
      "Processed data for 2023-03-10\n",
      "Fetching data for 2023-03-11\n"
     ]
    },
    {
     "name": "stderr",
     "output_type": "stream",
     "text": [
      "/opt/anaconda3/envs/clean_env/lib/python3.9/site-packages/google/cloud/bigquery/table.py:2309: UserWarning: Unable to represent RANGE schema as struct using pandas ArrowDtype. Using `object` instead. To use ArrowDtype, use pandas >= 1.5 and pyarrow >= 10.0.1.\n",
      "  warnings.warn(_RANGE_PYARROW_WARNING)\n",
      "/opt/anaconda3/envs/clean_env/lib/python3.9/site-packages/google/cloud/bigquery/table.py:2323: UserWarning: Unable to represent RANGE schema as struct using pandas ArrowDtype. Using `object` instead. To use ArrowDtype, use pandas >= 1.5 and pyarrow >= 10.0.1.\n",
      "  warnings.warn(_RANGE_PYARROW_WARNING)\n",
      "/opt/anaconda3/envs/clean_env/lib/python3.9/site-packages/google/cloud/bigquery/table.py:2337: UserWarning: Unable to represent RANGE schema as struct using pandas ArrowDtype. Using `object` instead. To use ArrowDtype, use pandas >= 1.5 and pyarrow >= 10.0.1.\n",
      "  warnings.warn(_RANGE_PYARROW_WARNING)\n"
     ]
    },
    {
     "name": "stdout",
     "output_type": "stream",
     "text": [
      "Processed data for 2023-03-11\n",
      "Fetching data for 2023-03-12\n"
     ]
    },
    {
     "name": "stderr",
     "output_type": "stream",
     "text": [
      "/opt/anaconda3/envs/clean_env/lib/python3.9/site-packages/google/cloud/bigquery/table.py:2309: UserWarning: Unable to represent RANGE schema as struct using pandas ArrowDtype. Using `object` instead. To use ArrowDtype, use pandas >= 1.5 and pyarrow >= 10.0.1.\n",
      "  warnings.warn(_RANGE_PYARROW_WARNING)\n",
      "/opt/anaconda3/envs/clean_env/lib/python3.9/site-packages/google/cloud/bigquery/table.py:2323: UserWarning: Unable to represent RANGE schema as struct using pandas ArrowDtype. Using `object` instead. To use ArrowDtype, use pandas >= 1.5 and pyarrow >= 10.0.1.\n",
      "  warnings.warn(_RANGE_PYARROW_WARNING)\n",
      "/opt/anaconda3/envs/clean_env/lib/python3.9/site-packages/google/cloud/bigquery/table.py:2337: UserWarning: Unable to represent RANGE schema as struct using pandas ArrowDtype. Using `object` instead. To use ArrowDtype, use pandas >= 1.5 and pyarrow >= 10.0.1.\n",
      "  warnings.warn(_RANGE_PYARROW_WARNING)\n"
     ]
    },
    {
     "name": "stdout",
     "output_type": "stream",
     "text": [
      "Processed data for 2023-03-12\n",
      "Fetching data for 2023-03-13\n"
     ]
    },
    {
     "name": "stderr",
     "output_type": "stream",
     "text": [
      "/opt/anaconda3/envs/clean_env/lib/python3.9/site-packages/google/cloud/bigquery/table.py:2309: UserWarning: Unable to represent RANGE schema as struct using pandas ArrowDtype. Using `object` instead. To use ArrowDtype, use pandas >= 1.5 and pyarrow >= 10.0.1.\n",
      "  warnings.warn(_RANGE_PYARROW_WARNING)\n",
      "/opt/anaconda3/envs/clean_env/lib/python3.9/site-packages/google/cloud/bigquery/table.py:2323: UserWarning: Unable to represent RANGE schema as struct using pandas ArrowDtype. Using `object` instead. To use ArrowDtype, use pandas >= 1.5 and pyarrow >= 10.0.1.\n",
      "  warnings.warn(_RANGE_PYARROW_WARNING)\n",
      "/opt/anaconda3/envs/clean_env/lib/python3.9/site-packages/google/cloud/bigquery/table.py:2337: UserWarning: Unable to represent RANGE schema as struct using pandas ArrowDtype. Using `object` instead. To use ArrowDtype, use pandas >= 1.5 and pyarrow >= 10.0.1.\n",
      "  warnings.warn(_RANGE_PYARROW_WARNING)\n"
     ]
    },
    {
     "name": "stdout",
     "output_type": "stream",
     "text": [
      "Processed data for 2023-03-13\n",
      "Fetching data for 2023-03-14\n"
     ]
    },
    {
     "name": "stderr",
     "output_type": "stream",
     "text": [
      "/opt/anaconda3/envs/clean_env/lib/python3.9/site-packages/google/cloud/bigquery/table.py:2309: UserWarning: Unable to represent RANGE schema as struct using pandas ArrowDtype. Using `object` instead. To use ArrowDtype, use pandas >= 1.5 and pyarrow >= 10.0.1.\n",
      "  warnings.warn(_RANGE_PYARROW_WARNING)\n",
      "/opt/anaconda3/envs/clean_env/lib/python3.9/site-packages/google/cloud/bigquery/table.py:2323: UserWarning: Unable to represent RANGE schema as struct using pandas ArrowDtype. Using `object` instead. To use ArrowDtype, use pandas >= 1.5 and pyarrow >= 10.0.1.\n",
      "  warnings.warn(_RANGE_PYARROW_WARNING)\n",
      "/opt/anaconda3/envs/clean_env/lib/python3.9/site-packages/google/cloud/bigquery/table.py:2337: UserWarning: Unable to represent RANGE schema as struct using pandas ArrowDtype. Using `object` instead. To use ArrowDtype, use pandas >= 1.5 and pyarrow >= 10.0.1.\n",
      "  warnings.warn(_RANGE_PYARROW_WARNING)\n"
     ]
    },
    {
     "name": "stdout",
     "output_type": "stream",
     "text": [
      "Processed data for 2023-03-14\n",
      "Fetching data for 2023-03-15\n"
     ]
    },
    {
     "name": "stderr",
     "output_type": "stream",
     "text": [
      "/opt/anaconda3/envs/clean_env/lib/python3.9/site-packages/google/cloud/bigquery/table.py:2309: UserWarning: Unable to represent RANGE schema as struct using pandas ArrowDtype. Using `object` instead. To use ArrowDtype, use pandas >= 1.5 and pyarrow >= 10.0.1.\n",
      "  warnings.warn(_RANGE_PYARROW_WARNING)\n",
      "/opt/anaconda3/envs/clean_env/lib/python3.9/site-packages/google/cloud/bigquery/table.py:2323: UserWarning: Unable to represent RANGE schema as struct using pandas ArrowDtype. Using `object` instead. To use ArrowDtype, use pandas >= 1.5 and pyarrow >= 10.0.1.\n",
      "  warnings.warn(_RANGE_PYARROW_WARNING)\n",
      "/opt/anaconda3/envs/clean_env/lib/python3.9/site-packages/google/cloud/bigquery/table.py:2337: UserWarning: Unable to represent RANGE schema as struct using pandas ArrowDtype. Using `object` instead. To use ArrowDtype, use pandas >= 1.5 and pyarrow >= 10.0.1.\n",
      "  warnings.warn(_RANGE_PYARROW_WARNING)\n"
     ]
    },
    {
     "name": "stdout",
     "output_type": "stream",
     "text": [
      "Processed data for 2023-03-15\n",
      "Fetching data for 2023-03-16\n"
     ]
    },
    {
     "name": "stderr",
     "output_type": "stream",
     "text": [
      "/opt/anaconda3/envs/clean_env/lib/python3.9/site-packages/google/cloud/bigquery/table.py:2309: UserWarning: Unable to represent RANGE schema as struct using pandas ArrowDtype. Using `object` instead. To use ArrowDtype, use pandas >= 1.5 and pyarrow >= 10.0.1.\n",
      "  warnings.warn(_RANGE_PYARROW_WARNING)\n",
      "/opt/anaconda3/envs/clean_env/lib/python3.9/site-packages/google/cloud/bigquery/table.py:2323: UserWarning: Unable to represent RANGE schema as struct using pandas ArrowDtype. Using `object` instead. To use ArrowDtype, use pandas >= 1.5 and pyarrow >= 10.0.1.\n",
      "  warnings.warn(_RANGE_PYARROW_WARNING)\n",
      "/opt/anaconda3/envs/clean_env/lib/python3.9/site-packages/google/cloud/bigquery/table.py:2337: UserWarning: Unable to represent RANGE schema as struct using pandas ArrowDtype. Using `object` instead. To use ArrowDtype, use pandas >= 1.5 and pyarrow >= 10.0.1.\n",
      "  warnings.warn(_RANGE_PYARROW_WARNING)\n"
     ]
    },
    {
     "name": "stdout",
     "output_type": "stream",
     "text": [
      "Processed data for 2023-03-16\n",
      "Fetching data for 2023-03-17\n"
     ]
    },
    {
     "name": "stderr",
     "output_type": "stream",
     "text": [
      "/opt/anaconda3/envs/clean_env/lib/python3.9/site-packages/google/cloud/bigquery/table.py:2309: UserWarning: Unable to represent RANGE schema as struct using pandas ArrowDtype. Using `object` instead. To use ArrowDtype, use pandas >= 1.5 and pyarrow >= 10.0.1.\n",
      "  warnings.warn(_RANGE_PYARROW_WARNING)\n",
      "/opt/anaconda3/envs/clean_env/lib/python3.9/site-packages/google/cloud/bigquery/table.py:2323: UserWarning: Unable to represent RANGE schema as struct using pandas ArrowDtype. Using `object` instead. To use ArrowDtype, use pandas >= 1.5 and pyarrow >= 10.0.1.\n",
      "  warnings.warn(_RANGE_PYARROW_WARNING)\n",
      "/opt/anaconda3/envs/clean_env/lib/python3.9/site-packages/google/cloud/bigquery/table.py:2337: UserWarning: Unable to represent RANGE schema as struct using pandas ArrowDtype. Using `object` instead. To use ArrowDtype, use pandas >= 1.5 and pyarrow >= 10.0.1.\n",
      "  warnings.warn(_RANGE_PYARROW_WARNING)\n"
     ]
    },
    {
     "name": "stdout",
     "output_type": "stream",
     "text": [
      "Processed data for 2023-03-17\n",
      "Fetching data for 2023-03-18\n"
     ]
    },
    {
     "name": "stderr",
     "output_type": "stream",
     "text": [
      "/opt/anaconda3/envs/clean_env/lib/python3.9/site-packages/google/cloud/bigquery/table.py:2309: UserWarning: Unable to represent RANGE schema as struct using pandas ArrowDtype. Using `object` instead. To use ArrowDtype, use pandas >= 1.5 and pyarrow >= 10.0.1.\n",
      "  warnings.warn(_RANGE_PYARROW_WARNING)\n",
      "/opt/anaconda3/envs/clean_env/lib/python3.9/site-packages/google/cloud/bigquery/table.py:2323: UserWarning: Unable to represent RANGE schema as struct using pandas ArrowDtype. Using `object` instead. To use ArrowDtype, use pandas >= 1.5 and pyarrow >= 10.0.1.\n",
      "  warnings.warn(_RANGE_PYARROW_WARNING)\n",
      "/opt/anaconda3/envs/clean_env/lib/python3.9/site-packages/google/cloud/bigquery/table.py:2337: UserWarning: Unable to represent RANGE schema as struct using pandas ArrowDtype. Using `object` instead. To use ArrowDtype, use pandas >= 1.5 and pyarrow >= 10.0.1.\n",
      "  warnings.warn(_RANGE_PYARROW_WARNING)\n"
     ]
    },
    {
     "name": "stdout",
     "output_type": "stream",
     "text": [
      "Processed data for 2023-03-18\n",
      "Fetching data for 2023-03-19\n"
     ]
    },
    {
     "name": "stderr",
     "output_type": "stream",
     "text": [
      "/opt/anaconda3/envs/clean_env/lib/python3.9/site-packages/google/cloud/bigquery/table.py:2309: UserWarning: Unable to represent RANGE schema as struct using pandas ArrowDtype. Using `object` instead. To use ArrowDtype, use pandas >= 1.5 and pyarrow >= 10.0.1.\n",
      "  warnings.warn(_RANGE_PYARROW_WARNING)\n",
      "/opt/anaconda3/envs/clean_env/lib/python3.9/site-packages/google/cloud/bigquery/table.py:2323: UserWarning: Unable to represent RANGE schema as struct using pandas ArrowDtype. Using `object` instead. To use ArrowDtype, use pandas >= 1.5 and pyarrow >= 10.0.1.\n",
      "  warnings.warn(_RANGE_PYARROW_WARNING)\n",
      "/opt/anaconda3/envs/clean_env/lib/python3.9/site-packages/google/cloud/bigquery/table.py:2337: UserWarning: Unable to represent RANGE schema as struct using pandas ArrowDtype. Using `object` instead. To use ArrowDtype, use pandas >= 1.5 and pyarrow >= 10.0.1.\n",
      "  warnings.warn(_RANGE_PYARROW_WARNING)\n"
     ]
    },
    {
     "name": "stdout",
     "output_type": "stream",
     "text": [
      "Processed data for 2023-03-19\n",
      "Fetching data for 2023-03-20\n"
     ]
    },
    {
     "name": "stderr",
     "output_type": "stream",
     "text": [
      "/opt/anaconda3/envs/clean_env/lib/python3.9/site-packages/google/cloud/bigquery/table.py:2309: UserWarning: Unable to represent RANGE schema as struct using pandas ArrowDtype. Using `object` instead. To use ArrowDtype, use pandas >= 1.5 and pyarrow >= 10.0.1.\n",
      "  warnings.warn(_RANGE_PYARROW_WARNING)\n",
      "/opt/anaconda3/envs/clean_env/lib/python3.9/site-packages/google/cloud/bigquery/table.py:2323: UserWarning: Unable to represent RANGE schema as struct using pandas ArrowDtype. Using `object` instead. To use ArrowDtype, use pandas >= 1.5 and pyarrow >= 10.0.1.\n",
      "  warnings.warn(_RANGE_PYARROW_WARNING)\n",
      "/opt/anaconda3/envs/clean_env/lib/python3.9/site-packages/google/cloud/bigquery/table.py:2337: UserWarning: Unable to represent RANGE schema as struct using pandas ArrowDtype. Using `object` instead. To use ArrowDtype, use pandas >= 1.5 and pyarrow >= 10.0.1.\n",
      "  warnings.warn(_RANGE_PYARROW_WARNING)\n"
     ]
    },
    {
     "name": "stdout",
     "output_type": "stream",
     "text": [
      "Processed data for 2023-03-20\n",
      "Fetching data for 2023-03-21\n"
     ]
    },
    {
     "name": "stderr",
     "output_type": "stream",
     "text": [
      "/opt/anaconda3/envs/clean_env/lib/python3.9/site-packages/google/cloud/bigquery/table.py:2309: UserWarning: Unable to represent RANGE schema as struct using pandas ArrowDtype. Using `object` instead. To use ArrowDtype, use pandas >= 1.5 and pyarrow >= 10.0.1.\n",
      "  warnings.warn(_RANGE_PYARROW_WARNING)\n",
      "/opt/anaconda3/envs/clean_env/lib/python3.9/site-packages/google/cloud/bigquery/table.py:2323: UserWarning: Unable to represent RANGE schema as struct using pandas ArrowDtype. Using `object` instead. To use ArrowDtype, use pandas >= 1.5 and pyarrow >= 10.0.1.\n",
      "  warnings.warn(_RANGE_PYARROW_WARNING)\n",
      "/opt/anaconda3/envs/clean_env/lib/python3.9/site-packages/google/cloud/bigquery/table.py:2337: UserWarning: Unable to represent RANGE schema as struct using pandas ArrowDtype. Using `object` instead. To use ArrowDtype, use pandas >= 1.5 and pyarrow >= 10.0.1.\n",
      "  warnings.warn(_RANGE_PYARROW_WARNING)\n"
     ]
    },
    {
     "name": "stdout",
     "output_type": "stream",
     "text": [
      "Processed data for 2023-03-21\n",
      "Fetching data for 2023-03-22\n"
     ]
    },
    {
     "name": "stderr",
     "output_type": "stream",
     "text": [
      "/opt/anaconda3/envs/clean_env/lib/python3.9/site-packages/google/cloud/bigquery/table.py:2309: UserWarning: Unable to represent RANGE schema as struct using pandas ArrowDtype. Using `object` instead. To use ArrowDtype, use pandas >= 1.5 and pyarrow >= 10.0.1.\n",
      "  warnings.warn(_RANGE_PYARROW_WARNING)\n",
      "/opt/anaconda3/envs/clean_env/lib/python3.9/site-packages/google/cloud/bigquery/table.py:2323: UserWarning: Unable to represent RANGE schema as struct using pandas ArrowDtype. Using `object` instead. To use ArrowDtype, use pandas >= 1.5 and pyarrow >= 10.0.1.\n",
      "  warnings.warn(_RANGE_PYARROW_WARNING)\n",
      "/opt/anaconda3/envs/clean_env/lib/python3.9/site-packages/google/cloud/bigquery/table.py:2337: UserWarning: Unable to represent RANGE schema as struct using pandas ArrowDtype. Using `object` instead. To use ArrowDtype, use pandas >= 1.5 and pyarrow >= 10.0.1.\n",
      "  warnings.warn(_RANGE_PYARROW_WARNING)\n"
     ]
    },
    {
     "name": "stdout",
     "output_type": "stream",
     "text": [
      "Processed data for 2023-03-22\n",
      "Fetching data for 2023-03-23\n"
     ]
    },
    {
     "name": "stderr",
     "output_type": "stream",
     "text": [
      "/opt/anaconda3/envs/clean_env/lib/python3.9/site-packages/google/cloud/bigquery/table.py:2309: UserWarning: Unable to represent RANGE schema as struct using pandas ArrowDtype. Using `object` instead. To use ArrowDtype, use pandas >= 1.5 and pyarrow >= 10.0.1.\n",
      "  warnings.warn(_RANGE_PYARROW_WARNING)\n",
      "/opt/anaconda3/envs/clean_env/lib/python3.9/site-packages/google/cloud/bigquery/table.py:2323: UserWarning: Unable to represent RANGE schema as struct using pandas ArrowDtype. Using `object` instead. To use ArrowDtype, use pandas >= 1.5 and pyarrow >= 10.0.1.\n",
      "  warnings.warn(_RANGE_PYARROW_WARNING)\n",
      "/opt/anaconda3/envs/clean_env/lib/python3.9/site-packages/google/cloud/bigquery/table.py:2337: UserWarning: Unable to represent RANGE schema as struct using pandas ArrowDtype. Using `object` instead. To use ArrowDtype, use pandas >= 1.5 and pyarrow >= 10.0.1.\n",
      "  warnings.warn(_RANGE_PYARROW_WARNING)\n"
     ]
    },
    {
     "name": "stdout",
     "output_type": "stream",
     "text": [
      "Processed data for 2023-03-23\n",
      "Fetching data for 2023-03-24\n"
     ]
    },
    {
     "name": "stderr",
     "output_type": "stream",
     "text": [
      "/opt/anaconda3/envs/clean_env/lib/python3.9/site-packages/google/cloud/bigquery/table.py:2309: UserWarning: Unable to represent RANGE schema as struct using pandas ArrowDtype. Using `object` instead. To use ArrowDtype, use pandas >= 1.5 and pyarrow >= 10.0.1.\n",
      "  warnings.warn(_RANGE_PYARROW_WARNING)\n",
      "/opt/anaconda3/envs/clean_env/lib/python3.9/site-packages/google/cloud/bigquery/table.py:2323: UserWarning: Unable to represent RANGE schema as struct using pandas ArrowDtype. Using `object` instead. To use ArrowDtype, use pandas >= 1.5 and pyarrow >= 10.0.1.\n",
      "  warnings.warn(_RANGE_PYARROW_WARNING)\n",
      "/opt/anaconda3/envs/clean_env/lib/python3.9/site-packages/google/cloud/bigquery/table.py:2337: UserWarning: Unable to represent RANGE schema as struct using pandas ArrowDtype. Using `object` instead. To use ArrowDtype, use pandas >= 1.5 and pyarrow >= 10.0.1.\n",
      "  warnings.warn(_RANGE_PYARROW_WARNING)\n"
     ]
    },
    {
     "name": "stdout",
     "output_type": "stream",
     "text": [
      "Processed data for 2023-03-24\n",
      "Fetching data for 2023-03-25\n"
     ]
    },
    {
     "name": "stderr",
     "output_type": "stream",
     "text": [
      "/opt/anaconda3/envs/clean_env/lib/python3.9/site-packages/google/cloud/bigquery/table.py:2309: UserWarning: Unable to represent RANGE schema as struct using pandas ArrowDtype. Using `object` instead. To use ArrowDtype, use pandas >= 1.5 and pyarrow >= 10.0.1.\n",
      "  warnings.warn(_RANGE_PYARROW_WARNING)\n",
      "/opt/anaconda3/envs/clean_env/lib/python3.9/site-packages/google/cloud/bigquery/table.py:2323: UserWarning: Unable to represent RANGE schema as struct using pandas ArrowDtype. Using `object` instead. To use ArrowDtype, use pandas >= 1.5 and pyarrow >= 10.0.1.\n",
      "  warnings.warn(_RANGE_PYARROW_WARNING)\n",
      "/opt/anaconda3/envs/clean_env/lib/python3.9/site-packages/google/cloud/bigquery/table.py:2337: UserWarning: Unable to represent RANGE schema as struct using pandas ArrowDtype. Using `object` instead. To use ArrowDtype, use pandas >= 1.5 and pyarrow >= 10.0.1.\n",
      "  warnings.warn(_RANGE_PYARROW_WARNING)\n"
     ]
    },
    {
     "name": "stdout",
     "output_type": "stream",
     "text": [
      "Processed data for 2023-03-25\n",
      "Fetching data for 2023-03-26\n"
     ]
    },
    {
     "name": "stderr",
     "output_type": "stream",
     "text": [
      "/opt/anaconda3/envs/clean_env/lib/python3.9/site-packages/google/cloud/bigquery/table.py:2309: UserWarning: Unable to represent RANGE schema as struct using pandas ArrowDtype. Using `object` instead. To use ArrowDtype, use pandas >= 1.5 and pyarrow >= 10.0.1.\n",
      "  warnings.warn(_RANGE_PYARROW_WARNING)\n",
      "/opt/anaconda3/envs/clean_env/lib/python3.9/site-packages/google/cloud/bigquery/table.py:2323: UserWarning: Unable to represent RANGE schema as struct using pandas ArrowDtype. Using `object` instead. To use ArrowDtype, use pandas >= 1.5 and pyarrow >= 10.0.1.\n",
      "  warnings.warn(_RANGE_PYARROW_WARNING)\n",
      "/opt/anaconda3/envs/clean_env/lib/python3.9/site-packages/google/cloud/bigquery/table.py:2337: UserWarning: Unable to represent RANGE schema as struct using pandas ArrowDtype. Using `object` instead. To use ArrowDtype, use pandas >= 1.5 and pyarrow >= 10.0.1.\n",
      "  warnings.warn(_RANGE_PYARROW_WARNING)\n"
     ]
    },
    {
     "name": "stdout",
     "output_type": "stream",
     "text": [
      "Processed data for 2023-03-26\n",
      "Fetching data for 2023-03-27\n"
     ]
    },
    {
     "name": "stderr",
     "output_type": "stream",
     "text": [
      "/opt/anaconda3/envs/clean_env/lib/python3.9/site-packages/google/cloud/bigquery/table.py:2309: UserWarning: Unable to represent RANGE schema as struct using pandas ArrowDtype. Using `object` instead. To use ArrowDtype, use pandas >= 1.5 and pyarrow >= 10.0.1.\n",
      "  warnings.warn(_RANGE_PYARROW_WARNING)\n",
      "/opt/anaconda3/envs/clean_env/lib/python3.9/site-packages/google/cloud/bigquery/table.py:2323: UserWarning: Unable to represent RANGE schema as struct using pandas ArrowDtype. Using `object` instead. To use ArrowDtype, use pandas >= 1.5 and pyarrow >= 10.0.1.\n",
      "  warnings.warn(_RANGE_PYARROW_WARNING)\n",
      "/opt/anaconda3/envs/clean_env/lib/python3.9/site-packages/google/cloud/bigquery/table.py:2337: UserWarning: Unable to represent RANGE schema as struct using pandas ArrowDtype. Using `object` instead. To use ArrowDtype, use pandas >= 1.5 and pyarrow >= 10.0.1.\n",
      "  warnings.warn(_RANGE_PYARROW_WARNING)\n"
     ]
    },
    {
     "name": "stdout",
     "output_type": "stream",
     "text": [
      "Processed data for 2023-03-27\n",
      "Fetching data for 2023-03-28\n"
     ]
    },
    {
     "name": "stderr",
     "output_type": "stream",
     "text": [
      "/opt/anaconda3/envs/clean_env/lib/python3.9/site-packages/google/cloud/bigquery/table.py:2309: UserWarning: Unable to represent RANGE schema as struct using pandas ArrowDtype. Using `object` instead. To use ArrowDtype, use pandas >= 1.5 and pyarrow >= 10.0.1.\n",
      "  warnings.warn(_RANGE_PYARROW_WARNING)\n",
      "/opt/anaconda3/envs/clean_env/lib/python3.9/site-packages/google/cloud/bigquery/table.py:2323: UserWarning: Unable to represent RANGE schema as struct using pandas ArrowDtype. Using `object` instead. To use ArrowDtype, use pandas >= 1.5 and pyarrow >= 10.0.1.\n",
      "  warnings.warn(_RANGE_PYARROW_WARNING)\n",
      "/opt/anaconda3/envs/clean_env/lib/python3.9/site-packages/google/cloud/bigquery/table.py:2337: UserWarning: Unable to represent RANGE schema as struct using pandas ArrowDtype. Using `object` instead. To use ArrowDtype, use pandas >= 1.5 and pyarrow >= 10.0.1.\n",
      "  warnings.warn(_RANGE_PYARROW_WARNING)\n"
     ]
    },
    {
     "name": "stdout",
     "output_type": "stream",
     "text": [
      "Processed data for 2023-03-28\n",
      "Fetching data for 2023-03-29\n"
     ]
    },
    {
     "name": "stderr",
     "output_type": "stream",
     "text": [
      "/opt/anaconda3/envs/clean_env/lib/python3.9/site-packages/google/cloud/bigquery/table.py:2309: UserWarning: Unable to represent RANGE schema as struct using pandas ArrowDtype. Using `object` instead. To use ArrowDtype, use pandas >= 1.5 and pyarrow >= 10.0.1.\n",
      "  warnings.warn(_RANGE_PYARROW_WARNING)\n",
      "/opt/anaconda3/envs/clean_env/lib/python3.9/site-packages/google/cloud/bigquery/table.py:2323: UserWarning: Unable to represent RANGE schema as struct using pandas ArrowDtype. Using `object` instead. To use ArrowDtype, use pandas >= 1.5 and pyarrow >= 10.0.1.\n",
      "  warnings.warn(_RANGE_PYARROW_WARNING)\n",
      "/opt/anaconda3/envs/clean_env/lib/python3.9/site-packages/google/cloud/bigquery/table.py:2337: UserWarning: Unable to represent RANGE schema as struct using pandas ArrowDtype. Using `object` instead. To use ArrowDtype, use pandas >= 1.5 and pyarrow >= 10.0.1.\n",
      "  warnings.warn(_RANGE_PYARROW_WARNING)\n"
     ]
    },
    {
     "name": "stdout",
     "output_type": "stream",
     "text": [
      "Processed data for 2023-03-29\n",
      "Fetching data for 2023-03-30\n"
     ]
    },
    {
     "name": "stderr",
     "output_type": "stream",
     "text": [
      "/opt/anaconda3/envs/clean_env/lib/python3.9/site-packages/google/cloud/bigquery/table.py:2309: UserWarning: Unable to represent RANGE schema as struct using pandas ArrowDtype. Using `object` instead. To use ArrowDtype, use pandas >= 1.5 and pyarrow >= 10.0.1.\n",
      "  warnings.warn(_RANGE_PYARROW_WARNING)\n",
      "/opt/anaconda3/envs/clean_env/lib/python3.9/site-packages/google/cloud/bigquery/table.py:2323: UserWarning: Unable to represent RANGE schema as struct using pandas ArrowDtype. Using `object` instead. To use ArrowDtype, use pandas >= 1.5 and pyarrow >= 10.0.1.\n",
      "  warnings.warn(_RANGE_PYARROW_WARNING)\n",
      "/opt/anaconda3/envs/clean_env/lib/python3.9/site-packages/google/cloud/bigquery/table.py:2337: UserWarning: Unable to represent RANGE schema as struct using pandas ArrowDtype. Using `object` instead. To use ArrowDtype, use pandas >= 1.5 and pyarrow >= 10.0.1.\n",
      "  warnings.warn(_RANGE_PYARROW_WARNING)\n"
     ]
    },
    {
     "name": "stdout",
     "output_type": "stream",
     "text": [
      "Processed data for 2023-03-30\n",
      "Fetching data for 2023-03-31\n"
     ]
    },
    {
     "name": "stderr",
     "output_type": "stream",
     "text": [
      "/opt/anaconda3/envs/clean_env/lib/python3.9/site-packages/google/cloud/bigquery/table.py:2309: UserWarning: Unable to represent RANGE schema as struct using pandas ArrowDtype. Using `object` instead. To use ArrowDtype, use pandas >= 1.5 and pyarrow >= 10.0.1.\n",
      "  warnings.warn(_RANGE_PYARROW_WARNING)\n",
      "/opt/anaconda3/envs/clean_env/lib/python3.9/site-packages/google/cloud/bigquery/table.py:2323: UserWarning: Unable to represent RANGE schema as struct using pandas ArrowDtype. Using `object` instead. To use ArrowDtype, use pandas >= 1.5 and pyarrow >= 10.0.1.\n",
      "  warnings.warn(_RANGE_PYARROW_WARNING)\n",
      "/opt/anaconda3/envs/clean_env/lib/python3.9/site-packages/google/cloud/bigquery/table.py:2337: UserWarning: Unable to represent RANGE schema as struct using pandas ArrowDtype. Using `object` instead. To use ArrowDtype, use pandas >= 1.5 and pyarrow >= 10.0.1.\n",
      "  warnings.warn(_RANGE_PYARROW_WARNING)\n"
     ]
    },
    {
     "name": "stdout",
     "output_type": "stream",
     "text": [
      "Processed data for 2023-03-31\n",
      "Fetching data for 2023-04-01\n"
     ]
    },
    {
     "name": "stderr",
     "output_type": "stream",
     "text": [
      "/opt/anaconda3/envs/clean_env/lib/python3.9/site-packages/google/cloud/bigquery/table.py:2309: UserWarning: Unable to represent RANGE schema as struct using pandas ArrowDtype. Using `object` instead. To use ArrowDtype, use pandas >= 1.5 and pyarrow >= 10.0.1.\n",
      "  warnings.warn(_RANGE_PYARROW_WARNING)\n",
      "/opt/anaconda3/envs/clean_env/lib/python3.9/site-packages/google/cloud/bigquery/table.py:2323: UserWarning: Unable to represent RANGE schema as struct using pandas ArrowDtype. Using `object` instead. To use ArrowDtype, use pandas >= 1.5 and pyarrow >= 10.0.1.\n",
      "  warnings.warn(_RANGE_PYARROW_WARNING)\n",
      "/opt/anaconda3/envs/clean_env/lib/python3.9/site-packages/google/cloud/bigquery/table.py:2337: UserWarning: Unable to represent RANGE schema as struct using pandas ArrowDtype. Using `object` instead. To use ArrowDtype, use pandas >= 1.5 and pyarrow >= 10.0.1.\n",
      "  warnings.warn(_RANGE_PYARROW_WARNING)\n"
     ]
    },
    {
     "name": "stdout",
     "output_type": "stream",
     "text": [
      "Processed data for 2023-04-01\n",
      "Fetching data for 2023-04-02\n"
     ]
    },
    {
     "name": "stderr",
     "output_type": "stream",
     "text": [
      "/opt/anaconda3/envs/clean_env/lib/python3.9/site-packages/google/cloud/bigquery/table.py:2309: UserWarning: Unable to represent RANGE schema as struct using pandas ArrowDtype. Using `object` instead. To use ArrowDtype, use pandas >= 1.5 and pyarrow >= 10.0.1.\n",
      "  warnings.warn(_RANGE_PYARROW_WARNING)\n",
      "/opt/anaconda3/envs/clean_env/lib/python3.9/site-packages/google/cloud/bigquery/table.py:2323: UserWarning: Unable to represent RANGE schema as struct using pandas ArrowDtype. Using `object` instead. To use ArrowDtype, use pandas >= 1.5 and pyarrow >= 10.0.1.\n",
      "  warnings.warn(_RANGE_PYARROW_WARNING)\n",
      "/opt/anaconda3/envs/clean_env/lib/python3.9/site-packages/google/cloud/bigquery/table.py:2337: UserWarning: Unable to represent RANGE schema as struct using pandas ArrowDtype. Using `object` instead. To use ArrowDtype, use pandas >= 1.5 and pyarrow >= 10.0.1.\n",
      "  warnings.warn(_RANGE_PYARROW_WARNING)\n"
     ]
    },
    {
     "name": "stdout",
     "output_type": "stream",
     "text": [
      "Processed data for 2023-04-02\n",
      "Fetching data for 2023-04-03\n"
     ]
    },
    {
     "name": "stderr",
     "output_type": "stream",
     "text": [
      "/opt/anaconda3/envs/clean_env/lib/python3.9/site-packages/google/cloud/bigquery/table.py:2309: UserWarning: Unable to represent RANGE schema as struct using pandas ArrowDtype. Using `object` instead. To use ArrowDtype, use pandas >= 1.5 and pyarrow >= 10.0.1.\n",
      "  warnings.warn(_RANGE_PYARROW_WARNING)\n",
      "/opt/anaconda3/envs/clean_env/lib/python3.9/site-packages/google/cloud/bigquery/table.py:2323: UserWarning: Unable to represent RANGE schema as struct using pandas ArrowDtype. Using `object` instead. To use ArrowDtype, use pandas >= 1.5 and pyarrow >= 10.0.1.\n",
      "  warnings.warn(_RANGE_PYARROW_WARNING)\n",
      "/opt/anaconda3/envs/clean_env/lib/python3.9/site-packages/google/cloud/bigquery/table.py:2337: UserWarning: Unable to represent RANGE schema as struct using pandas ArrowDtype. Using `object` instead. To use ArrowDtype, use pandas >= 1.5 and pyarrow >= 10.0.1.\n",
      "  warnings.warn(_RANGE_PYARROW_WARNING)\n"
     ]
    },
    {
     "name": "stdout",
     "output_type": "stream",
     "text": [
      "Processed data for 2023-04-03\n",
      "Fetching data for 2023-04-04\n"
     ]
    },
    {
     "name": "stderr",
     "output_type": "stream",
     "text": [
      "/opt/anaconda3/envs/clean_env/lib/python3.9/site-packages/google/cloud/bigquery/table.py:2309: UserWarning: Unable to represent RANGE schema as struct using pandas ArrowDtype. Using `object` instead. To use ArrowDtype, use pandas >= 1.5 and pyarrow >= 10.0.1.\n",
      "  warnings.warn(_RANGE_PYARROW_WARNING)\n",
      "/opt/anaconda3/envs/clean_env/lib/python3.9/site-packages/google/cloud/bigquery/table.py:2323: UserWarning: Unable to represent RANGE schema as struct using pandas ArrowDtype. Using `object` instead. To use ArrowDtype, use pandas >= 1.5 and pyarrow >= 10.0.1.\n",
      "  warnings.warn(_RANGE_PYARROW_WARNING)\n",
      "/opt/anaconda3/envs/clean_env/lib/python3.9/site-packages/google/cloud/bigquery/table.py:2337: UserWarning: Unable to represent RANGE schema as struct using pandas ArrowDtype. Using `object` instead. To use ArrowDtype, use pandas >= 1.5 and pyarrow >= 10.0.1.\n",
      "  warnings.warn(_RANGE_PYARROW_WARNING)\n"
     ]
    },
    {
     "name": "stdout",
     "output_type": "stream",
     "text": [
      "Processed data for 2023-04-04\n",
      "Fetching data for 2023-04-05\n"
     ]
    },
    {
     "name": "stderr",
     "output_type": "stream",
     "text": [
      "/opt/anaconda3/envs/clean_env/lib/python3.9/site-packages/google/cloud/bigquery/table.py:2309: UserWarning: Unable to represent RANGE schema as struct using pandas ArrowDtype. Using `object` instead. To use ArrowDtype, use pandas >= 1.5 and pyarrow >= 10.0.1.\n",
      "  warnings.warn(_RANGE_PYARROW_WARNING)\n",
      "/opt/anaconda3/envs/clean_env/lib/python3.9/site-packages/google/cloud/bigquery/table.py:2323: UserWarning: Unable to represent RANGE schema as struct using pandas ArrowDtype. Using `object` instead. To use ArrowDtype, use pandas >= 1.5 and pyarrow >= 10.0.1.\n",
      "  warnings.warn(_RANGE_PYARROW_WARNING)\n",
      "/opt/anaconda3/envs/clean_env/lib/python3.9/site-packages/google/cloud/bigquery/table.py:2337: UserWarning: Unable to represent RANGE schema as struct using pandas ArrowDtype. Using `object` instead. To use ArrowDtype, use pandas >= 1.5 and pyarrow >= 10.0.1.\n",
      "  warnings.warn(_RANGE_PYARROW_WARNING)\n"
     ]
    },
    {
     "name": "stdout",
     "output_type": "stream",
     "text": [
      "Processed data for 2023-04-05\n",
      "Fetching data for 2023-04-06\n"
     ]
    },
    {
     "name": "stderr",
     "output_type": "stream",
     "text": [
      "/opt/anaconda3/envs/clean_env/lib/python3.9/site-packages/google/cloud/bigquery/table.py:2309: UserWarning: Unable to represent RANGE schema as struct using pandas ArrowDtype. Using `object` instead. To use ArrowDtype, use pandas >= 1.5 and pyarrow >= 10.0.1.\n",
      "  warnings.warn(_RANGE_PYARROW_WARNING)\n",
      "/opt/anaconda3/envs/clean_env/lib/python3.9/site-packages/google/cloud/bigquery/table.py:2323: UserWarning: Unable to represent RANGE schema as struct using pandas ArrowDtype. Using `object` instead. To use ArrowDtype, use pandas >= 1.5 and pyarrow >= 10.0.1.\n",
      "  warnings.warn(_RANGE_PYARROW_WARNING)\n",
      "/opt/anaconda3/envs/clean_env/lib/python3.9/site-packages/google/cloud/bigquery/table.py:2337: UserWarning: Unable to represent RANGE schema as struct using pandas ArrowDtype. Using `object` instead. To use ArrowDtype, use pandas >= 1.5 and pyarrow >= 10.0.1.\n",
      "  warnings.warn(_RANGE_PYARROW_WARNING)\n"
     ]
    },
    {
     "name": "stdout",
     "output_type": "stream",
     "text": [
      "Processed data for 2023-04-06\n",
      "Fetching data for 2023-04-07\n"
     ]
    },
    {
     "name": "stderr",
     "output_type": "stream",
     "text": [
      "/opt/anaconda3/envs/clean_env/lib/python3.9/site-packages/google/cloud/bigquery/table.py:2309: UserWarning: Unable to represent RANGE schema as struct using pandas ArrowDtype. Using `object` instead. To use ArrowDtype, use pandas >= 1.5 and pyarrow >= 10.0.1.\n",
      "  warnings.warn(_RANGE_PYARROW_WARNING)\n",
      "/opt/anaconda3/envs/clean_env/lib/python3.9/site-packages/google/cloud/bigquery/table.py:2323: UserWarning: Unable to represent RANGE schema as struct using pandas ArrowDtype. Using `object` instead. To use ArrowDtype, use pandas >= 1.5 and pyarrow >= 10.0.1.\n",
      "  warnings.warn(_RANGE_PYARROW_WARNING)\n",
      "/opt/anaconda3/envs/clean_env/lib/python3.9/site-packages/google/cloud/bigquery/table.py:2337: UserWarning: Unable to represent RANGE schema as struct using pandas ArrowDtype. Using `object` instead. To use ArrowDtype, use pandas >= 1.5 and pyarrow >= 10.0.1.\n",
      "  warnings.warn(_RANGE_PYARROW_WARNING)\n"
     ]
    },
    {
     "name": "stdout",
     "output_type": "stream",
     "text": [
      "Processed data for 2023-04-07\n",
      "Fetching data for 2023-04-08\n"
     ]
    },
    {
     "name": "stderr",
     "output_type": "stream",
     "text": [
      "/opt/anaconda3/envs/clean_env/lib/python3.9/site-packages/google/cloud/bigquery/table.py:2309: UserWarning: Unable to represent RANGE schema as struct using pandas ArrowDtype. Using `object` instead. To use ArrowDtype, use pandas >= 1.5 and pyarrow >= 10.0.1.\n",
      "  warnings.warn(_RANGE_PYARROW_WARNING)\n",
      "/opt/anaconda3/envs/clean_env/lib/python3.9/site-packages/google/cloud/bigquery/table.py:2323: UserWarning: Unable to represent RANGE schema as struct using pandas ArrowDtype. Using `object` instead. To use ArrowDtype, use pandas >= 1.5 and pyarrow >= 10.0.1.\n",
      "  warnings.warn(_RANGE_PYARROW_WARNING)\n",
      "/opt/anaconda3/envs/clean_env/lib/python3.9/site-packages/google/cloud/bigquery/table.py:2337: UserWarning: Unable to represent RANGE schema as struct using pandas ArrowDtype. Using `object` instead. To use ArrowDtype, use pandas >= 1.5 and pyarrow >= 10.0.1.\n",
      "  warnings.warn(_RANGE_PYARROW_WARNING)\n"
     ]
    },
    {
     "name": "stdout",
     "output_type": "stream",
     "text": [
      "Processed data for 2023-04-08\n",
      "Fetching data for 2023-04-09\n"
     ]
    },
    {
     "name": "stderr",
     "output_type": "stream",
     "text": [
      "/opt/anaconda3/envs/clean_env/lib/python3.9/site-packages/google/cloud/bigquery/table.py:2309: UserWarning: Unable to represent RANGE schema as struct using pandas ArrowDtype. Using `object` instead. To use ArrowDtype, use pandas >= 1.5 and pyarrow >= 10.0.1.\n",
      "  warnings.warn(_RANGE_PYARROW_WARNING)\n",
      "/opt/anaconda3/envs/clean_env/lib/python3.9/site-packages/google/cloud/bigquery/table.py:2323: UserWarning: Unable to represent RANGE schema as struct using pandas ArrowDtype. Using `object` instead. To use ArrowDtype, use pandas >= 1.5 and pyarrow >= 10.0.1.\n",
      "  warnings.warn(_RANGE_PYARROW_WARNING)\n",
      "/opt/anaconda3/envs/clean_env/lib/python3.9/site-packages/google/cloud/bigquery/table.py:2337: UserWarning: Unable to represent RANGE schema as struct using pandas ArrowDtype. Using `object` instead. To use ArrowDtype, use pandas >= 1.5 and pyarrow >= 10.0.1.\n",
      "  warnings.warn(_RANGE_PYARROW_WARNING)\n"
     ]
    },
    {
     "name": "stdout",
     "output_type": "stream",
     "text": [
      "Processed data for 2023-04-09\n",
      "Fetching data for 2023-04-10\n"
     ]
    },
    {
     "name": "stderr",
     "output_type": "stream",
     "text": [
      "/opt/anaconda3/envs/clean_env/lib/python3.9/site-packages/google/cloud/bigquery/table.py:2309: UserWarning: Unable to represent RANGE schema as struct using pandas ArrowDtype. Using `object` instead. To use ArrowDtype, use pandas >= 1.5 and pyarrow >= 10.0.1.\n",
      "  warnings.warn(_RANGE_PYARROW_WARNING)\n",
      "/opt/anaconda3/envs/clean_env/lib/python3.9/site-packages/google/cloud/bigquery/table.py:2323: UserWarning: Unable to represent RANGE schema as struct using pandas ArrowDtype. Using `object` instead. To use ArrowDtype, use pandas >= 1.5 and pyarrow >= 10.0.1.\n",
      "  warnings.warn(_RANGE_PYARROW_WARNING)\n",
      "/opt/anaconda3/envs/clean_env/lib/python3.9/site-packages/google/cloud/bigquery/table.py:2337: UserWarning: Unable to represent RANGE schema as struct using pandas ArrowDtype. Using `object` instead. To use ArrowDtype, use pandas >= 1.5 and pyarrow >= 10.0.1.\n",
      "  warnings.warn(_RANGE_PYARROW_WARNING)\n"
     ]
    },
    {
     "name": "stdout",
     "output_type": "stream",
     "text": [
      "Processed data for 2023-04-10\n",
      "Fetching data for 2023-04-11\n"
     ]
    },
    {
     "name": "stderr",
     "output_type": "stream",
     "text": [
      "/opt/anaconda3/envs/clean_env/lib/python3.9/site-packages/google/cloud/bigquery/table.py:2309: UserWarning: Unable to represent RANGE schema as struct using pandas ArrowDtype. Using `object` instead. To use ArrowDtype, use pandas >= 1.5 and pyarrow >= 10.0.1.\n",
      "  warnings.warn(_RANGE_PYARROW_WARNING)\n",
      "/opt/anaconda3/envs/clean_env/lib/python3.9/site-packages/google/cloud/bigquery/table.py:2323: UserWarning: Unable to represent RANGE schema as struct using pandas ArrowDtype. Using `object` instead. To use ArrowDtype, use pandas >= 1.5 and pyarrow >= 10.0.1.\n",
      "  warnings.warn(_RANGE_PYARROW_WARNING)\n",
      "/opt/anaconda3/envs/clean_env/lib/python3.9/site-packages/google/cloud/bigquery/table.py:2337: UserWarning: Unable to represent RANGE schema as struct using pandas ArrowDtype. Using `object` instead. To use ArrowDtype, use pandas >= 1.5 and pyarrow >= 10.0.1.\n",
      "  warnings.warn(_RANGE_PYARROW_WARNING)\n"
     ]
    },
    {
     "name": "stdout",
     "output_type": "stream",
     "text": [
      "Processed data for 2023-04-11\n",
      "Fetching data for 2023-04-12\n"
     ]
    },
    {
     "name": "stderr",
     "output_type": "stream",
     "text": [
      "/opt/anaconda3/envs/clean_env/lib/python3.9/site-packages/google/cloud/bigquery/table.py:2309: UserWarning: Unable to represent RANGE schema as struct using pandas ArrowDtype. Using `object` instead. To use ArrowDtype, use pandas >= 1.5 and pyarrow >= 10.0.1.\n",
      "  warnings.warn(_RANGE_PYARROW_WARNING)\n",
      "/opt/anaconda3/envs/clean_env/lib/python3.9/site-packages/google/cloud/bigquery/table.py:2323: UserWarning: Unable to represent RANGE schema as struct using pandas ArrowDtype. Using `object` instead. To use ArrowDtype, use pandas >= 1.5 and pyarrow >= 10.0.1.\n",
      "  warnings.warn(_RANGE_PYARROW_WARNING)\n",
      "/opt/anaconda3/envs/clean_env/lib/python3.9/site-packages/google/cloud/bigquery/table.py:2337: UserWarning: Unable to represent RANGE schema as struct using pandas ArrowDtype. Using `object` instead. To use ArrowDtype, use pandas >= 1.5 and pyarrow >= 10.0.1.\n",
      "  warnings.warn(_RANGE_PYARROW_WARNING)\n"
     ]
    },
    {
     "name": "stdout",
     "output_type": "stream",
     "text": [
      "Processed data for 2023-04-12\n",
      "Fetching data for 2023-04-13\n"
     ]
    },
    {
     "name": "stderr",
     "output_type": "stream",
     "text": [
      "/opt/anaconda3/envs/clean_env/lib/python3.9/site-packages/google/cloud/bigquery/table.py:2309: UserWarning: Unable to represent RANGE schema as struct using pandas ArrowDtype. Using `object` instead. To use ArrowDtype, use pandas >= 1.5 and pyarrow >= 10.0.1.\n",
      "  warnings.warn(_RANGE_PYARROW_WARNING)\n",
      "/opt/anaconda3/envs/clean_env/lib/python3.9/site-packages/google/cloud/bigquery/table.py:2323: UserWarning: Unable to represent RANGE schema as struct using pandas ArrowDtype. Using `object` instead. To use ArrowDtype, use pandas >= 1.5 and pyarrow >= 10.0.1.\n",
      "  warnings.warn(_RANGE_PYARROW_WARNING)\n",
      "/opt/anaconda3/envs/clean_env/lib/python3.9/site-packages/google/cloud/bigquery/table.py:2337: UserWarning: Unable to represent RANGE schema as struct using pandas ArrowDtype. Using `object` instead. To use ArrowDtype, use pandas >= 1.5 and pyarrow >= 10.0.1.\n",
      "  warnings.warn(_RANGE_PYARROW_WARNING)\n"
     ]
    },
    {
     "name": "stdout",
     "output_type": "stream",
     "text": [
      "Processed data for 2023-04-13\n",
      "Fetching data for 2023-04-14\n"
     ]
    },
    {
     "name": "stderr",
     "output_type": "stream",
     "text": [
      "/opt/anaconda3/envs/clean_env/lib/python3.9/site-packages/google/cloud/bigquery/table.py:2309: UserWarning: Unable to represent RANGE schema as struct using pandas ArrowDtype. Using `object` instead. To use ArrowDtype, use pandas >= 1.5 and pyarrow >= 10.0.1.\n",
      "  warnings.warn(_RANGE_PYARROW_WARNING)\n",
      "/opt/anaconda3/envs/clean_env/lib/python3.9/site-packages/google/cloud/bigquery/table.py:2323: UserWarning: Unable to represent RANGE schema as struct using pandas ArrowDtype. Using `object` instead. To use ArrowDtype, use pandas >= 1.5 and pyarrow >= 10.0.1.\n",
      "  warnings.warn(_RANGE_PYARROW_WARNING)\n",
      "/opt/anaconda3/envs/clean_env/lib/python3.9/site-packages/google/cloud/bigquery/table.py:2337: UserWarning: Unable to represent RANGE schema as struct using pandas ArrowDtype. Using `object` instead. To use ArrowDtype, use pandas >= 1.5 and pyarrow >= 10.0.1.\n",
      "  warnings.warn(_RANGE_PYARROW_WARNING)\n"
     ]
    },
    {
     "name": "stdout",
     "output_type": "stream",
     "text": [
      "Processed data for 2023-04-14\n",
      "Fetching data for 2023-04-15\n"
     ]
    },
    {
     "name": "stderr",
     "output_type": "stream",
     "text": [
      "/opt/anaconda3/envs/clean_env/lib/python3.9/site-packages/google/cloud/bigquery/table.py:2309: UserWarning: Unable to represent RANGE schema as struct using pandas ArrowDtype. Using `object` instead. To use ArrowDtype, use pandas >= 1.5 and pyarrow >= 10.0.1.\n",
      "  warnings.warn(_RANGE_PYARROW_WARNING)\n",
      "/opt/anaconda3/envs/clean_env/lib/python3.9/site-packages/google/cloud/bigquery/table.py:2323: UserWarning: Unable to represent RANGE schema as struct using pandas ArrowDtype. Using `object` instead. To use ArrowDtype, use pandas >= 1.5 and pyarrow >= 10.0.1.\n",
      "  warnings.warn(_RANGE_PYARROW_WARNING)\n",
      "/opt/anaconda3/envs/clean_env/lib/python3.9/site-packages/google/cloud/bigquery/table.py:2337: UserWarning: Unable to represent RANGE schema as struct using pandas ArrowDtype. Using `object` instead. To use ArrowDtype, use pandas >= 1.5 and pyarrow >= 10.0.1.\n",
      "  warnings.warn(_RANGE_PYARROW_WARNING)\n"
     ]
    },
    {
     "name": "stdout",
     "output_type": "stream",
     "text": [
      "Processed data for 2023-04-15\n",
      "Fetching data for 2023-04-16\n"
     ]
    },
    {
     "name": "stderr",
     "output_type": "stream",
     "text": [
      "/opt/anaconda3/envs/clean_env/lib/python3.9/site-packages/google/cloud/bigquery/table.py:2309: UserWarning: Unable to represent RANGE schema as struct using pandas ArrowDtype. Using `object` instead. To use ArrowDtype, use pandas >= 1.5 and pyarrow >= 10.0.1.\n",
      "  warnings.warn(_RANGE_PYARROW_WARNING)\n",
      "/opt/anaconda3/envs/clean_env/lib/python3.9/site-packages/google/cloud/bigquery/table.py:2323: UserWarning: Unable to represent RANGE schema as struct using pandas ArrowDtype. Using `object` instead. To use ArrowDtype, use pandas >= 1.5 and pyarrow >= 10.0.1.\n",
      "  warnings.warn(_RANGE_PYARROW_WARNING)\n",
      "/opt/anaconda3/envs/clean_env/lib/python3.9/site-packages/google/cloud/bigquery/table.py:2337: UserWarning: Unable to represent RANGE schema as struct using pandas ArrowDtype. Using `object` instead. To use ArrowDtype, use pandas >= 1.5 and pyarrow >= 10.0.1.\n",
      "  warnings.warn(_RANGE_PYARROW_WARNING)\n"
     ]
    },
    {
     "name": "stdout",
     "output_type": "stream",
     "text": [
      "Processed data for 2023-04-16\n",
      "Fetching data for 2023-04-17\n"
     ]
    },
    {
     "name": "stderr",
     "output_type": "stream",
     "text": [
      "/opt/anaconda3/envs/clean_env/lib/python3.9/site-packages/google/cloud/bigquery/table.py:2309: UserWarning: Unable to represent RANGE schema as struct using pandas ArrowDtype. Using `object` instead. To use ArrowDtype, use pandas >= 1.5 and pyarrow >= 10.0.1.\n",
      "  warnings.warn(_RANGE_PYARROW_WARNING)\n",
      "/opt/anaconda3/envs/clean_env/lib/python3.9/site-packages/google/cloud/bigquery/table.py:2323: UserWarning: Unable to represent RANGE schema as struct using pandas ArrowDtype. Using `object` instead. To use ArrowDtype, use pandas >= 1.5 and pyarrow >= 10.0.1.\n",
      "  warnings.warn(_RANGE_PYARROW_WARNING)\n",
      "/opt/anaconda3/envs/clean_env/lib/python3.9/site-packages/google/cloud/bigquery/table.py:2337: UserWarning: Unable to represent RANGE schema as struct using pandas ArrowDtype. Using `object` instead. To use ArrowDtype, use pandas >= 1.5 and pyarrow >= 10.0.1.\n",
      "  warnings.warn(_RANGE_PYARROW_WARNING)\n"
     ]
    },
    {
     "name": "stdout",
     "output_type": "stream",
     "text": [
      "Processed data for 2023-04-17\n",
      "Fetching data for 2023-04-18\n"
     ]
    },
    {
     "name": "stderr",
     "output_type": "stream",
     "text": [
      "/opt/anaconda3/envs/clean_env/lib/python3.9/site-packages/google/cloud/bigquery/table.py:2309: UserWarning: Unable to represent RANGE schema as struct using pandas ArrowDtype. Using `object` instead. To use ArrowDtype, use pandas >= 1.5 and pyarrow >= 10.0.1.\n",
      "  warnings.warn(_RANGE_PYARROW_WARNING)\n",
      "/opt/anaconda3/envs/clean_env/lib/python3.9/site-packages/google/cloud/bigquery/table.py:2323: UserWarning: Unable to represent RANGE schema as struct using pandas ArrowDtype. Using `object` instead. To use ArrowDtype, use pandas >= 1.5 and pyarrow >= 10.0.1.\n",
      "  warnings.warn(_RANGE_PYARROW_WARNING)\n",
      "/opt/anaconda3/envs/clean_env/lib/python3.9/site-packages/google/cloud/bigquery/table.py:2337: UserWarning: Unable to represent RANGE schema as struct using pandas ArrowDtype. Using `object` instead. To use ArrowDtype, use pandas >= 1.5 and pyarrow >= 10.0.1.\n",
      "  warnings.warn(_RANGE_PYARROW_WARNING)\n"
     ]
    },
    {
     "name": "stdout",
     "output_type": "stream",
     "text": [
      "Processed data for 2023-04-18\n",
      "Fetching data for 2023-04-19\n"
     ]
    },
    {
     "name": "stderr",
     "output_type": "stream",
     "text": [
      "/opt/anaconda3/envs/clean_env/lib/python3.9/site-packages/google/cloud/bigquery/table.py:2309: UserWarning: Unable to represent RANGE schema as struct using pandas ArrowDtype. Using `object` instead. To use ArrowDtype, use pandas >= 1.5 and pyarrow >= 10.0.1.\n",
      "  warnings.warn(_RANGE_PYARROW_WARNING)\n",
      "/opt/anaconda3/envs/clean_env/lib/python3.9/site-packages/google/cloud/bigquery/table.py:2323: UserWarning: Unable to represent RANGE schema as struct using pandas ArrowDtype. Using `object` instead. To use ArrowDtype, use pandas >= 1.5 and pyarrow >= 10.0.1.\n",
      "  warnings.warn(_RANGE_PYARROW_WARNING)\n",
      "/opt/anaconda3/envs/clean_env/lib/python3.9/site-packages/google/cloud/bigquery/table.py:2337: UserWarning: Unable to represent RANGE schema as struct using pandas ArrowDtype. Using `object` instead. To use ArrowDtype, use pandas >= 1.5 and pyarrow >= 10.0.1.\n",
      "  warnings.warn(_RANGE_PYARROW_WARNING)\n"
     ]
    },
    {
     "name": "stdout",
     "output_type": "stream",
     "text": [
      "Processed data for 2023-04-19\n",
      "Fetching data for 2023-04-20\n"
     ]
    },
    {
     "name": "stderr",
     "output_type": "stream",
     "text": [
      "/opt/anaconda3/envs/clean_env/lib/python3.9/site-packages/google/cloud/bigquery/table.py:2309: UserWarning: Unable to represent RANGE schema as struct using pandas ArrowDtype. Using `object` instead. To use ArrowDtype, use pandas >= 1.5 and pyarrow >= 10.0.1.\n",
      "  warnings.warn(_RANGE_PYARROW_WARNING)\n",
      "/opt/anaconda3/envs/clean_env/lib/python3.9/site-packages/google/cloud/bigquery/table.py:2323: UserWarning: Unable to represent RANGE schema as struct using pandas ArrowDtype. Using `object` instead. To use ArrowDtype, use pandas >= 1.5 and pyarrow >= 10.0.1.\n",
      "  warnings.warn(_RANGE_PYARROW_WARNING)\n",
      "/opt/anaconda3/envs/clean_env/lib/python3.9/site-packages/google/cloud/bigquery/table.py:2337: UserWarning: Unable to represent RANGE schema as struct using pandas ArrowDtype. Using `object` instead. To use ArrowDtype, use pandas >= 1.5 and pyarrow >= 10.0.1.\n",
      "  warnings.warn(_RANGE_PYARROW_WARNING)\n"
     ]
    },
    {
     "name": "stdout",
     "output_type": "stream",
     "text": [
      "Processed data for 2023-04-20\n",
      "Fetching data for 2023-04-21\n"
     ]
    },
    {
     "name": "stderr",
     "output_type": "stream",
     "text": [
      "/opt/anaconda3/envs/clean_env/lib/python3.9/site-packages/google/cloud/bigquery/table.py:2309: UserWarning: Unable to represent RANGE schema as struct using pandas ArrowDtype. Using `object` instead. To use ArrowDtype, use pandas >= 1.5 and pyarrow >= 10.0.1.\n",
      "  warnings.warn(_RANGE_PYARROW_WARNING)\n",
      "/opt/anaconda3/envs/clean_env/lib/python3.9/site-packages/google/cloud/bigquery/table.py:2323: UserWarning: Unable to represent RANGE schema as struct using pandas ArrowDtype. Using `object` instead. To use ArrowDtype, use pandas >= 1.5 and pyarrow >= 10.0.1.\n",
      "  warnings.warn(_RANGE_PYARROW_WARNING)\n",
      "/opt/anaconda3/envs/clean_env/lib/python3.9/site-packages/google/cloud/bigquery/table.py:2337: UserWarning: Unable to represent RANGE schema as struct using pandas ArrowDtype. Using `object` instead. To use ArrowDtype, use pandas >= 1.5 and pyarrow >= 10.0.1.\n",
      "  warnings.warn(_RANGE_PYARROW_WARNING)\n"
     ]
    },
    {
     "name": "stdout",
     "output_type": "stream",
     "text": [
      "Processed data for 2023-04-21\n",
      "Fetching data for 2023-04-22\n"
     ]
    },
    {
     "name": "stderr",
     "output_type": "stream",
     "text": [
      "/opt/anaconda3/envs/clean_env/lib/python3.9/site-packages/google/cloud/bigquery/table.py:2309: UserWarning: Unable to represent RANGE schema as struct using pandas ArrowDtype. Using `object` instead. To use ArrowDtype, use pandas >= 1.5 and pyarrow >= 10.0.1.\n",
      "  warnings.warn(_RANGE_PYARROW_WARNING)\n",
      "/opt/anaconda3/envs/clean_env/lib/python3.9/site-packages/google/cloud/bigquery/table.py:2323: UserWarning: Unable to represent RANGE schema as struct using pandas ArrowDtype. Using `object` instead. To use ArrowDtype, use pandas >= 1.5 and pyarrow >= 10.0.1.\n",
      "  warnings.warn(_RANGE_PYARROW_WARNING)\n",
      "/opt/anaconda3/envs/clean_env/lib/python3.9/site-packages/google/cloud/bigquery/table.py:2337: UserWarning: Unable to represent RANGE schema as struct using pandas ArrowDtype. Using `object` instead. To use ArrowDtype, use pandas >= 1.5 and pyarrow >= 10.0.1.\n",
      "  warnings.warn(_RANGE_PYARROW_WARNING)\n"
     ]
    },
    {
     "name": "stdout",
     "output_type": "stream",
     "text": [
      "Processed data for 2023-04-22\n",
      "Fetching data for 2023-04-23\n"
     ]
    },
    {
     "name": "stderr",
     "output_type": "stream",
     "text": [
      "/opt/anaconda3/envs/clean_env/lib/python3.9/site-packages/google/cloud/bigquery/table.py:2309: UserWarning: Unable to represent RANGE schema as struct using pandas ArrowDtype. Using `object` instead. To use ArrowDtype, use pandas >= 1.5 and pyarrow >= 10.0.1.\n",
      "  warnings.warn(_RANGE_PYARROW_WARNING)\n",
      "/opt/anaconda3/envs/clean_env/lib/python3.9/site-packages/google/cloud/bigquery/table.py:2323: UserWarning: Unable to represent RANGE schema as struct using pandas ArrowDtype. Using `object` instead. To use ArrowDtype, use pandas >= 1.5 and pyarrow >= 10.0.1.\n",
      "  warnings.warn(_RANGE_PYARROW_WARNING)\n",
      "/opt/anaconda3/envs/clean_env/lib/python3.9/site-packages/google/cloud/bigquery/table.py:2337: UserWarning: Unable to represent RANGE schema as struct using pandas ArrowDtype. Using `object` instead. To use ArrowDtype, use pandas >= 1.5 and pyarrow >= 10.0.1.\n",
      "  warnings.warn(_RANGE_PYARROW_WARNING)\n"
     ]
    },
    {
     "name": "stdout",
     "output_type": "stream",
     "text": [
      "Processed data for 2023-04-23\n",
      "Fetching data for 2023-04-24\n"
     ]
    },
    {
     "name": "stderr",
     "output_type": "stream",
     "text": [
      "/opt/anaconda3/envs/clean_env/lib/python3.9/site-packages/google/cloud/bigquery/table.py:2309: UserWarning: Unable to represent RANGE schema as struct using pandas ArrowDtype. Using `object` instead. To use ArrowDtype, use pandas >= 1.5 and pyarrow >= 10.0.1.\n",
      "  warnings.warn(_RANGE_PYARROW_WARNING)\n",
      "/opt/anaconda3/envs/clean_env/lib/python3.9/site-packages/google/cloud/bigquery/table.py:2323: UserWarning: Unable to represent RANGE schema as struct using pandas ArrowDtype. Using `object` instead. To use ArrowDtype, use pandas >= 1.5 and pyarrow >= 10.0.1.\n",
      "  warnings.warn(_RANGE_PYARROW_WARNING)\n",
      "/opt/anaconda3/envs/clean_env/lib/python3.9/site-packages/google/cloud/bigquery/table.py:2337: UserWarning: Unable to represent RANGE schema as struct using pandas ArrowDtype. Using `object` instead. To use ArrowDtype, use pandas >= 1.5 and pyarrow >= 10.0.1.\n",
      "  warnings.warn(_RANGE_PYARROW_WARNING)\n"
     ]
    },
    {
     "name": "stdout",
     "output_type": "stream",
     "text": [
      "Processed data for 2023-04-24\n",
      "Fetching data for 2023-04-25\n"
     ]
    },
    {
     "name": "stderr",
     "output_type": "stream",
     "text": [
      "/opt/anaconda3/envs/clean_env/lib/python3.9/site-packages/google/cloud/bigquery/table.py:2309: UserWarning: Unable to represent RANGE schema as struct using pandas ArrowDtype. Using `object` instead. To use ArrowDtype, use pandas >= 1.5 and pyarrow >= 10.0.1.\n",
      "  warnings.warn(_RANGE_PYARROW_WARNING)\n",
      "/opt/anaconda3/envs/clean_env/lib/python3.9/site-packages/google/cloud/bigquery/table.py:2323: UserWarning: Unable to represent RANGE schema as struct using pandas ArrowDtype. Using `object` instead. To use ArrowDtype, use pandas >= 1.5 and pyarrow >= 10.0.1.\n",
      "  warnings.warn(_RANGE_PYARROW_WARNING)\n",
      "/opt/anaconda3/envs/clean_env/lib/python3.9/site-packages/google/cloud/bigquery/table.py:2337: UserWarning: Unable to represent RANGE schema as struct using pandas ArrowDtype. Using `object` instead. To use ArrowDtype, use pandas >= 1.5 and pyarrow >= 10.0.1.\n",
      "  warnings.warn(_RANGE_PYARROW_WARNING)\n"
     ]
    },
    {
     "name": "stdout",
     "output_type": "stream",
     "text": [
      "Processed data for 2023-04-25\n",
      "Fetching data for 2023-04-26\n"
     ]
    },
    {
     "name": "stderr",
     "output_type": "stream",
     "text": [
      "/opt/anaconda3/envs/clean_env/lib/python3.9/site-packages/google/cloud/bigquery/table.py:2309: UserWarning: Unable to represent RANGE schema as struct using pandas ArrowDtype. Using `object` instead. To use ArrowDtype, use pandas >= 1.5 and pyarrow >= 10.0.1.\n",
      "  warnings.warn(_RANGE_PYARROW_WARNING)\n",
      "/opt/anaconda3/envs/clean_env/lib/python3.9/site-packages/google/cloud/bigquery/table.py:2323: UserWarning: Unable to represent RANGE schema as struct using pandas ArrowDtype. Using `object` instead. To use ArrowDtype, use pandas >= 1.5 and pyarrow >= 10.0.1.\n",
      "  warnings.warn(_RANGE_PYARROW_WARNING)\n",
      "/opt/anaconda3/envs/clean_env/lib/python3.9/site-packages/google/cloud/bigquery/table.py:2337: UserWarning: Unable to represent RANGE schema as struct using pandas ArrowDtype. Using `object` instead. To use ArrowDtype, use pandas >= 1.5 and pyarrow >= 10.0.1.\n",
      "  warnings.warn(_RANGE_PYARROW_WARNING)\n"
     ]
    },
    {
     "name": "stdout",
     "output_type": "stream",
     "text": [
      "Processed data for 2023-04-26\n",
      "Fetching data for 2023-04-27\n"
     ]
    },
    {
     "name": "stderr",
     "output_type": "stream",
     "text": [
      "/opt/anaconda3/envs/clean_env/lib/python3.9/site-packages/google/cloud/bigquery/table.py:2309: UserWarning: Unable to represent RANGE schema as struct using pandas ArrowDtype. Using `object` instead. To use ArrowDtype, use pandas >= 1.5 and pyarrow >= 10.0.1.\n",
      "  warnings.warn(_RANGE_PYARROW_WARNING)\n",
      "/opt/anaconda3/envs/clean_env/lib/python3.9/site-packages/google/cloud/bigquery/table.py:2323: UserWarning: Unable to represent RANGE schema as struct using pandas ArrowDtype. Using `object` instead. To use ArrowDtype, use pandas >= 1.5 and pyarrow >= 10.0.1.\n",
      "  warnings.warn(_RANGE_PYARROW_WARNING)\n",
      "/opt/anaconda3/envs/clean_env/lib/python3.9/site-packages/google/cloud/bigquery/table.py:2337: UserWarning: Unable to represent RANGE schema as struct using pandas ArrowDtype. Using `object` instead. To use ArrowDtype, use pandas >= 1.5 and pyarrow >= 10.0.1.\n",
      "  warnings.warn(_RANGE_PYARROW_WARNING)\n"
     ]
    },
    {
     "name": "stdout",
     "output_type": "stream",
     "text": [
      "Processed data for 2023-04-27\n",
      "Fetching data for 2023-04-28\n"
     ]
    },
    {
     "name": "stderr",
     "output_type": "stream",
     "text": [
      "/opt/anaconda3/envs/clean_env/lib/python3.9/site-packages/google/cloud/bigquery/table.py:2309: UserWarning: Unable to represent RANGE schema as struct using pandas ArrowDtype. Using `object` instead. To use ArrowDtype, use pandas >= 1.5 and pyarrow >= 10.0.1.\n",
      "  warnings.warn(_RANGE_PYARROW_WARNING)\n",
      "/opt/anaconda3/envs/clean_env/lib/python3.9/site-packages/google/cloud/bigquery/table.py:2323: UserWarning: Unable to represent RANGE schema as struct using pandas ArrowDtype. Using `object` instead. To use ArrowDtype, use pandas >= 1.5 and pyarrow >= 10.0.1.\n",
      "  warnings.warn(_RANGE_PYARROW_WARNING)\n",
      "/opt/anaconda3/envs/clean_env/lib/python3.9/site-packages/google/cloud/bigquery/table.py:2337: UserWarning: Unable to represent RANGE schema as struct using pandas ArrowDtype. Using `object` instead. To use ArrowDtype, use pandas >= 1.5 and pyarrow >= 10.0.1.\n",
      "  warnings.warn(_RANGE_PYARROW_WARNING)\n"
     ]
    },
    {
     "name": "stdout",
     "output_type": "stream",
     "text": [
      "Processed data for 2023-04-28\n",
      "Fetching data for 2023-04-29\n"
     ]
    },
    {
     "name": "stderr",
     "output_type": "stream",
     "text": [
      "/opt/anaconda3/envs/clean_env/lib/python3.9/site-packages/google/cloud/bigquery/table.py:2309: UserWarning: Unable to represent RANGE schema as struct using pandas ArrowDtype. Using `object` instead. To use ArrowDtype, use pandas >= 1.5 and pyarrow >= 10.0.1.\n",
      "  warnings.warn(_RANGE_PYARROW_WARNING)\n",
      "/opt/anaconda3/envs/clean_env/lib/python3.9/site-packages/google/cloud/bigquery/table.py:2323: UserWarning: Unable to represent RANGE schema as struct using pandas ArrowDtype. Using `object` instead. To use ArrowDtype, use pandas >= 1.5 and pyarrow >= 10.0.1.\n",
      "  warnings.warn(_RANGE_PYARROW_WARNING)\n",
      "/opt/anaconda3/envs/clean_env/lib/python3.9/site-packages/google/cloud/bigquery/table.py:2337: UserWarning: Unable to represent RANGE schema as struct using pandas ArrowDtype. Using `object` instead. To use ArrowDtype, use pandas >= 1.5 and pyarrow >= 10.0.1.\n",
      "  warnings.warn(_RANGE_PYARROW_WARNING)\n"
     ]
    },
    {
     "name": "stdout",
     "output_type": "stream",
     "text": [
      "Processed data for 2023-04-29\n",
      "Fetching data for 2023-04-30\n"
     ]
    },
    {
     "name": "stderr",
     "output_type": "stream",
     "text": [
      "/opt/anaconda3/envs/clean_env/lib/python3.9/site-packages/google/cloud/bigquery/table.py:2309: UserWarning: Unable to represent RANGE schema as struct using pandas ArrowDtype. Using `object` instead. To use ArrowDtype, use pandas >= 1.5 and pyarrow >= 10.0.1.\n",
      "  warnings.warn(_RANGE_PYARROW_WARNING)\n",
      "/opt/anaconda3/envs/clean_env/lib/python3.9/site-packages/google/cloud/bigquery/table.py:2323: UserWarning: Unable to represent RANGE schema as struct using pandas ArrowDtype. Using `object` instead. To use ArrowDtype, use pandas >= 1.5 and pyarrow >= 10.0.1.\n",
      "  warnings.warn(_RANGE_PYARROW_WARNING)\n",
      "/opt/anaconda3/envs/clean_env/lib/python3.9/site-packages/google/cloud/bigquery/table.py:2337: UserWarning: Unable to represent RANGE schema as struct using pandas ArrowDtype. Using `object` instead. To use ArrowDtype, use pandas >= 1.5 and pyarrow >= 10.0.1.\n",
      "  warnings.warn(_RANGE_PYARROW_WARNING)\n"
     ]
    },
    {
     "name": "stdout",
     "output_type": "stream",
     "text": [
      "Processed data for 2023-04-30\n",
      "Fetching data for 2023-05-01\n"
     ]
    },
    {
     "name": "stderr",
     "output_type": "stream",
     "text": [
      "/opt/anaconda3/envs/clean_env/lib/python3.9/site-packages/google/cloud/bigquery/table.py:2309: UserWarning: Unable to represent RANGE schema as struct using pandas ArrowDtype. Using `object` instead. To use ArrowDtype, use pandas >= 1.5 and pyarrow >= 10.0.1.\n",
      "  warnings.warn(_RANGE_PYARROW_WARNING)\n",
      "/opt/anaconda3/envs/clean_env/lib/python3.9/site-packages/google/cloud/bigquery/table.py:2323: UserWarning: Unable to represent RANGE schema as struct using pandas ArrowDtype. Using `object` instead. To use ArrowDtype, use pandas >= 1.5 and pyarrow >= 10.0.1.\n",
      "  warnings.warn(_RANGE_PYARROW_WARNING)\n",
      "/opt/anaconda3/envs/clean_env/lib/python3.9/site-packages/google/cloud/bigquery/table.py:2337: UserWarning: Unable to represent RANGE schema as struct using pandas ArrowDtype. Using `object` instead. To use ArrowDtype, use pandas >= 1.5 and pyarrow >= 10.0.1.\n",
      "  warnings.warn(_RANGE_PYARROW_WARNING)\n"
     ]
    },
    {
     "name": "stdout",
     "output_type": "stream",
     "text": [
      "Processed data for 2023-05-01\n",
      "Fetching data for 2023-05-02\n"
     ]
    },
    {
     "name": "stderr",
     "output_type": "stream",
     "text": [
      "/opt/anaconda3/envs/clean_env/lib/python3.9/site-packages/google/cloud/bigquery/table.py:2309: UserWarning: Unable to represent RANGE schema as struct using pandas ArrowDtype. Using `object` instead. To use ArrowDtype, use pandas >= 1.5 and pyarrow >= 10.0.1.\n",
      "  warnings.warn(_RANGE_PYARROW_WARNING)\n",
      "/opt/anaconda3/envs/clean_env/lib/python3.9/site-packages/google/cloud/bigquery/table.py:2323: UserWarning: Unable to represent RANGE schema as struct using pandas ArrowDtype. Using `object` instead. To use ArrowDtype, use pandas >= 1.5 and pyarrow >= 10.0.1.\n",
      "  warnings.warn(_RANGE_PYARROW_WARNING)\n",
      "/opt/anaconda3/envs/clean_env/lib/python3.9/site-packages/google/cloud/bigquery/table.py:2337: UserWarning: Unable to represent RANGE schema as struct using pandas ArrowDtype. Using `object` instead. To use ArrowDtype, use pandas >= 1.5 and pyarrow >= 10.0.1.\n",
      "  warnings.warn(_RANGE_PYARROW_WARNING)\n"
     ]
    },
    {
     "name": "stdout",
     "output_type": "stream",
     "text": [
      "Processed data for 2023-05-02\n",
      "Fetching data for 2023-05-03\n"
     ]
    },
    {
     "name": "stderr",
     "output_type": "stream",
     "text": [
      "/opt/anaconda3/envs/clean_env/lib/python3.9/site-packages/google/cloud/bigquery/table.py:2309: UserWarning: Unable to represent RANGE schema as struct using pandas ArrowDtype. Using `object` instead. To use ArrowDtype, use pandas >= 1.5 and pyarrow >= 10.0.1.\n",
      "  warnings.warn(_RANGE_PYARROW_WARNING)\n",
      "/opt/anaconda3/envs/clean_env/lib/python3.9/site-packages/google/cloud/bigquery/table.py:2323: UserWarning: Unable to represent RANGE schema as struct using pandas ArrowDtype. Using `object` instead. To use ArrowDtype, use pandas >= 1.5 and pyarrow >= 10.0.1.\n",
      "  warnings.warn(_RANGE_PYARROW_WARNING)\n",
      "/opt/anaconda3/envs/clean_env/lib/python3.9/site-packages/google/cloud/bigquery/table.py:2337: UserWarning: Unable to represent RANGE schema as struct using pandas ArrowDtype. Using `object` instead. To use ArrowDtype, use pandas >= 1.5 and pyarrow >= 10.0.1.\n",
      "  warnings.warn(_RANGE_PYARROW_WARNING)\n"
     ]
    },
    {
     "name": "stdout",
     "output_type": "stream",
     "text": [
      "Processed data for 2023-05-03\n",
      "Fetching data for 2023-05-04\n"
     ]
    },
    {
     "name": "stderr",
     "output_type": "stream",
     "text": [
      "/opt/anaconda3/envs/clean_env/lib/python3.9/site-packages/google/cloud/bigquery/table.py:2309: UserWarning: Unable to represent RANGE schema as struct using pandas ArrowDtype. Using `object` instead. To use ArrowDtype, use pandas >= 1.5 and pyarrow >= 10.0.1.\n",
      "  warnings.warn(_RANGE_PYARROW_WARNING)\n",
      "/opt/anaconda3/envs/clean_env/lib/python3.9/site-packages/google/cloud/bigquery/table.py:2323: UserWarning: Unable to represent RANGE schema as struct using pandas ArrowDtype. Using `object` instead. To use ArrowDtype, use pandas >= 1.5 and pyarrow >= 10.0.1.\n",
      "  warnings.warn(_RANGE_PYARROW_WARNING)\n",
      "/opt/anaconda3/envs/clean_env/lib/python3.9/site-packages/google/cloud/bigquery/table.py:2337: UserWarning: Unable to represent RANGE schema as struct using pandas ArrowDtype. Using `object` instead. To use ArrowDtype, use pandas >= 1.5 and pyarrow >= 10.0.1.\n",
      "  warnings.warn(_RANGE_PYARROW_WARNING)\n"
     ]
    },
    {
     "name": "stdout",
     "output_type": "stream",
     "text": [
      "Processed data for 2023-05-04\n",
      "Fetching data for 2023-05-05\n"
     ]
    },
    {
     "name": "stderr",
     "output_type": "stream",
     "text": [
      "/opt/anaconda3/envs/clean_env/lib/python3.9/site-packages/google/cloud/bigquery/table.py:2309: UserWarning: Unable to represent RANGE schema as struct using pandas ArrowDtype. Using `object` instead. To use ArrowDtype, use pandas >= 1.5 and pyarrow >= 10.0.1.\n",
      "  warnings.warn(_RANGE_PYARROW_WARNING)\n",
      "/opt/anaconda3/envs/clean_env/lib/python3.9/site-packages/google/cloud/bigquery/table.py:2323: UserWarning: Unable to represent RANGE schema as struct using pandas ArrowDtype. Using `object` instead. To use ArrowDtype, use pandas >= 1.5 and pyarrow >= 10.0.1.\n",
      "  warnings.warn(_RANGE_PYARROW_WARNING)\n",
      "/opt/anaconda3/envs/clean_env/lib/python3.9/site-packages/google/cloud/bigquery/table.py:2337: UserWarning: Unable to represent RANGE schema as struct using pandas ArrowDtype. Using `object` instead. To use ArrowDtype, use pandas >= 1.5 and pyarrow >= 10.0.1.\n",
      "  warnings.warn(_RANGE_PYARROW_WARNING)\n"
     ]
    },
    {
     "name": "stdout",
     "output_type": "stream",
     "text": [
      "Processed data for 2023-05-05\n",
      "Fetching data for 2023-05-06\n"
     ]
    },
    {
     "name": "stderr",
     "output_type": "stream",
     "text": [
      "/opt/anaconda3/envs/clean_env/lib/python3.9/site-packages/google/cloud/bigquery/table.py:2309: UserWarning: Unable to represent RANGE schema as struct using pandas ArrowDtype. Using `object` instead. To use ArrowDtype, use pandas >= 1.5 and pyarrow >= 10.0.1.\n",
      "  warnings.warn(_RANGE_PYARROW_WARNING)\n",
      "/opt/anaconda3/envs/clean_env/lib/python3.9/site-packages/google/cloud/bigquery/table.py:2323: UserWarning: Unable to represent RANGE schema as struct using pandas ArrowDtype. Using `object` instead. To use ArrowDtype, use pandas >= 1.5 and pyarrow >= 10.0.1.\n",
      "  warnings.warn(_RANGE_PYARROW_WARNING)\n",
      "/opt/anaconda3/envs/clean_env/lib/python3.9/site-packages/google/cloud/bigquery/table.py:2337: UserWarning: Unable to represent RANGE schema as struct using pandas ArrowDtype. Using `object` instead. To use ArrowDtype, use pandas >= 1.5 and pyarrow >= 10.0.1.\n",
      "  warnings.warn(_RANGE_PYARROW_WARNING)\n"
     ]
    },
    {
     "name": "stdout",
     "output_type": "stream",
     "text": [
      "Processed data for 2023-05-06\n",
      "Fetching data for 2023-05-07\n"
     ]
    },
    {
     "name": "stderr",
     "output_type": "stream",
     "text": [
      "/opt/anaconda3/envs/clean_env/lib/python3.9/site-packages/google/cloud/bigquery/table.py:2309: UserWarning: Unable to represent RANGE schema as struct using pandas ArrowDtype. Using `object` instead. To use ArrowDtype, use pandas >= 1.5 and pyarrow >= 10.0.1.\n",
      "  warnings.warn(_RANGE_PYARROW_WARNING)\n",
      "/opt/anaconda3/envs/clean_env/lib/python3.9/site-packages/google/cloud/bigquery/table.py:2323: UserWarning: Unable to represent RANGE schema as struct using pandas ArrowDtype. Using `object` instead. To use ArrowDtype, use pandas >= 1.5 and pyarrow >= 10.0.1.\n",
      "  warnings.warn(_RANGE_PYARROW_WARNING)\n",
      "/opt/anaconda3/envs/clean_env/lib/python3.9/site-packages/google/cloud/bigquery/table.py:2337: UserWarning: Unable to represent RANGE schema as struct using pandas ArrowDtype. Using `object` instead. To use ArrowDtype, use pandas >= 1.5 and pyarrow >= 10.0.1.\n",
      "  warnings.warn(_RANGE_PYARROW_WARNING)\n"
     ]
    },
    {
     "name": "stdout",
     "output_type": "stream",
     "text": [
      "Processed data for 2023-05-07\n",
      "Fetching data for 2023-05-08\n"
     ]
    },
    {
     "name": "stderr",
     "output_type": "stream",
     "text": [
      "/opt/anaconda3/envs/clean_env/lib/python3.9/site-packages/google/cloud/bigquery/table.py:2309: UserWarning: Unable to represent RANGE schema as struct using pandas ArrowDtype. Using `object` instead. To use ArrowDtype, use pandas >= 1.5 and pyarrow >= 10.0.1.\n",
      "  warnings.warn(_RANGE_PYARROW_WARNING)\n",
      "/opt/anaconda3/envs/clean_env/lib/python3.9/site-packages/google/cloud/bigquery/table.py:2323: UserWarning: Unable to represent RANGE schema as struct using pandas ArrowDtype. Using `object` instead. To use ArrowDtype, use pandas >= 1.5 and pyarrow >= 10.0.1.\n",
      "  warnings.warn(_RANGE_PYARROW_WARNING)\n",
      "/opt/anaconda3/envs/clean_env/lib/python3.9/site-packages/google/cloud/bigquery/table.py:2337: UserWarning: Unable to represent RANGE schema as struct using pandas ArrowDtype. Using `object` instead. To use ArrowDtype, use pandas >= 1.5 and pyarrow >= 10.0.1.\n",
      "  warnings.warn(_RANGE_PYARROW_WARNING)\n"
     ]
    },
    {
     "name": "stdout",
     "output_type": "stream",
     "text": [
      "Processed data for 2023-05-08\n",
      "Fetching data for 2023-05-09\n"
     ]
    },
    {
     "name": "stderr",
     "output_type": "stream",
     "text": [
      "/opt/anaconda3/envs/clean_env/lib/python3.9/site-packages/google/cloud/bigquery/table.py:2309: UserWarning: Unable to represent RANGE schema as struct using pandas ArrowDtype. Using `object` instead. To use ArrowDtype, use pandas >= 1.5 and pyarrow >= 10.0.1.\n",
      "  warnings.warn(_RANGE_PYARROW_WARNING)\n",
      "/opt/anaconda3/envs/clean_env/lib/python3.9/site-packages/google/cloud/bigquery/table.py:2323: UserWarning: Unable to represent RANGE schema as struct using pandas ArrowDtype. Using `object` instead. To use ArrowDtype, use pandas >= 1.5 and pyarrow >= 10.0.1.\n",
      "  warnings.warn(_RANGE_PYARROW_WARNING)\n",
      "/opt/anaconda3/envs/clean_env/lib/python3.9/site-packages/google/cloud/bigquery/table.py:2337: UserWarning: Unable to represent RANGE schema as struct using pandas ArrowDtype. Using `object` instead. To use ArrowDtype, use pandas >= 1.5 and pyarrow >= 10.0.1.\n",
      "  warnings.warn(_RANGE_PYARROW_WARNING)\n"
     ]
    },
    {
     "name": "stdout",
     "output_type": "stream",
     "text": [
      "Processed data for 2023-05-09\n",
      "Fetching data for 2023-05-10\n"
     ]
    },
    {
     "name": "stderr",
     "output_type": "stream",
     "text": [
      "/opt/anaconda3/envs/clean_env/lib/python3.9/site-packages/google/cloud/bigquery/table.py:2309: UserWarning: Unable to represent RANGE schema as struct using pandas ArrowDtype. Using `object` instead. To use ArrowDtype, use pandas >= 1.5 and pyarrow >= 10.0.1.\n",
      "  warnings.warn(_RANGE_PYARROW_WARNING)\n",
      "/opt/anaconda3/envs/clean_env/lib/python3.9/site-packages/google/cloud/bigquery/table.py:2323: UserWarning: Unable to represent RANGE schema as struct using pandas ArrowDtype. Using `object` instead. To use ArrowDtype, use pandas >= 1.5 and pyarrow >= 10.0.1.\n",
      "  warnings.warn(_RANGE_PYARROW_WARNING)\n",
      "/opt/anaconda3/envs/clean_env/lib/python3.9/site-packages/google/cloud/bigquery/table.py:2337: UserWarning: Unable to represent RANGE schema as struct using pandas ArrowDtype. Using `object` instead. To use ArrowDtype, use pandas >= 1.5 and pyarrow >= 10.0.1.\n",
      "  warnings.warn(_RANGE_PYARROW_WARNING)\n"
     ]
    },
    {
     "name": "stdout",
     "output_type": "stream",
     "text": [
      "Processed data for 2023-05-10\n",
      "Fetching data for 2023-05-11\n"
     ]
    },
    {
     "name": "stderr",
     "output_type": "stream",
     "text": [
      "/opt/anaconda3/envs/clean_env/lib/python3.9/site-packages/google/cloud/bigquery/table.py:2309: UserWarning: Unable to represent RANGE schema as struct using pandas ArrowDtype. Using `object` instead. To use ArrowDtype, use pandas >= 1.5 and pyarrow >= 10.0.1.\n",
      "  warnings.warn(_RANGE_PYARROW_WARNING)\n",
      "/opt/anaconda3/envs/clean_env/lib/python3.9/site-packages/google/cloud/bigquery/table.py:2323: UserWarning: Unable to represent RANGE schema as struct using pandas ArrowDtype. Using `object` instead. To use ArrowDtype, use pandas >= 1.5 and pyarrow >= 10.0.1.\n",
      "  warnings.warn(_RANGE_PYARROW_WARNING)\n",
      "/opt/anaconda3/envs/clean_env/lib/python3.9/site-packages/google/cloud/bigquery/table.py:2337: UserWarning: Unable to represent RANGE schema as struct using pandas ArrowDtype. Using `object` instead. To use ArrowDtype, use pandas >= 1.5 and pyarrow >= 10.0.1.\n",
      "  warnings.warn(_RANGE_PYARROW_WARNING)\n"
     ]
    },
    {
     "name": "stdout",
     "output_type": "stream",
     "text": [
      "Processed data for 2023-05-11\n",
      "Fetching data for 2023-05-12\n"
     ]
    },
    {
     "name": "stderr",
     "output_type": "stream",
     "text": [
      "/opt/anaconda3/envs/clean_env/lib/python3.9/site-packages/google/cloud/bigquery/table.py:2309: UserWarning: Unable to represent RANGE schema as struct using pandas ArrowDtype. Using `object` instead. To use ArrowDtype, use pandas >= 1.5 and pyarrow >= 10.0.1.\n",
      "  warnings.warn(_RANGE_PYARROW_WARNING)\n",
      "/opt/anaconda3/envs/clean_env/lib/python3.9/site-packages/google/cloud/bigquery/table.py:2323: UserWarning: Unable to represent RANGE schema as struct using pandas ArrowDtype. Using `object` instead. To use ArrowDtype, use pandas >= 1.5 and pyarrow >= 10.0.1.\n",
      "  warnings.warn(_RANGE_PYARROW_WARNING)\n",
      "/opt/anaconda3/envs/clean_env/lib/python3.9/site-packages/google/cloud/bigquery/table.py:2337: UserWarning: Unable to represent RANGE schema as struct using pandas ArrowDtype. Using `object` instead. To use ArrowDtype, use pandas >= 1.5 and pyarrow >= 10.0.1.\n",
      "  warnings.warn(_RANGE_PYARROW_WARNING)\n"
     ]
    },
    {
     "name": "stdout",
     "output_type": "stream",
     "text": [
      "Processed data for 2023-05-12\n",
      "Fetching data for 2023-05-13\n"
     ]
    },
    {
     "name": "stderr",
     "output_type": "stream",
     "text": [
      "/opt/anaconda3/envs/clean_env/lib/python3.9/site-packages/google/cloud/bigquery/table.py:2309: UserWarning: Unable to represent RANGE schema as struct using pandas ArrowDtype. Using `object` instead. To use ArrowDtype, use pandas >= 1.5 and pyarrow >= 10.0.1.\n",
      "  warnings.warn(_RANGE_PYARROW_WARNING)\n",
      "/opt/anaconda3/envs/clean_env/lib/python3.9/site-packages/google/cloud/bigquery/table.py:2323: UserWarning: Unable to represent RANGE schema as struct using pandas ArrowDtype. Using `object` instead. To use ArrowDtype, use pandas >= 1.5 and pyarrow >= 10.0.1.\n",
      "  warnings.warn(_RANGE_PYARROW_WARNING)\n",
      "/opt/anaconda3/envs/clean_env/lib/python3.9/site-packages/google/cloud/bigquery/table.py:2337: UserWarning: Unable to represent RANGE schema as struct using pandas ArrowDtype. Using `object` instead. To use ArrowDtype, use pandas >= 1.5 and pyarrow >= 10.0.1.\n",
      "  warnings.warn(_RANGE_PYARROW_WARNING)\n"
     ]
    },
    {
     "name": "stdout",
     "output_type": "stream",
     "text": [
      "Processed data for 2023-05-13\n",
      "Fetching data for 2023-05-14\n"
     ]
    },
    {
     "name": "stderr",
     "output_type": "stream",
     "text": [
      "/opt/anaconda3/envs/clean_env/lib/python3.9/site-packages/google/cloud/bigquery/table.py:2309: UserWarning: Unable to represent RANGE schema as struct using pandas ArrowDtype. Using `object` instead. To use ArrowDtype, use pandas >= 1.5 and pyarrow >= 10.0.1.\n",
      "  warnings.warn(_RANGE_PYARROW_WARNING)\n",
      "/opt/anaconda3/envs/clean_env/lib/python3.9/site-packages/google/cloud/bigquery/table.py:2323: UserWarning: Unable to represent RANGE schema as struct using pandas ArrowDtype. Using `object` instead. To use ArrowDtype, use pandas >= 1.5 and pyarrow >= 10.0.1.\n",
      "  warnings.warn(_RANGE_PYARROW_WARNING)\n",
      "/opt/anaconda3/envs/clean_env/lib/python3.9/site-packages/google/cloud/bigquery/table.py:2337: UserWarning: Unable to represent RANGE schema as struct using pandas ArrowDtype. Using `object` instead. To use ArrowDtype, use pandas >= 1.5 and pyarrow >= 10.0.1.\n",
      "  warnings.warn(_RANGE_PYARROW_WARNING)\n"
     ]
    },
    {
     "name": "stdout",
     "output_type": "stream",
     "text": [
      "Processed data for 2023-05-14\n",
      "Fetching data for 2023-05-15\n"
     ]
    },
    {
     "name": "stderr",
     "output_type": "stream",
     "text": [
      "/opt/anaconda3/envs/clean_env/lib/python3.9/site-packages/google/cloud/bigquery/table.py:2309: UserWarning: Unable to represent RANGE schema as struct using pandas ArrowDtype. Using `object` instead. To use ArrowDtype, use pandas >= 1.5 and pyarrow >= 10.0.1.\n",
      "  warnings.warn(_RANGE_PYARROW_WARNING)\n",
      "/opt/anaconda3/envs/clean_env/lib/python3.9/site-packages/google/cloud/bigquery/table.py:2323: UserWarning: Unable to represent RANGE schema as struct using pandas ArrowDtype. Using `object` instead. To use ArrowDtype, use pandas >= 1.5 and pyarrow >= 10.0.1.\n",
      "  warnings.warn(_RANGE_PYARROW_WARNING)\n",
      "/opt/anaconda3/envs/clean_env/lib/python3.9/site-packages/google/cloud/bigquery/table.py:2337: UserWarning: Unable to represent RANGE schema as struct using pandas ArrowDtype. Using `object` instead. To use ArrowDtype, use pandas >= 1.5 and pyarrow >= 10.0.1.\n",
      "  warnings.warn(_RANGE_PYARROW_WARNING)\n"
     ]
    },
    {
     "name": "stdout",
     "output_type": "stream",
     "text": [
      "Processed data for 2023-05-15\n",
      "Fetching data for 2023-05-16\n"
     ]
    },
    {
     "name": "stderr",
     "output_type": "stream",
     "text": [
      "/opt/anaconda3/envs/clean_env/lib/python3.9/site-packages/google/cloud/bigquery/table.py:2309: UserWarning: Unable to represent RANGE schema as struct using pandas ArrowDtype. Using `object` instead. To use ArrowDtype, use pandas >= 1.5 and pyarrow >= 10.0.1.\n",
      "  warnings.warn(_RANGE_PYARROW_WARNING)\n",
      "/opt/anaconda3/envs/clean_env/lib/python3.9/site-packages/google/cloud/bigquery/table.py:2323: UserWarning: Unable to represent RANGE schema as struct using pandas ArrowDtype. Using `object` instead. To use ArrowDtype, use pandas >= 1.5 and pyarrow >= 10.0.1.\n",
      "  warnings.warn(_RANGE_PYARROW_WARNING)\n",
      "/opt/anaconda3/envs/clean_env/lib/python3.9/site-packages/google/cloud/bigquery/table.py:2337: UserWarning: Unable to represent RANGE schema as struct using pandas ArrowDtype. Using `object` instead. To use ArrowDtype, use pandas >= 1.5 and pyarrow >= 10.0.1.\n",
      "  warnings.warn(_RANGE_PYARROW_WARNING)\n"
     ]
    },
    {
     "name": "stdout",
     "output_type": "stream",
     "text": [
      "Processed data for 2023-05-16\n",
      "Fetching data for 2023-05-17\n"
     ]
    },
    {
     "name": "stderr",
     "output_type": "stream",
     "text": [
      "/opt/anaconda3/envs/clean_env/lib/python3.9/site-packages/google/cloud/bigquery/table.py:2309: UserWarning: Unable to represent RANGE schema as struct using pandas ArrowDtype. Using `object` instead. To use ArrowDtype, use pandas >= 1.5 and pyarrow >= 10.0.1.\n",
      "  warnings.warn(_RANGE_PYARROW_WARNING)\n",
      "/opt/anaconda3/envs/clean_env/lib/python3.9/site-packages/google/cloud/bigquery/table.py:2323: UserWarning: Unable to represent RANGE schema as struct using pandas ArrowDtype. Using `object` instead. To use ArrowDtype, use pandas >= 1.5 and pyarrow >= 10.0.1.\n",
      "  warnings.warn(_RANGE_PYARROW_WARNING)\n",
      "/opt/anaconda3/envs/clean_env/lib/python3.9/site-packages/google/cloud/bigquery/table.py:2337: UserWarning: Unable to represent RANGE schema as struct using pandas ArrowDtype. Using `object` instead. To use ArrowDtype, use pandas >= 1.5 and pyarrow >= 10.0.1.\n",
      "  warnings.warn(_RANGE_PYARROW_WARNING)\n"
     ]
    },
    {
     "name": "stdout",
     "output_type": "stream",
     "text": [
      "Processed data for 2023-05-17\n",
      "Fetching data for 2023-05-18\n"
     ]
    },
    {
     "name": "stderr",
     "output_type": "stream",
     "text": [
      "/opt/anaconda3/envs/clean_env/lib/python3.9/site-packages/google/cloud/bigquery/table.py:2309: UserWarning: Unable to represent RANGE schema as struct using pandas ArrowDtype. Using `object` instead. To use ArrowDtype, use pandas >= 1.5 and pyarrow >= 10.0.1.\n",
      "  warnings.warn(_RANGE_PYARROW_WARNING)\n",
      "/opt/anaconda3/envs/clean_env/lib/python3.9/site-packages/google/cloud/bigquery/table.py:2323: UserWarning: Unable to represent RANGE schema as struct using pandas ArrowDtype. Using `object` instead. To use ArrowDtype, use pandas >= 1.5 and pyarrow >= 10.0.1.\n",
      "  warnings.warn(_RANGE_PYARROW_WARNING)\n",
      "/opt/anaconda3/envs/clean_env/lib/python3.9/site-packages/google/cloud/bigquery/table.py:2337: UserWarning: Unable to represent RANGE schema as struct using pandas ArrowDtype. Using `object` instead. To use ArrowDtype, use pandas >= 1.5 and pyarrow >= 10.0.1.\n",
      "  warnings.warn(_RANGE_PYARROW_WARNING)\n"
     ]
    },
    {
     "name": "stdout",
     "output_type": "stream",
     "text": [
      "Processed data for 2023-05-18\n",
      "Fetching data for 2023-05-19\n"
     ]
    },
    {
     "name": "stderr",
     "output_type": "stream",
     "text": [
      "/opt/anaconda3/envs/clean_env/lib/python3.9/site-packages/google/cloud/bigquery/table.py:2309: UserWarning: Unable to represent RANGE schema as struct using pandas ArrowDtype. Using `object` instead. To use ArrowDtype, use pandas >= 1.5 and pyarrow >= 10.0.1.\n",
      "  warnings.warn(_RANGE_PYARROW_WARNING)\n",
      "/opt/anaconda3/envs/clean_env/lib/python3.9/site-packages/google/cloud/bigquery/table.py:2323: UserWarning: Unable to represent RANGE schema as struct using pandas ArrowDtype. Using `object` instead. To use ArrowDtype, use pandas >= 1.5 and pyarrow >= 10.0.1.\n",
      "  warnings.warn(_RANGE_PYARROW_WARNING)\n",
      "/opt/anaconda3/envs/clean_env/lib/python3.9/site-packages/google/cloud/bigquery/table.py:2337: UserWarning: Unable to represent RANGE schema as struct using pandas ArrowDtype. Using `object` instead. To use ArrowDtype, use pandas >= 1.5 and pyarrow >= 10.0.1.\n",
      "  warnings.warn(_RANGE_PYARROW_WARNING)\n"
     ]
    },
    {
     "name": "stdout",
     "output_type": "stream",
     "text": [
      "Processed data for 2023-05-19\n",
      "Fetching data for 2023-05-20\n"
     ]
    },
    {
     "name": "stderr",
     "output_type": "stream",
     "text": [
      "/opt/anaconda3/envs/clean_env/lib/python3.9/site-packages/google/cloud/bigquery/table.py:2309: UserWarning: Unable to represent RANGE schema as struct using pandas ArrowDtype. Using `object` instead. To use ArrowDtype, use pandas >= 1.5 and pyarrow >= 10.0.1.\n",
      "  warnings.warn(_RANGE_PYARROW_WARNING)\n",
      "/opt/anaconda3/envs/clean_env/lib/python3.9/site-packages/google/cloud/bigquery/table.py:2323: UserWarning: Unable to represent RANGE schema as struct using pandas ArrowDtype. Using `object` instead. To use ArrowDtype, use pandas >= 1.5 and pyarrow >= 10.0.1.\n",
      "  warnings.warn(_RANGE_PYARROW_WARNING)\n",
      "/opt/anaconda3/envs/clean_env/lib/python3.9/site-packages/google/cloud/bigquery/table.py:2337: UserWarning: Unable to represent RANGE schema as struct using pandas ArrowDtype. Using `object` instead. To use ArrowDtype, use pandas >= 1.5 and pyarrow >= 10.0.1.\n",
      "  warnings.warn(_RANGE_PYARROW_WARNING)\n"
     ]
    },
    {
     "name": "stdout",
     "output_type": "stream",
     "text": [
      "Processed data for 2023-05-20\n",
      "Fetching data for 2023-05-21\n"
     ]
    },
    {
     "name": "stderr",
     "output_type": "stream",
     "text": [
      "/opt/anaconda3/envs/clean_env/lib/python3.9/site-packages/google/cloud/bigquery/table.py:2309: UserWarning: Unable to represent RANGE schema as struct using pandas ArrowDtype. Using `object` instead. To use ArrowDtype, use pandas >= 1.5 and pyarrow >= 10.0.1.\n",
      "  warnings.warn(_RANGE_PYARROW_WARNING)\n",
      "/opt/anaconda3/envs/clean_env/lib/python3.9/site-packages/google/cloud/bigquery/table.py:2323: UserWarning: Unable to represent RANGE schema as struct using pandas ArrowDtype. Using `object` instead. To use ArrowDtype, use pandas >= 1.5 and pyarrow >= 10.0.1.\n",
      "  warnings.warn(_RANGE_PYARROW_WARNING)\n",
      "/opt/anaconda3/envs/clean_env/lib/python3.9/site-packages/google/cloud/bigquery/table.py:2337: UserWarning: Unable to represent RANGE schema as struct using pandas ArrowDtype. Using `object` instead. To use ArrowDtype, use pandas >= 1.5 and pyarrow >= 10.0.1.\n",
      "  warnings.warn(_RANGE_PYARROW_WARNING)\n"
     ]
    },
    {
     "name": "stdout",
     "output_type": "stream",
     "text": [
      "Processed data for 2023-05-21\n",
      "Fetching data for 2023-05-22\n"
     ]
    },
    {
     "name": "stderr",
     "output_type": "stream",
     "text": [
      "/opt/anaconda3/envs/clean_env/lib/python3.9/site-packages/google/cloud/bigquery/table.py:2309: UserWarning: Unable to represent RANGE schema as struct using pandas ArrowDtype. Using `object` instead. To use ArrowDtype, use pandas >= 1.5 and pyarrow >= 10.0.1.\n",
      "  warnings.warn(_RANGE_PYARROW_WARNING)\n",
      "/opt/anaconda3/envs/clean_env/lib/python3.9/site-packages/google/cloud/bigquery/table.py:2323: UserWarning: Unable to represent RANGE schema as struct using pandas ArrowDtype. Using `object` instead. To use ArrowDtype, use pandas >= 1.5 and pyarrow >= 10.0.1.\n",
      "  warnings.warn(_RANGE_PYARROW_WARNING)\n",
      "/opt/anaconda3/envs/clean_env/lib/python3.9/site-packages/google/cloud/bigquery/table.py:2337: UserWarning: Unable to represent RANGE schema as struct using pandas ArrowDtype. Using `object` instead. To use ArrowDtype, use pandas >= 1.5 and pyarrow >= 10.0.1.\n",
      "  warnings.warn(_RANGE_PYARROW_WARNING)\n"
     ]
    },
    {
     "name": "stdout",
     "output_type": "stream",
     "text": [
      "Processed data for 2023-05-22\n",
      "Fetching data for 2023-05-23\n"
     ]
    },
    {
     "name": "stderr",
     "output_type": "stream",
     "text": [
      "/opt/anaconda3/envs/clean_env/lib/python3.9/site-packages/google/cloud/bigquery/table.py:2309: UserWarning: Unable to represent RANGE schema as struct using pandas ArrowDtype. Using `object` instead. To use ArrowDtype, use pandas >= 1.5 and pyarrow >= 10.0.1.\n",
      "  warnings.warn(_RANGE_PYARROW_WARNING)\n",
      "/opt/anaconda3/envs/clean_env/lib/python3.9/site-packages/google/cloud/bigquery/table.py:2323: UserWarning: Unable to represent RANGE schema as struct using pandas ArrowDtype. Using `object` instead. To use ArrowDtype, use pandas >= 1.5 and pyarrow >= 10.0.1.\n",
      "  warnings.warn(_RANGE_PYARROW_WARNING)\n",
      "/opt/anaconda3/envs/clean_env/lib/python3.9/site-packages/google/cloud/bigquery/table.py:2337: UserWarning: Unable to represent RANGE schema as struct using pandas ArrowDtype. Using `object` instead. To use ArrowDtype, use pandas >= 1.5 and pyarrow >= 10.0.1.\n",
      "  warnings.warn(_RANGE_PYARROW_WARNING)\n"
     ]
    },
    {
     "name": "stdout",
     "output_type": "stream",
     "text": [
      "Processed data for 2023-05-23\n",
      "Fetching data for 2023-05-24\n"
     ]
    },
    {
     "name": "stderr",
     "output_type": "stream",
     "text": [
      "/opt/anaconda3/envs/clean_env/lib/python3.9/site-packages/google/cloud/bigquery/table.py:2309: UserWarning: Unable to represent RANGE schema as struct using pandas ArrowDtype. Using `object` instead. To use ArrowDtype, use pandas >= 1.5 and pyarrow >= 10.0.1.\n",
      "  warnings.warn(_RANGE_PYARROW_WARNING)\n",
      "/opt/anaconda3/envs/clean_env/lib/python3.9/site-packages/google/cloud/bigquery/table.py:2323: UserWarning: Unable to represent RANGE schema as struct using pandas ArrowDtype. Using `object` instead. To use ArrowDtype, use pandas >= 1.5 and pyarrow >= 10.0.1.\n",
      "  warnings.warn(_RANGE_PYARROW_WARNING)\n",
      "/opt/anaconda3/envs/clean_env/lib/python3.9/site-packages/google/cloud/bigquery/table.py:2337: UserWarning: Unable to represent RANGE schema as struct using pandas ArrowDtype. Using `object` instead. To use ArrowDtype, use pandas >= 1.5 and pyarrow >= 10.0.1.\n",
      "  warnings.warn(_RANGE_PYARROW_WARNING)\n"
     ]
    },
    {
     "name": "stdout",
     "output_type": "stream",
     "text": [
      "Processed data for 2023-05-24\n",
      "Fetching data for 2023-05-25\n"
     ]
    },
    {
     "name": "stderr",
     "output_type": "stream",
     "text": [
      "/opt/anaconda3/envs/clean_env/lib/python3.9/site-packages/google/cloud/bigquery/table.py:2309: UserWarning: Unable to represent RANGE schema as struct using pandas ArrowDtype. Using `object` instead. To use ArrowDtype, use pandas >= 1.5 and pyarrow >= 10.0.1.\n",
      "  warnings.warn(_RANGE_PYARROW_WARNING)\n",
      "/opt/anaconda3/envs/clean_env/lib/python3.9/site-packages/google/cloud/bigquery/table.py:2323: UserWarning: Unable to represent RANGE schema as struct using pandas ArrowDtype. Using `object` instead. To use ArrowDtype, use pandas >= 1.5 and pyarrow >= 10.0.1.\n",
      "  warnings.warn(_RANGE_PYARROW_WARNING)\n",
      "/opt/anaconda3/envs/clean_env/lib/python3.9/site-packages/google/cloud/bigquery/table.py:2337: UserWarning: Unable to represent RANGE schema as struct using pandas ArrowDtype. Using `object` instead. To use ArrowDtype, use pandas >= 1.5 and pyarrow >= 10.0.1.\n",
      "  warnings.warn(_RANGE_PYARROW_WARNING)\n"
     ]
    },
    {
     "name": "stdout",
     "output_type": "stream",
     "text": [
      "Processed data for 2023-05-25\n",
      "Fetching data for 2023-05-26\n"
     ]
    },
    {
     "name": "stderr",
     "output_type": "stream",
     "text": [
      "/opt/anaconda3/envs/clean_env/lib/python3.9/site-packages/google/cloud/bigquery/table.py:2309: UserWarning: Unable to represent RANGE schema as struct using pandas ArrowDtype. Using `object` instead. To use ArrowDtype, use pandas >= 1.5 and pyarrow >= 10.0.1.\n",
      "  warnings.warn(_RANGE_PYARROW_WARNING)\n",
      "/opt/anaconda3/envs/clean_env/lib/python3.9/site-packages/google/cloud/bigquery/table.py:2323: UserWarning: Unable to represent RANGE schema as struct using pandas ArrowDtype. Using `object` instead. To use ArrowDtype, use pandas >= 1.5 and pyarrow >= 10.0.1.\n",
      "  warnings.warn(_RANGE_PYARROW_WARNING)\n",
      "/opt/anaconda3/envs/clean_env/lib/python3.9/site-packages/google/cloud/bigquery/table.py:2337: UserWarning: Unable to represent RANGE schema as struct using pandas ArrowDtype. Using `object` instead. To use ArrowDtype, use pandas >= 1.5 and pyarrow >= 10.0.1.\n",
      "  warnings.warn(_RANGE_PYARROW_WARNING)\n"
     ]
    },
    {
     "name": "stdout",
     "output_type": "stream",
     "text": [
      "Processed data for 2023-05-26\n",
      "Fetching data for 2023-05-27\n"
     ]
    },
    {
     "name": "stderr",
     "output_type": "stream",
     "text": [
      "/opt/anaconda3/envs/clean_env/lib/python3.9/site-packages/google/cloud/bigquery/table.py:2309: UserWarning: Unable to represent RANGE schema as struct using pandas ArrowDtype. Using `object` instead. To use ArrowDtype, use pandas >= 1.5 and pyarrow >= 10.0.1.\n",
      "  warnings.warn(_RANGE_PYARROW_WARNING)\n",
      "/opt/anaconda3/envs/clean_env/lib/python3.9/site-packages/google/cloud/bigquery/table.py:2323: UserWarning: Unable to represent RANGE schema as struct using pandas ArrowDtype. Using `object` instead. To use ArrowDtype, use pandas >= 1.5 and pyarrow >= 10.0.1.\n",
      "  warnings.warn(_RANGE_PYARROW_WARNING)\n",
      "/opt/anaconda3/envs/clean_env/lib/python3.9/site-packages/google/cloud/bigquery/table.py:2337: UserWarning: Unable to represent RANGE schema as struct using pandas ArrowDtype. Using `object` instead. To use ArrowDtype, use pandas >= 1.5 and pyarrow >= 10.0.1.\n",
      "  warnings.warn(_RANGE_PYARROW_WARNING)\n"
     ]
    },
    {
     "name": "stdout",
     "output_type": "stream",
     "text": [
      "Processed data for 2023-05-27\n",
      "Fetching data for 2023-05-28\n"
     ]
    },
    {
     "name": "stderr",
     "output_type": "stream",
     "text": [
      "/opt/anaconda3/envs/clean_env/lib/python3.9/site-packages/google/cloud/bigquery/table.py:2309: UserWarning: Unable to represent RANGE schema as struct using pandas ArrowDtype. Using `object` instead. To use ArrowDtype, use pandas >= 1.5 and pyarrow >= 10.0.1.\n",
      "  warnings.warn(_RANGE_PYARROW_WARNING)\n",
      "/opt/anaconda3/envs/clean_env/lib/python3.9/site-packages/google/cloud/bigquery/table.py:2323: UserWarning: Unable to represent RANGE schema as struct using pandas ArrowDtype. Using `object` instead. To use ArrowDtype, use pandas >= 1.5 and pyarrow >= 10.0.1.\n",
      "  warnings.warn(_RANGE_PYARROW_WARNING)\n",
      "/opt/anaconda3/envs/clean_env/lib/python3.9/site-packages/google/cloud/bigquery/table.py:2337: UserWarning: Unable to represent RANGE schema as struct using pandas ArrowDtype. Using `object` instead. To use ArrowDtype, use pandas >= 1.5 and pyarrow >= 10.0.1.\n",
      "  warnings.warn(_RANGE_PYARROW_WARNING)\n"
     ]
    },
    {
     "name": "stdout",
     "output_type": "stream",
     "text": [
      "Processed data for 2023-05-28\n",
      "Fetching data for 2023-05-29\n"
     ]
    },
    {
     "name": "stderr",
     "output_type": "stream",
     "text": [
      "/opt/anaconda3/envs/clean_env/lib/python3.9/site-packages/google/cloud/bigquery/table.py:2309: UserWarning: Unable to represent RANGE schema as struct using pandas ArrowDtype. Using `object` instead. To use ArrowDtype, use pandas >= 1.5 and pyarrow >= 10.0.1.\n",
      "  warnings.warn(_RANGE_PYARROW_WARNING)\n",
      "/opt/anaconda3/envs/clean_env/lib/python3.9/site-packages/google/cloud/bigquery/table.py:2323: UserWarning: Unable to represent RANGE schema as struct using pandas ArrowDtype. Using `object` instead. To use ArrowDtype, use pandas >= 1.5 and pyarrow >= 10.0.1.\n",
      "  warnings.warn(_RANGE_PYARROW_WARNING)\n",
      "/opt/anaconda3/envs/clean_env/lib/python3.9/site-packages/google/cloud/bigquery/table.py:2337: UserWarning: Unable to represent RANGE schema as struct using pandas ArrowDtype. Using `object` instead. To use ArrowDtype, use pandas >= 1.5 and pyarrow >= 10.0.1.\n",
      "  warnings.warn(_RANGE_PYARROW_WARNING)\n"
     ]
    },
    {
     "name": "stdout",
     "output_type": "stream",
     "text": [
      "Processed data for 2023-05-29\n",
      "Fetching data for 2023-05-30\n"
     ]
    },
    {
     "name": "stderr",
     "output_type": "stream",
     "text": [
      "/opt/anaconda3/envs/clean_env/lib/python3.9/site-packages/google/cloud/bigquery/table.py:2309: UserWarning: Unable to represent RANGE schema as struct using pandas ArrowDtype. Using `object` instead. To use ArrowDtype, use pandas >= 1.5 and pyarrow >= 10.0.1.\n",
      "  warnings.warn(_RANGE_PYARROW_WARNING)\n",
      "/opt/anaconda3/envs/clean_env/lib/python3.9/site-packages/google/cloud/bigquery/table.py:2323: UserWarning: Unable to represent RANGE schema as struct using pandas ArrowDtype. Using `object` instead. To use ArrowDtype, use pandas >= 1.5 and pyarrow >= 10.0.1.\n",
      "  warnings.warn(_RANGE_PYARROW_WARNING)\n",
      "/opt/anaconda3/envs/clean_env/lib/python3.9/site-packages/google/cloud/bigquery/table.py:2337: UserWarning: Unable to represent RANGE schema as struct using pandas ArrowDtype. Using `object` instead. To use ArrowDtype, use pandas >= 1.5 and pyarrow >= 10.0.1.\n",
      "  warnings.warn(_RANGE_PYARROW_WARNING)\n"
     ]
    },
    {
     "name": "stdout",
     "output_type": "stream",
     "text": [
      "Processed data for 2023-05-30\n",
      "Fetching data for 2023-05-31\n"
     ]
    },
    {
     "name": "stderr",
     "output_type": "stream",
     "text": [
      "/opt/anaconda3/envs/clean_env/lib/python3.9/site-packages/google/cloud/bigquery/table.py:2309: UserWarning: Unable to represent RANGE schema as struct using pandas ArrowDtype. Using `object` instead. To use ArrowDtype, use pandas >= 1.5 and pyarrow >= 10.0.1.\n",
      "  warnings.warn(_RANGE_PYARROW_WARNING)\n",
      "/opt/anaconda3/envs/clean_env/lib/python3.9/site-packages/google/cloud/bigquery/table.py:2323: UserWarning: Unable to represent RANGE schema as struct using pandas ArrowDtype. Using `object` instead. To use ArrowDtype, use pandas >= 1.5 and pyarrow >= 10.0.1.\n",
      "  warnings.warn(_RANGE_PYARROW_WARNING)\n",
      "/opt/anaconda3/envs/clean_env/lib/python3.9/site-packages/google/cloud/bigquery/table.py:2337: UserWarning: Unable to represent RANGE schema as struct using pandas ArrowDtype. Using `object` instead. To use ArrowDtype, use pandas >= 1.5 and pyarrow >= 10.0.1.\n",
      "  warnings.warn(_RANGE_PYARROW_WARNING)\n"
     ]
    },
    {
     "name": "stdout",
     "output_type": "stream",
     "text": [
      "Processed data for 2023-05-31\n",
      "Fetching data for 2023-06-01\n"
     ]
    },
    {
     "name": "stderr",
     "output_type": "stream",
     "text": [
      "/opt/anaconda3/envs/clean_env/lib/python3.9/site-packages/google/cloud/bigquery/table.py:2309: UserWarning: Unable to represent RANGE schema as struct using pandas ArrowDtype. Using `object` instead. To use ArrowDtype, use pandas >= 1.5 and pyarrow >= 10.0.1.\n",
      "  warnings.warn(_RANGE_PYARROW_WARNING)\n",
      "/opt/anaconda3/envs/clean_env/lib/python3.9/site-packages/google/cloud/bigquery/table.py:2323: UserWarning: Unable to represent RANGE schema as struct using pandas ArrowDtype. Using `object` instead. To use ArrowDtype, use pandas >= 1.5 and pyarrow >= 10.0.1.\n",
      "  warnings.warn(_RANGE_PYARROW_WARNING)\n",
      "/opt/anaconda3/envs/clean_env/lib/python3.9/site-packages/google/cloud/bigquery/table.py:2337: UserWarning: Unable to represent RANGE schema as struct using pandas ArrowDtype. Using `object` instead. To use ArrowDtype, use pandas >= 1.5 and pyarrow >= 10.0.1.\n",
      "  warnings.warn(_RANGE_PYARROW_WARNING)\n"
     ]
    },
    {
     "name": "stdout",
     "output_type": "stream",
     "text": [
      "Processed data for 2023-06-01\n",
      "Fetching data for 2023-06-02\n"
     ]
    },
    {
     "name": "stderr",
     "output_type": "stream",
     "text": [
      "/opt/anaconda3/envs/clean_env/lib/python3.9/site-packages/google/cloud/bigquery/table.py:2309: UserWarning: Unable to represent RANGE schema as struct using pandas ArrowDtype. Using `object` instead. To use ArrowDtype, use pandas >= 1.5 and pyarrow >= 10.0.1.\n",
      "  warnings.warn(_RANGE_PYARROW_WARNING)\n",
      "/opt/anaconda3/envs/clean_env/lib/python3.9/site-packages/google/cloud/bigquery/table.py:2323: UserWarning: Unable to represent RANGE schema as struct using pandas ArrowDtype. Using `object` instead. To use ArrowDtype, use pandas >= 1.5 and pyarrow >= 10.0.1.\n",
      "  warnings.warn(_RANGE_PYARROW_WARNING)\n",
      "/opt/anaconda3/envs/clean_env/lib/python3.9/site-packages/google/cloud/bigquery/table.py:2337: UserWarning: Unable to represent RANGE schema as struct using pandas ArrowDtype. Using `object` instead. To use ArrowDtype, use pandas >= 1.5 and pyarrow >= 10.0.1.\n",
      "  warnings.warn(_RANGE_PYARROW_WARNING)\n"
     ]
    },
    {
     "name": "stdout",
     "output_type": "stream",
     "text": [
      "Processed data for 2023-06-02\n",
      "Fetching data for 2023-06-03\n"
     ]
    },
    {
     "name": "stderr",
     "output_type": "stream",
     "text": [
      "/opt/anaconda3/envs/clean_env/lib/python3.9/site-packages/google/cloud/bigquery/table.py:2309: UserWarning: Unable to represent RANGE schema as struct using pandas ArrowDtype. Using `object` instead. To use ArrowDtype, use pandas >= 1.5 and pyarrow >= 10.0.1.\n",
      "  warnings.warn(_RANGE_PYARROW_WARNING)\n",
      "/opt/anaconda3/envs/clean_env/lib/python3.9/site-packages/google/cloud/bigquery/table.py:2323: UserWarning: Unable to represent RANGE schema as struct using pandas ArrowDtype. Using `object` instead. To use ArrowDtype, use pandas >= 1.5 and pyarrow >= 10.0.1.\n",
      "  warnings.warn(_RANGE_PYARROW_WARNING)\n",
      "/opt/anaconda3/envs/clean_env/lib/python3.9/site-packages/google/cloud/bigquery/table.py:2337: UserWarning: Unable to represent RANGE schema as struct using pandas ArrowDtype. Using `object` instead. To use ArrowDtype, use pandas >= 1.5 and pyarrow >= 10.0.1.\n",
      "  warnings.warn(_RANGE_PYARROW_WARNING)\n"
     ]
    },
    {
     "name": "stdout",
     "output_type": "stream",
     "text": [
      "Processed data for 2023-06-03\n",
      "Fetching data for 2023-06-04\n"
     ]
    },
    {
     "name": "stderr",
     "output_type": "stream",
     "text": [
      "/opt/anaconda3/envs/clean_env/lib/python3.9/site-packages/google/cloud/bigquery/table.py:2309: UserWarning: Unable to represent RANGE schema as struct using pandas ArrowDtype. Using `object` instead. To use ArrowDtype, use pandas >= 1.5 and pyarrow >= 10.0.1.\n",
      "  warnings.warn(_RANGE_PYARROW_WARNING)\n",
      "/opt/anaconda3/envs/clean_env/lib/python3.9/site-packages/google/cloud/bigquery/table.py:2323: UserWarning: Unable to represent RANGE schema as struct using pandas ArrowDtype. Using `object` instead. To use ArrowDtype, use pandas >= 1.5 and pyarrow >= 10.0.1.\n",
      "  warnings.warn(_RANGE_PYARROW_WARNING)\n",
      "/opt/anaconda3/envs/clean_env/lib/python3.9/site-packages/google/cloud/bigquery/table.py:2337: UserWarning: Unable to represent RANGE schema as struct using pandas ArrowDtype. Using `object` instead. To use ArrowDtype, use pandas >= 1.5 and pyarrow >= 10.0.1.\n",
      "  warnings.warn(_RANGE_PYARROW_WARNING)\n"
     ]
    },
    {
     "name": "stdout",
     "output_type": "stream",
     "text": [
      "Processed data for 2023-06-04\n",
      "Fetching data for 2023-06-05\n"
     ]
    },
    {
     "name": "stderr",
     "output_type": "stream",
     "text": [
      "/opt/anaconda3/envs/clean_env/lib/python3.9/site-packages/google/cloud/bigquery/table.py:2309: UserWarning: Unable to represent RANGE schema as struct using pandas ArrowDtype. Using `object` instead. To use ArrowDtype, use pandas >= 1.5 and pyarrow >= 10.0.1.\n",
      "  warnings.warn(_RANGE_PYARROW_WARNING)\n",
      "/opt/anaconda3/envs/clean_env/lib/python3.9/site-packages/google/cloud/bigquery/table.py:2323: UserWarning: Unable to represent RANGE schema as struct using pandas ArrowDtype. Using `object` instead. To use ArrowDtype, use pandas >= 1.5 and pyarrow >= 10.0.1.\n",
      "  warnings.warn(_RANGE_PYARROW_WARNING)\n",
      "/opt/anaconda3/envs/clean_env/lib/python3.9/site-packages/google/cloud/bigquery/table.py:2337: UserWarning: Unable to represent RANGE schema as struct using pandas ArrowDtype. Using `object` instead. To use ArrowDtype, use pandas >= 1.5 and pyarrow >= 10.0.1.\n",
      "  warnings.warn(_RANGE_PYARROW_WARNING)\n"
     ]
    },
    {
     "name": "stdout",
     "output_type": "stream",
     "text": [
      "Processed data for 2023-06-05\n",
      "Fetching data for 2023-06-06\n"
     ]
    },
    {
     "name": "stderr",
     "output_type": "stream",
     "text": [
      "/opt/anaconda3/envs/clean_env/lib/python3.9/site-packages/google/cloud/bigquery/table.py:2309: UserWarning: Unable to represent RANGE schema as struct using pandas ArrowDtype. Using `object` instead. To use ArrowDtype, use pandas >= 1.5 and pyarrow >= 10.0.1.\n",
      "  warnings.warn(_RANGE_PYARROW_WARNING)\n",
      "/opt/anaconda3/envs/clean_env/lib/python3.9/site-packages/google/cloud/bigquery/table.py:2323: UserWarning: Unable to represent RANGE schema as struct using pandas ArrowDtype. Using `object` instead. To use ArrowDtype, use pandas >= 1.5 and pyarrow >= 10.0.1.\n",
      "  warnings.warn(_RANGE_PYARROW_WARNING)\n",
      "/opt/anaconda3/envs/clean_env/lib/python3.9/site-packages/google/cloud/bigquery/table.py:2337: UserWarning: Unable to represent RANGE schema as struct using pandas ArrowDtype. Using `object` instead. To use ArrowDtype, use pandas >= 1.5 and pyarrow >= 10.0.1.\n",
      "  warnings.warn(_RANGE_PYARROW_WARNING)\n"
     ]
    },
    {
     "name": "stdout",
     "output_type": "stream",
     "text": [
      "Processed data for 2023-06-06\n",
      "Fetching data for 2023-06-07\n"
     ]
    },
    {
     "name": "stderr",
     "output_type": "stream",
     "text": [
      "/opt/anaconda3/envs/clean_env/lib/python3.9/site-packages/google/cloud/bigquery/table.py:2309: UserWarning: Unable to represent RANGE schema as struct using pandas ArrowDtype. Using `object` instead. To use ArrowDtype, use pandas >= 1.5 and pyarrow >= 10.0.1.\n",
      "  warnings.warn(_RANGE_PYARROW_WARNING)\n",
      "/opt/anaconda3/envs/clean_env/lib/python3.9/site-packages/google/cloud/bigquery/table.py:2323: UserWarning: Unable to represent RANGE schema as struct using pandas ArrowDtype. Using `object` instead. To use ArrowDtype, use pandas >= 1.5 and pyarrow >= 10.0.1.\n",
      "  warnings.warn(_RANGE_PYARROW_WARNING)\n",
      "/opt/anaconda3/envs/clean_env/lib/python3.9/site-packages/google/cloud/bigquery/table.py:2337: UserWarning: Unable to represent RANGE schema as struct using pandas ArrowDtype. Using `object` instead. To use ArrowDtype, use pandas >= 1.5 and pyarrow >= 10.0.1.\n",
      "  warnings.warn(_RANGE_PYARROW_WARNING)\n"
     ]
    },
    {
     "name": "stdout",
     "output_type": "stream",
     "text": [
      "Processed data for 2023-06-07\n",
      "Fetching data for 2023-06-08\n"
     ]
    },
    {
     "name": "stderr",
     "output_type": "stream",
     "text": [
      "/opt/anaconda3/envs/clean_env/lib/python3.9/site-packages/google/cloud/bigquery/table.py:2309: UserWarning: Unable to represent RANGE schema as struct using pandas ArrowDtype. Using `object` instead. To use ArrowDtype, use pandas >= 1.5 and pyarrow >= 10.0.1.\n",
      "  warnings.warn(_RANGE_PYARROW_WARNING)\n",
      "/opt/anaconda3/envs/clean_env/lib/python3.9/site-packages/google/cloud/bigquery/table.py:2323: UserWarning: Unable to represent RANGE schema as struct using pandas ArrowDtype. Using `object` instead. To use ArrowDtype, use pandas >= 1.5 and pyarrow >= 10.0.1.\n",
      "  warnings.warn(_RANGE_PYARROW_WARNING)\n",
      "/opt/anaconda3/envs/clean_env/lib/python3.9/site-packages/google/cloud/bigquery/table.py:2337: UserWarning: Unable to represent RANGE schema as struct using pandas ArrowDtype. Using `object` instead. To use ArrowDtype, use pandas >= 1.5 and pyarrow >= 10.0.1.\n",
      "  warnings.warn(_RANGE_PYARROW_WARNING)\n"
     ]
    },
    {
     "name": "stdout",
     "output_type": "stream",
     "text": [
      "Processed data for 2023-06-08\n",
      "Fetching data for 2023-06-09\n"
     ]
    },
    {
     "name": "stderr",
     "output_type": "stream",
     "text": [
      "/opt/anaconda3/envs/clean_env/lib/python3.9/site-packages/google/cloud/bigquery/table.py:2309: UserWarning: Unable to represent RANGE schema as struct using pandas ArrowDtype. Using `object` instead. To use ArrowDtype, use pandas >= 1.5 and pyarrow >= 10.0.1.\n",
      "  warnings.warn(_RANGE_PYARROW_WARNING)\n",
      "/opt/anaconda3/envs/clean_env/lib/python3.9/site-packages/google/cloud/bigquery/table.py:2323: UserWarning: Unable to represent RANGE schema as struct using pandas ArrowDtype. Using `object` instead. To use ArrowDtype, use pandas >= 1.5 and pyarrow >= 10.0.1.\n",
      "  warnings.warn(_RANGE_PYARROW_WARNING)\n",
      "/opt/anaconda3/envs/clean_env/lib/python3.9/site-packages/google/cloud/bigquery/table.py:2337: UserWarning: Unable to represent RANGE schema as struct using pandas ArrowDtype. Using `object` instead. To use ArrowDtype, use pandas >= 1.5 and pyarrow >= 10.0.1.\n",
      "  warnings.warn(_RANGE_PYARROW_WARNING)\n"
     ]
    },
    {
     "name": "stdout",
     "output_type": "stream",
     "text": [
      "Processed data for 2023-06-09\n",
      "Fetching data for 2023-06-10\n"
     ]
    },
    {
     "name": "stderr",
     "output_type": "stream",
     "text": [
      "/opt/anaconda3/envs/clean_env/lib/python3.9/site-packages/google/cloud/bigquery/table.py:2309: UserWarning: Unable to represent RANGE schema as struct using pandas ArrowDtype. Using `object` instead. To use ArrowDtype, use pandas >= 1.5 and pyarrow >= 10.0.1.\n",
      "  warnings.warn(_RANGE_PYARROW_WARNING)\n",
      "/opt/anaconda3/envs/clean_env/lib/python3.9/site-packages/google/cloud/bigquery/table.py:2323: UserWarning: Unable to represent RANGE schema as struct using pandas ArrowDtype. Using `object` instead. To use ArrowDtype, use pandas >= 1.5 and pyarrow >= 10.0.1.\n",
      "  warnings.warn(_RANGE_PYARROW_WARNING)\n",
      "/opt/anaconda3/envs/clean_env/lib/python3.9/site-packages/google/cloud/bigquery/table.py:2337: UserWarning: Unable to represent RANGE schema as struct using pandas ArrowDtype. Using `object` instead. To use ArrowDtype, use pandas >= 1.5 and pyarrow >= 10.0.1.\n",
      "  warnings.warn(_RANGE_PYARROW_WARNING)\n"
     ]
    },
    {
     "name": "stdout",
     "output_type": "stream",
     "text": [
      "Processed data for 2023-06-10\n",
      "Fetching data for 2023-06-11\n"
     ]
    },
    {
     "name": "stderr",
     "output_type": "stream",
     "text": [
      "/opt/anaconda3/envs/clean_env/lib/python3.9/site-packages/google/cloud/bigquery/table.py:2309: UserWarning: Unable to represent RANGE schema as struct using pandas ArrowDtype. Using `object` instead. To use ArrowDtype, use pandas >= 1.5 and pyarrow >= 10.0.1.\n",
      "  warnings.warn(_RANGE_PYARROW_WARNING)\n",
      "/opt/anaconda3/envs/clean_env/lib/python3.9/site-packages/google/cloud/bigquery/table.py:2323: UserWarning: Unable to represent RANGE schema as struct using pandas ArrowDtype. Using `object` instead. To use ArrowDtype, use pandas >= 1.5 and pyarrow >= 10.0.1.\n",
      "  warnings.warn(_RANGE_PYARROW_WARNING)\n",
      "/opt/anaconda3/envs/clean_env/lib/python3.9/site-packages/google/cloud/bigquery/table.py:2337: UserWarning: Unable to represent RANGE schema as struct using pandas ArrowDtype. Using `object` instead. To use ArrowDtype, use pandas >= 1.5 and pyarrow >= 10.0.1.\n",
      "  warnings.warn(_RANGE_PYARROW_WARNING)\n"
     ]
    },
    {
     "name": "stdout",
     "output_type": "stream",
     "text": [
      "Processed data for 2023-06-11\n",
      "Fetching data for 2023-06-12\n"
     ]
    },
    {
     "name": "stderr",
     "output_type": "stream",
     "text": [
      "/opt/anaconda3/envs/clean_env/lib/python3.9/site-packages/google/cloud/bigquery/table.py:2309: UserWarning: Unable to represent RANGE schema as struct using pandas ArrowDtype. Using `object` instead. To use ArrowDtype, use pandas >= 1.5 and pyarrow >= 10.0.1.\n",
      "  warnings.warn(_RANGE_PYARROW_WARNING)\n",
      "/opt/anaconda3/envs/clean_env/lib/python3.9/site-packages/google/cloud/bigquery/table.py:2323: UserWarning: Unable to represent RANGE schema as struct using pandas ArrowDtype. Using `object` instead. To use ArrowDtype, use pandas >= 1.5 and pyarrow >= 10.0.1.\n",
      "  warnings.warn(_RANGE_PYARROW_WARNING)\n",
      "/opt/anaconda3/envs/clean_env/lib/python3.9/site-packages/google/cloud/bigquery/table.py:2337: UserWarning: Unable to represent RANGE schema as struct using pandas ArrowDtype. Using `object` instead. To use ArrowDtype, use pandas >= 1.5 and pyarrow >= 10.0.1.\n",
      "  warnings.warn(_RANGE_PYARROW_WARNING)\n"
     ]
    },
    {
     "name": "stdout",
     "output_type": "stream",
     "text": [
      "Processed data for 2023-06-12\n",
      "Fetching data for 2023-06-13\n"
     ]
    },
    {
     "name": "stderr",
     "output_type": "stream",
     "text": [
      "/opt/anaconda3/envs/clean_env/lib/python3.9/site-packages/google/cloud/bigquery/table.py:2309: UserWarning: Unable to represent RANGE schema as struct using pandas ArrowDtype. Using `object` instead. To use ArrowDtype, use pandas >= 1.5 and pyarrow >= 10.0.1.\n",
      "  warnings.warn(_RANGE_PYARROW_WARNING)\n",
      "/opt/anaconda3/envs/clean_env/lib/python3.9/site-packages/google/cloud/bigquery/table.py:2323: UserWarning: Unable to represent RANGE schema as struct using pandas ArrowDtype. Using `object` instead. To use ArrowDtype, use pandas >= 1.5 and pyarrow >= 10.0.1.\n",
      "  warnings.warn(_RANGE_PYARROW_WARNING)\n",
      "/opt/anaconda3/envs/clean_env/lib/python3.9/site-packages/google/cloud/bigquery/table.py:2337: UserWarning: Unable to represent RANGE schema as struct using pandas ArrowDtype. Using `object` instead. To use ArrowDtype, use pandas >= 1.5 and pyarrow >= 10.0.1.\n",
      "  warnings.warn(_RANGE_PYARROW_WARNING)\n"
     ]
    },
    {
     "name": "stdout",
     "output_type": "stream",
     "text": [
      "Processed data for 2023-06-13\n",
      "Fetching data for 2023-06-14\n"
     ]
    },
    {
     "name": "stderr",
     "output_type": "stream",
     "text": [
      "/opt/anaconda3/envs/clean_env/lib/python3.9/site-packages/google/cloud/bigquery/table.py:2309: UserWarning: Unable to represent RANGE schema as struct using pandas ArrowDtype. Using `object` instead. To use ArrowDtype, use pandas >= 1.5 and pyarrow >= 10.0.1.\n",
      "  warnings.warn(_RANGE_PYARROW_WARNING)\n",
      "/opt/anaconda3/envs/clean_env/lib/python3.9/site-packages/google/cloud/bigquery/table.py:2323: UserWarning: Unable to represent RANGE schema as struct using pandas ArrowDtype. Using `object` instead. To use ArrowDtype, use pandas >= 1.5 and pyarrow >= 10.0.1.\n",
      "  warnings.warn(_RANGE_PYARROW_WARNING)\n",
      "/opt/anaconda3/envs/clean_env/lib/python3.9/site-packages/google/cloud/bigquery/table.py:2337: UserWarning: Unable to represent RANGE schema as struct using pandas ArrowDtype. Using `object` instead. To use ArrowDtype, use pandas >= 1.5 and pyarrow >= 10.0.1.\n",
      "  warnings.warn(_RANGE_PYARROW_WARNING)\n"
     ]
    },
    {
     "name": "stdout",
     "output_type": "stream",
     "text": [
      "Processed data for 2023-06-14\n",
      "Fetching data for 2023-06-15\n"
     ]
    },
    {
     "name": "stderr",
     "output_type": "stream",
     "text": [
      "/opt/anaconda3/envs/clean_env/lib/python3.9/site-packages/google/cloud/bigquery/table.py:2309: UserWarning: Unable to represent RANGE schema as struct using pandas ArrowDtype. Using `object` instead. To use ArrowDtype, use pandas >= 1.5 and pyarrow >= 10.0.1.\n",
      "  warnings.warn(_RANGE_PYARROW_WARNING)\n",
      "/opt/anaconda3/envs/clean_env/lib/python3.9/site-packages/google/cloud/bigquery/table.py:2323: UserWarning: Unable to represent RANGE schema as struct using pandas ArrowDtype. Using `object` instead. To use ArrowDtype, use pandas >= 1.5 and pyarrow >= 10.0.1.\n",
      "  warnings.warn(_RANGE_PYARROW_WARNING)\n",
      "/opt/anaconda3/envs/clean_env/lib/python3.9/site-packages/google/cloud/bigquery/table.py:2337: UserWarning: Unable to represent RANGE schema as struct using pandas ArrowDtype. Using `object` instead. To use ArrowDtype, use pandas >= 1.5 and pyarrow >= 10.0.1.\n",
      "  warnings.warn(_RANGE_PYARROW_WARNING)\n"
     ]
    },
    {
     "name": "stdout",
     "output_type": "stream",
     "text": [
      "Processed data for 2023-06-15\n",
      "Fetching data for 2023-06-16\n"
     ]
    },
    {
     "name": "stderr",
     "output_type": "stream",
     "text": [
      "/opt/anaconda3/envs/clean_env/lib/python3.9/site-packages/google/cloud/bigquery/table.py:2309: UserWarning: Unable to represent RANGE schema as struct using pandas ArrowDtype. Using `object` instead. To use ArrowDtype, use pandas >= 1.5 and pyarrow >= 10.0.1.\n",
      "  warnings.warn(_RANGE_PYARROW_WARNING)\n",
      "/opt/anaconda3/envs/clean_env/lib/python3.9/site-packages/google/cloud/bigquery/table.py:2323: UserWarning: Unable to represent RANGE schema as struct using pandas ArrowDtype. Using `object` instead. To use ArrowDtype, use pandas >= 1.5 and pyarrow >= 10.0.1.\n",
      "  warnings.warn(_RANGE_PYARROW_WARNING)\n",
      "/opt/anaconda3/envs/clean_env/lib/python3.9/site-packages/google/cloud/bigquery/table.py:2337: UserWarning: Unable to represent RANGE schema as struct using pandas ArrowDtype. Using `object` instead. To use ArrowDtype, use pandas >= 1.5 and pyarrow >= 10.0.1.\n",
      "  warnings.warn(_RANGE_PYARROW_WARNING)\n"
     ]
    },
    {
     "name": "stdout",
     "output_type": "stream",
     "text": [
      "Processed data for 2023-06-16\n",
      "Fetching data for 2023-06-17\n"
     ]
    },
    {
     "name": "stderr",
     "output_type": "stream",
     "text": [
      "/opt/anaconda3/envs/clean_env/lib/python3.9/site-packages/google/cloud/bigquery/table.py:2309: UserWarning: Unable to represent RANGE schema as struct using pandas ArrowDtype. Using `object` instead. To use ArrowDtype, use pandas >= 1.5 and pyarrow >= 10.0.1.\n",
      "  warnings.warn(_RANGE_PYARROW_WARNING)\n",
      "/opt/anaconda3/envs/clean_env/lib/python3.9/site-packages/google/cloud/bigquery/table.py:2323: UserWarning: Unable to represent RANGE schema as struct using pandas ArrowDtype. Using `object` instead. To use ArrowDtype, use pandas >= 1.5 and pyarrow >= 10.0.1.\n",
      "  warnings.warn(_RANGE_PYARROW_WARNING)\n",
      "/opt/anaconda3/envs/clean_env/lib/python3.9/site-packages/google/cloud/bigquery/table.py:2337: UserWarning: Unable to represent RANGE schema as struct using pandas ArrowDtype. Using `object` instead. To use ArrowDtype, use pandas >= 1.5 and pyarrow >= 10.0.1.\n",
      "  warnings.warn(_RANGE_PYARROW_WARNING)\n"
     ]
    },
    {
     "name": "stdout",
     "output_type": "stream",
     "text": [
      "Processed data for 2023-06-17\n",
      "Fetching data for 2023-06-18\n"
     ]
    },
    {
     "name": "stderr",
     "output_type": "stream",
     "text": [
      "/opt/anaconda3/envs/clean_env/lib/python3.9/site-packages/google/cloud/bigquery/table.py:2309: UserWarning: Unable to represent RANGE schema as struct using pandas ArrowDtype. Using `object` instead. To use ArrowDtype, use pandas >= 1.5 and pyarrow >= 10.0.1.\n",
      "  warnings.warn(_RANGE_PYARROW_WARNING)\n",
      "/opt/anaconda3/envs/clean_env/lib/python3.9/site-packages/google/cloud/bigquery/table.py:2323: UserWarning: Unable to represent RANGE schema as struct using pandas ArrowDtype. Using `object` instead. To use ArrowDtype, use pandas >= 1.5 and pyarrow >= 10.0.1.\n",
      "  warnings.warn(_RANGE_PYARROW_WARNING)\n",
      "/opt/anaconda3/envs/clean_env/lib/python3.9/site-packages/google/cloud/bigquery/table.py:2337: UserWarning: Unable to represent RANGE schema as struct using pandas ArrowDtype. Using `object` instead. To use ArrowDtype, use pandas >= 1.5 and pyarrow >= 10.0.1.\n",
      "  warnings.warn(_RANGE_PYARROW_WARNING)\n"
     ]
    },
    {
     "name": "stdout",
     "output_type": "stream",
     "text": [
      "Processed data for 2023-06-18\n",
      "Fetching data for 2023-06-19\n"
     ]
    },
    {
     "name": "stderr",
     "output_type": "stream",
     "text": [
      "/opt/anaconda3/envs/clean_env/lib/python3.9/site-packages/google/cloud/bigquery/table.py:2309: UserWarning: Unable to represent RANGE schema as struct using pandas ArrowDtype. Using `object` instead. To use ArrowDtype, use pandas >= 1.5 and pyarrow >= 10.0.1.\n",
      "  warnings.warn(_RANGE_PYARROW_WARNING)\n",
      "/opt/anaconda3/envs/clean_env/lib/python3.9/site-packages/google/cloud/bigquery/table.py:2323: UserWarning: Unable to represent RANGE schema as struct using pandas ArrowDtype. Using `object` instead. To use ArrowDtype, use pandas >= 1.5 and pyarrow >= 10.0.1.\n",
      "  warnings.warn(_RANGE_PYARROW_WARNING)\n",
      "/opt/anaconda3/envs/clean_env/lib/python3.9/site-packages/google/cloud/bigquery/table.py:2337: UserWarning: Unable to represent RANGE schema as struct using pandas ArrowDtype. Using `object` instead. To use ArrowDtype, use pandas >= 1.5 and pyarrow >= 10.0.1.\n",
      "  warnings.warn(_RANGE_PYARROW_WARNING)\n"
     ]
    },
    {
     "name": "stdout",
     "output_type": "stream",
     "text": [
      "Processed data for 2023-06-19\n",
      "Fetching data for 2023-06-20\n"
     ]
    },
    {
     "name": "stderr",
     "output_type": "stream",
     "text": [
      "/opt/anaconda3/envs/clean_env/lib/python3.9/site-packages/google/cloud/bigquery/table.py:2309: UserWarning: Unable to represent RANGE schema as struct using pandas ArrowDtype. Using `object` instead. To use ArrowDtype, use pandas >= 1.5 and pyarrow >= 10.0.1.\n",
      "  warnings.warn(_RANGE_PYARROW_WARNING)\n",
      "/opt/anaconda3/envs/clean_env/lib/python3.9/site-packages/google/cloud/bigquery/table.py:2323: UserWarning: Unable to represent RANGE schema as struct using pandas ArrowDtype. Using `object` instead. To use ArrowDtype, use pandas >= 1.5 and pyarrow >= 10.0.1.\n",
      "  warnings.warn(_RANGE_PYARROW_WARNING)\n",
      "/opt/anaconda3/envs/clean_env/lib/python3.9/site-packages/google/cloud/bigquery/table.py:2337: UserWarning: Unable to represent RANGE schema as struct using pandas ArrowDtype. Using `object` instead. To use ArrowDtype, use pandas >= 1.5 and pyarrow >= 10.0.1.\n",
      "  warnings.warn(_RANGE_PYARROW_WARNING)\n"
     ]
    },
    {
     "name": "stdout",
     "output_type": "stream",
     "text": [
      "Processed data for 2023-06-20\n",
      "Fetching data for 2023-06-21\n"
     ]
    },
    {
     "name": "stderr",
     "output_type": "stream",
     "text": [
      "/opt/anaconda3/envs/clean_env/lib/python3.9/site-packages/google/cloud/bigquery/table.py:2309: UserWarning: Unable to represent RANGE schema as struct using pandas ArrowDtype. Using `object` instead. To use ArrowDtype, use pandas >= 1.5 and pyarrow >= 10.0.1.\n",
      "  warnings.warn(_RANGE_PYARROW_WARNING)\n",
      "/opt/anaconda3/envs/clean_env/lib/python3.9/site-packages/google/cloud/bigquery/table.py:2323: UserWarning: Unable to represent RANGE schema as struct using pandas ArrowDtype. Using `object` instead. To use ArrowDtype, use pandas >= 1.5 and pyarrow >= 10.0.1.\n",
      "  warnings.warn(_RANGE_PYARROW_WARNING)\n",
      "/opt/anaconda3/envs/clean_env/lib/python3.9/site-packages/google/cloud/bigquery/table.py:2337: UserWarning: Unable to represent RANGE schema as struct using pandas ArrowDtype. Using `object` instead. To use ArrowDtype, use pandas >= 1.5 and pyarrow >= 10.0.1.\n",
      "  warnings.warn(_RANGE_PYARROW_WARNING)\n"
     ]
    },
    {
     "name": "stdout",
     "output_type": "stream",
     "text": [
      "Processed data for 2023-06-21\n",
      "Fetching data for 2023-06-22\n"
     ]
    },
    {
     "name": "stderr",
     "output_type": "stream",
     "text": [
      "/opt/anaconda3/envs/clean_env/lib/python3.9/site-packages/google/cloud/bigquery/table.py:2309: UserWarning: Unable to represent RANGE schema as struct using pandas ArrowDtype. Using `object` instead. To use ArrowDtype, use pandas >= 1.5 and pyarrow >= 10.0.1.\n",
      "  warnings.warn(_RANGE_PYARROW_WARNING)\n",
      "/opt/anaconda3/envs/clean_env/lib/python3.9/site-packages/google/cloud/bigquery/table.py:2323: UserWarning: Unable to represent RANGE schema as struct using pandas ArrowDtype. Using `object` instead. To use ArrowDtype, use pandas >= 1.5 and pyarrow >= 10.0.1.\n",
      "  warnings.warn(_RANGE_PYARROW_WARNING)\n",
      "/opt/anaconda3/envs/clean_env/lib/python3.9/site-packages/google/cloud/bigquery/table.py:2337: UserWarning: Unable to represent RANGE schema as struct using pandas ArrowDtype. Using `object` instead. To use ArrowDtype, use pandas >= 1.5 and pyarrow >= 10.0.1.\n",
      "  warnings.warn(_RANGE_PYARROW_WARNING)\n"
     ]
    },
    {
     "name": "stdout",
     "output_type": "stream",
     "text": [
      "Processed data for 2023-06-22\n",
      "Fetching data for 2023-06-23\n"
     ]
    },
    {
     "name": "stderr",
     "output_type": "stream",
     "text": [
      "/opt/anaconda3/envs/clean_env/lib/python3.9/site-packages/google/cloud/bigquery/table.py:2309: UserWarning: Unable to represent RANGE schema as struct using pandas ArrowDtype. Using `object` instead. To use ArrowDtype, use pandas >= 1.5 and pyarrow >= 10.0.1.\n",
      "  warnings.warn(_RANGE_PYARROW_WARNING)\n",
      "/opt/anaconda3/envs/clean_env/lib/python3.9/site-packages/google/cloud/bigquery/table.py:2323: UserWarning: Unable to represent RANGE schema as struct using pandas ArrowDtype. Using `object` instead. To use ArrowDtype, use pandas >= 1.5 and pyarrow >= 10.0.1.\n",
      "  warnings.warn(_RANGE_PYARROW_WARNING)\n",
      "/opt/anaconda3/envs/clean_env/lib/python3.9/site-packages/google/cloud/bigquery/table.py:2337: UserWarning: Unable to represent RANGE schema as struct using pandas ArrowDtype. Using `object` instead. To use ArrowDtype, use pandas >= 1.5 and pyarrow >= 10.0.1.\n",
      "  warnings.warn(_RANGE_PYARROW_WARNING)\n"
     ]
    },
    {
     "name": "stdout",
     "output_type": "stream",
     "text": [
      "Processed data for 2023-06-23\n",
      "Fetching data for 2023-06-24\n"
     ]
    },
    {
     "name": "stderr",
     "output_type": "stream",
     "text": [
      "/opt/anaconda3/envs/clean_env/lib/python3.9/site-packages/google/cloud/bigquery/table.py:2309: UserWarning: Unable to represent RANGE schema as struct using pandas ArrowDtype. Using `object` instead. To use ArrowDtype, use pandas >= 1.5 and pyarrow >= 10.0.1.\n",
      "  warnings.warn(_RANGE_PYARROW_WARNING)\n",
      "/opt/anaconda3/envs/clean_env/lib/python3.9/site-packages/google/cloud/bigquery/table.py:2323: UserWarning: Unable to represent RANGE schema as struct using pandas ArrowDtype. Using `object` instead. To use ArrowDtype, use pandas >= 1.5 and pyarrow >= 10.0.1.\n",
      "  warnings.warn(_RANGE_PYARROW_WARNING)\n",
      "/opt/anaconda3/envs/clean_env/lib/python3.9/site-packages/google/cloud/bigquery/table.py:2337: UserWarning: Unable to represent RANGE schema as struct using pandas ArrowDtype. Using `object` instead. To use ArrowDtype, use pandas >= 1.5 and pyarrow >= 10.0.1.\n",
      "  warnings.warn(_RANGE_PYARROW_WARNING)\n"
     ]
    },
    {
     "name": "stdout",
     "output_type": "stream",
     "text": [
      "Processed data for 2023-06-24\n",
      "Fetching data for 2023-06-25\n"
     ]
    },
    {
     "name": "stderr",
     "output_type": "stream",
     "text": [
      "/opt/anaconda3/envs/clean_env/lib/python3.9/site-packages/google/cloud/bigquery/table.py:2309: UserWarning: Unable to represent RANGE schema as struct using pandas ArrowDtype. Using `object` instead. To use ArrowDtype, use pandas >= 1.5 and pyarrow >= 10.0.1.\n",
      "  warnings.warn(_RANGE_PYARROW_WARNING)\n",
      "/opt/anaconda3/envs/clean_env/lib/python3.9/site-packages/google/cloud/bigquery/table.py:2323: UserWarning: Unable to represent RANGE schema as struct using pandas ArrowDtype. Using `object` instead. To use ArrowDtype, use pandas >= 1.5 and pyarrow >= 10.0.1.\n",
      "  warnings.warn(_RANGE_PYARROW_WARNING)\n",
      "/opt/anaconda3/envs/clean_env/lib/python3.9/site-packages/google/cloud/bigquery/table.py:2337: UserWarning: Unable to represent RANGE schema as struct using pandas ArrowDtype. Using `object` instead. To use ArrowDtype, use pandas >= 1.5 and pyarrow >= 10.0.1.\n",
      "  warnings.warn(_RANGE_PYARROW_WARNING)\n"
     ]
    },
    {
     "name": "stdout",
     "output_type": "stream",
     "text": [
      "Processed data for 2023-06-25\n",
      "Fetching data for 2023-06-26\n"
     ]
    },
    {
     "name": "stderr",
     "output_type": "stream",
     "text": [
      "/opt/anaconda3/envs/clean_env/lib/python3.9/site-packages/google/cloud/bigquery/table.py:2309: UserWarning: Unable to represent RANGE schema as struct using pandas ArrowDtype. Using `object` instead. To use ArrowDtype, use pandas >= 1.5 and pyarrow >= 10.0.1.\n",
      "  warnings.warn(_RANGE_PYARROW_WARNING)\n",
      "/opt/anaconda3/envs/clean_env/lib/python3.9/site-packages/google/cloud/bigquery/table.py:2323: UserWarning: Unable to represent RANGE schema as struct using pandas ArrowDtype. Using `object` instead. To use ArrowDtype, use pandas >= 1.5 and pyarrow >= 10.0.1.\n",
      "  warnings.warn(_RANGE_PYARROW_WARNING)\n",
      "/opt/anaconda3/envs/clean_env/lib/python3.9/site-packages/google/cloud/bigquery/table.py:2337: UserWarning: Unable to represent RANGE schema as struct using pandas ArrowDtype. Using `object` instead. To use ArrowDtype, use pandas >= 1.5 and pyarrow >= 10.0.1.\n",
      "  warnings.warn(_RANGE_PYARROW_WARNING)\n"
     ]
    },
    {
     "name": "stdout",
     "output_type": "stream",
     "text": [
      "Processed data for 2023-06-26\n",
      "Fetching data for 2023-06-27\n"
     ]
    },
    {
     "name": "stderr",
     "output_type": "stream",
     "text": [
      "/opt/anaconda3/envs/clean_env/lib/python3.9/site-packages/google/cloud/bigquery/table.py:2309: UserWarning: Unable to represent RANGE schema as struct using pandas ArrowDtype. Using `object` instead. To use ArrowDtype, use pandas >= 1.5 and pyarrow >= 10.0.1.\n",
      "  warnings.warn(_RANGE_PYARROW_WARNING)\n",
      "/opt/anaconda3/envs/clean_env/lib/python3.9/site-packages/google/cloud/bigquery/table.py:2323: UserWarning: Unable to represent RANGE schema as struct using pandas ArrowDtype. Using `object` instead. To use ArrowDtype, use pandas >= 1.5 and pyarrow >= 10.0.1.\n",
      "  warnings.warn(_RANGE_PYARROW_WARNING)\n",
      "/opt/anaconda3/envs/clean_env/lib/python3.9/site-packages/google/cloud/bigquery/table.py:2337: UserWarning: Unable to represent RANGE schema as struct using pandas ArrowDtype. Using `object` instead. To use ArrowDtype, use pandas >= 1.5 and pyarrow >= 10.0.1.\n",
      "  warnings.warn(_RANGE_PYARROW_WARNING)\n"
     ]
    },
    {
     "name": "stdout",
     "output_type": "stream",
     "text": [
      "Processed data for 2023-06-27\n",
      "Fetching data for 2023-06-28\n"
     ]
    },
    {
     "name": "stderr",
     "output_type": "stream",
     "text": [
      "/opt/anaconda3/envs/clean_env/lib/python3.9/site-packages/google/cloud/bigquery/table.py:2309: UserWarning: Unable to represent RANGE schema as struct using pandas ArrowDtype. Using `object` instead. To use ArrowDtype, use pandas >= 1.5 and pyarrow >= 10.0.1.\n",
      "  warnings.warn(_RANGE_PYARROW_WARNING)\n",
      "/opt/anaconda3/envs/clean_env/lib/python3.9/site-packages/google/cloud/bigquery/table.py:2323: UserWarning: Unable to represent RANGE schema as struct using pandas ArrowDtype. Using `object` instead. To use ArrowDtype, use pandas >= 1.5 and pyarrow >= 10.0.1.\n",
      "  warnings.warn(_RANGE_PYARROW_WARNING)\n",
      "/opt/anaconda3/envs/clean_env/lib/python3.9/site-packages/google/cloud/bigquery/table.py:2337: UserWarning: Unable to represent RANGE schema as struct using pandas ArrowDtype. Using `object` instead. To use ArrowDtype, use pandas >= 1.5 and pyarrow >= 10.0.1.\n",
      "  warnings.warn(_RANGE_PYARROW_WARNING)\n"
     ]
    },
    {
     "name": "stdout",
     "output_type": "stream",
     "text": [
      "Processed data for 2023-06-28\n",
      "Fetching data for 2023-06-29\n"
     ]
    },
    {
     "name": "stderr",
     "output_type": "stream",
     "text": [
      "/opt/anaconda3/envs/clean_env/lib/python3.9/site-packages/google/cloud/bigquery/table.py:2309: UserWarning: Unable to represent RANGE schema as struct using pandas ArrowDtype. Using `object` instead. To use ArrowDtype, use pandas >= 1.5 and pyarrow >= 10.0.1.\n",
      "  warnings.warn(_RANGE_PYARROW_WARNING)\n",
      "/opt/anaconda3/envs/clean_env/lib/python3.9/site-packages/google/cloud/bigquery/table.py:2323: UserWarning: Unable to represent RANGE schema as struct using pandas ArrowDtype. Using `object` instead. To use ArrowDtype, use pandas >= 1.5 and pyarrow >= 10.0.1.\n",
      "  warnings.warn(_RANGE_PYARROW_WARNING)\n",
      "/opt/anaconda3/envs/clean_env/lib/python3.9/site-packages/google/cloud/bigquery/table.py:2337: UserWarning: Unable to represent RANGE schema as struct using pandas ArrowDtype. Using `object` instead. To use ArrowDtype, use pandas >= 1.5 and pyarrow >= 10.0.1.\n",
      "  warnings.warn(_RANGE_PYARROW_WARNING)\n"
     ]
    },
    {
     "name": "stdout",
     "output_type": "stream",
     "text": [
      "Processed data for 2023-06-29\n",
      "Fetching data for 2023-06-30\n"
     ]
    },
    {
     "name": "stderr",
     "output_type": "stream",
     "text": [
      "/opt/anaconda3/envs/clean_env/lib/python3.9/site-packages/google/cloud/bigquery/table.py:2309: UserWarning: Unable to represent RANGE schema as struct using pandas ArrowDtype. Using `object` instead. To use ArrowDtype, use pandas >= 1.5 and pyarrow >= 10.0.1.\n",
      "  warnings.warn(_RANGE_PYARROW_WARNING)\n",
      "/opt/anaconda3/envs/clean_env/lib/python3.9/site-packages/google/cloud/bigquery/table.py:2323: UserWarning: Unable to represent RANGE schema as struct using pandas ArrowDtype. Using `object` instead. To use ArrowDtype, use pandas >= 1.5 and pyarrow >= 10.0.1.\n",
      "  warnings.warn(_RANGE_PYARROW_WARNING)\n",
      "/opt/anaconda3/envs/clean_env/lib/python3.9/site-packages/google/cloud/bigquery/table.py:2337: UserWarning: Unable to represent RANGE schema as struct using pandas ArrowDtype. Using `object` instead. To use ArrowDtype, use pandas >= 1.5 and pyarrow >= 10.0.1.\n",
      "  warnings.warn(_RANGE_PYARROW_WARNING)\n"
     ]
    },
    {
     "name": "stdout",
     "output_type": "stream",
     "text": [
      "Processed data for 2023-06-30\n",
      "Fetching data for 2023-07-01\n"
     ]
    },
    {
     "name": "stderr",
     "output_type": "stream",
     "text": [
      "/opt/anaconda3/envs/clean_env/lib/python3.9/site-packages/google/cloud/bigquery/table.py:2309: UserWarning: Unable to represent RANGE schema as struct using pandas ArrowDtype. Using `object` instead. To use ArrowDtype, use pandas >= 1.5 and pyarrow >= 10.0.1.\n",
      "  warnings.warn(_RANGE_PYARROW_WARNING)\n",
      "/opt/anaconda3/envs/clean_env/lib/python3.9/site-packages/google/cloud/bigquery/table.py:2323: UserWarning: Unable to represent RANGE schema as struct using pandas ArrowDtype. Using `object` instead. To use ArrowDtype, use pandas >= 1.5 and pyarrow >= 10.0.1.\n",
      "  warnings.warn(_RANGE_PYARROW_WARNING)\n",
      "/opt/anaconda3/envs/clean_env/lib/python3.9/site-packages/google/cloud/bigquery/table.py:2337: UserWarning: Unable to represent RANGE schema as struct using pandas ArrowDtype. Using `object` instead. To use ArrowDtype, use pandas >= 1.5 and pyarrow >= 10.0.1.\n",
      "  warnings.warn(_RANGE_PYARROW_WARNING)\n"
     ]
    },
    {
     "name": "stdout",
     "output_type": "stream",
     "text": [
      "Processed data for 2023-07-01\n",
      "Fetching data for 2023-07-02\n"
     ]
    },
    {
     "name": "stderr",
     "output_type": "stream",
     "text": [
      "/opt/anaconda3/envs/clean_env/lib/python3.9/site-packages/google/cloud/bigquery/table.py:2309: UserWarning: Unable to represent RANGE schema as struct using pandas ArrowDtype. Using `object` instead. To use ArrowDtype, use pandas >= 1.5 and pyarrow >= 10.0.1.\n",
      "  warnings.warn(_RANGE_PYARROW_WARNING)\n",
      "/opt/anaconda3/envs/clean_env/lib/python3.9/site-packages/google/cloud/bigquery/table.py:2323: UserWarning: Unable to represent RANGE schema as struct using pandas ArrowDtype. Using `object` instead. To use ArrowDtype, use pandas >= 1.5 and pyarrow >= 10.0.1.\n",
      "  warnings.warn(_RANGE_PYARROW_WARNING)\n",
      "/opt/anaconda3/envs/clean_env/lib/python3.9/site-packages/google/cloud/bigquery/table.py:2337: UserWarning: Unable to represent RANGE schema as struct using pandas ArrowDtype. Using `object` instead. To use ArrowDtype, use pandas >= 1.5 and pyarrow >= 10.0.1.\n",
      "  warnings.warn(_RANGE_PYARROW_WARNING)\n"
     ]
    },
    {
     "name": "stdout",
     "output_type": "stream",
     "text": [
      "Processed data for 2023-07-02\n",
      "Fetching data for 2023-07-03\n"
     ]
    },
    {
     "name": "stderr",
     "output_type": "stream",
     "text": [
      "/opt/anaconda3/envs/clean_env/lib/python3.9/site-packages/google/cloud/bigquery/table.py:2309: UserWarning: Unable to represent RANGE schema as struct using pandas ArrowDtype. Using `object` instead. To use ArrowDtype, use pandas >= 1.5 and pyarrow >= 10.0.1.\n",
      "  warnings.warn(_RANGE_PYARROW_WARNING)\n",
      "/opt/anaconda3/envs/clean_env/lib/python3.9/site-packages/google/cloud/bigquery/table.py:2323: UserWarning: Unable to represent RANGE schema as struct using pandas ArrowDtype. Using `object` instead. To use ArrowDtype, use pandas >= 1.5 and pyarrow >= 10.0.1.\n",
      "  warnings.warn(_RANGE_PYARROW_WARNING)\n",
      "/opt/anaconda3/envs/clean_env/lib/python3.9/site-packages/google/cloud/bigquery/table.py:2337: UserWarning: Unable to represent RANGE schema as struct using pandas ArrowDtype. Using `object` instead. To use ArrowDtype, use pandas >= 1.5 and pyarrow >= 10.0.1.\n",
      "  warnings.warn(_RANGE_PYARROW_WARNING)\n"
     ]
    },
    {
     "name": "stdout",
     "output_type": "stream",
     "text": [
      "Processed data for 2023-07-03\n",
      "Fetching data for 2023-07-04\n"
     ]
    },
    {
     "name": "stderr",
     "output_type": "stream",
     "text": [
      "/opt/anaconda3/envs/clean_env/lib/python3.9/site-packages/google/cloud/bigquery/table.py:2309: UserWarning: Unable to represent RANGE schema as struct using pandas ArrowDtype. Using `object` instead. To use ArrowDtype, use pandas >= 1.5 and pyarrow >= 10.0.1.\n",
      "  warnings.warn(_RANGE_PYARROW_WARNING)\n",
      "/opt/anaconda3/envs/clean_env/lib/python3.9/site-packages/google/cloud/bigquery/table.py:2323: UserWarning: Unable to represent RANGE schema as struct using pandas ArrowDtype. Using `object` instead. To use ArrowDtype, use pandas >= 1.5 and pyarrow >= 10.0.1.\n",
      "  warnings.warn(_RANGE_PYARROW_WARNING)\n",
      "/opt/anaconda3/envs/clean_env/lib/python3.9/site-packages/google/cloud/bigquery/table.py:2337: UserWarning: Unable to represent RANGE schema as struct using pandas ArrowDtype. Using `object` instead. To use ArrowDtype, use pandas >= 1.5 and pyarrow >= 10.0.1.\n",
      "  warnings.warn(_RANGE_PYARROW_WARNING)\n"
     ]
    },
    {
     "name": "stdout",
     "output_type": "stream",
     "text": [
      "Processed data for 2023-07-04\n",
      "Fetching data for 2023-07-05\n"
     ]
    },
    {
     "name": "stderr",
     "output_type": "stream",
     "text": [
      "/opt/anaconda3/envs/clean_env/lib/python3.9/site-packages/google/cloud/bigquery/table.py:2309: UserWarning: Unable to represent RANGE schema as struct using pandas ArrowDtype. Using `object` instead. To use ArrowDtype, use pandas >= 1.5 and pyarrow >= 10.0.1.\n",
      "  warnings.warn(_RANGE_PYARROW_WARNING)\n",
      "/opt/anaconda3/envs/clean_env/lib/python3.9/site-packages/google/cloud/bigquery/table.py:2323: UserWarning: Unable to represent RANGE schema as struct using pandas ArrowDtype. Using `object` instead. To use ArrowDtype, use pandas >= 1.5 and pyarrow >= 10.0.1.\n",
      "  warnings.warn(_RANGE_PYARROW_WARNING)\n",
      "/opt/anaconda3/envs/clean_env/lib/python3.9/site-packages/google/cloud/bigquery/table.py:2337: UserWarning: Unable to represent RANGE schema as struct using pandas ArrowDtype. Using `object` instead. To use ArrowDtype, use pandas >= 1.5 and pyarrow >= 10.0.1.\n",
      "  warnings.warn(_RANGE_PYARROW_WARNING)\n"
     ]
    },
    {
     "name": "stdout",
     "output_type": "stream",
     "text": [
      "Processed data for 2023-07-05\n",
      "Fetching data for 2023-07-06\n"
     ]
    },
    {
     "name": "stderr",
     "output_type": "stream",
     "text": [
      "/opt/anaconda3/envs/clean_env/lib/python3.9/site-packages/google/cloud/bigquery/table.py:2309: UserWarning: Unable to represent RANGE schema as struct using pandas ArrowDtype. Using `object` instead. To use ArrowDtype, use pandas >= 1.5 and pyarrow >= 10.0.1.\n",
      "  warnings.warn(_RANGE_PYARROW_WARNING)\n",
      "/opt/anaconda3/envs/clean_env/lib/python3.9/site-packages/google/cloud/bigquery/table.py:2323: UserWarning: Unable to represent RANGE schema as struct using pandas ArrowDtype. Using `object` instead. To use ArrowDtype, use pandas >= 1.5 and pyarrow >= 10.0.1.\n",
      "  warnings.warn(_RANGE_PYARROW_WARNING)\n",
      "/opt/anaconda3/envs/clean_env/lib/python3.9/site-packages/google/cloud/bigquery/table.py:2337: UserWarning: Unable to represent RANGE schema as struct using pandas ArrowDtype. Using `object` instead. To use ArrowDtype, use pandas >= 1.5 and pyarrow >= 10.0.1.\n",
      "  warnings.warn(_RANGE_PYARROW_WARNING)\n"
     ]
    },
    {
     "name": "stdout",
     "output_type": "stream",
     "text": [
      "Processed data for 2023-07-06\n",
      "Fetching data for 2023-07-07\n"
     ]
    },
    {
     "name": "stderr",
     "output_type": "stream",
     "text": [
      "/opt/anaconda3/envs/clean_env/lib/python3.9/site-packages/google/cloud/bigquery/table.py:2309: UserWarning: Unable to represent RANGE schema as struct using pandas ArrowDtype. Using `object` instead. To use ArrowDtype, use pandas >= 1.5 and pyarrow >= 10.0.1.\n",
      "  warnings.warn(_RANGE_PYARROW_WARNING)\n",
      "/opt/anaconda3/envs/clean_env/lib/python3.9/site-packages/google/cloud/bigquery/table.py:2323: UserWarning: Unable to represent RANGE schema as struct using pandas ArrowDtype. Using `object` instead. To use ArrowDtype, use pandas >= 1.5 and pyarrow >= 10.0.1.\n",
      "  warnings.warn(_RANGE_PYARROW_WARNING)\n",
      "/opt/anaconda3/envs/clean_env/lib/python3.9/site-packages/google/cloud/bigquery/table.py:2337: UserWarning: Unable to represent RANGE schema as struct using pandas ArrowDtype. Using `object` instead. To use ArrowDtype, use pandas >= 1.5 and pyarrow >= 10.0.1.\n",
      "  warnings.warn(_RANGE_PYARROW_WARNING)\n"
     ]
    },
    {
     "name": "stdout",
     "output_type": "stream",
     "text": [
      "Processed data for 2023-07-07\n",
      "Fetching data for 2023-07-08\n"
     ]
    },
    {
     "name": "stderr",
     "output_type": "stream",
     "text": [
      "/opt/anaconda3/envs/clean_env/lib/python3.9/site-packages/google/cloud/bigquery/table.py:2309: UserWarning: Unable to represent RANGE schema as struct using pandas ArrowDtype. Using `object` instead. To use ArrowDtype, use pandas >= 1.5 and pyarrow >= 10.0.1.\n",
      "  warnings.warn(_RANGE_PYARROW_WARNING)\n",
      "/opt/anaconda3/envs/clean_env/lib/python3.9/site-packages/google/cloud/bigquery/table.py:2323: UserWarning: Unable to represent RANGE schema as struct using pandas ArrowDtype. Using `object` instead. To use ArrowDtype, use pandas >= 1.5 and pyarrow >= 10.0.1.\n",
      "  warnings.warn(_RANGE_PYARROW_WARNING)\n",
      "/opt/anaconda3/envs/clean_env/lib/python3.9/site-packages/google/cloud/bigquery/table.py:2337: UserWarning: Unable to represent RANGE schema as struct using pandas ArrowDtype. Using `object` instead. To use ArrowDtype, use pandas >= 1.5 and pyarrow >= 10.0.1.\n",
      "  warnings.warn(_RANGE_PYARROW_WARNING)\n"
     ]
    },
    {
     "name": "stdout",
     "output_type": "stream",
     "text": [
      "Processed data for 2023-07-08\n",
      "Fetching data for 2023-07-09\n"
     ]
    },
    {
     "name": "stderr",
     "output_type": "stream",
     "text": [
      "/opt/anaconda3/envs/clean_env/lib/python3.9/site-packages/google/cloud/bigquery/table.py:2309: UserWarning: Unable to represent RANGE schema as struct using pandas ArrowDtype. Using `object` instead. To use ArrowDtype, use pandas >= 1.5 and pyarrow >= 10.0.1.\n",
      "  warnings.warn(_RANGE_PYARROW_WARNING)\n",
      "/opt/anaconda3/envs/clean_env/lib/python3.9/site-packages/google/cloud/bigquery/table.py:2323: UserWarning: Unable to represent RANGE schema as struct using pandas ArrowDtype. Using `object` instead. To use ArrowDtype, use pandas >= 1.5 and pyarrow >= 10.0.1.\n",
      "  warnings.warn(_RANGE_PYARROW_WARNING)\n",
      "/opt/anaconda3/envs/clean_env/lib/python3.9/site-packages/google/cloud/bigquery/table.py:2337: UserWarning: Unable to represent RANGE schema as struct using pandas ArrowDtype. Using `object` instead. To use ArrowDtype, use pandas >= 1.5 and pyarrow >= 10.0.1.\n",
      "  warnings.warn(_RANGE_PYARROW_WARNING)\n"
     ]
    },
    {
     "name": "stdout",
     "output_type": "stream",
     "text": [
      "Processed data for 2023-07-09\n",
      "Fetching data for 2023-07-10\n"
     ]
    },
    {
     "name": "stderr",
     "output_type": "stream",
     "text": [
      "/opt/anaconda3/envs/clean_env/lib/python3.9/site-packages/google/cloud/bigquery/table.py:2309: UserWarning: Unable to represent RANGE schema as struct using pandas ArrowDtype. Using `object` instead. To use ArrowDtype, use pandas >= 1.5 and pyarrow >= 10.0.1.\n",
      "  warnings.warn(_RANGE_PYARROW_WARNING)\n",
      "/opt/anaconda3/envs/clean_env/lib/python3.9/site-packages/google/cloud/bigquery/table.py:2323: UserWarning: Unable to represent RANGE schema as struct using pandas ArrowDtype. Using `object` instead. To use ArrowDtype, use pandas >= 1.5 and pyarrow >= 10.0.1.\n",
      "  warnings.warn(_RANGE_PYARROW_WARNING)\n",
      "/opt/anaconda3/envs/clean_env/lib/python3.9/site-packages/google/cloud/bigquery/table.py:2337: UserWarning: Unable to represent RANGE schema as struct using pandas ArrowDtype. Using `object` instead. To use ArrowDtype, use pandas >= 1.5 and pyarrow >= 10.0.1.\n",
      "  warnings.warn(_RANGE_PYARROW_WARNING)\n"
     ]
    },
    {
     "name": "stdout",
     "output_type": "stream",
     "text": [
      "Processed data for 2023-07-10\n",
      "Fetching data for 2023-07-11\n"
     ]
    },
    {
     "name": "stderr",
     "output_type": "stream",
     "text": [
      "/opt/anaconda3/envs/clean_env/lib/python3.9/site-packages/google/cloud/bigquery/table.py:2309: UserWarning: Unable to represent RANGE schema as struct using pandas ArrowDtype. Using `object` instead. To use ArrowDtype, use pandas >= 1.5 and pyarrow >= 10.0.1.\n",
      "  warnings.warn(_RANGE_PYARROW_WARNING)\n",
      "/opt/anaconda3/envs/clean_env/lib/python3.9/site-packages/google/cloud/bigquery/table.py:2323: UserWarning: Unable to represent RANGE schema as struct using pandas ArrowDtype. Using `object` instead. To use ArrowDtype, use pandas >= 1.5 and pyarrow >= 10.0.1.\n",
      "  warnings.warn(_RANGE_PYARROW_WARNING)\n",
      "/opt/anaconda3/envs/clean_env/lib/python3.9/site-packages/google/cloud/bigquery/table.py:2337: UserWarning: Unable to represent RANGE schema as struct using pandas ArrowDtype. Using `object` instead. To use ArrowDtype, use pandas >= 1.5 and pyarrow >= 10.0.1.\n",
      "  warnings.warn(_RANGE_PYARROW_WARNING)\n"
     ]
    },
    {
     "name": "stdout",
     "output_type": "stream",
     "text": [
      "Processed data for 2023-07-11\n",
      "Fetching data for 2023-07-12\n"
     ]
    },
    {
     "name": "stderr",
     "output_type": "stream",
     "text": [
      "/opt/anaconda3/envs/clean_env/lib/python3.9/site-packages/google/cloud/bigquery/table.py:2309: UserWarning: Unable to represent RANGE schema as struct using pandas ArrowDtype. Using `object` instead. To use ArrowDtype, use pandas >= 1.5 and pyarrow >= 10.0.1.\n",
      "  warnings.warn(_RANGE_PYARROW_WARNING)\n",
      "/opt/anaconda3/envs/clean_env/lib/python3.9/site-packages/google/cloud/bigquery/table.py:2323: UserWarning: Unable to represent RANGE schema as struct using pandas ArrowDtype. Using `object` instead. To use ArrowDtype, use pandas >= 1.5 and pyarrow >= 10.0.1.\n",
      "  warnings.warn(_RANGE_PYARROW_WARNING)\n",
      "/opt/anaconda3/envs/clean_env/lib/python3.9/site-packages/google/cloud/bigquery/table.py:2337: UserWarning: Unable to represent RANGE schema as struct using pandas ArrowDtype. Using `object` instead. To use ArrowDtype, use pandas >= 1.5 and pyarrow >= 10.0.1.\n",
      "  warnings.warn(_RANGE_PYARROW_WARNING)\n"
     ]
    },
    {
     "name": "stdout",
     "output_type": "stream",
     "text": [
      "Processed data for 2023-07-12\n",
      "Fetching data for 2023-07-13\n"
     ]
    },
    {
     "name": "stderr",
     "output_type": "stream",
     "text": [
      "/opt/anaconda3/envs/clean_env/lib/python3.9/site-packages/google/cloud/bigquery/table.py:2309: UserWarning: Unable to represent RANGE schema as struct using pandas ArrowDtype. Using `object` instead. To use ArrowDtype, use pandas >= 1.5 and pyarrow >= 10.0.1.\n",
      "  warnings.warn(_RANGE_PYARROW_WARNING)\n",
      "/opt/anaconda3/envs/clean_env/lib/python3.9/site-packages/google/cloud/bigquery/table.py:2323: UserWarning: Unable to represent RANGE schema as struct using pandas ArrowDtype. Using `object` instead. To use ArrowDtype, use pandas >= 1.5 and pyarrow >= 10.0.1.\n",
      "  warnings.warn(_RANGE_PYARROW_WARNING)\n",
      "/opt/anaconda3/envs/clean_env/lib/python3.9/site-packages/google/cloud/bigquery/table.py:2337: UserWarning: Unable to represent RANGE schema as struct using pandas ArrowDtype. Using `object` instead. To use ArrowDtype, use pandas >= 1.5 and pyarrow >= 10.0.1.\n",
      "  warnings.warn(_RANGE_PYARROW_WARNING)\n"
     ]
    },
    {
     "name": "stdout",
     "output_type": "stream",
     "text": [
      "Processed data for 2023-07-13\n",
      "Fetching data for 2023-07-14\n"
     ]
    },
    {
     "name": "stderr",
     "output_type": "stream",
     "text": [
      "/opt/anaconda3/envs/clean_env/lib/python3.9/site-packages/google/cloud/bigquery/table.py:2309: UserWarning: Unable to represent RANGE schema as struct using pandas ArrowDtype. Using `object` instead. To use ArrowDtype, use pandas >= 1.5 and pyarrow >= 10.0.1.\n",
      "  warnings.warn(_RANGE_PYARROW_WARNING)\n",
      "/opt/anaconda3/envs/clean_env/lib/python3.9/site-packages/google/cloud/bigquery/table.py:2323: UserWarning: Unable to represent RANGE schema as struct using pandas ArrowDtype. Using `object` instead. To use ArrowDtype, use pandas >= 1.5 and pyarrow >= 10.0.1.\n",
      "  warnings.warn(_RANGE_PYARROW_WARNING)\n",
      "/opt/anaconda3/envs/clean_env/lib/python3.9/site-packages/google/cloud/bigquery/table.py:2337: UserWarning: Unable to represent RANGE schema as struct using pandas ArrowDtype. Using `object` instead. To use ArrowDtype, use pandas >= 1.5 and pyarrow >= 10.0.1.\n",
      "  warnings.warn(_RANGE_PYARROW_WARNING)\n"
     ]
    },
    {
     "name": "stdout",
     "output_type": "stream",
     "text": [
      "Processed data for 2023-07-14\n",
      "Fetching data for 2023-07-15\n"
     ]
    },
    {
     "name": "stderr",
     "output_type": "stream",
     "text": [
      "/opt/anaconda3/envs/clean_env/lib/python3.9/site-packages/google/cloud/bigquery/table.py:2309: UserWarning: Unable to represent RANGE schema as struct using pandas ArrowDtype. Using `object` instead. To use ArrowDtype, use pandas >= 1.5 and pyarrow >= 10.0.1.\n",
      "  warnings.warn(_RANGE_PYARROW_WARNING)\n",
      "/opt/anaconda3/envs/clean_env/lib/python3.9/site-packages/google/cloud/bigquery/table.py:2323: UserWarning: Unable to represent RANGE schema as struct using pandas ArrowDtype. Using `object` instead. To use ArrowDtype, use pandas >= 1.5 and pyarrow >= 10.0.1.\n",
      "  warnings.warn(_RANGE_PYARROW_WARNING)\n",
      "/opt/anaconda3/envs/clean_env/lib/python3.9/site-packages/google/cloud/bigquery/table.py:2337: UserWarning: Unable to represent RANGE schema as struct using pandas ArrowDtype. Using `object` instead. To use ArrowDtype, use pandas >= 1.5 and pyarrow >= 10.0.1.\n",
      "  warnings.warn(_RANGE_PYARROW_WARNING)\n"
     ]
    },
    {
     "name": "stdout",
     "output_type": "stream",
     "text": [
      "Processed data for 2023-07-15\n",
      "Fetching data for 2023-07-16\n"
     ]
    },
    {
     "name": "stderr",
     "output_type": "stream",
     "text": [
      "/opt/anaconda3/envs/clean_env/lib/python3.9/site-packages/google/cloud/bigquery/table.py:2309: UserWarning: Unable to represent RANGE schema as struct using pandas ArrowDtype. Using `object` instead. To use ArrowDtype, use pandas >= 1.5 and pyarrow >= 10.0.1.\n",
      "  warnings.warn(_RANGE_PYARROW_WARNING)\n",
      "/opt/anaconda3/envs/clean_env/lib/python3.9/site-packages/google/cloud/bigquery/table.py:2323: UserWarning: Unable to represent RANGE schema as struct using pandas ArrowDtype. Using `object` instead. To use ArrowDtype, use pandas >= 1.5 and pyarrow >= 10.0.1.\n",
      "  warnings.warn(_RANGE_PYARROW_WARNING)\n",
      "/opt/anaconda3/envs/clean_env/lib/python3.9/site-packages/google/cloud/bigquery/table.py:2337: UserWarning: Unable to represent RANGE schema as struct using pandas ArrowDtype. Using `object` instead. To use ArrowDtype, use pandas >= 1.5 and pyarrow >= 10.0.1.\n",
      "  warnings.warn(_RANGE_PYARROW_WARNING)\n"
     ]
    },
    {
     "name": "stdout",
     "output_type": "stream",
     "text": [
      "Processed data for 2023-07-16\n",
      "Fetching data for 2023-07-17\n"
     ]
    },
    {
     "name": "stderr",
     "output_type": "stream",
     "text": [
      "/opt/anaconda3/envs/clean_env/lib/python3.9/site-packages/google/cloud/bigquery/table.py:2309: UserWarning: Unable to represent RANGE schema as struct using pandas ArrowDtype. Using `object` instead. To use ArrowDtype, use pandas >= 1.5 and pyarrow >= 10.0.1.\n",
      "  warnings.warn(_RANGE_PYARROW_WARNING)\n",
      "/opt/anaconda3/envs/clean_env/lib/python3.9/site-packages/google/cloud/bigquery/table.py:2323: UserWarning: Unable to represent RANGE schema as struct using pandas ArrowDtype. Using `object` instead. To use ArrowDtype, use pandas >= 1.5 and pyarrow >= 10.0.1.\n",
      "  warnings.warn(_RANGE_PYARROW_WARNING)\n",
      "/opt/anaconda3/envs/clean_env/lib/python3.9/site-packages/google/cloud/bigquery/table.py:2337: UserWarning: Unable to represent RANGE schema as struct using pandas ArrowDtype. Using `object` instead. To use ArrowDtype, use pandas >= 1.5 and pyarrow >= 10.0.1.\n",
      "  warnings.warn(_RANGE_PYARROW_WARNING)\n"
     ]
    },
    {
     "name": "stdout",
     "output_type": "stream",
     "text": [
      "Processed data for 2023-07-17\n",
      "Fetching data for 2023-07-18\n"
     ]
    },
    {
     "name": "stderr",
     "output_type": "stream",
     "text": [
      "/opt/anaconda3/envs/clean_env/lib/python3.9/site-packages/google/cloud/bigquery/table.py:2309: UserWarning: Unable to represent RANGE schema as struct using pandas ArrowDtype. Using `object` instead. To use ArrowDtype, use pandas >= 1.5 and pyarrow >= 10.0.1.\n",
      "  warnings.warn(_RANGE_PYARROW_WARNING)\n",
      "/opt/anaconda3/envs/clean_env/lib/python3.9/site-packages/google/cloud/bigquery/table.py:2323: UserWarning: Unable to represent RANGE schema as struct using pandas ArrowDtype. Using `object` instead. To use ArrowDtype, use pandas >= 1.5 and pyarrow >= 10.0.1.\n",
      "  warnings.warn(_RANGE_PYARROW_WARNING)\n",
      "/opt/anaconda3/envs/clean_env/lib/python3.9/site-packages/google/cloud/bigquery/table.py:2337: UserWarning: Unable to represent RANGE schema as struct using pandas ArrowDtype. Using `object` instead. To use ArrowDtype, use pandas >= 1.5 and pyarrow >= 10.0.1.\n",
      "  warnings.warn(_RANGE_PYARROW_WARNING)\n"
     ]
    },
    {
     "name": "stdout",
     "output_type": "stream",
     "text": [
      "Processed data for 2023-07-18\n",
      "Fetching data for 2023-07-19\n"
     ]
    },
    {
     "name": "stderr",
     "output_type": "stream",
     "text": [
      "/opt/anaconda3/envs/clean_env/lib/python3.9/site-packages/google/cloud/bigquery/table.py:2309: UserWarning: Unable to represent RANGE schema as struct using pandas ArrowDtype. Using `object` instead. To use ArrowDtype, use pandas >= 1.5 and pyarrow >= 10.0.1.\n",
      "  warnings.warn(_RANGE_PYARROW_WARNING)\n",
      "/opt/anaconda3/envs/clean_env/lib/python3.9/site-packages/google/cloud/bigquery/table.py:2323: UserWarning: Unable to represent RANGE schema as struct using pandas ArrowDtype. Using `object` instead. To use ArrowDtype, use pandas >= 1.5 and pyarrow >= 10.0.1.\n",
      "  warnings.warn(_RANGE_PYARROW_WARNING)\n",
      "/opt/anaconda3/envs/clean_env/lib/python3.9/site-packages/google/cloud/bigquery/table.py:2337: UserWarning: Unable to represent RANGE schema as struct using pandas ArrowDtype. Using `object` instead. To use ArrowDtype, use pandas >= 1.5 and pyarrow >= 10.0.1.\n",
      "  warnings.warn(_RANGE_PYARROW_WARNING)\n"
     ]
    },
    {
     "name": "stdout",
     "output_type": "stream",
     "text": [
      "Processed data for 2023-07-19\n",
      "Fetching data for 2023-07-20\n"
     ]
    },
    {
     "name": "stderr",
     "output_type": "stream",
     "text": [
      "/opt/anaconda3/envs/clean_env/lib/python3.9/site-packages/google/cloud/bigquery/table.py:2309: UserWarning: Unable to represent RANGE schema as struct using pandas ArrowDtype. Using `object` instead. To use ArrowDtype, use pandas >= 1.5 and pyarrow >= 10.0.1.\n",
      "  warnings.warn(_RANGE_PYARROW_WARNING)\n",
      "/opt/anaconda3/envs/clean_env/lib/python3.9/site-packages/google/cloud/bigquery/table.py:2323: UserWarning: Unable to represent RANGE schema as struct using pandas ArrowDtype. Using `object` instead. To use ArrowDtype, use pandas >= 1.5 and pyarrow >= 10.0.1.\n",
      "  warnings.warn(_RANGE_PYARROW_WARNING)\n",
      "/opt/anaconda3/envs/clean_env/lib/python3.9/site-packages/google/cloud/bigquery/table.py:2337: UserWarning: Unable to represent RANGE schema as struct using pandas ArrowDtype. Using `object` instead. To use ArrowDtype, use pandas >= 1.5 and pyarrow >= 10.0.1.\n",
      "  warnings.warn(_RANGE_PYARROW_WARNING)\n"
     ]
    },
    {
     "name": "stdout",
     "output_type": "stream",
     "text": [
      "Processed data for 2023-07-20\n",
      "Fetching data for 2023-07-21\n"
     ]
    },
    {
     "name": "stderr",
     "output_type": "stream",
     "text": [
      "/opt/anaconda3/envs/clean_env/lib/python3.9/site-packages/google/cloud/bigquery/table.py:2309: UserWarning: Unable to represent RANGE schema as struct using pandas ArrowDtype. Using `object` instead. To use ArrowDtype, use pandas >= 1.5 and pyarrow >= 10.0.1.\n",
      "  warnings.warn(_RANGE_PYARROW_WARNING)\n",
      "/opt/anaconda3/envs/clean_env/lib/python3.9/site-packages/google/cloud/bigquery/table.py:2323: UserWarning: Unable to represent RANGE schema as struct using pandas ArrowDtype. Using `object` instead. To use ArrowDtype, use pandas >= 1.5 and pyarrow >= 10.0.1.\n",
      "  warnings.warn(_RANGE_PYARROW_WARNING)\n",
      "/opt/anaconda3/envs/clean_env/lib/python3.9/site-packages/google/cloud/bigquery/table.py:2337: UserWarning: Unable to represent RANGE schema as struct using pandas ArrowDtype. Using `object` instead. To use ArrowDtype, use pandas >= 1.5 and pyarrow >= 10.0.1.\n",
      "  warnings.warn(_RANGE_PYARROW_WARNING)\n"
     ]
    },
    {
     "name": "stdout",
     "output_type": "stream",
     "text": [
      "Processed data for 2023-07-21\n",
      "Fetching data for 2023-07-22\n"
     ]
    },
    {
     "name": "stderr",
     "output_type": "stream",
     "text": [
      "/opt/anaconda3/envs/clean_env/lib/python3.9/site-packages/google/cloud/bigquery/table.py:2309: UserWarning: Unable to represent RANGE schema as struct using pandas ArrowDtype. Using `object` instead. To use ArrowDtype, use pandas >= 1.5 and pyarrow >= 10.0.1.\n",
      "  warnings.warn(_RANGE_PYARROW_WARNING)\n",
      "/opt/anaconda3/envs/clean_env/lib/python3.9/site-packages/google/cloud/bigquery/table.py:2323: UserWarning: Unable to represent RANGE schema as struct using pandas ArrowDtype. Using `object` instead. To use ArrowDtype, use pandas >= 1.5 and pyarrow >= 10.0.1.\n",
      "  warnings.warn(_RANGE_PYARROW_WARNING)\n",
      "/opt/anaconda3/envs/clean_env/lib/python3.9/site-packages/google/cloud/bigquery/table.py:2337: UserWarning: Unable to represent RANGE schema as struct using pandas ArrowDtype. Using `object` instead. To use ArrowDtype, use pandas >= 1.5 and pyarrow >= 10.0.1.\n",
      "  warnings.warn(_RANGE_PYARROW_WARNING)\n"
     ]
    },
    {
     "name": "stdout",
     "output_type": "stream",
     "text": [
      "Processed data for 2023-07-22\n",
      "Fetching data for 2023-07-23\n"
     ]
    },
    {
     "name": "stderr",
     "output_type": "stream",
     "text": [
      "/opt/anaconda3/envs/clean_env/lib/python3.9/site-packages/google/cloud/bigquery/table.py:2309: UserWarning: Unable to represent RANGE schema as struct using pandas ArrowDtype. Using `object` instead. To use ArrowDtype, use pandas >= 1.5 and pyarrow >= 10.0.1.\n",
      "  warnings.warn(_RANGE_PYARROW_WARNING)\n",
      "/opt/anaconda3/envs/clean_env/lib/python3.9/site-packages/google/cloud/bigquery/table.py:2323: UserWarning: Unable to represent RANGE schema as struct using pandas ArrowDtype. Using `object` instead. To use ArrowDtype, use pandas >= 1.5 and pyarrow >= 10.0.1.\n",
      "  warnings.warn(_RANGE_PYARROW_WARNING)\n",
      "/opt/anaconda3/envs/clean_env/lib/python3.9/site-packages/google/cloud/bigquery/table.py:2337: UserWarning: Unable to represent RANGE schema as struct using pandas ArrowDtype. Using `object` instead. To use ArrowDtype, use pandas >= 1.5 and pyarrow >= 10.0.1.\n",
      "  warnings.warn(_RANGE_PYARROW_WARNING)\n"
     ]
    },
    {
     "name": "stdout",
     "output_type": "stream",
     "text": [
      "Processed data for 2023-07-23\n",
      "Fetching data for 2023-07-24\n"
     ]
    },
    {
     "name": "stderr",
     "output_type": "stream",
     "text": [
      "/opt/anaconda3/envs/clean_env/lib/python3.9/site-packages/google/cloud/bigquery/table.py:2309: UserWarning: Unable to represent RANGE schema as struct using pandas ArrowDtype. Using `object` instead. To use ArrowDtype, use pandas >= 1.5 and pyarrow >= 10.0.1.\n",
      "  warnings.warn(_RANGE_PYARROW_WARNING)\n",
      "/opt/anaconda3/envs/clean_env/lib/python3.9/site-packages/google/cloud/bigquery/table.py:2323: UserWarning: Unable to represent RANGE schema as struct using pandas ArrowDtype. Using `object` instead. To use ArrowDtype, use pandas >= 1.5 and pyarrow >= 10.0.1.\n",
      "  warnings.warn(_RANGE_PYARROW_WARNING)\n",
      "/opt/anaconda3/envs/clean_env/lib/python3.9/site-packages/google/cloud/bigquery/table.py:2337: UserWarning: Unable to represent RANGE schema as struct using pandas ArrowDtype. Using `object` instead. To use ArrowDtype, use pandas >= 1.5 and pyarrow >= 10.0.1.\n",
      "  warnings.warn(_RANGE_PYARROW_WARNING)\n"
     ]
    },
    {
     "name": "stdout",
     "output_type": "stream",
     "text": [
      "Processed data for 2023-07-24\n",
      "Fetching data for 2023-07-25\n"
     ]
    },
    {
     "name": "stderr",
     "output_type": "stream",
     "text": [
      "/opt/anaconda3/envs/clean_env/lib/python3.9/site-packages/google/cloud/bigquery/table.py:2309: UserWarning: Unable to represent RANGE schema as struct using pandas ArrowDtype. Using `object` instead. To use ArrowDtype, use pandas >= 1.5 and pyarrow >= 10.0.1.\n",
      "  warnings.warn(_RANGE_PYARROW_WARNING)\n",
      "/opt/anaconda3/envs/clean_env/lib/python3.9/site-packages/google/cloud/bigquery/table.py:2323: UserWarning: Unable to represent RANGE schema as struct using pandas ArrowDtype. Using `object` instead. To use ArrowDtype, use pandas >= 1.5 and pyarrow >= 10.0.1.\n",
      "  warnings.warn(_RANGE_PYARROW_WARNING)\n",
      "/opt/anaconda3/envs/clean_env/lib/python3.9/site-packages/google/cloud/bigquery/table.py:2337: UserWarning: Unable to represent RANGE schema as struct using pandas ArrowDtype. Using `object` instead. To use ArrowDtype, use pandas >= 1.5 and pyarrow >= 10.0.1.\n",
      "  warnings.warn(_RANGE_PYARROW_WARNING)\n"
     ]
    },
    {
     "name": "stdout",
     "output_type": "stream",
     "text": [
      "Processed data for 2023-07-25\n",
      "Fetching data for 2023-07-26\n"
     ]
    },
    {
     "name": "stderr",
     "output_type": "stream",
     "text": [
      "/opt/anaconda3/envs/clean_env/lib/python3.9/site-packages/google/cloud/bigquery/table.py:2309: UserWarning: Unable to represent RANGE schema as struct using pandas ArrowDtype. Using `object` instead. To use ArrowDtype, use pandas >= 1.5 and pyarrow >= 10.0.1.\n",
      "  warnings.warn(_RANGE_PYARROW_WARNING)\n",
      "/opt/anaconda3/envs/clean_env/lib/python3.9/site-packages/google/cloud/bigquery/table.py:2323: UserWarning: Unable to represent RANGE schema as struct using pandas ArrowDtype. Using `object` instead. To use ArrowDtype, use pandas >= 1.5 and pyarrow >= 10.0.1.\n",
      "  warnings.warn(_RANGE_PYARROW_WARNING)\n",
      "/opt/anaconda3/envs/clean_env/lib/python3.9/site-packages/google/cloud/bigquery/table.py:2337: UserWarning: Unable to represent RANGE schema as struct using pandas ArrowDtype. Using `object` instead. To use ArrowDtype, use pandas >= 1.5 and pyarrow >= 10.0.1.\n",
      "  warnings.warn(_RANGE_PYARROW_WARNING)\n"
     ]
    },
    {
     "name": "stdout",
     "output_type": "stream",
     "text": [
      "Processed data for 2023-07-26\n",
      "Fetching data for 2023-07-27\n"
     ]
    },
    {
     "name": "stderr",
     "output_type": "stream",
     "text": [
      "/opt/anaconda3/envs/clean_env/lib/python3.9/site-packages/google/cloud/bigquery/table.py:2309: UserWarning: Unable to represent RANGE schema as struct using pandas ArrowDtype. Using `object` instead. To use ArrowDtype, use pandas >= 1.5 and pyarrow >= 10.0.1.\n",
      "  warnings.warn(_RANGE_PYARROW_WARNING)\n",
      "/opt/anaconda3/envs/clean_env/lib/python3.9/site-packages/google/cloud/bigquery/table.py:2323: UserWarning: Unable to represent RANGE schema as struct using pandas ArrowDtype. Using `object` instead. To use ArrowDtype, use pandas >= 1.5 and pyarrow >= 10.0.1.\n",
      "  warnings.warn(_RANGE_PYARROW_WARNING)\n",
      "/opt/anaconda3/envs/clean_env/lib/python3.9/site-packages/google/cloud/bigquery/table.py:2337: UserWarning: Unable to represent RANGE schema as struct using pandas ArrowDtype. Using `object` instead. To use ArrowDtype, use pandas >= 1.5 and pyarrow >= 10.0.1.\n",
      "  warnings.warn(_RANGE_PYARROW_WARNING)\n"
     ]
    },
    {
     "name": "stdout",
     "output_type": "stream",
     "text": [
      "Processed data for 2023-07-27\n",
      "Fetching data for 2023-07-28\n"
     ]
    },
    {
     "name": "stderr",
     "output_type": "stream",
     "text": [
      "/opt/anaconda3/envs/clean_env/lib/python3.9/site-packages/google/cloud/bigquery/table.py:2309: UserWarning: Unable to represent RANGE schema as struct using pandas ArrowDtype. Using `object` instead. To use ArrowDtype, use pandas >= 1.5 and pyarrow >= 10.0.1.\n",
      "  warnings.warn(_RANGE_PYARROW_WARNING)\n",
      "/opt/anaconda3/envs/clean_env/lib/python3.9/site-packages/google/cloud/bigquery/table.py:2323: UserWarning: Unable to represent RANGE schema as struct using pandas ArrowDtype. Using `object` instead. To use ArrowDtype, use pandas >= 1.5 and pyarrow >= 10.0.1.\n",
      "  warnings.warn(_RANGE_PYARROW_WARNING)\n",
      "/opt/anaconda3/envs/clean_env/lib/python3.9/site-packages/google/cloud/bigquery/table.py:2337: UserWarning: Unable to represent RANGE schema as struct using pandas ArrowDtype. Using `object` instead. To use ArrowDtype, use pandas >= 1.5 and pyarrow >= 10.0.1.\n",
      "  warnings.warn(_RANGE_PYARROW_WARNING)\n"
     ]
    },
    {
     "name": "stdout",
     "output_type": "stream",
     "text": [
      "Processed data for 2023-07-28\n",
      "Fetching data for 2023-07-29\n"
     ]
    },
    {
     "name": "stderr",
     "output_type": "stream",
     "text": [
      "/opt/anaconda3/envs/clean_env/lib/python3.9/site-packages/google/cloud/bigquery/table.py:2309: UserWarning: Unable to represent RANGE schema as struct using pandas ArrowDtype. Using `object` instead. To use ArrowDtype, use pandas >= 1.5 and pyarrow >= 10.0.1.\n",
      "  warnings.warn(_RANGE_PYARROW_WARNING)\n",
      "/opt/anaconda3/envs/clean_env/lib/python3.9/site-packages/google/cloud/bigquery/table.py:2323: UserWarning: Unable to represent RANGE schema as struct using pandas ArrowDtype. Using `object` instead. To use ArrowDtype, use pandas >= 1.5 and pyarrow >= 10.0.1.\n",
      "  warnings.warn(_RANGE_PYARROW_WARNING)\n",
      "/opt/anaconda3/envs/clean_env/lib/python3.9/site-packages/google/cloud/bigquery/table.py:2337: UserWarning: Unable to represent RANGE schema as struct using pandas ArrowDtype. Using `object` instead. To use ArrowDtype, use pandas >= 1.5 and pyarrow >= 10.0.1.\n",
      "  warnings.warn(_RANGE_PYARROW_WARNING)\n"
     ]
    },
    {
     "name": "stdout",
     "output_type": "stream",
     "text": [
      "Processed data for 2023-07-29\n",
      "Fetching data for 2023-07-30\n"
     ]
    },
    {
     "name": "stderr",
     "output_type": "stream",
     "text": [
      "/opt/anaconda3/envs/clean_env/lib/python3.9/site-packages/google/cloud/bigquery/table.py:2309: UserWarning: Unable to represent RANGE schema as struct using pandas ArrowDtype. Using `object` instead. To use ArrowDtype, use pandas >= 1.5 and pyarrow >= 10.0.1.\n",
      "  warnings.warn(_RANGE_PYARROW_WARNING)\n",
      "/opt/anaconda3/envs/clean_env/lib/python3.9/site-packages/google/cloud/bigquery/table.py:2323: UserWarning: Unable to represent RANGE schema as struct using pandas ArrowDtype. Using `object` instead. To use ArrowDtype, use pandas >= 1.5 and pyarrow >= 10.0.1.\n",
      "  warnings.warn(_RANGE_PYARROW_WARNING)\n",
      "/opt/anaconda3/envs/clean_env/lib/python3.9/site-packages/google/cloud/bigquery/table.py:2337: UserWarning: Unable to represent RANGE schema as struct using pandas ArrowDtype. Using `object` instead. To use ArrowDtype, use pandas >= 1.5 and pyarrow >= 10.0.1.\n",
      "  warnings.warn(_RANGE_PYARROW_WARNING)\n"
     ]
    },
    {
     "name": "stdout",
     "output_type": "stream",
     "text": [
      "Processed data for 2023-07-30\n",
      "Fetching data for 2023-07-31\n"
     ]
    },
    {
     "name": "stderr",
     "output_type": "stream",
     "text": [
      "/opt/anaconda3/envs/clean_env/lib/python3.9/site-packages/google/cloud/bigquery/table.py:2309: UserWarning: Unable to represent RANGE schema as struct using pandas ArrowDtype. Using `object` instead. To use ArrowDtype, use pandas >= 1.5 and pyarrow >= 10.0.1.\n",
      "  warnings.warn(_RANGE_PYARROW_WARNING)\n",
      "/opt/anaconda3/envs/clean_env/lib/python3.9/site-packages/google/cloud/bigquery/table.py:2323: UserWarning: Unable to represent RANGE schema as struct using pandas ArrowDtype. Using `object` instead. To use ArrowDtype, use pandas >= 1.5 and pyarrow >= 10.0.1.\n",
      "  warnings.warn(_RANGE_PYARROW_WARNING)\n",
      "/opt/anaconda3/envs/clean_env/lib/python3.9/site-packages/google/cloud/bigquery/table.py:2337: UserWarning: Unable to represent RANGE schema as struct using pandas ArrowDtype. Using `object` instead. To use ArrowDtype, use pandas >= 1.5 and pyarrow >= 10.0.1.\n",
      "  warnings.warn(_RANGE_PYARROW_WARNING)\n"
     ]
    },
    {
     "name": "stdout",
     "output_type": "stream",
     "text": [
      "Processed data for 2023-07-31\n",
      "Fetching data for 2023-08-01\n"
     ]
    },
    {
     "name": "stderr",
     "output_type": "stream",
     "text": [
      "/opt/anaconda3/envs/clean_env/lib/python3.9/site-packages/google/cloud/bigquery/table.py:2309: UserWarning: Unable to represent RANGE schema as struct using pandas ArrowDtype. Using `object` instead. To use ArrowDtype, use pandas >= 1.5 and pyarrow >= 10.0.1.\n",
      "  warnings.warn(_RANGE_PYARROW_WARNING)\n",
      "/opt/anaconda3/envs/clean_env/lib/python3.9/site-packages/google/cloud/bigquery/table.py:2323: UserWarning: Unable to represent RANGE schema as struct using pandas ArrowDtype. Using `object` instead. To use ArrowDtype, use pandas >= 1.5 and pyarrow >= 10.0.1.\n",
      "  warnings.warn(_RANGE_PYARROW_WARNING)\n",
      "/opt/anaconda3/envs/clean_env/lib/python3.9/site-packages/google/cloud/bigquery/table.py:2337: UserWarning: Unable to represent RANGE schema as struct using pandas ArrowDtype. Using `object` instead. To use ArrowDtype, use pandas >= 1.5 and pyarrow >= 10.0.1.\n",
      "  warnings.warn(_RANGE_PYARROW_WARNING)\n"
     ]
    },
    {
     "name": "stdout",
     "output_type": "stream",
     "text": [
      "Processed data for 2023-08-01\n",
      "Fetching data for 2023-08-02\n"
     ]
    },
    {
     "name": "stderr",
     "output_type": "stream",
     "text": [
      "/opt/anaconda3/envs/clean_env/lib/python3.9/site-packages/google/cloud/bigquery/table.py:2309: UserWarning: Unable to represent RANGE schema as struct using pandas ArrowDtype. Using `object` instead. To use ArrowDtype, use pandas >= 1.5 and pyarrow >= 10.0.1.\n",
      "  warnings.warn(_RANGE_PYARROW_WARNING)\n",
      "/opt/anaconda3/envs/clean_env/lib/python3.9/site-packages/google/cloud/bigquery/table.py:2323: UserWarning: Unable to represent RANGE schema as struct using pandas ArrowDtype. Using `object` instead. To use ArrowDtype, use pandas >= 1.5 and pyarrow >= 10.0.1.\n",
      "  warnings.warn(_RANGE_PYARROW_WARNING)\n",
      "/opt/anaconda3/envs/clean_env/lib/python3.9/site-packages/google/cloud/bigquery/table.py:2337: UserWarning: Unable to represent RANGE schema as struct using pandas ArrowDtype. Using `object` instead. To use ArrowDtype, use pandas >= 1.5 and pyarrow >= 10.0.1.\n",
      "  warnings.warn(_RANGE_PYARROW_WARNING)\n"
     ]
    },
    {
     "name": "stdout",
     "output_type": "stream",
     "text": [
      "Processed data for 2023-08-02\n",
      "Fetching data for 2023-08-03\n"
     ]
    },
    {
     "name": "stderr",
     "output_type": "stream",
     "text": [
      "/opt/anaconda3/envs/clean_env/lib/python3.9/site-packages/google/cloud/bigquery/table.py:2309: UserWarning: Unable to represent RANGE schema as struct using pandas ArrowDtype. Using `object` instead. To use ArrowDtype, use pandas >= 1.5 and pyarrow >= 10.0.1.\n",
      "  warnings.warn(_RANGE_PYARROW_WARNING)\n",
      "/opt/anaconda3/envs/clean_env/lib/python3.9/site-packages/google/cloud/bigquery/table.py:2323: UserWarning: Unable to represent RANGE schema as struct using pandas ArrowDtype. Using `object` instead. To use ArrowDtype, use pandas >= 1.5 and pyarrow >= 10.0.1.\n",
      "  warnings.warn(_RANGE_PYARROW_WARNING)\n",
      "/opt/anaconda3/envs/clean_env/lib/python3.9/site-packages/google/cloud/bigquery/table.py:2337: UserWarning: Unable to represent RANGE schema as struct using pandas ArrowDtype. Using `object` instead. To use ArrowDtype, use pandas >= 1.5 and pyarrow >= 10.0.1.\n",
      "  warnings.warn(_RANGE_PYARROW_WARNING)\n"
     ]
    },
    {
     "name": "stdout",
     "output_type": "stream",
     "text": [
      "Processed data for 2023-08-03\n",
      "Fetching data for 2023-08-04\n"
     ]
    },
    {
     "name": "stderr",
     "output_type": "stream",
     "text": [
      "/opt/anaconda3/envs/clean_env/lib/python3.9/site-packages/google/cloud/bigquery/table.py:2309: UserWarning: Unable to represent RANGE schema as struct using pandas ArrowDtype. Using `object` instead. To use ArrowDtype, use pandas >= 1.5 and pyarrow >= 10.0.1.\n",
      "  warnings.warn(_RANGE_PYARROW_WARNING)\n",
      "/opt/anaconda3/envs/clean_env/lib/python3.9/site-packages/google/cloud/bigquery/table.py:2323: UserWarning: Unable to represent RANGE schema as struct using pandas ArrowDtype. Using `object` instead. To use ArrowDtype, use pandas >= 1.5 and pyarrow >= 10.0.1.\n",
      "  warnings.warn(_RANGE_PYARROW_WARNING)\n",
      "/opt/anaconda3/envs/clean_env/lib/python3.9/site-packages/google/cloud/bigquery/table.py:2337: UserWarning: Unable to represent RANGE schema as struct using pandas ArrowDtype. Using `object` instead. To use ArrowDtype, use pandas >= 1.5 and pyarrow >= 10.0.1.\n",
      "  warnings.warn(_RANGE_PYARROW_WARNING)\n"
     ]
    },
    {
     "name": "stdout",
     "output_type": "stream",
     "text": [
      "Processed data for 2023-08-04\n",
      "Fetching data for 2023-08-05\n"
     ]
    },
    {
     "name": "stderr",
     "output_type": "stream",
     "text": [
      "/opt/anaconda3/envs/clean_env/lib/python3.9/site-packages/google/cloud/bigquery/table.py:2309: UserWarning: Unable to represent RANGE schema as struct using pandas ArrowDtype. Using `object` instead. To use ArrowDtype, use pandas >= 1.5 and pyarrow >= 10.0.1.\n",
      "  warnings.warn(_RANGE_PYARROW_WARNING)\n",
      "/opt/anaconda3/envs/clean_env/lib/python3.9/site-packages/google/cloud/bigquery/table.py:2323: UserWarning: Unable to represent RANGE schema as struct using pandas ArrowDtype. Using `object` instead. To use ArrowDtype, use pandas >= 1.5 and pyarrow >= 10.0.1.\n",
      "  warnings.warn(_RANGE_PYARROW_WARNING)\n",
      "/opt/anaconda3/envs/clean_env/lib/python3.9/site-packages/google/cloud/bigquery/table.py:2337: UserWarning: Unable to represent RANGE schema as struct using pandas ArrowDtype. Using `object` instead. To use ArrowDtype, use pandas >= 1.5 and pyarrow >= 10.0.1.\n",
      "  warnings.warn(_RANGE_PYARROW_WARNING)\n"
     ]
    },
    {
     "name": "stdout",
     "output_type": "stream",
     "text": [
      "Processed data for 2023-08-05\n",
      "Fetching data for 2023-08-06\n"
     ]
    },
    {
     "name": "stderr",
     "output_type": "stream",
     "text": [
      "/opt/anaconda3/envs/clean_env/lib/python3.9/site-packages/google/cloud/bigquery/table.py:2309: UserWarning: Unable to represent RANGE schema as struct using pandas ArrowDtype. Using `object` instead. To use ArrowDtype, use pandas >= 1.5 and pyarrow >= 10.0.1.\n",
      "  warnings.warn(_RANGE_PYARROW_WARNING)\n",
      "/opt/anaconda3/envs/clean_env/lib/python3.9/site-packages/google/cloud/bigquery/table.py:2323: UserWarning: Unable to represent RANGE schema as struct using pandas ArrowDtype. Using `object` instead. To use ArrowDtype, use pandas >= 1.5 and pyarrow >= 10.0.1.\n",
      "  warnings.warn(_RANGE_PYARROW_WARNING)\n",
      "/opt/anaconda3/envs/clean_env/lib/python3.9/site-packages/google/cloud/bigquery/table.py:2337: UserWarning: Unable to represent RANGE schema as struct using pandas ArrowDtype. Using `object` instead. To use ArrowDtype, use pandas >= 1.5 and pyarrow >= 10.0.1.\n",
      "  warnings.warn(_RANGE_PYARROW_WARNING)\n"
     ]
    },
    {
     "name": "stdout",
     "output_type": "stream",
     "text": [
      "Processed data for 2023-08-06\n",
      "Fetching data for 2023-08-07\n"
     ]
    },
    {
     "name": "stderr",
     "output_type": "stream",
     "text": [
      "/opt/anaconda3/envs/clean_env/lib/python3.9/site-packages/google/cloud/bigquery/table.py:2309: UserWarning: Unable to represent RANGE schema as struct using pandas ArrowDtype. Using `object` instead. To use ArrowDtype, use pandas >= 1.5 and pyarrow >= 10.0.1.\n",
      "  warnings.warn(_RANGE_PYARROW_WARNING)\n",
      "/opt/anaconda3/envs/clean_env/lib/python3.9/site-packages/google/cloud/bigquery/table.py:2323: UserWarning: Unable to represent RANGE schema as struct using pandas ArrowDtype. Using `object` instead. To use ArrowDtype, use pandas >= 1.5 and pyarrow >= 10.0.1.\n",
      "  warnings.warn(_RANGE_PYARROW_WARNING)\n",
      "/opt/anaconda3/envs/clean_env/lib/python3.9/site-packages/google/cloud/bigquery/table.py:2337: UserWarning: Unable to represent RANGE schema as struct using pandas ArrowDtype. Using `object` instead. To use ArrowDtype, use pandas >= 1.5 and pyarrow >= 10.0.1.\n",
      "  warnings.warn(_RANGE_PYARROW_WARNING)\n"
     ]
    },
    {
     "name": "stdout",
     "output_type": "stream",
     "text": [
      "Processed data for 2023-08-07\n",
      "Fetching data for 2023-08-08\n"
     ]
    },
    {
     "name": "stderr",
     "output_type": "stream",
     "text": [
      "/opt/anaconda3/envs/clean_env/lib/python3.9/site-packages/google/cloud/bigquery/table.py:2309: UserWarning: Unable to represent RANGE schema as struct using pandas ArrowDtype. Using `object` instead. To use ArrowDtype, use pandas >= 1.5 and pyarrow >= 10.0.1.\n",
      "  warnings.warn(_RANGE_PYARROW_WARNING)\n",
      "/opt/anaconda3/envs/clean_env/lib/python3.9/site-packages/google/cloud/bigquery/table.py:2323: UserWarning: Unable to represent RANGE schema as struct using pandas ArrowDtype. Using `object` instead. To use ArrowDtype, use pandas >= 1.5 and pyarrow >= 10.0.1.\n",
      "  warnings.warn(_RANGE_PYARROW_WARNING)\n",
      "/opt/anaconda3/envs/clean_env/lib/python3.9/site-packages/google/cloud/bigquery/table.py:2337: UserWarning: Unable to represent RANGE schema as struct using pandas ArrowDtype. Using `object` instead. To use ArrowDtype, use pandas >= 1.5 and pyarrow >= 10.0.1.\n",
      "  warnings.warn(_RANGE_PYARROW_WARNING)\n"
     ]
    },
    {
     "name": "stdout",
     "output_type": "stream",
     "text": [
      "Processed data for 2023-08-08\n",
      "Fetching data for 2023-08-09\n"
     ]
    },
    {
     "name": "stderr",
     "output_type": "stream",
     "text": [
      "/opt/anaconda3/envs/clean_env/lib/python3.9/site-packages/google/cloud/bigquery/table.py:2309: UserWarning: Unable to represent RANGE schema as struct using pandas ArrowDtype. Using `object` instead. To use ArrowDtype, use pandas >= 1.5 and pyarrow >= 10.0.1.\n",
      "  warnings.warn(_RANGE_PYARROW_WARNING)\n",
      "/opt/anaconda3/envs/clean_env/lib/python3.9/site-packages/google/cloud/bigquery/table.py:2323: UserWarning: Unable to represent RANGE schema as struct using pandas ArrowDtype. Using `object` instead. To use ArrowDtype, use pandas >= 1.5 and pyarrow >= 10.0.1.\n",
      "  warnings.warn(_RANGE_PYARROW_WARNING)\n",
      "/opt/anaconda3/envs/clean_env/lib/python3.9/site-packages/google/cloud/bigquery/table.py:2337: UserWarning: Unable to represent RANGE schema as struct using pandas ArrowDtype. Using `object` instead. To use ArrowDtype, use pandas >= 1.5 and pyarrow >= 10.0.1.\n",
      "  warnings.warn(_RANGE_PYARROW_WARNING)\n"
     ]
    },
    {
     "name": "stdout",
     "output_type": "stream",
     "text": [
      "Processed data for 2023-08-09\n",
      "Fetching data for 2023-08-10\n"
     ]
    },
    {
     "name": "stderr",
     "output_type": "stream",
     "text": [
      "/opt/anaconda3/envs/clean_env/lib/python3.9/site-packages/google/cloud/bigquery/table.py:2309: UserWarning: Unable to represent RANGE schema as struct using pandas ArrowDtype. Using `object` instead. To use ArrowDtype, use pandas >= 1.5 and pyarrow >= 10.0.1.\n",
      "  warnings.warn(_RANGE_PYARROW_WARNING)\n",
      "/opt/anaconda3/envs/clean_env/lib/python3.9/site-packages/google/cloud/bigquery/table.py:2323: UserWarning: Unable to represent RANGE schema as struct using pandas ArrowDtype. Using `object` instead. To use ArrowDtype, use pandas >= 1.5 and pyarrow >= 10.0.1.\n",
      "  warnings.warn(_RANGE_PYARROW_WARNING)\n",
      "/opt/anaconda3/envs/clean_env/lib/python3.9/site-packages/google/cloud/bigquery/table.py:2337: UserWarning: Unable to represent RANGE schema as struct using pandas ArrowDtype. Using `object` instead. To use ArrowDtype, use pandas >= 1.5 and pyarrow >= 10.0.1.\n",
      "  warnings.warn(_RANGE_PYARROW_WARNING)\n"
     ]
    },
    {
     "name": "stdout",
     "output_type": "stream",
     "text": [
      "Processed data for 2023-08-10\n",
      "Fetching data for 2023-08-11\n"
     ]
    },
    {
     "name": "stderr",
     "output_type": "stream",
     "text": [
      "/opt/anaconda3/envs/clean_env/lib/python3.9/site-packages/google/cloud/bigquery/table.py:2309: UserWarning: Unable to represent RANGE schema as struct using pandas ArrowDtype. Using `object` instead. To use ArrowDtype, use pandas >= 1.5 and pyarrow >= 10.0.1.\n",
      "  warnings.warn(_RANGE_PYARROW_WARNING)\n",
      "/opt/anaconda3/envs/clean_env/lib/python3.9/site-packages/google/cloud/bigquery/table.py:2323: UserWarning: Unable to represent RANGE schema as struct using pandas ArrowDtype. Using `object` instead. To use ArrowDtype, use pandas >= 1.5 and pyarrow >= 10.0.1.\n",
      "  warnings.warn(_RANGE_PYARROW_WARNING)\n",
      "/opt/anaconda3/envs/clean_env/lib/python3.9/site-packages/google/cloud/bigquery/table.py:2337: UserWarning: Unable to represent RANGE schema as struct using pandas ArrowDtype. Using `object` instead. To use ArrowDtype, use pandas >= 1.5 and pyarrow >= 10.0.1.\n",
      "  warnings.warn(_RANGE_PYARROW_WARNING)\n"
     ]
    },
    {
     "name": "stdout",
     "output_type": "stream",
     "text": [
      "Processed data for 2023-08-11\n",
      "Fetching data for 2023-08-12\n"
     ]
    },
    {
     "name": "stderr",
     "output_type": "stream",
     "text": [
      "/opt/anaconda3/envs/clean_env/lib/python3.9/site-packages/google/cloud/bigquery/table.py:2309: UserWarning: Unable to represent RANGE schema as struct using pandas ArrowDtype. Using `object` instead. To use ArrowDtype, use pandas >= 1.5 and pyarrow >= 10.0.1.\n",
      "  warnings.warn(_RANGE_PYARROW_WARNING)\n",
      "/opt/anaconda3/envs/clean_env/lib/python3.9/site-packages/google/cloud/bigquery/table.py:2323: UserWarning: Unable to represent RANGE schema as struct using pandas ArrowDtype. Using `object` instead. To use ArrowDtype, use pandas >= 1.5 and pyarrow >= 10.0.1.\n",
      "  warnings.warn(_RANGE_PYARROW_WARNING)\n",
      "/opt/anaconda3/envs/clean_env/lib/python3.9/site-packages/google/cloud/bigquery/table.py:2337: UserWarning: Unable to represent RANGE schema as struct using pandas ArrowDtype. Using `object` instead. To use ArrowDtype, use pandas >= 1.5 and pyarrow >= 10.0.1.\n",
      "  warnings.warn(_RANGE_PYARROW_WARNING)\n"
     ]
    },
    {
     "name": "stdout",
     "output_type": "stream",
     "text": [
      "Processed data for 2023-08-12\n",
      "Fetching data for 2023-08-13\n"
     ]
    },
    {
     "name": "stderr",
     "output_type": "stream",
     "text": [
      "/opt/anaconda3/envs/clean_env/lib/python3.9/site-packages/google/cloud/bigquery/table.py:2309: UserWarning: Unable to represent RANGE schema as struct using pandas ArrowDtype. Using `object` instead. To use ArrowDtype, use pandas >= 1.5 and pyarrow >= 10.0.1.\n",
      "  warnings.warn(_RANGE_PYARROW_WARNING)\n",
      "/opt/anaconda3/envs/clean_env/lib/python3.9/site-packages/google/cloud/bigquery/table.py:2323: UserWarning: Unable to represent RANGE schema as struct using pandas ArrowDtype. Using `object` instead. To use ArrowDtype, use pandas >= 1.5 and pyarrow >= 10.0.1.\n",
      "  warnings.warn(_RANGE_PYARROW_WARNING)\n",
      "/opt/anaconda3/envs/clean_env/lib/python3.9/site-packages/google/cloud/bigquery/table.py:2337: UserWarning: Unable to represent RANGE schema as struct using pandas ArrowDtype. Using `object` instead. To use ArrowDtype, use pandas >= 1.5 and pyarrow >= 10.0.1.\n",
      "  warnings.warn(_RANGE_PYARROW_WARNING)\n"
     ]
    },
    {
     "name": "stdout",
     "output_type": "stream",
     "text": [
      "Processed data for 2023-08-13\n",
      "Fetching data for 2023-08-14\n"
     ]
    },
    {
     "name": "stderr",
     "output_type": "stream",
     "text": [
      "/opt/anaconda3/envs/clean_env/lib/python3.9/site-packages/google/cloud/bigquery/table.py:2309: UserWarning: Unable to represent RANGE schema as struct using pandas ArrowDtype. Using `object` instead. To use ArrowDtype, use pandas >= 1.5 and pyarrow >= 10.0.1.\n",
      "  warnings.warn(_RANGE_PYARROW_WARNING)\n",
      "/opt/anaconda3/envs/clean_env/lib/python3.9/site-packages/google/cloud/bigquery/table.py:2323: UserWarning: Unable to represent RANGE schema as struct using pandas ArrowDtype. Using `object` instead. To use ArrowDtype, use pandas >= 1.5 and pyarrow >= 10.0.1.\n",
      "  warnings.warn(_RANGE_PYARROW_WARNING)\n",
      "/opt/anaconda3/envs/clean_env/lib/python3.9/site-packages/google/cloud/bigquery/table.py:2337: UserWarning: Unable to represent RANGE schema as struct using pandas ArrowDtype. Using `object` instead. To use ArrowDtype, use pandas >= 1.5 and pyarrow >= 10.0.1.\n",
      "  warnings.warn(_RANGE_PYARROW_WARNING)\n"
     ]
    },
    {
     "name": "stdout",
     "output_type": "stream",
     "text": [
      "Processed data for 2023-08-14\n",
      "Fetching data for 2023-08-15\n"
     ]
    },
    {
     "name": "stderr",
     "output_type": "stream",
     "text": [
      "/opt/anaconda3/envs/clean_env/lib/python3.9/site-packages/google/cloud/bigquery/table.py:2309: UserWarning: Unable to represent RANGE schema as struct using pandas ArrowDtype. Using `object` instead. To use ArrowDtype, use pandas >= 1.5 and pyarrow >= 10.0.1.\n",
      "  warnings.warn(_RANGE_PYARROW_WARNING)\n",
      "/opt/anaconda3/envs/clean_env/lib/python3.9/site-packages/google/cloud/bigquery/table.py:2323: UserWarning: Unable to represent RANGE schema as struct using pandas ArrowDtype. Using `object` instead. To use ArrowDtype, use pandas >= 1.5 and pyarrow >= 10.0.1.\n",
      "  warnings.warn(_RANGE_PYARROW_WARNING)\n",
      "/opt/anaconda3/envs/clean_env/lib/python3.9/site-packages/google/cloud/bigquery/table.py:2337: UserWarning: Unable to represent RANGE schema as struct using pandas ArrowDtype. Using `object` instead. To use ArrowDtype, use pandas >= 1.5 and pyarrow >= 10.0.1.\n",
      "  warnings.warn(_RANGE_PYARROW_WARNING)\n"
     ]
    },
    {
     "name": "stdout",
     "output_type": "stream",
     "text": [
      "Processed data for 2023-08-15\n",
      "Fetching data for 2023-08-16\n"
     ]
    },
    {
     "name": "stderr",
     "output_type": "stream",
     "text": [
      "/opt/anaconda3/envs/clean_env/lib/python3.9/site-packages/google/cloud/bigquery/table.py:2309: UserWarning: Unable to represent RANGE schema as struct using pandas ArrowDtype. Using `object` instead. To use ArrowDtype, use pandas >= 1.5 and pyarrow >= 10.0.1.\n",
      "  warnings.warn(_RANGE_PYARROW_WARNING)\n",
      "/opt/anaconda3/envs/clean_env/lib/python3.9/site-packages/google/cloud/bigquery/table.py:2323: UserWarning: Unable to represent RANGE schema as struct using pandas ArrowDtype. Using `object` instead. To use ArrowDtype, use pandas >= 1.5 and pyarrow >= 10.0.1.\n",
      "  warnings.warn(_RANGE_PYARROW_WARNING)\n",
      "/opt/anaconda3/envs/clean_env/lib/python3.9/site-packages/google/cloud/bigquery/table.py:2337: UserWarning: Unable to represent RANGE schema as struct using pandas ArrowDtype. Using `object` instead. To use ArrowDtype, use pandas >= 1.5 and pyarrow >= 10.0.1.\n",
      "  warnings.warn(_RANGE_PYARROW_WARNING)\n"
     ]
    },
    {
     "name": "stdout",
     "output_type": "stream",
     "text": [
      "Processed data for 2023-08-16\n",
      "Fetching data for 2023-08-17\n"
     ]
    },
    {
     "name": "stderr",
     "output_type": "stream",
     "text": [
      "/opt/anaconda3/envs/clean_env/lib/python3.9/site-packages/google/cloud/bigquery/table.py:2309: UserWarning: Unable to represent RANGE schema as struct using pandas ArrowDtype. Using `object` instead. To use ArrowDtype, use pandas >= 1.5 and pyarrow >= 10.0.1.\n",
      "  warnings.warn(_RANGE_PYARROW_WARNING)\n",
      "/opt/anaconda3/envs/clean_env/lib/python3.9/site-packages/google/cloud/bigquery/table.py:2323: UserWarning: Unable to represent RANGE schema as struct using pandas ArrowDtype. Using `object` instead. To use ArrowDtype, use pandas >= 1.5 and pyarrow >= 10.0.1.\n",
      "  warnings.warn(_RANGE_PYARROW_WARNING)\n",
      "/opt/anaconda3/envs/clean_env/lib/python3.9/site-packages/google/cloud/bigquery/table.py:2337: UserWarning: Unable to represent RANGE schema as struct using pandas ArrowDtype. Using `object` instead. To use ArrowDtype, use pandas >= 1.5 and pyarrow >= 10.0.1.\n",
      "  warnings.warn(_RANGE_PYARROW_WARNING)\n"
     ]
    },
    {
     "name": "stdout",
     "output_type": "stream",
     "text": [
      "Processed data for 2023-08-17\n",
      "Fetching data for 2023-08-18\n"
     ]
    },
    {
     "name": "stderr",
     "output_type": "stream",
     "text": [
      "/opt/anaconda3/envs/clean_env/lib/python3.9/site-packages/google/cloud/bigquery/table.py:2309: UserWarning: Unable to represent RANGE schema as struct using pandas ArrowDtype. Using `object` instead. To use ArrowDtype, use pandas >= 1.5 and pyarrow >= 10.0.1.\n",
      "  warnings.warn(_RANGE_PYARROW_WARNING)\n",
      "/opt/anaconda3/envs/clean_env/lib/python3.9/site-packages/google/cloud/bigquery/table.py:2323: UserWarning: Unable to represent RANGE schema as struct using pandas ArrowDtype. Using `object` instead. To use ArrowDtype, use pandas >= 1.5 and pyarrow >= 10.0.1.\n",
      "  warnings.warn(_RANGE_PYARROW_WARNING)\n",
      "/opt/anaconda3/envs/clean_env/lib/python3.9/site-packages/google/cloud/bigquery/table.py:2337: UserWarning: Unable to represent RANGE schema as struct using pandas ArrowDtype. Using `object` instead. To use ArrowDtype, use pandas >= 1.5 and pyarrow >= 10.0.1.\n",
      "  warnings.warn(_RANGE_PYARROW_WARNING)\n"
     ]
    },
    {
     "name": "stdout",
     "output_type": "stream",
     "text": [
      "Processed data for 2023-08-18\n",
      "Fetching data for 2023-08-19\n"
     ]
    },
    {
     "name": "stderr",
     "output_type": "stream",
     "text": [
      "/opt/anaconda3/envs/clean_env/lib/python3.9/site-packages/google/cloud/bigquery/table.py:2309: UserWarning: Unable to represent RANGE schema as struct using pandas ArrowDtype. Using `object` instead. To use ArrowDtype, use pandas >= 1.5 and pyarrow >= 10.0.1.\n",
      "  warnings.warn(_RANGE_PYARROW_WARNING)\n",
      "/opt/anaconda3/envs/clean_env/lib/python3.9/site-packages/google/cloud/bigquery/table.py:2323: UserWarning: Unable to represent RANGE schema as struct using pandas ArrowDtype. Using `object` instead. To use ArrowDtype, use pandas >= 1.5 and pyarrow >= 10.0.1.\n",
      "  warnings.warn(_RANGE_PYARROW_WARNING)\n",
      "/opt/anaconda3/envs/clean_env/lib/python3.9/site-packages/google/cloud/bigquery/table.py:2337: UserWarning: Unable to represent RANGE schema as struct using pandas ArrowDtype. Using `object` instead. To use ArrowDtype, use pandas >= 1.5 and pyarrow >= 10.0.1.\n",
      "  warnings.warn(_RANGE_PYARROW_WARNING)\n"
     ]
    },
    {
     "name": "stdout",
     "output_type": "stream",
     "text": [
      "Processed data for 2023-08-19\n",
      "Fetching data for 2023-08-20\n"
     ]
    },
    {
     "name": "stderr",
     "output_type": "stream",
     "text": [
      "/opt/anaconda3/envs/clean_env/lib/python3.9/site-packages/google/cloud/bigquery/table.py:2309: UserWarning: Unable to represent RANGE schema as struct using pandas ArrowDtype. Using `object` instead. To use ArrowDtype, use pandas >= 1.5 and pyarrow >= 10.0.1.\n",
      "  warnings.warn(_RANGE_PYARROW_WARNING)\n",
      "/opt/anaconda3/envs/clean_env/lib/python3.9/site-packages/google/cloud/bigquery/table.py:2323: UserWarning: Unable to represent RANGE schema as struct using pandas ArrowDtype. Using `object` instead. To use ArrowDtype, use pandas >= 1.5 and pyarrow >= 10.0.1.\n",
      "  warnings.warn(_RANGE_PYARROW_WARNING)\n",
      "/opt/anaconda3/envs/clean_env/lib/python3.9/site-packages/google/cloud/bigquery/table.py:2337: UserWarning: Unable to represent RANGE schema as struct using pandas ArrowDtype. Using `object` instead. To use ArrowDtype, use pandas >= 1.5 and pyarrow >= 10.0.1.\n",
      "  warnings.warn(_RANGE_PYARROW_WARNING)\n"
     ]
    },
    {
     "name": "stdout",
     "output_type": "stream",
     "text": [
      "Processed data for 2023-08-20\n",
      "Fetching data for 2023-08-21\n"
     ]
    },
    {
     "name": "stderr",
     "output_type": "stream",
     "text": [
      "/opt/anaconda3/envs/clean_env/lib/python3.9/site-packages/google/cloud/bigquery/table.py:2309: UserWarning: Unable to represent RANGE schema as struct using pandas ArrowDtype. Using `object` instead. To use ArrowDtype, use pandas >= 1.5 and pyarrow >= 10.0.1.\n",
      "  warnings.warn(_RANGE_PYARROW_WARNING)\n",
      "/opt/anaconda3/envs/clean_env/lib/python3.9/site-packages/google/cloud/bigquery/table.py:2323: UserWarning: Unable to represent RANGE schema as struct using pandas ArrowDtype. Using `object` instead. To use ArrowDtype, use pandas >= 1.5 and pyarrow >= 10.0.1.\n",
      "  warnings.warn(_RANGE_PYARROW_WARNING)\n",
      "/opt/anaconda3/envs/clean_env/lib/python3.9/site-packages/google/cloud/bigquery/table.py:2337: UserWarning: Unable to represent RANGE schema as struct using pandas ArrowDtype. Using `object` instead. To use ArrowDtype, use pandas >= 1.5 and pyarrow >= 10.0.1.\n",
      "  warnings.warn(_RANGE_PYARROW_WARNING)\n"
     ]
    },
    {
     "name": "stdout",
     "output_type": "stream",
     "text": [
      "Processed data for 2023-08-21\n",
      "Fetching data for 2023-08-22\n"
     ]
    },
    {
     "name": "stderr",
     "output_type": "stream",
     "text": [
      "/opt/anaconda3/envs/clean_env/lib/python3.9/site-packages/google/cloud/bigquery/table.py:2309: UserWarning: Unable to represent RANGE schema as struct using pandas ArrowDtype. Using `object` instead. To use ArrowDtype, use pandas >= 1.5 and pyarrow >= 10.0.1.\n",
      "  warnings.warn(_RANGE_PYARROW_WARNING)\n",
      "/opt/anaconda3/envs/clean_env/lib/python3.9/site-packages/google/cloud/bigquery/table.py:2323: UserWarning: Unable to represent RANGE schema as struct using pandas ArrowDtype. Using `object` instead. To use ArrowDtype, use pandas >= 1.5 and pyarrow >= 10.0.1.\n",
      "  warnings.warn(_RANGE_PYARROW_WARNING)\n",
      "/opt/anaconda3/envs/clean_env/lib/python3.9/site-packages/google/cloud/bigquery/table.py:2337: UserWarning: Unable to represent RANGE schema as struct using pandas ArrowDtype. Using `object` instead. To use ArrowDtype, use pandas >= 1.5 and pyarrow >= 10.0.1.\n",
      "  warnings.warn(_RANGE_PYARROW_WARNING)\n"
     ]
    },
    {
     "name": "stdout",
     "output_type": "stream",
     "text": [
      "Processed data for 2023-08-22\n",
      "Fetching data for 2023-08-23\n"
     ]
    },
    {
     "name": "stderr",
     "output_type": "stream",
     "text": [
      "/opt/anaconda3/envs/clean_env/lib/python3.9/site-packages/google/cloud/bigquery/table.py:2309: UserWarning: Unable to represent RANGE schema as struct using pandas ArrowDtype. Using `object` instead. To use ArrowDtype, use pandas >= 1.5 and pyarrow >= 10.0.1.\n",
      "  warnings.warn(_RANGE_PYARROW_WARNING)\n",
      "/opt/anaconda3/envs/clean_env/lib/python3.9/site-packages/google/cloud/bigquery/table.py:2323: UserWarning: Unable to represent RANGE schema as struct using pandas ArrowDtype. Using `object` instead. To use ArrowDtype, use pandas >= 1.5 and pyarrow >= 10.0.1.\n",
      "  warnings.warn(_RANGE_PYARROW_WARNING)\n",
      "/opt/anaconda3/envs/clean_env/lib/python3.9/site-packages/google/cloud/bigquery/table.py:2337: UserWarning: Unable to represent RANGE schema as struct using pandas ArrowDtype. Using `object` instead. To use ArrowDtype, use pandas >= 1.5 and pyarrow >= 10.0.1.\n",
      "  warnings.warn(_RANGE_PYARROW_WARNING)\n"
     ]
    },
    {
     "name": "stdout",
     "output_type": "stream",
     "text": [
      "Processed data for 2023-08-23\n",
      "Fetching data for 2023-08-24\n"
     ]
    },
    {
     "name": "stderr",
     "output_type": "stream",
     "text": [
      "/opt/anaconda3/envs/clean_env/lib/python3.9/site-packages/google/cloud/bigquery/table.py:2309: UserWarning: Unable to represent RANGE schema as struct using pandas ArrowDtype. Using `object` instead. To use ArrowDtype, use pandas >= 1.5 and pyarrow >= 10.0.1.\n",
      "  warnings.warn(_RANGE_PYARROW_WARNING)\n",
      "/opt/anaconda3/envs/clean_env/lib/python3.9/site-packages/google/cloud/bigquery/table.py:2323: UserWarning: Unable to represent RANGE schema as struct using pandas ArrowDtype. Using `object` instead. To use ArrowDtype, use pandas >= 1.5 and pyarrow >= 10.0.1.\n",
      "  warnings.warn(_RANGE_PYARROW_WARNING)\n",
      "/opt/anaconda3/envs/clean_env/lib/python3.9/site-packages/google/cloud/bigquery/table.py:2337: UserWarning: Unable to represent RANGE schema as struct using pandas ArrowDtype. Using `object` instead. To use ArrowDtype, use pandas >= 1.5 and pyarrow >= 10.0.1.\n",
      "  warnings.warn(_RANGE_PYARROW_WARNING)\n"
     ]
    },
    {
     "name": "stdout",
     "output_type": "stream",
     "text": [
      "Processed data for 2023-08-24\n",
      "Fetching data for 2023-08-25\n"
     ]
    },
    {
     "name": "stderr",
     "output_type": "stream",
     "text": [
      "/opt/anaconda3/envs/clean_env/lib/python3.9/site-packages/google/cloud/bigquery/table.py:2309: UserWarning: Unable to represent RANGE schema as struct using pandas ArrowDtype. Using `object` instead. To use ArrowDtype, use pandas >= 1.5 and pyarrow >= 10.0.1.\n",
      "  warnings.warn(_RANGE_PYARROW_WARNING)\n",
      "/opt/anaconda3/envs/clean_env/lib/python3.9/site-packages/google/cloud/bigquery/table.py:2323: UserWarning: Unable to represent RANGE schema as struct using pandas ArrowDtype. Using `object` instead. To use ArrowDtype, use pandas >= 1.5 and pyarrow >= 10.0.1.\n",
      "  warnings.warn(_RANGE_PYARROW_WARNING)\n",
      "/opt/anaconda3/envs/clean_env/lib/python3.9/site-packages/google/cloud/bigquery/table.py:2337: UserWarning: Unable to represent RANGE schema as struct using pandas ArrowDtype. Using `object` instead. To use ArrowDtype, use pandas >= 1.5 and pyarrow >= 10.0.1.\n",
      "  warnings.warn(_RANGE_PYARROW_WARNING)\n"
     ]
    },
    {
     "name": "stdout",
     "output_type": "stream",
     "text": [
      "Processed data for 2023-08-25\n",
      "Fetching data for 2023-08-26\n"
     ]
    },
    {
     "name": "stderr",
     "output_type": "stream",
     "text": [
      "/opt/anaconda3/envs/clean_env/lib/python3.9/site-packages/google/cloud/bigquery/table.py:2309: UserWarning: Unable to represent RANGE schema as struct using pandas ArrowDtype. Using `object` instead. To use ArrowDtype, use pandas >= 1.5 and pyarrow >= 10.0.1.\n",
      "  warnings.warn(_RANGE_PYARROW_WARNING)\n",
      "/opt/anaconda3/envs/clean_env/lib/python3.9/site-packages/google/cloud/bigquery/table.py:2323: UserWarning: Unable to represent RANGE schema as struct using pandas ArrowDtype. Using `object` instead. To use ArrowDtype, use pandas >= 1.5 and pyarrow >= 10.0.1.\n",
      "  warnings.warn(_RANGE_PYARROW_WARNING)\n",
      "/opt/anaconda3/envs/clean_env/lib/python3.9/site-packages/google/cloud/bigquery/table.py:2337: UserWarning: Unable to represent RANGE schema as struct using pandas ArrowDtype. Using `object` instead. To use ArrowDtype, use pandas >= 1.5 and pyarrow >= 10.0.1.\n",
      "  warnings.warn(_RANGE_PYARROW_WARNING)\n"
     ]
    },
    {
     "name": "stdout",
     "output_type": "stream",
     "text": [
      "Processed data for 2023-08-26\n",
      "Fetching data for 2023-08-27\n"
     ]
    },
    {
     "name": "stderr",
     "output_type": "stream",
     "text": [
      "/opt/anaconda3/envs/clean_env/lib/python3.9/site-packages/google/cloud/bigquery/table.py:2309: UserWarning: Unable to represent RANGE schema as struct using pandas ArrowDtype. Using `object` instead. To use ArrowDtype, use pandas >= 1.5 and pyarrow >= 10.0.1.\n",
      "  warnings.warn(_RANGE_PYARROW_WARNING)\n",
      "/opt/anaconda3/envs/clean_env/lib/python3.9/site-packages/google/cloud/bigquery/table.py:2323: UserWarning: Unable to represent RANGE schema as struct using pandas ArrowDtype. Using `object` instead. To use ArrowDtype, use pandas >= 1.5 and pyarrow >= 10.0.1.\n",
      "  warnings.warn(_RANGE_PYARROW_WARNING)\n",
      "/opt/anaconda3/envs/clean_env/lib/python3.9/site-packages/google/cloud/bigquery/table.py:2337: UserWarning: Unable to represent RANGE schema as struct using pandas ArrowDtype. Using `object` instead. To use ArrowDtype, use pandas >= 1.5 and pyarrow >= 10.0.1.\n",
      "  warnings.warn(_RANGE_PYARROW_WARNING)\n"
     ]
    },
    {
     "name": "stdout",
     "output_type": "stream",
     "text": [
      "Processed data for 2023-08-27\n",
      "Fetching data for 2023-08-28\n"
     ]
    },
    {
     "name": "stderr",
     "output_type": "stream",
     "text": [
      "/opt/anaconda3/envs/clean_env/lib/python3.9/site-packages/google/cloud/bigquery/table.py:2309: UserWarning: Unable to represent RANGE schema as struct using pandas ArrowDtype. Using `object` instead. To use ArrowDtype, use pandas >= 1.5 and pyarrow >= 10.0.1.\n",
      "  warnings.warn(_RANGE_PYARROW_WARNING)\n",
      "/opt/anaconda3/envs/clean_env/lib/python3.9/site-packages/google/cloud/bigquery/table.py:2323: UserWarning: Unable to represent RANGE schema as struct using pandas ArrowDtype. Using `object` instead. To use ArrowDtype, use pandas >= 1.5 and pyarrow >= 10.0.1.\n",
      "  warnings.warn(_RANGE_PYARROW_WARNING)\n",
      "/opt/anaconda3/envs/clean_env/lib/python3.9/site-packages/google/cloud/bigquery/table.py:2337: UserWarning: Unable to represent RANGE schema as struct using pandas ArrowDtype. Using `object` instead. To use ArrowDtype, use pandas >= 1.5 and pyarrow >= 10.0.1.\n",
      "  warnings.warn(_RANGE_PYARROW_WARNING)\n"
     ]
    },
    {
     "name": "stdout",
     "output_type": "stream",
     "text": [
      "Processed data for 2023-08-28\n",
      "Fetching data for 2023-08-29\n"
     ]
    },
    {
     "name": "stderr",
     "output_type": "stream",
     "text": [
      "/opt/anaconda3/envs/clean_env/lib/python3.9/site-packages/google/cloud/bigquery/table.py:2309: UserWarning: Unable to represent RANGE schema as struct using pandas ArrowDtype. Using `object` instead. To use ArrowDtype, use pandas >= 1.5 and pyarrow >= 10.0.1.\n",
      "  warnings.warn(_RANGE_PYARROW_WARNING)\n",
      "/opt/anaconda3/envs/clean_env/lib/python3.9/site-packages/google/cloud/bigquery/table.py:2323: UserWarning: Unable to represent RANGE schema as struct using pandas ArrowDtype. Using `object` instead. To use ArrowDtype, use pandas >= 1.5 and pyarrow >= 10.0.1.\n",
      "  warnings.warn(_RANGE_PYARROW_WARNING)\n",
      "/opt/anaconda3/envs/clean_env/lib/python3.9/site-packages/google/cloud/bigquery/table.py:2337: UserWarning: Unable to represent RANGE schema as struct using pandas ArrowDtype. Using `object` instead. To use ArrowDtype, use pandas >= 1.5 and pyarrow >= 10.0.1.\n",
      "  warnings.warn(_RANGE_PYARROW_WARNING)\n"
     ]
    },
    {
     "name": "stdout",
     "output_type": "stream",
     "text": [
      "Processed data for 2023-08-29\n",
      "Fetching data for 2023-08-30\n"
     ]
    },
    {
     "name": "stderr",
     "output_type": "stream",
     "text": [
      "/opt/anaconda3/envs/clean_env/lib/python3.9/site-packages/google/cloud/bigquery/table.py:2309: UserWarning: Unable to represent RANGE schema as struct using pandas ArrowDtype. Using `object` instead. To use ArrowDtype, use pandas >= 1.5 and pyarrow >= 10.0.1.\n",
      "  warnings.warn(_RANGE_PYARROW_WARNING)\n",
      "/opt/anaconda3/envs/clean_env/lib/python3.9/site-packages/google/cloud/bigquery/table.py:2323: UserWarning: Unable to represent RANGE schema as struct using pandas ArrowDtype. Using `object` instead. To use ArrowDtype, use pandas >= 1.5 and pyarrow >= 10.0.1.\n",
      "  warnings.warn(_RANGE_PYARROW_WARNING)\n",
      "/opt/anaconda3/envs/clean_env/lib/python3.9/site-packages/google/cloud/bigquery/table.py:2337: UserWarning: Unable to represent RANGE schema as struct using pandas ArrowDtype. Using `object` instead. To use ArrowDtype, use pandas >= 1.5 and pyarrow >= 10.0.1.\n",
      "  warnings.warn(_RANGE_PYARROW_WARNING)\n"
     ]
    },
    {
     "name": "stdout",
     "output_type": "stream",
     "text": [
      "Processed data for 2023-08-30\n",
      "Fetching data for 2023-08-31\n"
     ]
    },
    {
     "name": "stderr",
     "output_type": "stream",
     "text": [
      "/opt/anaconda3/envs/clean_env/lib/python3.9/site-packages/google/cloud/bigquery/table.py:2309: UserWarning: Unable to represent RANGE schema as struct using pandas ArrowDtype. Using `object` instead. To use ArrowDtype, use pandas >= 1.5 and pyarrow >= 10.0.1.\n",
      "  warnings.warn(_RANGE_PYARROW_WARNING)\n",
      "/opt/anaconda3/envs/clean_env/lib/python3.9/site-packages/google/cloud/bigquery/table.py:2323: UserWarning: Unable to represent RANGE schema as struct using pandas ArrowDtype. Using `object` instead. To use ArrowDtype, use pandas >= 1.5 and pyarrow >= 10.0.1.\n",
      "  warnings.warn(_RANGE_PYARROW_WARNING)\n",
      "/opt/anaconda3/envs/clean_env/lib/python3.9/site-packages/google/cloud/bigquery/table.py:2337: UserWarning: Unable to represent RANGE schema as struct using pandas ArrowDtype. Using `object` instead. To use ArrowDtype, use pandas >= 1.5 and pyarrow >= 10.0.1.\n",
      "  warnings.warn(_RANGE_PYARROW_WARNING)\n"
     ]
    },
    {
     "name": "stdout",
     "output_type": "stream",
     "text": [
      "Processed data for 2023-08-31\n",
      "Fetching data for 2023-09-01\n"
     ]
    },
    {
     "name": "stderr",
     "output_type": "stream",
     "text": [
      "/opt/anaconda3/envs/clean_env/lib/python3.9/site-packages/google/cloud/bigquery/table.py:2309: UserWarning: Unable to represent RANGE schema as struct using pandas ArrowDtype. Using `object` instead. To use ArrowDtype, use pandas >= 1.5 and pyarrow >= 10.0.1.\n",
      "  warnings.warn(_RANGE_PYARROW_WARNING)\n",
      "/opt/anaconda3/envs/clean_env/lib/python3.9/site-packages/google/cloud/bigquery/table.py:2323: UserWarning: Unable to represent RANGE schema as struct using pandas ArrowDtype. Using `object` instead. To use ArrowDtype, use pandas >= 1.5 and pyarrow >= 10.0.1.\n",
      "  warnings.warn(_RANGE_PYARROW_WARNING)\n",
      "/opt/anaconda3/envs/clean_env/lib/python3.9/site-packages/google/cloud/bigquery/table.py:2337: UserWarning: Unable to represent RANGE schema as struct using pandas ArrowDtype. Using `object` instead. To use ArrowDtype, use pandas >= 1.5 and pyarrow >= 10.0.1.\n",
      "  warnings.warn(_RANGE_PYARROW_WARNING)\n"
     ]
    },
    {
     "name": "stdout",
     "output_type": "stream",
     "text": [
      "Processed data for 2023-09-01\n",
      "Fetching data for 2023-09-02\n"
     ]
    },
    {
     "name": "stderr",
     "output_type": "stream",
     "text": [
      "/opt/anaconda3/envs/clean_env/lib/python3.9/site-packages/google/cloud/bigquery/table.py:2309: UserWarning: Unable to represent RANGE schema as struct using pandas ArrowDtype. Using `object` instead. To use ArrowDtype, use pandas >= 1.5 and pyarrow >= 10.0.1.\n",
      "  warnings.warn(_RANGE_PYARROW_WARNING)\n",
      "/opt/anaconda3/envs/clean_env/lib/python3.9/site-packages/google/cloud/bigquery/table.py:2323: UserWarning: Unable to represent RANGE schema as struct using pandas ArrowDtype. Using `object` instead. To use ArrowDtype, use pandas >= 1.5 and pyarrow >= 10.0.1.\n",
      "  warnings.warn(_RANGE_PYARROW_WARNING)\n",
      "/opt/anaconda3/envs/clean_env/lib/python3.9/site-packages/google/cloud/bigquery/table.py:2337: UserWarning: Unable to represent RANGE schema as struct using pandas ArrowDtype. Using `object` instead. To use ArrowDtype, use pandas >= 1.5 and pyarrow >= 10.0.1.\n",
      "  warnings.warn(_RANGE_PYARROW_WARNING)\n"
     ]
    },
    {
     "name": "stdout",
     "output_type": "stream",
     "text": [
      "Processed data for 2023-09-02\n",
      "Fetching data for 2023-09-03\n"
     ]
    },
    {
     "name": "stderr",
     "output_type": "stream",
     "text": [
      "/opt/anaconda3/envs/clean_env/lib/python3.9/site-packages/google/cloud/bigquery/table.py:2309: UserWarning: Unable to represent RANGE schema as struct using pandas ArrowDtype. Using `object` instead. To use ArrowDtype, use pandas >= 1.5 and pyarrow >= 10.0.1.\n",
      "  warnings.warn(_RANGE_PYARROW_WARNING)\n",
      "/opt/anaconda3/envs/clean_env/lib/python3.9/site-packages/google/cloud/bigquery/table.py:2323: UserWarning: Unable to represent RANGE schema as struct using pandas ArrowDtype. Using `object` instead. To use ArrowDtype, use pandas >= 1.5 and pyarrow >= 10.0.1.\n",
      "  warnings.warn(_RANGE_PYARROW_WARNING)\n",
      "/opt/anaconda3/envs/clean_env/lib/python3.9/site-packages/google/cloud/bigquery/table.py:2337: UserWarning: Unable to represent RANGE schema as struct using pandas ArrowDtype. Using `object` instead. To use ArrowDtype, use pandas >= 1.5 and pyarrow >= 10.0.1.\n",
      "  warnings.warn(_RANGE_PYARROW_WARNING)\n"
     ]
    },
    {
     "name": "stdout",
     "output_type": "stream",
     "text": [
      "Processed data for 2023-09-03\n",
      "Fetching data for 2023-09-04\n"
     ]
    },
    {
     "name": "stderr",
     "output_type": "stream",
     "text": [
      "/opt/anaconda3/envs/clean_env/lib/python3.9/site-packages/google/cloud/bigquery/table.py:2309: UserWarning: Unable to represent RANGE schema as struct using pandas ArrowDtype. Using `object` instead. To use ArrowDtype, use pandas >= 1.5 and pyarrow >= 10.0.1.\n",
      "  warnings.warn(_RANGE_PYARROW_WARNING)\n",
      "/opt/anaconda3/envs/clean_env/lib/python3.9/site-packages/google/cloud/bigquery/table.py:2323: UserWarning: Unable to represent RANGE schema as struct using pandas ArrowDtype. Using `object` instead. To use ArrowDtype, use pandas >= 1.5 and pyarrow >= 10.0.1.\n",
      "  warnings.warn(_RANGE_PYARROW_WARNING)\n",
      "/opt/anaconda3/envs/clean_env/lib/python3.9/site-packages/google/cloud/bigquery/table.py:2337: UserWarning: Unable to represent RANGE schema as struct using pandas ArrowDtype. Using `object` instead. To use ArrowDtype, use pandas >= 1.5 and pyarrow >= 10.0.1.\n",
      "  warnings.warn(_RANGE_PYARROW_WARNING)\n"
     ]
    },
    {
     "name": "stdout",
     "output_type": "stream",
     "text": [
      "Processed data for 2023-09-04\n",
      "Fetching data for 2023-09-05\n"
     ]
    },
    {
     "name": "stderr",
     "output_type": "stream",
     "text": [
      "/opt/anaconda3/envs/clean_env/lib/python3.9/site-packages/google/cloud/bigquery/table.py:2309: UserWarning: Unable to represent RANGE schema as struct using pandas ArrowDtype. Using `object` instead. To use ArrowDtype, use pandas >= 1.5 and pyarrow >= 10.0.1.\n",
      "  warnings.warn(_RANGE_PYARROW_WARNING)\n",
      "/opt/anaconda3/envs/clean_env/lib/python3.9/site-packages/google/cloud/bigquery/table.py:2323: UserWarning: Unable to represent RANGE schema as struct using pandas ArrowDtype. Using `object` instead. To use ArrowDtype, use pandas >= 1.5 and pyarrow >= 10.0.1.\n",
      "  warnings.warn(_RANGE_PYARROW_WARNING)\n",
      "/opt/anaconda3/envs/clean_env/lib/python3.9/site-packages/google/cloud/bigquery/table.py:2337: UserWarning: Unable to represent RANGE schema as struct using pandas ArrowDtype. Using `object` instead. To use ArrowDtype, use pandas >= 1.5 and pyarrow >= 10.0.1.\n",
      "  warnings.warn(_RANGE_PYARROW_WARNING)\n"
     ]
    },
    {
     "name": "stdout",
     "output_type": "stream",
     "text": [
      "Processed data for 2023-09-05\n",
      "Fetching data for 2023-09-06\n"
     ]
    },
    {
     "name": "stderr",
     "output_type": "stream",
     "text": [
      "/opt/anaconda3/envs/clean_env/lib/python3.9/site-packages/google/cloud/bigquery/table.py:2309: UserWarning: Unable to represent RANGE schema as struct using pandas ArrowDtype. Using `object` instead. To use ArrowDtype, use pandas >= 1.5 and pyarrow >= 10.0.1.\n",
      "  warnings.warn(_RANGE_PYARROW_WARNING)\n",
      "/opt/anaconda3/envs/clean_env/lib/python3.9/site-packages/google/cloud/bigquery/table.py:2323: UserWarning: Unable to represent RANGE schema as struct using pandas ArrowDtype. Using `object` instead. To use ArrowDtype, use pandas >= 1.5 and pyarrow >= 10.0.1.\n",
      "  warnings.warn(_RANGE_PYARROW_WARNING)\n",
      "/opt/anaconda3/envs/clean_env/lib/python3.9/site-packages/google/cloud/bigquery/table.py:2337: UserWarning: Unable to represent RANGE schema as struct using pandas ArrowDtype. Using `object` instead. To use ArrowDtype, use pandas >= 1.5 and pyarrow >= 10.0.1.\n",
      "  warnings.warn(_RANGE_PYARROW_WARNING)\n"
     ]
    },
    {
     "name": "stdout",
     "output_type": "stream",
     "text": [
      "Processed data for 2023-09-06\n",
      "Fetching data for 2023-09-07\n"
     ]
    },
    {
     "name": "stderr",
     "output_type": "stream",
     "text": [
      "/opt/anaconda3/envs/clean_env/lib/python3.9/site-packages/google/cloud/bigquery/table.py:2309: UserWarning: Unable to represent RANGE schema as struct using pandas ArrowDtype. Using `object` instead. To use ArrowDtype, use pandas >= 1.5 and pyarrow >= 10.0.1.\n",
      "  warnings.warn(_RANGE_PYARROW_WARNING)\n",
      "/opt/anaconda3/envs/clean_env/lib/python3.9/site-packages/google/cloud/bigquery/table.py:2323: UserWarning: Unable to represent RANGE schema as struct using pandas ArrowDtype. Using `object` instead. To use ArrowDtype, use pandas >= 1.5 and pyarrow >= 10.0.1.\n",
      "  warnings.warn(_RANGE_PYARROW_WARNING)\n",
      "/opt/anaconda3/envs/clean_env/lib/python3.9/site-packages/google/cloud/bigquery/table.py:2337: UserWarning: Unable to represent RANGE schema as struct using pandas ArrowDtype. Using `object` instead. To use ArrowDtype, use pandas >= 1.5 and pyarrow >= 10.0.1.\n",
      "  warnings.warn(_RANGE_PYARROW_WARNING)\n"
     ]
    },
    {
     "name": "stdout",
     "output_type": "stream",
     "text": [
      "Processed data for 2023-09-07\n",
      "Fetching data for 2023-09-08\n"
     ]
    },
    {
     "name": "stderr",
     "output_type": "stream",
     "text": [
      "/opt/anaconda3/envs/clean_env/lib/python3.9/site-packages/google/cloud/bigquery/table.py:2309: UserWarning: Unable to represent RANGE schema as struct using pandas ArrowDtype. Using `object` instead. To use ArrowDtype, use pandas >= 1.5 and pyarrow >= 10.0.1.\n",
      "  warnings.warn(_RANGE_PYARROW_WARNING)\n",
      "/opt/anaconda3/envs/clean_env/lib/python3.9/site-packages/google/cloud/bigquery/table.py:2323: UserWarning: Unable to represent RANGE schema as struct using pandas ArrowDtype. Using `object` instead. To use ArrowDtype, use pandas >= 1.5 and pyarrow >= 10.0.1.\n",
      "  warnings.warn(_RANGE_PYARROW_WARNING)\n",
      "/opt/anaconda3/envs/clean_env/lib/python3.9/site-packages/google/cloud/bigquery/table.py:2337: UserWarning: Unable to represent RANGE schema as struct using pandas ArrowDtype. Using `object` instead. To use ArrowDtype, use pandas >= 1.5 and pyarrow >= 10.0.1.\n",
      "  warnings.warn(_RANGE_PYARROW_WARNING)\n"
     ]
    },
    {
     "name": "stdout",
     "output_type": "stream",
     "text": [
      "Processed data for 2023-09-08\n",
      "Fetching data for 2023-09-09\n"
     ]
    },
    {
     "name": "stderr",
     "output_type": "stream",
     "text": [
      "/opt/anaconda3/envs/clean_env/lib/python3.9/site-packages/google/cloud/bigquery/table.py:2309: UserWarning: Unable to represent RANGE schema as struct using pandas ArrowDtype. Using `object` instead. To use ArrowDtype, use pandas >= 1.5 and pyarrow >= 10.0.1.\n",
      "  warnings.warn(_RANGE_PYARROW_WARNING)\n",
      "/opt/anaconda3/envs/clean_env/lib/python3.9/site-packages/google/cloud/bigquery/table.py:2323: UserWarning: Unable to represent RANGE schema as struct using pandas ArrowDtype. Using `object` instead. To use ArrowDtype, use pandas >= 1.5 and pyarrow >= 10.0.1.\n",
      "  warnings.warn(_RANGE_PYARROW_WARNING)\n",
      "/opt/anaconda3/envs/clean_env/lib/python3.9/site-packages/google/cloud/bigquery/table.py:2337: UserWarning: Unable to represent RANGE schema as struct using pandas ArrowDtype. Using `object` instead. To use ArrowDtype, use pandas >= 1.5 and pyarrow >= 10.0.1.\n",
      "  warnings.warn(_RANGE_PYARROW_WARNING)\n"
     ]
    },
    {
     "name": "stdout",
     "output_type": "stream",
     "text": [
      "Processed data for 2023-09-09\n",
      "Fetching data for 2023-09-10\n"
     ]
    },
    {
     "name": "stderr",
     "output_type": "stream",
     "text": [
      "/opt/anaconda3/envs/clean_env/lib/python3.9/site-packages/google/cloud/bigquery/table.py:2309: UserWarning: Unable to represent RANGE schema as struct using pandas ArrowDtype. Using `object` instead. To use ArrowDtype, use pandas >= 1.5 and pyarrow >= 10.0.1.\n",
      "  warnings.warn(_RANGE_PYARROW_WARNING)\n",
      "/opt/anaconda3/envs/clean_env/lib/python3.9/site-packages/google/cloud/bigquery/table.py:2323: UserWarning: Unable to represent RANGE schema as struct using pandas ArrowDtype. Using `object` instead. To use ArrowDtype, use pandas >= 1.5 and pyarrow >= 10.0.1.\n",
      "  warnings.warn(_RANGE_PYARROW_WARNING)\n",
      "/opt/anaconda3/envs/clean_env/lib/python3.9/site-packages/google/cloud/bigquery/table.py:2337: UserWarning: Unable to represent RANGE schema as struct using pandas ArrowDtype. Using `object` instead. To use ArrowDtype, use pandas >= 1.5 and pyarrow >= 10.0.1.\n",
      "  warnings.warn(_RANGE_PYARROW_WARNING)\n"
     ]
    },
    {
     "name": "stdout",
     "output_type": "stream",
     "text": [
      "Processed data for 2023-09-10\n",
      "Fetching data for 2023-09-11\n"
     ]
    },
    {
     "name": "stderr",
     "output_type": "stream",
     "text": [
      "/opt/anaconda3/envs/clean_env/lib/python3.9/site-packages/google/cloud/bigquery/table.py:2309: UserWarning: Unable to represent RANGE schema as struct using pandas ArrowDtype. Using `object` instead. To use ArrowDtype, use pandas >= 1.5 and pyarrow >= 10.0.1.\n",
      "  warnings.warn(_RANGE_PYARROW_WARNING)\n",
      "/opt/anaconda3/envs/clean_env/lib/python3.9/site-packages/google/cloud/bigquery/table.py:2323: UserWarning: Unable to represent RANGE schema as struct using pandas ArrowDtype. Using `object` instead. To use ArrowDtype, use pandas >= 1.5 and pyarrow >= 10.0.1.\n",
      "  warnings.warn(_RANGE_PYARROW_WARNING)\n",
      "/opt/anaconda3/envs/clean_env/lib/python3.9/site-packages/google/cloud/bigquery/table.py:2337: UserWarning: Unable to represent RANGE schema as struct using pandas ArrowDtype. Using `object` instead. To use ArrowDtype, use pandas >= 1.5 and pyarrow >= 10.0.1.\n",
      "  warnings.warn(_RANGE_PYARROW_WARNING)\n"
     ]
    },
    {
     "name": "stdout",
     "output_type": "stream",
     "text": [
      "Processed data for 2023-09-11\n",
      "Fetching data for 2023-09-12\n"
     ]
    },
    {
     "name": "stderr",
     "output_type": "stream",
     "text": [
      "/opt/anaconda3/envs/clean_env/lib/python3.9/site-packages/google/cloud/bigquery/table.py:2309: UserWarning: Unable to represent RANGE schema as struct using pandas ArrowDtype. Using `object` instead. To use ArrowDtype, use pandas >= 1.5 and pyarrow >= 10.0.1.\n",
      "  warnings.warn(_RANGE_PYARROW_WARNING)\n",
      "/opt/anaconda3/envs/clean_env/lib/python3.9/site-packages/google/cloud/bigquery/table.py:2323: UserWarning: Unable to represent RANGE schema as struct using pandas ArrowDtype. Using `object` instead. To use ArrowDtype, use pandas >= 1.5 and pyarrow >= 10.0.1.\n",
      "  warnings.warn(_RANGE_PYARROW_WARNING)\n",
      "/opt/anaconda3/envs/clean_env/lib/python3.9/site-packages/google/cloud/bigquery/table.py:2337: UserWarning: Unable to represent RANGE schema as struct using pandas ArrowDtype. Using `object` instead. To use ArrowDtype, use pandas >= 1.5 and pyarrow >= 10.0.1.\n",
      "  warnings.warn(_RANGE_PYARROW_WARNING)\n"
     ]
    },
    {
     "name": "stdout",
     "output_type": "stream",
     "text": [
      "Processed data for 2023-09-12\n",
      "Fetching data for 2023-09-13\n"
     ]
    },
    {
     "name": "stderr",
     "output_type": "stream",
     "text": [
      "/opt/anaconda3/envs/clean_env/lib/python3.9/site-packages/google/cloud/bigquery/table.py:2309: UserWarning: Unable to represent RANGE schema as struct using pandas ArrowDtype. Using `object` instead. To use ArrowDtype, use pandas >= 1.5 and pyarrow >= 10.0.1.\n",
      "  warnings.warn(_RANGE_PYARROW_WARNING)\n",
      "/opt/anaconda3/envs/clean_env/lib/python3.9/site-packages/google/cloud/bigquery/table.py:2323: UserWarning: Unable to represent RANGE schema as struct using pandas ArrowDtype. Using `object` instead. To use ArrowDtype, use pandas >= 1.5 and pyarrow >= 10.0.1.\n",
      "  warnings.warn(_RANGE_PYARROW_WARNING)\n",
      "/opt/anaconda3/envs/clean_env/lib/python3.9/site-packages/google/cloud/bigquery/table.py:2337: UserWarning: Unable to represent RANGE schema as struct using pandas ArrowDtype. Using `object` instead. To use ArrowDtype, use pandas >= 1.5 and pyarrow >= 10.0.1.\n",
      "  warnings.warn(_RANGE_PYARROW_WARNING)\n"
     ]
    },
    {
     "name": "stdout",
     "output_type": "stream",
     "text": [
      "Processed data for 2023-09-13\n",
      "Fetching data for 2023-09-14\n"
     ]
    },
    {
     "name": "stderr",
     "output_type": "stream",
     "text": [
      "/opt/anaconda3/envs/clean_env/lib/python3.9/site-packages/google/cloud/bigquery/table.py:2309: UserWarning: Unable to represent RANGE schema as struct using pandas ArrowDtype. Using `object` instead. To use ArrowDtype, use pandas >= 1.5 and pyarrow >= 10.0.1.\n",
      "  warnings.warn(_RANGE_PYARROW_WARNING)\n",
      "/opt/anaconda3/envs/clean_env/lib/python3.9/site-packages/google/cloud/bigquery/table.py:2323: UserWarning: Unable to represent RANGE schema as struct using pandas ArrowDtype. Using `object` instead. To use ArrowDtype, use pandas >= 1.5 and pyarrow >= 10.0.1.\n",
      "  warnings.warn(_RANGE_PYARROW_WARNING)\n",
      "/opt/anaconda3/envs/clean_env/lib/python3.9/site-packages/google/cloud/bigquery/table.py:2337: UserWarning: Unable to represent RANGE schema as struct using pandas ArrowDtype. Using `object` instead. To use ArrowDtype, use pandas >= 1.5 and pyarrow >= 10.0.1.\n",
      "  warnings.warn(_RANGE_PYARROW_WARNING)\n"
     ]
    },
    {
     "name": "stdout",
     "output_type": "stream",
     "text": [
      "Processed data for 2023-09-14\n",
      "Fetching data for 2023-09-15\n"
     ]
    },
    {
     "name": "stderr",
     "output_type": "stream",
     "text": [
      "/opt/anaconda3/envs/clean_env/lib/python3.9/site-packages/google/cloud/bigquery/table.py:2309: UserWarning: Unable to represent RANGE schema as struct using pandas ArrowDtype. Using `object` instead. To use ArrowDtype, use pandas >= 1.5 and pyarrow >= 10.0.1.\n",
      "  warnings.warn(_RANGE_PYARROW_WARNING)\n",
      "/opt/anaconda3/envs/clean_env/lib/python3.9/site-packages/google/cloud/bigquery/table.py:2323: UserWarning: Unable to represent RANGE schema as struct using pandas ArrowDtype. Using `object` instead. To use ArrowDtype, use pandas >= 1.5 and pyarrow >= 10.0.1.\n",
      "  warnings.warn(_RANGE_PYARROW_WARNING)\n",
      "/opt/anaconda3/envs/clean_env/lib/python3.9/site-packages/google/cloud/bigquery/table.py:2337: UserWarning: Unable to represent RANGE schema as struct using pandas ArrowDtype. Using `object` instead. To use ArrowDtype, use pandas >= 1.5 and pyarrow >= 10.0.1.\n",
      "  warnings.warn(_RANGE_PYARROW_WARNING)\n"
     ]
    },
    {
     "name": "stdout",
     "output_type": "stream",
     "text": [
      "Processed data for 2023-09-15\n",
      "Fetching data for 2023-09-16\n"
     ]
    },
    {
     "name": "stderr",
     "output_type": "stream",
     "text": [
      "/opt/anaconda3/envs/clean_env/lib/python3.9/site-packages/google/cloud/bigquery/table.py:2309: UserWarning: Unable to represent RANGE schema as struct using pandas ArrowDtype. Using `object` instead. To use ArrowDtype, use pandas >= 1.5 and pyarrow >= 10.0.1.\n",
      "  warnings.warn(_RANGE_PYARROW_WARNING)\n",
      "/opt/anaconda3/envs/clean_env/lib/python3.9/site-packages/google/cloud/bigquery/table.py:2323: UserWarning: Unable to represent RANGE schema as struct using pandas ArrowDtype. Using `object` instead. To use ArrowDtype, use pandas >= 1.5 and pyarrow >= 10.0.1.\n",
      "  warnings.warn(_RANGE_PYARROW_WARNING)\n",
      "/opt/anaconda3/envs/clean_env/lib/python3.9/site-packages/google/cloud/bigquery/table.py:2337: UserWarning: Unable to represent RANGE schema as struct using pandas ArrowDtype. Using `object` instead. To use ArrowDtype, use pandas >= 1.5 and pyarrow >= 10.0.1.\n",
      "  warnings.warn(_RANGE_PYARROW_WARNING)\n"
     ]
    },
    {
     "name": "stdout",
     "output_type": "stream",
     "text": [
      "Processed data for 2023-09-16\n",
      "Fetching data for 2023-09-17\n"
     ]
    },
    {
     "name": "stderr",
     "output_type": "stream",
     "text": [
      "/opt/anaconda3/envs/clean_env/lib/python3.9/site-packages/google/cloud/bigquery/table.py:2309: UserWarning: Unable to represent RANGE schema as struct using pandas ArrowDtype. Using `object` instead. To use ArrowDtype, use pandas >= 1.5 and pyarrow >= 10.0.1.\n",
      "  warnings.warn(_RANGE_PYARROW_WARNING)\n",
      "/opt/anaconda3/envs/clean_env/lib/python3.9/site-packages/google/cloud/bigquery/table.py:2323: UserWarning: Unable to represent RANGE schema as struct using pandas ArrowDtype. Using `object` instead. To use ArrowDtype, use pandas >= 1.5 and pyarrow >= 10.0.1.\n",
      "  warnings.warn(_RANGE_PYARROW_WARNING)\n",
      "/opt/anaconda3/envs/clean_env/lib/python3.9/site-packages/google/cloud/bigquery/table.py:2337: UserWarning: Unable to represent RANGE schema as struct using pandas ArrowDtype. Using `object` instead. To use ArrowDtype, use pandas >= 1.5 and pyarrow >= 10.0.1.\n",
      "  warnings.warn(_RANGE_PYARROW_WARNING)\n"
     ]
    },
    {
     "name": "stdout",
     "output_type": "stream",
     "text": [
      "Processed data for 2023-09-17\n",
      "Fetching data for 2023-09-18\n"
     ]
    },
    {
     "name": "stderr",
     "output_type": "stream",
     "text": [
      "/opt/anaconda3/envs/clean_env/lib/python3.9/site-packages/google/cloud/bigquery/table.py:2309: UserWarning: Unable to represent RANGE schema as struct using pandas ArrowDtype. Using `object` instead. To use ArrowDtype, use pandas >= 1.5 and pyarrow >= 10.0.1.\n",
      "  warnings.warn(_RANGE_PYARROW_WARNING)\n",
      "/opt/anaconda3/envs/clean_env/lib/python3.9/site-packages/google/cloud/bigquery/table.py:2323: UserWarning: Unable to represent RANGE schema as struct using pandas ArrowDtype. Using `object` instead. To use ArrowDtype, use pandas >= 1.5 and pyarrow >= 10.0.1.\n",
      "  warnings.warn(_RANGE_PYARROW_WARNING)\n",
      "/opt/anaconda3/envs/clean_env/lib/python3.9/site-packages/google/cloud/bigquery/table.py:2337: UserWarning: Unable to represent RANGE schema as struct using pandas ArrowDtype. Using `object` instead. To use ArrowDtype, use pandas >= 1.5 and pyarrow >= 10.0.1.\n",
      "  warnings.warn(_RANGE_PYARROW_WARNING)\n"
     ]
    },
    {
     "name": "stdout",
     "output_type": "stream",
     "text": [
      "Processed data for 2023-09-18\n",
      "Fetching data for 2023-09-19\n"
     ]
    },
    {
     "name": "stderr",
     "output_type": "stream",
     "text": [
      "/opt/anaconda3/envs/clean_env/lib/python3.9/site-packages/google/cloud/bigquery/table.py:2309: UserWarning: Unable to represent RANGE schema as struct using pandas ArrowDtype. Using `object` instead. To use ArrowDtype, use pandas >= 1.5 and pyarrow >= 10.0.1.\n",
      "  warnings.warn(_RANGE_PYARROW_WARNING)\n",
      "/opt/anaconda3/envs/clean_env/lib/python3.9/site-packages/google/cloud/bigquery/table.py:2323: UserWarning: Unable to represent RANGE schema as struct using pandas ArrowDtype. Using `object` instead. To use ArrowDtype, use pandas >= 1.5 and pyarrow >= 10.0.1.\n",
      "  warnings.warn(_RANGE_PYARROW_WARNING)\n",
      "/opt/anaconda3/envs/clean_env/lib/python3.9/site-packages/google/cloud/bigquery/table.py:2337: UserWarning: Unable to represent RANGE schema as struct using pandas ArrowDtype. Using `object` instead. To use ArrowDtype, use pandas >= 1.5 and pyarrow >= 10.0.1.\n",
      "  warnings.warn(_RANGE_PYARROW_WARNING)\n"
     ]
    },
    {
     "name": "stdout",
     "output_type": "stream",
     "text": [
      "Processed data for 2023-09-19\n",
      "Fetching data for 2023-09-20\n"
     ]
    },
    {
     "name": "stderr",
     "output_type": "stream",
     "text": [
      "/opt/anaconda3/envs/clean_env/lib/python3.9/site-packages/google/cloud/bigquery/table.py:2309: UserWarning: Unable to represent RANGE schema as struct using pandas ArrowDtype. Using `object` instead. To use ArrowDtype, use pandas >= 1.5 and pyarrow >= 10.0.1.\n",
      "  warnings.warn(_RANGE_PYARROW_WARNING)\n",
      "/opt/anaconda3/envs/clean_env/lib/python3.9/site-packages/google/cloud/bigquery/table.py:2323: UserWarning: Unable to represent RANGE schema as struct using pandas ArrowDtype. Using `object` instead. To use ArrowDtype, use pandas >= 1.5 and pyarrow >= 10.0.1.\n",
      "  warnings.warn(_RANGE_PYARROW_WARNING)\n",
      "/opt/anaconda3/envs/clean_env/lib/python3.9/site-packages/google/cloud/bigquery/table.py:2337: UserWarning: Unable to represent RANGE schema as struct using pandas ArrowDtype. Using `object` instead. To use ArrowDtype, use pandas >= 1.5 and pyarrow >= 10.0.1.\n",
      "  warnings.warn(_RANGE_PYARROW_WARNING)\n"
     ]
    },
    {
     "name": "stdout",
     "output_type": "stream",
     "text": [
      "Processed data for 2023-09-20\n",
      "Fetching data for 2023-09-21\n"
     ]
    },
    {
     "name": "stderr",
     "output_type": "stream",
     "text": [
      "/opt/anaconda3/envs/clean_env/lib/python3.9/site-packages/google/cloud/bigquery/table.py:2309: UserWarning: Unable to represent RANGE schema as struct using pandas ArrowDtype. Using `object` instead. To use ArrowDtype, use pandas >= 1.5 and pyarrow >= 10.0.1.\n",
      "  warnings.warn(_RANGE_PYARROW_WARNING)\n",
      "/opt/anaconda3/envs/clean_env/lib/python3.9/site-packages/google/cloud/bigquery/table.py:2323: UserWarning: Unable to represent RANGE schema as struct using pandas ArrowDtype. Using `object` instead. To use ArrowDtype, use pandas >= 1.5 and pyarrow >= 10.0.1.\n",
      "  warnings.warn(_RANGE_PYARROW_WARNING)\n",
      "/opt/anaconda3/envs/clean_env/lib/python3.9/site-packages/google/cloud/bigquery/table.py:2337: UserWarning: Unable to represent RANGE schema as struct using pandas ArrowDtype. Using `object` instead. To use ArrowDtype, use pandas >= 1.5 and pyarrow >= 10.0.1.\n",
      "  warnings.warn(_RANGE_PYARROW_WARNING)\n"
     ]
    },
    {
     "name": "stdout",
     "output_type": "stream",
     "text": [
      "Processed data for 2023-09-21\n",
      "Fetching data for 2023-09-22\n"
     ]
    },
    {
     "name": "stderr",
     "output_type": "stream",
     "text": [
      "/opt/anaconda3/envs/clean_env/lib/python3.9/site-packages/google/cloud/bigquery/table.py:2309: UserWarning: Unable to represent RANGE schema as struct using pandas ArrowDtype. Using `object` instead. To use ArrowDtype, use pandas >= 1.5 and pyarrow >= 10.0.1.\n",
      "  warnings.warn(_RANGE_PYARROW_WARNING)\n",
      "/opt/anaconda3/envs/clean_env/lib/python3.9/site-packages/google/cloud/bigquery/table.py:2323: UserWarning: Unable to represent RANGE schema as struct using pandas ArrowDtype. Using `object` instead. To use ArrowDtype, use pandas >= 1.5 and pyarrow >= 10.0.1.\n",
      "  warnings.warn(_RANGE_PYARROW_WARNING)\n",
      "/opt/anaconda3/envs/clean_env/lib/python3.9/site-packages/google/cloud/bigquery/table.py:2337: UserWarning: Unable to represent RANGE schema as struct using pandas ArrowDtype. Using `object` instead. To use ArrowDtype, use pandas >= 1.5 and pyarrow >= 10.0.1.\n",
      "  warnings.warn(_RANGE_PYARROW_WARNING)\n"
     ]
    },
    {
     "name": "stdout",
     "output_type": "stream",
     "text": [
      "Processed data for 2023-09-22\n",
      "Fetching data for 2023-09-23\n"
     ]
    },
    {
     "name": "stderr",
     "output_type": "stream",
     "text": [
      "/opt/anaconda3/envs/clean_env/lib/python3.9/site-packages/google/cloud/bigquery/table.py:2309: UserWarning: Unable to represent RANGE schema as struct using pandas ArrowDtype. Using `object` instead. To use ArrowDtype, use pandas >= 1.5 and pyarrow >= 10.0.1.\n",
      "  warnings.warn(_RANGE_PYARROW_WARNING)\n",
      "/opt/anaconda3/envs/clean_env/lib/python3.9/site-packages/google/cloud/bigquery/table.py:2323: UserWarning: Unable to represent RANGE schema as struct using pandas ArrowDtype. Using `object` instead. To use ArrowDtype, use pandas >= 1.5 and pyarrow >= 10.0.1.\n",
      "  warnings.warn(_RANGE_PYARROW_WARNING)\n",
      "/opt/anaconda3/envs/clean_env/lib/python3.9/site-packages/google/cloud/bigquery/table.py:2337: UserWarning: Unable to represent RANGE schema as struct using pandas ArrowDtype. Using `object` instead. To use ArrowDtype, use pandas >= 1.5 and pyarrow >= 10.0.1.\n",
      "  warnings.warn(_RANGE_PYARROW_WARNING)\n"
     ]
    },
    {
     "name": "stdout",
     "output_type": "stream",
     "text": [
      "Processed data for 2023-09-23\n",
      "Fetching data for 2023-09-24\n"
     ]
    },
    {
     "name": "stderr",
     "output_type": "stream",
     "text": [
      "/opt/anaconda3/envs/clean_env/lib/python3.9/site-packages/google/cloud/bigquery/table.py:2309: UserWarning: Unable to represent RANGE schema as struct using pandas ArrowDtype. Using `object` instead. To use ArrowDtype, use pandas >= 1.5 and pyarrow >= 10.0.1.\n",
      "  warnings.warn(_RANGE_PYARROW_WARNING)\n",
      "/opt/anaconda3/envs/clean_env/lib/python3.9/site-packages/google/cloud/bigquery/table.py:2323: UserWarning: Unable to represent RANGE schema as struct using pandas ArrowDtype. Using `object` instead. To use ArrowDtype, use pandas >= 1.5 and pyarrow >= 10.0.1.\n",
      "  warnings.warn(_RANGE_PYARROW_WARNING)\n",
      "/opt/anaconda3/envs/clean_env/lib/python3.9/site-packages/google/cloud/bigquery/table.py:2337: UserWarning: Unable to represent RANGE schema as struct using pandas ArrowDtype. Using `object` instead. To use ArrowDtype, use pandas >= 1.5 and pyarrow >= 10.0.1.\n",
      "  warnings.warn(_RANGE_PYARROW_WARNING)\n"
     ]
    },
    {
     "name": "stdout",
     "output_type": "stream",
     "text": [
      "Processed data for 2023-09-24\n",
      "Fetching data for 2023-09-25\n"
     ]
    },
    {
     "name": "stderr",
     "output_type": "stream",
     "text": [
      "/opt/anaconda3/envs/clean_env/lib/python3.9/site-packages/google/cloud/bigquery/table.py:2309: UserWarning: Unable to represent RANGE schema as struct using pandas ArrowDtype. Using `object` instead. To use ArrowDtype, use pandas >= 1.5 and pyarrow >= 10.0.1.\n",
      "  warnings.warn(_RANGE_PYARROW_WARNING)\n",
      "/opt/anaconda3/envs/clean_env/lib/python3.9/site-packages/google/cloud/bigquery/table.py:2323: UserWarning: Unable to represent RANGE schema as struct using pandas ArrowDtype. Using `object` instead. To use ArrowDtype, use pandas >= 1.5 and pyarrow >= 10.0.1.\n",
      "  warnings.warn(_RANGE_PYARROW_WARNING)\n",
      "/opt/anaconda3/envs/clean_env/lib/python3.9/site-packages/google/cloud/bigquery/table.py:2337: UserWarning: Unable to represent RANGE schema as struct using pandas ArrowDtype. Using `object` instead. To use ArrowDtype, use pandas >= 1.5 and pyarrow >= 10.0.1.\n",
      "  warnings.warn(_RANGE_PYARROW_WARNING)\n"
     ]
    },
    {
     "name": "stdout",
     "output_type": "stream",
     "text": [
      "Processed data for 2023-09-25\n",
      "Fetching data for 2023-09-26\n"
     ]
    },
    {
     "name": "stderr",
     "output_type": "stream",
     "text": [
      "/opt/anaconda3/envs/clean_env/lib/python3.9/site-packages/google/cloud/bigquery/table.py:2309: UserWarning: Unable to represent RANGE schema as struct using pandas ArrowDtype. Using `object` instead. To use ArrowDtype, use pandas >= 1.5 and pyarrow >= 10.0.1.\n",
      "  warnings.warn(_RANGE_PYARROW_WARNING)\n",
      "/opt/anaconda3/envs/clean_env/lib/python3.9/site-packages/google/cloud/bigquery/table.py:2323: UserWarning: Unable to represent RANGE schema as struct using pandas ArrowDtype. Using `object` instead. To use ArrowDtype, use pandas >= 1.5 and pyarrow >= 10.0.1.\n",
      "  warnings.warn(_RANGE_PYARROW_WARNING)\n",
      "/opt/anaconda3/envs/clean_env/lib/python3.9/site-packages/google/cloud/bigquery/table.py:2337: UserWarning: Unable to represent RANGE schema as struct using pandas ArrowDtype. Using `object` instead. To use ArrowDtype, use pandas >= 1.5 and pyarrow >= 10.0.1.\n",
      "  warnings.warn(_RANGE_PYARROW_WARNING)\n"
     ]
    },
    {
     "name": "stdout",
     "output_type": "stream",
     "text": [
      "Processed data for 2023-09-26\n",
      "Fetching data for 2023-09-27\n"
     ]
    },
    {
     "name": "stderr",
     "output_type": "stream",
     "text": [
      "/opt/anaconda3/envs/clean_env/lib/python3.9/site-packages/google/cloud/bigquery/table.py:2309: UserWarning: Unable to represent RANGE schema as struct using pandas ArrowDtype. Using `object` instead. To use ArrowDtype, use pandas >= 1.5 and pyarrow >= 10.0.1.\n",
      "  warnings.warn(_RANGE_PYARROW_WARNING)\n",
      "/opt/anaconda3/envs/clean_env/lib/python3.9/site-packages/google/cloud/bigquery/table.py:2323: UserWarning: Unable to represent RANGE schema as struct using pandas ArrowDtype. Using `object` instead. To use ArrowDtype, use pandas >= 1.5 and pyarrow >= 10.0.1.\n",
      "  warnings.warn(_RANGE_PYARROW_WARNING)\n",
      "/opt/anaconda3/envs/clean_env/lib/python3.9/site-packages/google/cloud/bigquery/table.py:2337: UserWarning: Unable to represent RANGE schema as struct using pandas ArrowDtype. Using `object` instead. To use ArrowDtype, use pandas >= 1.5 and pyarrow >= 10.0.1.\n",
      "  warnings.warn(_RANGE_PYARROW_WARNING)\n"
     ]
    },
    {
     "name": "stdout",
     "output_type": "stream",
     "text": [
      "Processed data for 2023-09-27\n",
      "Fetching data for 2023-09-28\n"
     ]
    },
    {
     "name": "stderr",
     "output_type": "stream",
     "text": [
      "/opt/anaconda3/envs/clean_env/lib/python3.9/site-packages/google/cloud/bigquery/table.py:2309: UserWarning: Unable to represent RANGE schema as struct using pandas ArrowDtype. Using `object` instead. To use ArrowDtype, use pandas >= 1.5 and pyarrow >= 10.0.1.\n",
      "  warnings.warn(_RANGE_PYARROW_WARNING)\n",
      "/opt/anaconda3/envs/clean_env/lib/python3.9/site-packages/google/cloud/bigquery/table.py:2323: UserWarning: Unable to represent RANGE schema as struct using pandas ArrowDtype. Using `object` instead. To use ArrowDtype, use pandas >= 1.5 and pyarrow >= 10.0.1.\n",
      "  warnings.warn(_RANGE_PYARROW_WARNING)\n",
      "/opt/anaconda3/envs/clean_env/lib/python3.9/site-packages/google/cloud/bigquery/table.py:2337: UserWarning: Unable to represent RANGE schema as struct using pandas ArrowDtype. Using `object` instead. To use ArrowDtype, use pandas >= 1.5 and pyarrow >= 10.0.1.\n",
      "  warnings.warn(_RANGE_PYARROW_WARNING)\n"
     ]
    },
    {
     "name": "stdout",
     "output_type": "stream",
     "text": [
      "Processed data for 2023-09-28\n",
      "Fetching data for 2023-09-29\n"
     ]
    },
    {
     "name": "stderr",
     "output_type": "stream",
     "text": [
      "/opt/anaconda3/envs/clean_env/lib/python3.9/site-packages/google/cloud/bigquery/table.py:2309: UserWarning: Unable to represent RANGE schema as struct using pandas ArrowDtype. Using `object` instead. To use ArrowDtype, use pandas >= 1.5 and pyarrow >= 10.0.1.\n",
      "  warnings.warn(_RANGE_PYARROW_WARNING)\n",
      "/opt/anaconda3/envs/clean_env/lib/python3.9/site-packages/google/cloud/bigquery/table.py:2323: UserWarning: Unable to represent RANGE schema as struct using pandas ArrowDtype. Using `object` instead. To use ArrowDtype, use pandas >= 1.5 and pyarrow >= 10.0.1.\n",
      "  warnings.warn(_RANGE_PYARROW_WARNING)\n",
      "/opt/anaconda3/envs/clean_env/lib/python3.9/site-packages/google/cloud/bigquery/table.py:2337: UserWarning: Unable to represent RANGE schema as struct using pandas ArrowDtype. Using `object` instead. To use ArrowDtype, use pandas >= 1.5 and pyarrow >= 10.0.1.\n",
      "  warnings.warn(_RANGE_PYARROW_WARNING)\n"
     ]
    },
    {
     "name": "stdout",
     "output_type": "stream",
     "text": [
      "Processed data for 2023-09-29\n",
      "Fetching data for 2023-09-30\n"
     ]
    },
    {
     "name": "stderr",
     "output_type": "stream",
     "text": [
      "/opt/anaconda3/envs/clean_env/lib/python3.9/site-packages/google/cloud/bigquery/table.py:2309: UserWarning: Unable to represent RANGE schema as struct using pandas ArrowDtype. Using `object` instead. To use ArrowDtype, use pandas >= 1.5 and pyarrow >= 10.0.1.\n",
      "  warnings.warn(_RANGE_PYARROW_WARNING)\n",
      "/opt/anaconda3/envs/clean_env/lib/python3.9/site-packages/google/cloud/bigquery/table.py:2323: UserWarning: Unable to represent RANGE schema as struct using pandas ArrowDtype. Using `object` instead. To use ArrowDtype, use pandas >= 1.5 and pyarrow >= 10.0.1.\n",
      "  warnings.warn(_RANGE_PYARROW_WARNING)\n",
      "/opt/anaconda3/envs/clean_env/lib/python3.9/site-packages/google/cloud/bigquery/table.py:2337: UserWarning: Unable to represent RANGE schema as struct using pandas ArrowDtype. Using `object` instead. To use ArrowDtype, use pandas >= 1.5 and pyarrow >= 10.0.1.\n",
      "  warnings.warn(_RANGE_PYARROW_WARNING)\n"
     ]
    },
    {
     "name": "stdout",
     "output_type": "stream",
     "text": [
      "Processed data for 2023-09-30\n",
      "Fetching data for 2023-10-01\n"
     ]
    },
    {
     "name": "stderr",
     "output_type": "stream",
     "text": [
      "/opt/anaconda3/envs/clean_env/lib/python3.9/site-packages/google/cloud/bigquery/table.py:2309: UserWarning: Unable to represent RANGE schema as struct using pandas ArrowDtype. Using `object` instead. To use ArrowDtype, use pandas >= 1.5 and pyarrow >= 10.0.1.\n",
      "  warnings.warn(_RANGE_PYARROW_WARNING)\n",
      "/opt/anaconda3/envs/clean_env/lib/python3.9/site-packages/google/cloud/bigquery/table.py:2323: UserWarning: Unable to represent RANGE schema as struct using pandas ArrowDtype. Using `object` instead. To use ArrowDtype, use pandas >= 1.5 and pyarrow >= 10.0.1.\n",
      "  warnings.warn(_RANGE_PYARROW_WARNING)\n",
      "/opt/anaconda3/envs/clean_env/lib/python3.9/site-packages/google/cloud/bigquery/table.py:2337: UserWarning: Unable to represent RANGE schema as struct using pandas ArrowDtype. Using `object` instead. To use ArrowDtype, use pandas >= 1.5 and pyarrow >= 10.0.1.\n",
      "  warnings.warn(_RANGE_PYARROW_WARNING)\n"
     ]
    },
    {
     "name": "stdout",
     "output_type": "stream",
     "text": [
      "Processed data for 2023-10-01\n",
      "Fetching data for 2023-10-02\n"
     ]
    },
    {
     "name": "stderr",
     "output_type": "stream",
     "text": [
      "/opt/anaconda3/envs/clean_env/lib/python3.9/site-packages/google/cloud/bigquery/table.py:2309: UserWarning: Unable to represent RANGE schema as struct using pandas ArrowDtype. Using `object` instead. To use ArrowDtype, use pandas >= 1.5 and pyarrow >= 10.0.1.\n",
      "  warnings.warn(_RANGE_PYARROW_WARNING)\n",
      "/opt/anaconda3/envs/clean_env/lib/python3.9/site-packages/google/cloud/bigquery/table.py:2323: UserWarning: Unable to represent RANGE schema as struct using pandas ArrowDtype. Using `object` instead. To use ArrowDtype, use pandas >= 1.5 and pyarrow >= 10.0.1.\n",
      "  warnings.warn(_RANGE_PYARROW_WARNING)\n",
      "/opt/anaconda3/envs/clean_env/lib/python3.9/site-packages/google/cloud/bigquery/table.py:2337: UserWarning: Unable to represent RANGE schema as struct using pandas ArrowDtype. Using `object` instead. To use ArrowDtype, use pandas >= 1.5 and pyarrow >= 10.0.1.\n",
      "  warnings.warn(_RANGE_PYARROW_WARNING)\n"
     ]
    },
    {
     "name": "stdout",
     "output_type": "stream",
     "text": [
      "Processed data for 2023-10-02\n",
      "Fetching data for 2023-10-03\n"
     ]
    },
    {
     "name": "stderr",
     "output_type": "stream",
     "text": [
      "/opt/anaconda3/envs/clean_env/lib/python3.9/site-packages/google/cloud/bigquery/table.py:2309: UserWarning: Unable to represent RANGE schema as struct using pandas ArrowDtype. Using `object` instead. To use ArrowDtype, use pandas >= 1.5 and pyarrow >= 10.0.1.\n",
      "  warnings.warn(_RANGE_PYARROW_WARNING)\n",
      "/opt/anaconda3/envs/clean_env/lib/python3.9/site-packages/google/cloud/bigquery/table.py:2323: UserWarning: Unable to represent RANGE schema as struct using pandas ArrowDtype. Using `object` instead. To use ArrowDtype, use pandas >= 1.5 and pyarrow >= 10.0.1.\n",
      "  warnings.warn(_RANGE_PYARROW_WARNING)\n",
      "/opt/anaconda3/envs/clean_env/lib/python3.9/site-packages/google/cloud/bigquery/table.py:2337: UserWarning: Unable to represent RANGE schema as struct using pandas ArrowDtype. Using `object` instead. To use ArrowDtype, use pandas >= 1.5 and pyarrow >= 10.0.1.\n",
      "  warnings.warn(_RANGE_PYARROW_WARNING)\n"
     ]
    },
    {
     "name": "stdout",
     "output_type": "stream",
     "text": [
      "Processed data for 2023-10-03\n",
      "Fetching data for 2023-10-04\n"
     ]
    },
    {
     "name": "stderr",
     "output_type": "stream",
     "text": [
      "/opt/anaconda3/envs/clean_env/lib/python3.9/site-packages/google/cloud/bigquery/table.py:2309: UserWarning: Unable to represent RANGE schema as struct using pandas ArrowDtype. Using `object` instead. To use ArrowDtype, use pandas >= 1.5 and pyarrow >= 10.0.1.\n",
      "  warnings.warn(_RANGE_PYARROW_WARNING)\n",
      "/opt/anaconda3/envs/clean_env/lib/python3.9/site-packages/google/cloud/bigquery/table.py:2323: UserWarning: Unable to represent RANGE schema as struct using pandas ArrowDtype. Using `object` instead. To use ArrowDtype, use pandas >= 1.5 and pyarrow >= 10.0.1.\n",
      "  warnings.warn(_RANGE_PYARROW_WARNING)\n",
      "/opt/anaconda3/envs/clean_env/lib/python3.9/site-packages/google/cloud/bigquery/table.py:2337: UserWarning: Unable to represent RANGE schema as struct using pandas ArrowDtype. Using `object` instead. To use ArrowDtype, use pandas >= 1.5 and pyarrow >= 10.0.1.\n",
      "  warnings.warn(_RANGE_PYARROW_WARNING)\n"
     ]
    },
    {
     "name": "stdout",
     "output_type": "stream",
     "text": [
      "Processed data for 2023-10-04\n",
      "Fetching data for 2023-10-05\n"
     ]
    },
    {
     "name": "stderr",
     "output_type": "stream",
     "text": [
      "/opt/anaconda3/envs/clean_env/lib/python3.9/site-packages/google/cloud/bigquery/table.py:2309: UserWarning: Unable to represent RANGE schema as struct using pandas ArrowDtype. Using `object` instead. To use ArrowDtype, use pandas >= 1.5 and pyarrow >= 10.0.1.\n",
      "  warnings.warn(_RANGE_PYARROW_WARNING)\n",
      "/opt/anaconda3/envs/clean_env/lib/python3.9/site-packages/google/cloud/bigquery/table.py:2323: UserWarning: Unable to represent RANGE schema as struct using pandas ArrowDtype. Using `object` instead. To use ArrowDtype, use pandas >= 1.5 and pyarrow >= 10.0.1.\n",
      "  warnings.warn(_RANGE_PYARROW_WARNING)\n",
      "/opt/anaconda3/envs/clean_env/lib/python3.9/site-packages/google/cloud/bigquery/table.py:2337: UserWarning: Unable to represent RANGE schema as struct using pandas ArrowDtype. Using `object` instead. To use ArrowDtype, use pandas >= 1.5 and pyarrow >= 10.0.1.\n",
      "  warnings.warn(_RANGE_PYARROW_WARNING)\n"
     ]
    },
    {
     "name": "stdout",
     "output_type": "stream",
     "text": [
      "Processed data for 2023-10-05\n",
      "Fetching data for 2023-10-06\n"
     ]
    },
    {
     "name": "stderr",
     "output_type": "stream",
     "text": [
      "/opt/anaconda3/envs/clean_env/lib/python3.9/site-packages/google/cloud/bigquery/table.py:2309: UserWarning: Unable to represent RANGE schema as struct using pandas ArrowDtype. Using `object` instead. To use ArrowDtype, use pandas >= 1.5 and pyarrow >= 10.0.1.\n",
      "  warnings.warn(_RANGE_PYARROW_WARNING)\n",
      "/opt/anaconda3/envs/clean_env/lib/python3.9/site-packages/google/cloud/bigquery/table.py:2323: UserWarning: Unable to represent RANGE schema as struct using pandas ArrowDtype. Using `object` instead. To use ArrowDtype, use pandas >= 1.5 and pyarrow >= 10.0.1.\n",
      "  warnings.warn(_RANGE_PYARROW_WARNING)\n",
      "/opt/anaconda3/envs/clean_env/lib/python3.9/site-packages/google/cloud/bigquery/table.py:2337: UserWarning: Unable to represent RANGE schema as struct using pandas ArrowDtype. Using `object` instead. To use ArrowDtype, use pandas >= 1.5 and pyarrow >= 10.0.1.\n",
      "  warnings.warn(_RANGE_PYARROW_WARNING)\n"
     ]
    },
    {
     "name": "stdout",
     "output_type": "stream",
     "text": [
      "Processed data for 2023-10-06\n",
      "Fetching data for 2023-10-07\n"
     ]
    },
    {
     "name": "stderr",
     "output_type": "stream",
     "text": [
      "/opt/anaconda3/envs/clean_env/lib/python3.9/site-packages/google/cloud/bigquery/table.py:2309: UserWarning: Unable to represent RANGE schema as struct using pandas ArrowDtype. Using `object` instead. To use ArrowDtype, use pandas >= 1.5 and pyarrow >= 10.0.1.\n",
      "  warnings.warn(_RANGE_PYARROW_WARNING)\n",
      "/opt/anaconda3/envs/clean_env/lib/python3.9/site-packages/google/cloud/bigquery/table.py:2323: UserWarning: Unable to represent RANGE schema as struct using pandas ArrowDtype. Using `object` instead. To use ArrowDtype, use pandas >= 1.5 and pyarrow >= 10.0.1.\n",
      "  warnings.warn(_RANGE_PYARROW_WARNING)\n",
      "/opt/anaconda3/envs/clean_env/lib/python3.9/site-packages/google/cloud/bigquery/table.py:2337: UserWarning: Unable to represent RANGE schema as struct using pandas ArrowDtype. Using `object` instead. To use ArrowDtype, use pandas >= 1.5 and pyarrow >= 10.0.1.\n",
      "  warnings.warn(_RANGE_PYARROW_WARNING)\n"
     ]
    },
    {
     "name": "stdout",
     "output_type": "stream",
     "text": [
      "Processed data for 2023-10-07\n",
      "Fetching data for 2023-10-08\n"
     ]
    },
    {
     "name": "stderr",
     "output_type": "stream",
     "text": [
      "/opt/anaconda3/envs/clean_env/lib/python3.9/site-packages/google/cloud/bigquery/table.py:2309: UserWarning: Unable to represent RANGE schema as struct using pandas ArrowDtype. Using `object` instead. To use ArrowDtype, use pandas >= 1.5 and pyarrow >= 10.0.1.\n",
      "  warnings.warn(_RANGE_PYARROW_WARNING)\n",
      "/opt/anaconda3/envs/clean_env/lib/python3.9/site-packages/google/cloud/bigquery/table.py:2323: UserWarning: Unable to represent RANGE schema as struct using pandas ArrowDtype. Using `object` instead. To use ArrowDtype, use pandas >= 1.5 and pyarrow >= 10.0.1.\n",
      "  warnings.warn(_RANGE_PYARROW_WARNING)\n",
      "/opt/anaconda3/envs/clean_env/lib/python3.9/site-packages/google/cloud/bigquery/table.py:2337: UserWarning: Unable to represent RANGE schema as struct using pandas ArrowDtype. Using `object` instead. To use ArrowDtype, use pandas >= 1.5 and pyarrow >= 10.0.1.\n",
      "  warnings.warn(_RANGE_PYARROW_WARNING)\n"
     ]
    },
    {
     "name": "stdout",
     "output_type": "stream",
     "text": [
      "Processed data for 2023-10-08\n",
      "Fetching data for 2023-10-09\n"
     ]
    },
    {
     "name": "stderr",
     "output_type": "stream",
     "text": [
      "/opt/anaconda3/envs/clean_env/lib/python3.9/site-packages/google/cloud/bigquery/table.py:2309: UserWarning: Unable to represent RANGE schema as struct using pandas ArrowDtype. Using `object` instead. To use ArrowDtype, use pandas >= 1.5 and pyarrow >= 10.0.1.\n",
      "  warnings.warn(_RANGE_PYARROW_WARNING)\n",
      "/opt/anaconda3/envs/clean_env/lib/python3.9/site-packages/google/cloud/bigquery/table.py:2323: UserWarning: Unable to represent RANGE schema as struct using pandas ArrowDtype. Using `object` instead. To use ArrowDtype, use pandas >= 1.5 and pyarrow >= 10.0.1.\n",
      "  warnings.warn(_RANGE_PYARROW_WARNING)\n",
      "/opt/anaconda3/envs/clean_env/lib/python3.9/site-packages/google/cloud/bigquery/table.py:2337: UserWarning: Unable to represent RANGE schema as struct using pandas ArrowDtype. Using `object` instead. To use ArrowDtype, use pandas >= 1.5 and pyarrow >= 10.0.1.\n",
      "  warnings.warn(_RANGE_PYARROW_WARNING)\n"
     ]
    },
    {
     "name": "stdout",
     "output_type": "stream",
     "text": [
      "Processed data for 2023-10-09\n",
      "Fetching data for 2023-10-10\n"
     ]
    },
    {
     "name": "stderr",
     "output_type": "stream",
     "text": [
      "/opt/anaconda3/envs/clean_env/lib/python3.9/site-packages/google/cloud/bigquery/table.py:2309: UserWarning: Unable to represent RANGE schema as struct using pandas ArrowDtype. Using `object` instead. To use ArrowDtype, use pandas >= 1.5 and pyarrow >= 10.0.1.\n",
      "  warnings.warn(_RANGE_PYARROW_WARNING)\n",
      "/opt/anaconda3/envs/clean_env/lib/python3.9/site-packages/google/cloud/bigquery/table.py:2323: UserWarning: Unable to represent RANGE schema as struct using pandas ArrowDtype. Using `object` instead. To use ArrowDtype, use pandas >= 1.5 and pyarrow >= 10.0.1.\n",
      "  warnings.warn(_RANGE_PYARROW_WARNING)\n",
      "/opt/anaconda3/envs/clean_env/lib/python3.9/site-packages/google/cloud/bigquery/table.py:2337: UserWarning: Unable to represent RANGE schema as struct using pandas ArrowDtype. Using `object` instead. To use ArrowDtype, use pandas >= 1.5 and pyarrow >= 10.0.1.\n",
      "  warnings.warn(_RANGE_PYARROW_WARNING)\n"
     ]
    },
    {
     "name": "stdout",
     "output_type": "stream",
     "text": [
      "Processed data for 2023-10-10\n",
      "Fetching data for 2023-10-11\n"
     ]
    },
    {
     "name": "stderr",
     "output_type": "stream",
     "text": [
      "/opt/anaconda3/envs/clean_env/lib/python3.9/site-packages/google/cloud/bigquery/table.py:2309: UserWarning: Unable to represent RANGE schema as struct using pandas ArrowDtype. Using `object` instead. To use ArrowDtype, use pandas >= 1.5 and pyarrow >= 10.0.1.\n",
      "  warnings.warn(_RANGE_PYARROW_WARNING)\n",
      "/opt/anaconda3/envs/clean_env/lib/python3.9/site-packages/google/cloud/bigquery/table.py:2323: UserWarning: Unable to represent RANGE schema as struct using pandas ArrowDtype. Using `object` instead. To use ArrowDtype, use pandas >= 1.5 and pyarrow >= 10.0.1.\n",
      "  warnings.warn(_RANGE_PYARROW_WARNING)\n",
      "/opt/anaconda3/envs/clean_env/lib/python3.9/site-packages/google/cloud/bigquery/table.py:2337: UserWarning: Unable to represent RANGE schema as struct using pandas ArrowDtype. Using `object` instead. To use ArrowDtype, use pandas >= 1.5 and pyarrow >= 10.0.1.\n",
      "  warnings.warn(_RANGE_PYARROW_WARNING)\n"
     ]
    },
    {
     "name": "stdout",
     "output_type": "stream",
     "text": [
      "Processed data for 2023-10-11\n",
      "Fetching data for 2023-10-12\n"
     ]
    },
    {
     "name": "stderr",
     "output_type": "stream",
     "text": [
      "/opt/anaconda3/envs/clean_env/lib/python3.9/site-packages/google/cloud/bigquery/table.py:2309: UserWarning: Unable to represent RANGE schema as struct using pandas ArrowDtype. Using `object` instead. To use ArrowDtype, use pandas >= 1.5 and pyarrow >= 10.0.1.\n",
      "  warnings.warn(_RANGE_PYARROW_WARNING)\n",
      "/opt/anaconda3/envs/clean_env/lib/python3.9/site-packages/google/cloud/bigquery/table.py:2323: UserWarning: Unable to represent RANGE schema as struct using pandas ArrowDtype. Using `object` instead. To use ArrowDtype, use pandas >= 1.5 and pyarrow >= 10.0.1.\n",
      "  warnings.warn(_RANGE_PYARROW_WARNING)\n",
      "/opt/anaconda3/envs/clean_env/lib/python3.9/site-packages/google/cloud/bigquery/table.py:2337: UserWarning: Unable to represent RANGE schema as struct using pandas ArrowDtype. Using `object` instead. To use ArrowDtype, use pandas >= 1.5 and pyarrow >= 10.0.1.\n",
      "  warnings.warn(_RANGE_PYARROW_WARNING)\n"
     ]
    },
    {
     "name": "stdout",
     "output_type": "stream",
     "text": [
      "Processed data for 2023-10-12\n",
      "Fetching data for 2023-10-13\n"
     ]
    },
    {
     "name": "stderr",
     "output_type": "stream",
     "text": [
      "/opt/anaconda3/envs/clean_env/lib/python3.9/site-packages/google/cloud/bigquery/table.py:2309: UserWarning: Unable to represent RANGE schema as struct using pandas ArrowDtype. Using `object` instead. To use ArrowDtype, use pandas >= 1.5 and pyarrow >= 10.0.1.\n",
      "  warnings.warn(_RANGE_PYARROW_WARNING)\n",
      "/opt/anaconda3/envs/clean_env/lib/python3.9/site-packages/google/cloud/bigquery/table.py:2323: UserWarning: Unable to represent RANGE schema as struct using pandas ArrowDtype. Using `object` instead. To use ArrowDtype, use pandas >= 1.5 and pyarrow >= 10.0.1.\n",
      "  warnings.warn(_RANGE_PYARROW_WARNING)\n",
      "/opt/anaconda3/envs/clean_env/lib/python3.9/site-packages/google/cloud/bigquery/table.py:2337: UserWarning: Unable to represent RANGE schema as struct using pandas ArrowDtype. Using `object` instead. To use ArrowDtype, use pandas >= 1.5 and pyarrow >= 10.0.1.\n",
      "  warnings.warn(_RANGE_PYARROW_WARNING)\n"
     ]
    },
    {
     "name": "stdout",
     "output_type": "stream",
     "text": [
      "Processed data for 2023-10-13\n",
      "Fetching data for 2023-10-14\n"
     ]
    },
    {
     "name": "stderr",
     "output_type": "stream",
     "text": [
      "/opt/anaconda3/envs/clean_env/lib/python3.9/site-packages/google/cloud/bigquery/table.py:2309: UserWarning: Unable to represent RANGE schema as struct using pandas ArrowDtype. Using `object` instead. To use ArrowDtype, use pandas >= 1.5 and pyarrow >= 10.0.1.\n",
      "  warnings.warn(_RANGE_PYARROW_WARNING)\n",
      "/opt/anaconda3/envs/clean_env/lib/python3.9/site-packages/google/cloud/bigquery/table.py:2323: UserWarning: Unable to represent RANGE schema as struct using pandas ArrowDtype. Using `object` instead. To use ArrowDtype, use pandas >= 1.5 and pyarrow >= 10.0.1.\n",
      "  warnings.warn(_RANGE_PYARROW_WARNING)\n",
      "/opt/anaconda3/envs/clean_env/lib/python3.9/site-packages/google/cloud/bigquery/table.py:2337: UserWarning: Unable to represent RANGE schema as struct using pandas ArrowDtype. Using `object` instead. To use ArrowDtype, use pandas >= 1.5 and pyarrow >= 10.0.1.\n",
      "  warnings.warn(_RANGE_PYARROW_WARNING)\n"
     ]
    },
    {
     "name": "stdout",
     "output_type": "stream",
     "text": [
      "Processed data for 2023-10-14\n",
      "Fetching data for 2023-10-15\n"
     ]
    },
    {
     "name": "stderr",
     "output_type": "stream",
     "text": [
      "/opt/anaconda3/envs/clean_env/lib/python3.9/site-packages/google/cloud/bigquery/table.py:2309: UserWarning: Unable to represent RANGE schema as struct using pandas ArrowDtype. Using `object` instead. To use ArrowDtype, use pandas >= 1.5 and pyarrow >= 10.0.1.\n",
      "  warnings.warn(_RANGE_PYARROW_WARNING)\n",
      "/opt/anaconda3/envs/clean_env/lib/python3.9/site-packages/google/cloud/bigquery/table.py:2323: UserWarning: Unable to represent RANGE schema as struct using pandas ArrowDtype. Using `object` instead. To use ArrowDtype, use pandas >= 1.5 and pyarrow >= 10.0.1.\n",
      "  warnings.warn(_RANGE_PYARROW_WARNING)\n",
      "/opt/anaconda3/envs/clean_env/lib/python3.9/site-packages/google/cloud/bigquery/table.py:2337: UserWarning: Unable to represent RANGE schema as struct using pandas ArrowDtype. Using `object` instead. To use ArrowDtype, use pandas >= 1.5 and pyarrow >= 10.0.1.\n",
      "  warnings.warn(_RANGE_PYARROW_WARNING)\n"
     ]
    },
    {
     "name": "stdout",
     "output_type": "stream",
     "text": [
      "Processed data for 2023-10-15\n",
      "Fetching data for 2023-10-16\n"
     ]
    },
    {
     "name": "stderr",
     "output_type": "stream",
     "text": [
      "/opt/anaconda3/envs/clean_env/lib/python3.9/site-packages/google/cloud/bigquery/table.py:2309: UserWarning: Unable to represent RANGE schema as struct using pandas ArrowDtype. Using `object` instead. To use ArrowDtype, use pandas >= 1.5 and pyarrow >= 10.0.1.\n",
      "  warnings.warn(_RANGE_PYARROW_WARNING)\n",
      "/opt/anaconda3/envs/clean_env/lib/python3.9/site-packages/google/cloud/bigquery/table.py:2323: UserWarning: Unable to represent RANGE schema as struct using pandas ArrowDtype. Using `object` instead. To use ArrowDtype, use pandas >= 1.5 and pyarrow >= 10.0.1.\n",
      "  warnings.warn(_RANGE_PYARROW_WARNING)\n",
      "/opt/anaconda3/envs/clean_env/lib/python3.9/site-packages/google/cloud/bigquery/table.py:2337: UserWarning: Unable to represent RANGE schema as struct using pandas ArrowDtype. Using `object` instead. To use ArrowDtype, use pandas >= 1.5 and pyarrow >= 10.0.1.\n",
      "  warnings.warn(_RANGE_PYARROW_WARNING)\n"
     ]
    },
    {
     "name": "stdout",
     "output_type": "stream",
     "text": [
      "Processed data for 2023-10-16\n",
      "Fetching data for 2023-10-17\n"
     ]
    },
    {
     "name": "stderr",
     "output_type": "stream",
     "text": [
      "/opt/anaconda3/envs/clean_env/lib/python3.9/site-packages/google/cloud/bigquery/table.py:2309: UserWarning: Unable to represent RANGE schema as struct using pandas ArrowDtype. Using `object` instead. To use ArrowDtype, use pandas >= 1.5 and pyarrow >= 10.0.1.\n",
      "  warnings.warn(_RANGE_PYARROW_WARNING)\n",
      "/opt/anaconda3/envs/clean_env/lib/python3.9/site-packages/google/cloud/bigquery/table.py:2323: UserWarning: Unable to represent RANGE schema as struct using pandas ArrowDtype. Using `object` instead. To use ArrowDtype, use pandas >= 1.5 and pyarrow >= 10.0.1.\n",
      "  warnings.warn(_RANGE_PYARROW_WARNING)\n",
      "/opt/anaconda3/envs/clean_env/lib/python3.9/site-packages/google/cloud/bigquery/table.py:2337: UserWarning: Unable to represent RANGE schema as struct using pandas ArrowDtype. Using `object` instead. To use ArrowDtype, use pandas >= 1.5 and pyarrow >= 10.0.1.\n",
      "  warnings.warn(_RANGE_PYARROW_WARNING)\n"
     ]
    },
    {
     "name": "stdout",
     "output_type": "stream",
     "text": [
      "Processed data for 2023-10-17\n",
      "Fetching data for 2023-10-18\n"
     ]
    },
    {
     "name": "stderr",
     "output_type": "stream",
     "text": [
      "/opt/anaconda3/envs/clean_env/lib/python3.9/site-packages/google/cloud/bigquery/table.py:2309: UserWarning: Unable to represent RANGE schema as struct using pandas ArrowDtype. Using `object` instead. To use ArrowDtype, use pandas >= 1.5 and pyarrow >= 10.0.1.\n",
      "  warnings.warn(_RANGE_PYARROW_WARNING)\n",
      "/opt/anaconda3/envs/clean_env/lib/python3.9/site-packages/google/cloud/bigquery/table.py:2323: UserWarning: Unable to represent RANGE schema as struct using pandas ArrowDtype. Using `object` instead. To use ArrowDtype, use pandas >= 1.5 and pyarrow >= 10.0.1.\n",
      "  warnings.warn(_RANGE_PYARROW_WARNING)\n",
      "/opt/anaconda3/envs/clean_env/lib/python3.9/site-packages/google/cloud/bigquery/table.py:2337: UserWarning: Unable to represent RANGE schema as struct using pandas ArrowDtype. Using `object` instead. To use ArrowDtype, use pandas >= 1.5 and pyarrow >= 10.0.1.\n",
      "  warnings.warn(_RANGE_PYARROW_WARNING)\n"
     ]
    },
    {
     "name": "stdout",
     "output_type": "stream",
     "text": [
      "Processed data for 2023-10-18\n",
      "Fetching data for 2023-10-19\n"
     ]
    },
    {
     "name": "stderr",
     "output_type": "stream",
     "text": [
      "/opt/anaconda3/envs/clean_env/lib/python3.9/site-packages/google/cloud/bigquery/table.py:2309: UserWarning: Unable to represent RANGE schema as struct using pandas ArrowDtype. Using `object` instead. To use ArrowDtype, use pandas >= 1.5 and pyarrow >= 10.0.1.\n",
      "  warnings.warn(_RANGE_PYARROW_WARNING)\n",
      "/opt/anaconda3/envs/clean_env/lib/python3.9/site-packages/google/cloud/bigquery/table.py:2323: UserWarning: Unable to represent RANGE schema as struct using pandas ArrowDtype. Using `object` instead. To use ArrowDtype, use pandas >= 1.5 and pyarrow >= 10.0.1.\n",
      "  warnings.warn(_RANGE_PYARROW_WARNING)\n",
      "/opt/anaconda3/envs/clean_env/lib/python3.9/site-packages/google/cloud/bigquery/table.py:2337: UserWarning: Unable to represent RANGE schema as struct using pandas ArrowDtype. Using `object` instead. To use ArrowDtype, use pandas >= 1.5 and pyarrow >= 10.0.1.\n",
      "  warnings.warn(_RANGE_PYARROW_WARNING)\n"
     ]
    },
    {
     "name": "stdout",
     "output_type": "stream",
     "text": [
      "Processed data for 2023-10-19\n",
      "Fetching data for 2023-10-20\n"
     ]
    },
    {
     "name": "stderr",
     "output_type": "stream",
     "text": [
      "/opt/anaconda3/envs/clean_env/lib/python3.9/site-packages/google/cloud/bigquery/table.py:2309: UserWarning: Unable to represent RANGE schema as struct using pandas ArrowDtype. Using `object` instead. To use ArrowDtype, use pandas >= 1.5 and pyarrow >= 10.0.1.\n",
      "  warnings.warn(_RANGE_PYARROW_WARNING)\n",
      "/opt/anaconda3/envs/clean_env/lib/python3.9/site-packages/google/cloud/bigquery/table.py:2323: UserWarning: Unable to represent RANGE schema as struct using pandas ArrowDtype. Using `object` instead. To use ArrowDtype, use pandas >= 1.5 and pyarrow >= 10.0.1.\n",
      "  warnings.warn(_RANGE_PYARROW_WARNING)\n",
      "/opt/anaconda3/envs/clean_env/lib/python3.9/site-packages/google/cloud/bigquery/table.py:2337: UserWarning: Unable to represent RANGE schema as struct using pandas ArrowDtype. Using `object` instead. To use ArrowDtype, use pandas >= 1.5 and pyarrow >= 10.0.1.\n",
      "  warnings.warn(_RANGE_PYARROW_WARNING)\n"
     ]
    },
    {
     "name": "stdout",
     "output_type": "stream",
     "text": [
      "Processed data for 2023-10-20\n",
      "Fetching data for 2023-10-21\n"
     ]
    },
    {
     "name": "stderr",
     "output_type": "stream",
     "text": [
      "/opt/anaconda3/envs/clean_env/lib/python3.9/site-packages/google/cloud/bigquery/table.py:2309: UserWarning: Unable to represent RANGE schema as struct using pandas ArrowDtype. Using `object` instead. To use ArrowDtype, use pandas >= 1.5 and pyarrow >= 10.0.1.\n",
      "  warnings.warn(_RANGE_PYARROW_WARNING)\n",
      "/opt/anaconda3/envs/clean_env/lib/python3.9/site-packages/google/cloud/bigquery/table.py:2323: UserWarning: Unable to represent RANGE schema as struct using pandas ArrowDtype. Using `object` instead. To use ArrowDtype, use pandas >= 1.5 and pyarrow >= 10.0.1.\n",
      "  warnings.warn(_RANGE_PYARROW_WARNING)\n",
      "/opt/anaconda3/envs/clean_env/lib/python3.9/site-packages/google/cloud/bigquery/table.py:2337: UserWarning: Unable to represent RANGE schema as struct using pandas ArrowDtype. Using `object` instead. To use ArrowDtype, use pandas >= 1.5 and pyarrow >= 10.0.1.\n",
      "  warnings.warn(_RANGE_PYARROW_WARNING)\n"
     ]
    },
    {
     "name": "stdout",
     "output_type": "stream",
     "text": [
      "Processed data for 2023-10-21\n",
      "Fetching data for 2023-10-22\n"
     ]
    },
    {
     "ename": "KeyboardInterrupt",
     "evalue": "",
     "output_type": "error",
     "traceback": [
      "\u001b[0;31m---------------------------------------------------------------------------\u001b[0m",
      "\u001b[0;31mKeyboardInterrupt\u001b[0m                         Traceback (most recent call last)",
      "Cell \u001b[0;32mIn[11], line 20\u001b[0m\n\u001b[1;32m     16\u001b[0m \u001b[38;5;28mprint\u001b[39m(\u001b[38;5;124mf\u001b[39m\u001b[38;5;124m\"\u001b[39m\u001b[38;5;124mFetching data for \u001b[39m\u001b[38;5;132;01m{\u001b[39;00mcurrent_date\u001b[38;5;241m.\u001b[39mstrftime(\u001b[38;5;124m'\u001b[39m\u001b[38;5;124m%\u001b[39m\u001b[38;5;124mY-\u001b[39m\u001b[38;5;124m%\u001b[39m\u001b[38;5;124mm-\u001b[39m\u001b[38;5;132;01m%d\u001b[39;00m\u001b[38;5;124m'\u001b[39m)\u001b[38;5;132;01m}\u001b[39;00m\u001b[38;5;124m\"\u001b[39m)\n\u001b[1;32m     19\u001b[0m \u001b[38;5;66;03m# Execute the query\u001b[39;00m\n\u001b[0;32m---> 20\u001b[0m query_job \u001b[38;5;241m=\u001b[39m \u001b[43mclient\u001b[49m\u001b[38;5;241;43m.\u001b[39;49m\u001b[43mquery\u001b[49m\u001b[43m(\u001b[49m\u001b[43mquery\u001b[49m\u001b[43m)\u001b[49m\n\u001b[1;32m     21\u001b[0m df \u001b[38;5;241m=\u001b[39m query_job\u001b[38;5;241m.\u001b[39mto_dataframe()\n\u001b[1;32m     23\u001b[0m \u001b[38;5;28;01mif\u001b[39;00m df\u001b[38;5;241m.\u001b[39mempty:\n",
      "File \u001b[0;32m/opt/anaconda3/envs/clean_env/lib/python3.9/site-packages/google/cloud/bigquery/client.py:3496\u001b[0m, in \u001b[0;36mClient.query\u001b[0;34m(self, query, job_config, job_id, job_id_prefix, location, project, retry, timeout, job_retry, api_method)\u001b[0m\n\u001b[1;32m   3485\u001b[0m     \u001b[38;5;28;01mreturn\u001b[39;00m _job_helpers\u001b[38;5;241m.\u001b[39mquery_jobs_query(\n\u001b[1;32m   3486\u001b[0m         \u001b[38;5;28mself\u001b[39m,\n\u001b[1;32m   3487\u001b[0m         query,\n\u001b[0;32m   (...)\u001b[0m\n\u001b[1;32m   3493\u001b[0m         job_retry,\n\u001b[1;32m   3494\u001b[0m     )\n\u001b[1;32m   3495\u001b[0m \u001b[38;5;28;01melif\u001b[39;00m api_method \u001b[38;5;241m==\u001b[39m enums\u001b[38;5;241m.\u001b[39mQueryApiMethod\u001b[38;5;241m.\u001b[39mINSERT:\n\u001b[0;32m-> 3496\u001b[0m     \u001b[38;5;28;01mreturn\u001b[39;00m \u001b[43m_job_helpers\u001b[49m\u001b[38;5;241;43m.\u001b[39;49m\u001b[43mquery_jobs_insert\u001b[49m\u001b[43m(\u001b[49m\n\u001b[1;32m   3497\u001b[0m \u001b[43m        \u001b[49m\u001b[38;5;28;43mself\u001b[39;49m\u001b[43m,\u001b[49m\n\u001b[1;32m   3498\u001b[0m \u001b[43m        \u001b[49m\u001b[43mquery\u001b[49m\u001b[43m,\u001b[49m\n\u001b[1;32m   3499\u001b[0m \u001b[43m        \u001b[49m\u001b[43mjob_config\u001b[49m\u001b[43m,\u001b[49m\n\u001b[1;32m   3500\u001b[0m \u001b[43m        \u001b[49m\u001b[43mjob_id\u001b[49m\u001b[43m,\u001b[49m\n\u001b[1;32m   3501\u001b[0m \u001b[43m        \u001b[49m\u001b[43mjob_id_prefix\u001b[49m\u001b[43m,\u001b[49m\n\u001b[1;32m   3502\u001b[0m \u001b[43m        \u001b[49m\u001b[43mlocation\u001b[49m\u001b[43m,\u001b[49m\n\u001b[1;32m   3503\u001b[0m \u001b[43m        \u001b[49m\u001b[43mproject\u001b[49m\u001b[43m,\u001b[49m\n\u001b[1;32m   3504\u001b[0m \u001b[43m        \u001b[49m\u001b[43mretry\u001b[49m\u001b[43m,\u001b[49m\n\u001b[1;32m   3505\u001b[0m \u001b[43m        \u001b[49m\u001b[43mtimeout\u001b[49m\u001b[43m,\u001b[49m\n\u001b[1;32m   3506\u001b[0m \u001b[43m        \u001b[49m\u001b[43mjob_retry\u001b[49m\u001b[43m,\u001b[49m\n\u001b[1;32m   3507\u001b[0m \u001b[43m    \u001b[49m\u001b[43m)\u001b[49m\n\u001b[1;32m   3508\u001b[0m \u001b[38;5;28;01melse\u001b[39;00m:\n\u001b[1;32m   3509\u001b[0m     \u001b[38;5;28;01mraise\u001b[39;00m \u001b[38;5;167;01mValueError\u001b[39;00m(\u001b[38;5;124mf\u001b[39m\u001b[38;5;124m\"\u001b[39m\u001b[38;5;124mGot unexpected value for api_method: \u001b[39m\u001b[38;5;132;01m{\u001b[39;00m\u001b[38;5;28mrepr\u001b[39m(api_method)\u001b[38;5;132;01m}\u001b[39;00m\u001b[38;5;124m\"\u001b[39m)\n",
      "File \u001b[0;32m/opt/anaconda3/envs/clean_env/lib/python3.9/site-packages/google/cloud/bigquery/_job_helpers.py:159\u001b[0m, in \u001b[0;36mquery_jobs_insert\u001b[0;34m(client, query, job_config, job_id, job_id_prefix, location, project, retry, timeout, job_retry)\u001b[0m\n\u001b[1;32m    156\u001b[0m     \u001b[38;5;28;01melse\u001b[39;00m:\n\u001b[1;32m    157\u001b[0m         \u001b[38;5;28;01mreturn\u001b[39;00m query_job\n\u001b[0;32m--> 159\u001b[0m future \u001b[38;5;241m=\u001b[39m \u001b[43mdo_query\u001b[49m\u001b[43m(\u001b[49m\u001b[43m)\u001b[49m\n\u001b[1;32m    160\u001b[0m \u001b[38;5;66;03m# The future might be in a failed state now, but if it's\u001b[39;00m\n\u001b[1;32m    161\u001b[0m \u001b[38;5;66;03m# unrecoverable, we'll find out when we ask for it's result, at which\u001b[39;00m\n\u001b[1;32m    162\u001b[0m \u001b[38;5;66;03m# point, we may retry.\u001b[39;00m\n\u001b[1;32m    163\u001b[0m \u001b[38;5;28;01mif\u001b[39;00m \u001b[38;5;129;01mnot\u001b[39;00m job_id_given:\n",
      "File \u001b[0;32m/opt/anaconda3/envs/clean_env/lib/python3.9/site-packages/google/cloud/bigquery/_job_helpers.py:136\u001b[0m, in \u001b[0;36mquery_jobs_insert.<locals>.do_query\u001b[0;34m()\u001b[0m\n\u001b[1;32m    133\u001b[0m query_job \u001b[38;5;241m=\u001b[39m job\u001b[38;5;241m.\u001b[39mQueryJob(job_ref, query, client\u001b[38;5;241m=\u001b[39mclient, job_config\u001b[38;5;241m=\u001b[39mjob_config)\n\u001b[1;32m    135\u001b[0m \u001b[38;5;28;01mtry\u001b[39;00m:\n\u001b[0;32m--> 136\u001b[0m     \u001b[43mquery_job\u001b[49m\u001b[38;5;241;43m.\u001b[39;49m\u001b[43m_begin\u001b[49m\u001b[43m(\u001b[49m\u001b[43mretry\u001b[49m\u001b[38;5;241;43m=\u001b[39;49m\u001b[43mretry\u001b[49m\u001b[43m,\u001b[49m\u001b[43m \u001b[49m\u001b[43mtimeout\u001b[49m\u001b[38;5;241;43m=\u001b[39;49m\u001b[43mtimeout\u001b[49m\u001b[43m)\u001b[49m\n\u001b[1;32m    137\u001b[0m \u001b[38;5;28;01mexcept\u001b[39;00m core_exceptions\u001b[38;5;241m.\u001b[39mConflict \u001b[38;5;28;01mas\u001b[39;00m create_exc:\n\u001b[1;32m    138\u001b[0m     \u001b[38;5;66;03m# The thought is if someone is providing their own job IDs and they get\u001b[39;00m\n\u001b[1;32m    139\u001b[0m     \u001b[38;5;66;03m# their job ID generation wrong, this could end up returning results for\u001b[39;00m\n\u001b[1;32m    140\u001b[0m     \u001b[38;5;66;03m# the wrong query. We thus only try to recover if job ID was not given.\u001b[39;00m\n\u001b[1;32m    141\u001b[0m     \u001b[38;5;28;01mif\u001b[39;00m job_id_given:\n",
      "File \u001b[0;32m/opt/anaconda3/envs/clean_env/lib/python3.9/site-packages/google/cloud/bigquery/job/query.py:1383\u001b[0m, in \u001b[0;36mQueryJob._begin\u001b[0;34m(self, client, retry, timeout)\u001b[0m\n\u001b[1;32m   1363\u001b[0m \u001b[38;5;250m\u001b[39m\u001b[38;5;124;03m\"\"\"API call:  begin the job via a POST request\u001b[39;00m\n\u001b[1;32m   1364\u001b[0m \n\u001b[1;32m   1365\u001b[0m \u001b[38;5;124;03mSee\u001b[39;00m\n\u001b[0;32m   (...)\u001b[0m\n\u001b[1;32m   1379\u001b[0m \u001b[38;5;124;03m    ValueError: If the job has already begun.\u001b[39;00m\n\u001b[1;32m   1380\u001b[0m \u001b[38;5;124;03m\"\"\"\u001b[39;00m\n\u001b[1;32m   1382\u001b[0m \u001b[38;5;28;01mtry\u001b[39;00m:\n\u001b[0;32m-> 1383\u001b[0m     \u001b[38;5;28;43msuper\u001b[39;49m\u001b[43m(\u001b[49m\u001b[43mQueryJob\u001b[49m\u001b[43m,\u001b[49m\u001b[43m \u001b[49m\u001b[38;5;28;43mself\u001b[39;49m\u001b[43m)\u001b[49m\u001b[38;5;241;43m.\u001b[39;49m\u001b[43m_begin\u001b[49m\u001b[43m(\u001b[49m\u001b[43mclient\u001b[49m\u001b[38;5;241;43m=\u001b[39;49m\u001b[43mclient\u001b[49m\u001b[43m,\u001b[49m\u001b[43m \u001b[49m\u001b[43mretry\u001b[49m\u001b[38;5;241;43m=\u001b[39;49m\u001b[43mretry\u001b[49m\u001b[43m,\u001b[49m\u001b[43m \u001b[49m\u001b[43mtimeout\u001b[49m\u001b[38;5;241;43m=\u001b[39;49m\u001b[43mtimeout\u001b[49m\u001b[43m)\u001b[49m\n\u001b[1;32m   1384\u001b[0m \u001b[38;5;28;01mexcept\u001b[39;00m exceptions\u001b[38;5;241m.\u001b[39mGoogleAPICallError \u001b[38;5;28;01mas\u001b[39;00m exc:\n\u001b[1;32m   1385\u001b[0m     exc\u001b[38;5;241m.\u001b[39mmessage \u001b[38;5;241m=\u001b[39m _EXCEPTION_FOOTER_TEMPLATE\u001b[38;5;241m.\u001b[39mformat(\n\u001b[1;32m   1386\u001b[0m         message\u001b[38;5;241m=\u001b[39mexc\u001b[38;5;241m.\u001b[39mmessage, location\u001b[38;5;241m=\u001b[39m\u001b[38;5;28mself\u001b[39m\u001b[38;5;241m.\u001b[39mlocation, job_id\u001b[38;5;241m=\u001b[39m\u001b[38;5;28mself\u001b[39m\u001b[38;5;241m.\u001b[39mjob_id\n\u001b[1;32m   1387\u001b[0m     )\n",
      "File \u001b[0;32m/opt/anaconda3/envs/clean_env/lib/python3.9/site-packages/google/cloud/bigquery/job/base.py:746\u001b[0m, in \u001b[0;36m_AsyncJob._begin\u001b[0;34m(self, client, retry, timeout)\u001b[0m\n\u001b[1;32m    743\u001b[0m \u001b[38;5;66;03m# jobs.insert is idempotent because we ensure that every new\u001b[39;00m\n\u001b[1;32m    744\u001b[0m \u001b[38;5;66;03m# job has an ID.\u001b[39;00m\n\u001b[1;32m    745\u001b[0m span_attributes \u001b[38;5;241m=\u001b[39m {\u001b[38;5;124m\"\u001b[39m\u001b[38;5;124mpath\u001b[39m\u001b[38;5;124m\"\u001b[39m: path}\n\u001b[0;32m--> 746\u001b[0m api_response \u001b[38;5;241m=\u001b[39m \u001b[43mclient\u001b[49m\u001b[38;5;241;43m.\u001b[39;49m\u001b[43m_call_api\u001b[49m\u001b[43m(\u001b[49m\n\u001b[1;32m    747\u001b[0m \u001b[43m    \u001b[49m\u001b[43mretry\u001b[49m\u001b[43m,\u001b[49m\n\u001b[1;32m    748\u001b[0m \u001b[43m    \u001b[49m\u001b[43mspan_name\u001b[49m\u001b[38;5;241;43m=\u001b[39;49m\u001b[38;5;124;43m\"\u001b[39;49m\u001b[38;5;124;43mBigQuery.job.begin\u001b[39;49m\u001b[38;5;124;43m\"\u001b[39;49m\u001b[43m,\u001b[49m\n\u001b[1;32m    749\u001b[0m \u001b[43m    \u001b[49m\u001b[43mspan_attributes\u001b[49m\u001b[38;5;241;43m=\u001b[39;49m\u001b[43mspan_attributes\u001b[49m\u001b[43m,\u001b[49m\n\u001b[1;32m    750\u001b[0m \u001b[43m    \u001b[49m\u001b[43mjob_ref\u001b[49m\u001b[38;5;241;43m=\u001b[39;49m\u001b[38;5;28;43mself\u001b[39;49m\u001b[43m,\u001b[49m\n\u001b[1;32m    751\u001b[0m \u001b[43m    \u001b[49m\u001b[43mmethod\u001b[49m\u001b[38;5;241;43m=\u001b[39;49m\u001b[38;5;124;43m\"\u001b[39;49m\u001b[38;5;124;43mPOST\u001b[39;49m\u001b[38;5;124;43m\"\u001b[39;49m\u001b[43m,\u001b[49m\n\u001b[1;32m    752\u001b[0m \u001b[43m    \u001b[49m\u001b[43mpath\u001b[49m\u001b[38;5;241;43m=\u001b[39;49m\u001b[43mpath\u001b[49m\u001b[43m,\u001b[49m\n\u001b[1;32m    753\u001b[0m \u001b[43m    \u001b[49m\u001b[43mdata\u001b[49m\u001b[38;5;241;43m=\u001b[39;49m\u001b[38;5;28;43mself\u001b[39;49m\u001b[38;5;241;43m.\u001b[39;49m\u001b[43mto_api_repr\u001b[49m\u001b[43m(\u001b[49m\u001b[43m)\u001b[49m\u001b[43m,\u001b[49m\n\u001b[1;32m    754\u001b[0m \u001b[43m    \u001b[49m\u001b[43mtimeout\u001b[49m\u001b[38;5;241;43m=\u001b[39;49m\u001b[43mtimeout\u001b[49m\u001b[43m,\u001b[49m\n\u001b[1;32m    755\u001b[0m \u001b[43m\u001b[49m\u001b[43m)\u001b[49m\n\u001b[1;32m    756\u001b[0m \u001b[38;5;28mself\u001b[39m\u001b[38;5;241m.\u001b[39m_set_properties(api_response)\n",
      "File \u001b[0;32m/opt/anaconda3/envs/clean_env/lib/python3.9/site-packages/google/cloud/bigquery/client.py:837\u001b[0m, in \u001b[0;36mClient._call_api\u001b[0;34m(self, retry, span_name, span_attributes, job_ref, headers, **kwargs)\u001b[0m\n\u001b[1;32m    833\u001b[0m \u001b[38;5;28;01mif\u001b[39;00m span_name \u001b[38;5;129;01mis\u001b[39;00m \u001b[38;5;129;01mnot\u001b[39;00m \u001b[38;5;28;01mNone\u001b[39;00m:\n\u001b[1;32m    834\u001b[0m     \u001b[38;5;28;01mwith\u001b[39;00m create_span(\n\u001b[1;32m    835\u001b[0m         name\u001b[38;5;241m=\u001b[39mspan_name, attributes\u001b[38;5;241m=\u001b[39mspan_attributes, client\u001b[38;5;241m=\u001b[39m\u001b[38;5;28mself\u001b[39m, job_ref\u001b[38;5;241m=\u001b[39mjob_ref\n\u001b[1;32m    836\u001b[0m     ):\n\u001b[0;32m--> 837\u001b[0m         \u001b[38;5;28;01mreturn\u001b[39;00m \u001b[43mcall\u001b[49m\u001b[43m(\u001b[49m\u001b[43m)\u001b[49m\n\u001b[1;32m    839\u001b[0m \u001b[38;5;28;01mreturn\u001b[39;00m call()\n",
      "File \u001b[0;32m/opt/anaconda3/envs/clean_env/lib/python3.9/site-packages/google/api_core/retry/retry_unary.py:293\u001b[0m, in \u001b[0;36mRetry.__call__.<locals>.retry_wrapped_func\u001b[0;34m(*args, **kwargs)\u001b[0m\n\u001b[1;32m    289\u001b[0m target \u001b[38;5;241m=\u001b[39m functools\u001b[38;5;241m.\u001b[39mpartial(func, \u001b[38;5;241m*\u001b[39margs, \u001b[38;5;241m*\u001b[39m\u001b[38;5;241m*\u001b[39mkwargs)\n\u001b[1;32m    290\u001b[0m sleep_generator \u001b[38;5;241m=\u001b[39m exponential_sleep_generator(\n\u001b[1;32m    291\u001b[0m     \u001b[38;5;28mself\u001b[39m\u001b[38;5;241m.\u001b[39m_initial, \u001b[38;5;28mself\u001b[39m\u001b[38;5;241m.\u001b[39m_maximum, multiplier\u001b[38;5;241m=\u001b[39m\u001b[38;5;28mself\u001b[39m\u001b[38;5;241m.\u001b[39m_multiplier\n\u001b[1;32m    292\u001b[0m )\n\u001b[0;32m--> 293\u001b[0m \u001b[38;5;28;01mreturn\u001b[39;00m \u001b[43mretry_target\u001b[49m\u001b[43m(\u001b[49m\n\u001b[1;32m    294\u001b[0m \u001b[43m    \u001b[49m\u001b[43mtarget\u001b[49m\u001b[43m,\u001b[49m\n\u001b[1;32m    295\u001b[0m \u001b[43m    \u001b[49m\u001b[38;5;28;43mself\u001b[39;49m\u001b[38;5;241;43m.\u001b[39;49m\u001b[43m_predicate\u001b[49m\u001b[43m,\u001b[49m\n\u001b[1;32m    296\u001b[0m \u001b[43m    \u001b[49m\u001b[43msleep_generator\u001b[49m\u001b[43m,\u001b[49m\n\u001b[1;32m    297\u001b[0m \u001b[43m    \u001b[49m\u001b[43mtimeout\u001b[49m\u001b[38;5;241;43m=\u001b[39;49m\u001b[38;5;28;43mself\u001b[39;49m\u001b[38;5;241;43m.\u001b[39;49m\u001b[43m_timeout\u001b[49m\u001b[43m,\u001b[49m\n\u001b[1;32m    298\u001b[0m \u001b[43m    \u001b[49m\u001b[43mon_error\u001b[49m\u001b[38;5;241;43m=\u001b[39;49m\u001b[43mon_error\u001b[49m\u001b[43m,\u001b[49m\n\u001b[1;32m    299\u001b[0m \u001b[43m\u001b[49m\u001b[43m)\u001b[49m\n",
      "File \u001b[0;32m/opt/anaconda3/envs/clean_env/lib/python3.9/site-packages/google/api_core/retry/retry_unary.py:144\u001b[0m, in \u001b[0;36mretry_target\u001b[0;34m(target, predicate, sleep_generator, timeout, on_error, exception_factory, **kwargs)\u001b[0m\n\u001b[1;32m    142\u001b[0m \u001b[38;5;28;01mfor\u001b[39;00m sleep \u001b[38;5;129;01min\u001b[39;00m sleep_generator:\n\u001b[1;32m    143\u001b[0m     \u001b[38;5;28;01mtry\u001b[39;00m:\n\u001b[0;32m--> 144\u001b[0m         result \u001b[38;5;241m=\u001b[39m \u001b[43mtarget\u001b[49m\u001b[43m(\u001b[49m\u001b[43m)\u001b[49m\n\u001b[1;32m    145\u001b[0m         \u001b[38;5;28;01mif\u001b[39;00m inspect\u001b[38;5;241m.\u001b[39misawaitable(result):\n\u001b[1;32m    146\u001b[0m             warnings\u001b[38;5;241m.\u001b[39mwarn(_ASYNC_RETRY_WARNING)\n",
      "File \u001b[0;32m/opt/anaconda3/envs/clean_env/lib/python3.9/site-packages/google/cloud/_http/__init__.py:482\u001b[0m, in \u001b[0;36mJSONConnection.api_request\u001b[0;34m(self, method, path, query_params, data, content_type, headers, api_base_url, api_version, expect_json, _target_object, timeout, extra_api_info)\u001b[0m\n\u001b[1;32m    479\u001b[0m     data \u001b[38;5;241m=\u001b[39m json\u001b[38;5;241m.\u001b[39mdumps(data)\n\u001b[1;32m    480\u001b[0m     content_type \u001b[38;5;241m=\u001b[39m \u001b[38;5;124m\"\u001b[39m\u001b[38;5;124mapplication/json\u001b[39m\u001b[38;5;124m\"\u001b[39m\n\u001b[0;32m--> 482\u001b[0m response \u001b[38;5;241m=\u001b[39m \u001b[38;5;28;43mself\u001b[39;49m\u001b[38;5;241;43m.\u001b[39;49m\u001b[43m_make_request\u001b[49m\u001b[43m(\u001b[49m\n\u001b[1;32m    483\u001b[0m \u001b[43m    \u001b[49m\u001b[43mmethod\u001b[49m\u001b[38;5;241;43m=\u001b[39;49m\u001b[43mmethod\u001b[49m\u001b[43m,\u001b[49m\n\u001b[1;32m    484\u001b[0m \u001b[43m    \u001b[49m\u001b[43murl\u001b[49m\u001b[38;5;241;43m=\u001b[39;49m\u001b[43murl\u001b[49m\u001b[43m,\u001b[49m\n\u001b[1;32m    485\u001b[0m \u001b[43m    \u001b[49m\u001b[43mdata\u001b[49m\u001b[38;5;241;43m=\u001b[39;49m\u001b[43mdata\u001b[49m\u001b[43m,\u001b[49m\n\u001b[1;32m    486\u001b[0m \u001b[43m    \u001b[49m\u001b[43mcontent_type\u001b[49m\u001b[38;5;241;43m=\u001b[39;49m\u001b[43mcontent_type\u001b[49m\u001b[43m,\u001b[49m\n\u001b[1;32m    487\u001b[0m \u001b[43m    \u001b[49m\u001b[43mheaders\u001b[49m\u001b[38;5;241;43m=\u001b[39;49m\u001b[43mheaders\u001b[49m\u001b[43m,\u001b[49m\n\u001b[1;32m    488\u001b[0m \u001b[43m    \u001b[49m\u001b[43mtarget_object\u001b[49m\u001b[38;5;241;43m=\u001b[39;49m\u001b[43m_target_object\u001b[49m\u001b[43m,\u001b[49m\n\u001b[1;32m    489\u001b[0m \u001b[43m    \u001b[49m\u001b[43mtimeout\u001b[49m\u001b[38;5;241;43m=\u001b[39;49m\u001b[43mtimeout\u001b[49m\u001b[43m,\u001b[49m\n\u001b[1;32m    490\u001b[0m \u001b[43m    \u001b[49m\u001b[43mextra_api_info\u001b[49m\u001b[38;5;241;43m=\u001b[39;49m\u001b[43mextra_api_info\u001b[49m\u001b[43m,\u001b[49m\n\u001b[1;32m    491\u001b[0m \u001b[43m\u001b[49m\u001b[43m)\u001b[49m\n\u001b[1;32m    493\u001b[0m \u001b[38;5;28;01mif\u001b[39;00m \u001b[38;5;129;01mnot\u001b[39;00m \u001b[38;5;241m200\u001b[39m \u001b[38;5;241m<\u001b[39m\u001b[38;5;241m=\u001b[39m response\u001b[38;5;241m.\u001b[39mstatus_code \u001b[38;5;241m<\u001b[39m \u001b[38;5;241m300\u001b[39m:\n\u001b[1;32m    494\u001b[0m     \u001b[38;5;28;01mraise\u001b[39;00m exceptions\u001b[38;5;241m.\u001b[39mfrom_http_response(response)\n",
      "File \u001b[0;32m/opt/anaconda3/envs/clean_env/lib/python3.9/site-packages/google/cloud/_http/__init__.py:341\u001b[0m, in \u001b[0;36mJSONConnection._make_request\u001b[0;34m(self, method, url, data, content_type, headers, target_object, timeout, extra_api_info)\u001b[0m\n\u001b[1;32m    338\u001b[0m     headers[CLIENT_INFO_HEADER] \u001b[38;5;241m=\u001b[39m \u001b[38;5;28mself\u001b[39m\u001b[38;5;241m.\u001b[39muser_agent\n\u001b[1;32m    339\u001b[0m headers[\u001b[38;5;124m\"\u001b[39m\u001b[38;5;124mUser-Agent\u001b[39m\u001b[38;5;124m\"\u001b[39m] \u001b[38;5;241m=\u001b[39m \u001b[38;5;28mself\u001b[39m\u001b[38;5;241m.\u001b[39muser_agent\n\u001b[0;32m--> 341\u001b[0m \u001b[38;5;28;01mreturn\u001b[39;00m \u001b[38;5;28;43mself\u001b[39;49m\u001b[38;5;241;43m.\u001b[39;49m\u001b[43m_do_request\u001b[49m\u001b[43m(\u001b[49m\n\u001b[1;32m    342\u001b[0m \u001b[43m    \u001b[49m\u001b[43mmethod\u001b[49m\u001b[43m,\u001b[49m\u001b[43m \u001b[49m\u001b[43murl\u001b[49m\u001b[43m,\u001b[49m\u001b[43m \u001b[49m\u001b[43mheaders\u001b[49m\u001b[43m,\u001b[49m\u001b[43m \u001b[49m\u001b[43mdata\u001b[49m\u001b[43m,\u001b[49m\u001b[43m \u001b[49m\u001b[43mtarget_object\u001b[49m\u001b[43m,\u001b[49m\u001b[43m \u001b[49m\u001b[43mtimeout\u001b[49m\u001b[38;5;241;43m=\u001b[39;49m\u001b[43mtimeout\u001b[49m\n\u001b[1;32m    343\u001b[0m \u001b[43m\u001b[49m\u001b[43m)\u001b[49m\n",
      "File \u001b[0;32m/opt/anaconda3/envs/clean_env/lib/python3.9/site-packages/google/cloud/_http/__init__.py:379\u001b[0m, in \u001b[0;36mJSONConnection._do_request\u001b[0;34m(self, method, url, headers, data, target_object, timeout)\u001b[0m\n\u001b[1;32m    345\u001b[0m \u001b[38;5;28;01mdef\u001b[39;00m\u001b[38;5;250m \u001b[39m\u001b[38;5;21m_do_request\u001b[39m(\n\u001b[1;32m    346\u001b[0m     \u001b[38;5;28mself\u001b[39m, method, url, headers, data, target_object, timeout\u001b[38;5;241m=\u001b[39m_DEFAULT_TIMEOUT\n\u001b[1;32m    347\u001b[0m ):  \u001b[38;5;66;03m# pylint: disable=unused-argument\u001b[39;00m\n\u001b[1;32m    348\u001b[0m \u001b[38;5;250m    \u001b[39m\u001b[38;5;124;03m\"\"\"Low-level helper:  perform the actual API request over HTTP.\u001b[39;00m\n\u001b[1;32m    349\u001b[0m \n\u001b[1;32m    350\u001b[0m \u001b[38;5;124;03m    Allows batch context managers to override and defer a request.\u001b[39;00m\n\u001b[0;32m   (...)\u001b[0m\n\u001b[1;32m    377\u001b[0m \u001b[38;5;124;03m    :returns: The HTTP response.\u001b[39;00m\n\u001b[1;32m    378\u001b[0m \u001b[38;5;124;03m    \"\"\"\u001b[39;00m\n\u001b[0;32m--> 379\u001b[0m     \u001b[38;5;28;01mreturn\u001b[39;00m \u001b[38;5;28;43mself\u001b[39;49m\u001b[38;5;241;43m.\u001b[39;49m\u001b[43mhttp\u001b[49m\u001b[38;5;241;43m.\u001b[39;49m\u001b[43mrequest\u001b[49m\u001b[43m(\u001b[49m\n\u001b[1;32m    380\u001b[0m \u001b[43m        \u001b[49m\u001b[43murl\u001b[49m\u001b[38;5;241;43m=\u001b[39;49m\u001b[43murl\u001b[49m\u001b[43m,\u001b[49m\u001b[43m \u001b[49m\u001b[43mmethod\u001b[49m\u001b[38;5;241;43m=\u001b[39;49m\u001b[43mmethod\u001b[49m\u001b[43m,\u001b[49m\u001b[43m \u001b[49m\u001b[43mheaders\u001b[49m\u001b[38;5;241;43m=\u001b[39;49m\u001b[43mheaders\u001b[49m\u001b[43m,\u001b[49m\u001b[43m \u001b[49m\u001b[43mdata\u001b[49m\u001b[38;5;241;43m=\u001b[39;49m\u001b[43mdata\u001b[49m\u001b[43m,\u001b[49m\u001b[43m \u001b[49m\u001b[43mtimeout\u001b[49m\u001b[38;5;241;43m=\u001b[39;49m\u001b[43mtimeout\u001b[49m\n\u001b[1;32m    381\u001b[0m \u001b[43m    \u001b[49m\u001b[43m)\u001b[49m\n",
      "File \u001b[0;32m/opt/anaconda3/envs/clean_env/lib/python3.9/site-packages/google/auth/transport/requests.py:537\u001b[0m, in \u001b[0;36mAuthorizedSession.request\u001b[0;34m(self, method, url, data, headers, max_allowed_time, timeout, **kwargs)\u001b[0m\n\u001b[1;32m    534\u001b[0m remaining_time \u001b[38;5;241m=\u001b[39m guard\u001b[38;5;241m.\u001b[39mremaining_timeout\n\u001b[1;32m    536\u001b[0m \u001b[38;5;28;01mwith\u001b[39;00m TimeoutGuard(remaining_time) \u001b[38;5;28;01mas\u001b[39;00m guard:\n\u001b[0;32m--> 537\u001b[0m     response \u001b[38;5;241m=\u001b[39m \u001b[38;5;28;43msuper\u001b[39;49m\u001b[43m(\u001b[49m\u001b[43mAuthorizedSession\u001b[49m\u001b[43m,\u001b[49m\u001b[43m \u001b[49m\u001b[38;5;28;43mself\u001b[39;49m\u001b[43m)\u001b[49m\u001b[38;5;241;43m.\u001b[39;49m\u001b[43mrequest\u001b[49m\u001b[43m(\u001b[49m\n\u001b[1;32m    538\u001b[0m \u001b[43m        \u001b[49m\u001b[43mmethod\u001b[49m\u001b[43m,\u001b[49m\n\u001b[1;32m    539\u001b[0m \u001b[43m        \u001b[49m\u001b[43murl\u001b[49m\u001b[43m,\u001b[49m\n\u001b[1;32m    540\u001b[0m \u001b[43m        \u001b[49m\u001b[43mdata\u001b[49m\u001b[38;5;241;43m=\u001b[39;49m\u001b[43mdata\u001b[49m\u001b[43m,\u001b[49m\n\u001b[1;32m    541\u001b[0m \u001b[43m        \u001b[49m\u001b[43mheaders\u001b[49m\u001b[38;5;241;43m=\u001b[39;49m\u001b[43mrequest_headers\u001b[49m\u001b[43m,\u001b[49m\n\u001b[1;32m    542\u001b[0m \u001b[43m        \u001b[49m\u001b[43mtimeout\u001b[49m\u001b[38;5;241;43m=\u001b[39;49m\u001b[43mtimeout\u001b[49m\u001b[43m,\u001b[49m\n\u001b[1;32m    543\u001b[0m \u001b[43m        \u001b[49m\u001b[38;5;241;43m*\u001b[39;49m\u001b[38;5;241;43m*\u001b[39;49m\u001b[43mkwargs\u001b[49m\n\u001b[1;32m    544\u001b[0m \u001b[43m    \u001b[49m\u001b[43m)\u001b[49m\n\u001b[1;32m    545\u001b[0m remaining_time \u001b[38;5;241m=\u001b[39m guard\u001b[38;5;241m.\u001b[39mremaining_timeout\n\u001b[1;32m    547\u001b[0m \u001b[38;5;66;03m# If the response indicated that the credentials needed to be\u001b[39;00m\n\u001b[1;32m    548\u001b[0m \u001b[38;5;66;03m# refreshed, then refresh the credentials and re-attempt the\u001b[39;00m\n\u001b[1;32m    549\u001b[0m \u001b[38;5;66;03m# request.\u001b[39;00m\n\u001b[1;32m    550\u001b[0m \u001b[38;5;66;03m# A stored token may expire between the time it is retrieved and\u001b[39;00m\n\u001b[1;32m    551\u001b[0m \u001b[38;5;66;03m# the time the request is made, so we may need to try twice.\u001b[39;00m\n",
      "File \u001b[0;32m/opt/anaconda3/envs/clean_env/lib/python3.9/site-packages/requests/sessions.py:589\u001b[0m, in \u001b[0;36mSession.request\u001b[0;34m(self, method, url, params, data, headers, cookies, files, auth, timeout, allow_redirects, proxies, hooks, stream, verify, cert, json)\u001b[0m\n\u001b[1;32m    584\u001b[0m send_kwargs \u001b[38;5;241m=\u001b[39m {\n\u001b[1;32m    585\u001b[0m     \u001b[38;5;124m\"\u001b[39m\u001b[38;5;124mtimeout\u001b[39m\u001b[38;5;124m\"\u001b[39m: timeout,\n\u001b[1;32m    586\u001b[0m     \u001b[38;5;124m\"\u001b[39m\u001b[38;5;124mallow_redirects\u001b[39m\u001b[38;5;124m\"\u001b[39m: allow_redirects,\n\u001b[1;32m    587\u001b[0m }\n\u001b[1;32m    588\u001b[0m send_kwargs\u001b[38;5;241m.\u001b[39mupdate(settings)\n\u001b[0;32m--> 589\u001b[0m resp \u001b[38;5;241m=\u001b[39m \u001b[38;5;28;43mself\u001b[39;49m\u001b[38;5;241;43m.\u001b[39;49m\u001b[43msend\u001b[49m\u001b[43m(\u001b[49m\u001b[43mprep\u001b[49m\u001b[43m,\u001b[49m\u001b[43m \u001b[49m\u001b[38;5;241;43m*\u001b[39;49m\u001b[38;5;241;43m*\u001b[39;49m\u001b[43msend_kwargs\u001b[49m\u001b[43m)\u001b[49m\n\u001b[1;32m    591\u001b[0m \u001b[38;5;28;01mreturn\u001b[39;00m resp\n",
      "File \u001b[0;32m/opt/anaconda3/envs/clean_env/lib/python3.9/site-packages/requests/sessions.py:703\u001b[0m, in \u001b[0;36mSession.send\u001b[0;34m(self, request, **kwargs)\u001b[0m\n\u001b[1;32m    700\u001b[0m start \u001b[38;5;241m=\u001b[39m preferred_clock()\n\u001b[1;32m    702\u001b[0m \u001b[38;5;66;03m# Send the request\u001b[39;00m\n\u001b[0;32m--> 703\u001b[0m r \u001b[38;5;241m=\u001b[39m \u001b[43madapter\u001b[49m\u001b[38;5;241;43m.\u001b[39;49m\u001b[43msend\u001b[49m\u001b[43m(\u001b[49m\u001b[43mrequest\u001b[49m\u001b[43m,\u001b[49m\u001b[43m \u001b[49m\u001b[38;5;241;43m*\u001b[39;49m\u001b[38;5;241;43m*\u001b[39;49m\u001b[43mkwargs\u001b[49m\u001b[43m)\u001b[49m\n\u001b[1;32m    705\u001b[0m \u001b[38;5;66;03m# Total elapsed time of the request (approximately)\u001b[39;00m\n\u001b[1;32m    706\u001b[0m elapsed \u001b[38;5;241m=\u001b[39m preferred_clock() \u001b[38;5;241m-\u001b[39m start\n",
      "File \u001b[0;32m/opt/anaconda3/envs/clean_env/lib/python3.9/site-packages/requests/adapters.py:667\u001b[0m, in \u001b[0;36mHTTPAdapter.send\u001b[0;34m(self, request, stream, timeout, verify, cert, proxies)\u001b[0m\n\u001b[1;32m    664\u001b[0m     timeout \u001b[38;5;241m=\u001b[39m TimeoutSauce(connect\u001b[38;5;241m=\u001b[39mtimeout, read\u001b[38;5;241m=\u001b[39mtimeout)\n\u001b[1;32m    666\u001b[0m \u001b[38;5;28;01mtry\u001b[39;00m:\n\u001b[0;32m--> 667\u001b[0m     resp \u001b[38;5;241m=\u001b[39m \u001b[43mconn\u001b[49m\u001b[38;5;241;43m.\u001b[39;49m\u001b[43murlopen\u001b[49m\u001b[43m(\u001b[49m\n\u001b[1;32m    668\u001b[0m \u001b[43m        \u001b[49m\u001b[43mmethod\u001b[49m\u001b[38;5;241;43m=\u001b[39;49m\u001b[43mrequest\u001b[49m\u001b[38;5;241;43m.\u001b[39;49m\u001b[43mmethod\u001b[49m\u001b[43m,\u001b[49m\n\u001b[1;32m    669\u001b[0m \u001b[43m        \u001b[49m\u001b[43murl\u001b[49m\u001b[38;5;241;43m=\u001b[39;49m\u001b[43murl\u001b[49m\u001b[43m,\u001b[49m\n\u001b[1;32m    670\u001b[0m \u001b[43m        \u001b[49m\u001b[43mbody\u001b[49m\u001b[38;5;241;43m=\u001b[39;49m\u001b[43mrequest\u001b[49m\u001b[38;5;241;43m.\u001b[39;49m\u001b[43mbody\u001b[49m\u001b[43m,\u001b[49m\n\u001b[1;32m    671\u001b[0m \u001b[43m        \u001b[49m\u001b[43mheaders\u001b[49m\u001b[38;5;241;43m=\u001b[39;49m\u001b[43mrequest\u001b[49m\u001b[38;5;241;43m.\u001b[39;49m\u001b[43mheaders\u001b[49m\u001b[43m,\u001b[49m\n\u001b[1;32m    672\u001b[0m \u001b[43m        \u001b[49m\u001b[43mredirect\u001b[49m\u001b[38;5;241;43m=\u001b[39;49m\u001b[38;5;28;43;01mFalse\u001b[39;49;00m\u001b[43m,\u001b[49m\n\u001b[1;32m    673\u001b[0m \u001b[43m        \u001b[49m\u001b[43massert_same_host\u001b[49m\u001b[38;5;241;43m=\u001b[39;49m\u001b[38;5;28;43;01mFalse\u001b[39;49;00m\u001b[43m,\u001b[49m\n\u001b[1;32m    674\u001b[0m \u001b[43m        \u001b[49m\u001b[43mpreload_content\u001b[49m\u001b[38;5;241;43m=\u001b[39;49m\u001b[38;5;28;43;01mFalse\u001b[39;49;00m\u001b[43m,\u001b[49m\n\u001b[1;32m    675\u001b[0m \u001b[43m        \u001b[49m\u001b[43mdecode_content\u001b[49m\u001b[38;5;241;43m=\u001b[39;49m\u001b[38;5;28;43;01mFalse\u001b[39;49;00m\u001b[43m,\u001b[49m\n\u001b[1;32m    676\u001b[0m \u001b[43m        \u001b[49m\u001b[43mretries\u001b[49m\u001b[38;5;241;43m=\u001b[39;49m\u001b[38;5;28;43mself\u001b[39;49m\u001b[38;5;241;43m.\u001b[39;49m\u001b[43mmax_retries\u001b[49m\u001b[43m,\u001b[49m\n\u001b[1;32m    677\u001b[0m \u001b[43m        \u001b[49m\u001b[43mtimeout\u001b[49m\u001b[38;5;241;43m=\u001b[39;49m\u001b[43mtimeout\u001b[49m\u001b[43m,\u001b[49m\n\u001b[1;32m    678\u001b[0m \u001b[43m        \u001b[49m\u001b[43mchunked\u001b[49m\u001b[38;5;241;43m=\u001b[39;49m\u001b[43mchunked\u001b[49m\u001b[43m,\u001b[49m\n\u001b[1;32m    679\u001b[0m \u001b[43m    \u001b[49m\u001b[43m)\u001b[49m\n\u001b[1;32m    681\u001b[0m \u001b[38;5;28;01mexcept\u001b[39;00m (ProtocolError, \u001b[38;5;167;01mOSError\u001b[39;00m) \u001b[38;5;28;01mas\u001b[39;00m err:\n\u001b[1;32m    682\u001b[0m     \u001b[38;5;28;01mraise\u001b[39;00m \u001b[38;5;167;01mConnectionError\u001b[39;00m(err, request\u001b[38;5;241m=\u001b[39mrequest)\n",
      "File \u001b[0;32m/opt/anaconda3/envs/clean_env/lib/python3.9/site-packages/urllib3/connectionpool.py:789\u001b[0m, in \u001b[0;36mHTTPConnectionPool.urlopen\u001b[0;34m(self, method, url, body, headers, retries, redirect, assert_same_host, timeout, pool_timeout, release_conn, chunked, body_pos, preload_content, decode_content, **response_kw)\u001b[0m\n\u001b[1;32m    786\u001b[0m response_conn \u001b[38;5;241m=\u001b[39m conn \u001b[38;5;28;01mif\u001b[39;00m \u001b[38;5;129;01mnot\u001b[39;00m release_conn \u001b[38;5;28;01melse\u001b[39;00m \u001b[38;5;28;01mNone\u001b[39;00m\n\u001b[1;32m    788\u001b[0m \u001b[38;5;66;03m# Make the request on the HTTPConnection object\u001b[39;00m\n\u001b[0;32m--> 789\u001b[0m response \u001b[38;5;241m=\u001b[39m \u001b[38;5;28;43mself\u001b[39;49m\u001b[38;5;241;43m.\u001b[39;49m\u001b[43m_make_request\u001b[49m\u001b[43m(\u001b[49m\n\u001b[1;32m    790\u001b[0m \u001b[43m    \u001b[49m\u001b[43mconn\u001b[49m\u001b[43m,\u001b[49m\n\u001b[1;32m    791\u001b[0m \u001b[43m    \u001b[49m\u001b[43mmethod\u001b[49m\u001b[43m,\u001b[49m\n\u001b[1;32m    792\u001b[0m \u001b[43m    \u001b[49m\u001b[43murl\u001b[49m\u001b[43m,\u001b[49m\n\u001b[1;32m    793\u001b[0m \u001b[43m    \u001b[49m\u001b[43mtimeout\u001b[49m\u001b[38;5;241;43m=\u001b[39;49m\u001b[43mtimeout_obj\u001b[49m\u001b[43m,\u001b[49m\n\u001b[1;32m    794\u001b[0m \u001b[43m    \u001b[49m\u001b[43mbody\u001b[49m\u001b[38;5;241;43m=\u001b[39;49m\u001b[43mbody\u001b[49m\u001b[43m,\u001b[49m\n\u001b[1;32m    795\u001b[0m \u001b[43m    \u001b[49m\u001b[43mheaders\u001b[49m\u001b[38;5;241;43m=\u001b[39;49m\u001b[43mheaders\u001b[49m\u001b[43m,\u001b[49m\n\u001b[1;32m    796\u001b[0m \u001b[43m    \u001b[49m\u001b[43mchunked\u001b[49m\u001b[38;5;241;43m=\u001b[39;49m\u001b[43mchunked\u001b[49m\u001b[43m,\u001b[49m\n\u001b[1;32m    797\u001b[0m \u001b[43m    \u001b[49m\u001b[43mretries\u001b[49m\u001b[38;5;241;43m=\u001b[39;49m\u001b[43mretries\u001b[49m\u001b[43m,\u001b[49m\n\u001b[1;32m    798\u001b[0m \u001b[43m    \u001b[49m\u001b[43mresponse_conn\u001b[49m\u001b[38;5;241;43m=\u001b[39;49m\u001b[43mresponse_conn\u001b[49m\u001b[43m,\u001b[49m\n\u001b[1;32m    799\u001b[0m \u001b[43m    \u001b[49m\u001b[43mpreload_content\u001b[49m\u001b[38;5;241;43m=\u001b[39;49m\u001b[43mpreload_content\u001b[49m\u001b[43m,\u001b[49m\n\u001b[1;32m    800\u001b[0m \u001b[43m    \u001b[49m\u001b[43mdecode_content\u001b[49m\u001b[38;5;241;43m=\u001b[39;49m\u001b[43mdecode_content\u001b[49m\u001b[43m,\u001b[49m\n\u001b[1;32m    801\u001b[0m \u001b[43m    \u001b[49m\u001b[38;5;241;43m*\u001b[39;49m\u001b[38;5;241;43m*\u001b[39;49m\u001b[43mresponse_kw\u001b[49m\u001b[43m,\u001b[49m\n\u001b[1;32m    802\u001b[0m \u001b[43m\u001b[49m\u001b[43m)\u001b[49m\n\u001b[1;32m    804\u001b[0m \u001b[38;5;66;03m# Everything went great!\u001b[39;00m\n\u001b[1;32m    805\u001b[0m clean_exit \u001b[38;5;241m=\u001b[39m \u001b[38;5;28;01mTrue\u001b[39;00m\n",
      "File \u001b[0;32m/opt/anaconda3/envs/clean_env/lib/python3.9/site-packages/urllib3/connectionpool.py:536\u001b[0m, in \u001b[0;36mHTTPConnectionPool._make_request\u001b[0;34m(self, conn, method, url, body, headers, retries, timeout, chunked, response_conn, preload_content, decode_content, enforce_content_length)\u001b[0m\n\u001b[1;32m    534\u001b[0m \u001b[38;5;66;03m# Receive the response from the server\u001b[39;00m\n\u001b[1;32m    535\u001b[0m \u001b[38;5;28;01mtry\u001b[39;00m:\n\u001b[0;32m--> 536\u001b[0m     response \u001b[38;5;241m=\u001b[39m \u001b[43mconn\u001b[49m\u001b[38;5;241;43m.\u001b[39;49m\u001b[43mgetresponse\u001b[49m\u001b[43m(\u001b[49m\u001b[43m)\u001b[49m\n\u001b[1;32m    537\u001b[0m \u001b[38;5;28;01mexcept\u001b[39;00m (BaseSSLError, \u001b[38;5;167;01mOSError\u001b[39;00m) \u001b[38;5;28;01mas\u001b[39;00m e:\n\u001b[1;32m    538\u001b[0m     \u001b[38;5;28mself\u001b[39m\u001b[38;5;241m.\u001b[39m_raise_timeout(err\u001b[38;5;241m=\u001b[39me, url\u001b[38;5;241m=\u001b[39murl, timeout_value\u001b[38;5;241m=\u001b[39mread_timeout)\n",
      "File \u001b[0;32m/opt/anaconda3/envs/clean_env/lib/python3.9/site-packages/urllib3/connection.py:507\u001b[0m, in \u001b[0;36mHTTPConnection.getresponse\u001b[0;34m(self)\u001b[0m\n\u001b[1;32m    504\u001b[0m \u001b[38;5;28;01mfrom\u001b[39;00m\u001b[38;5;250m \u001b[39m\u001b[38;5;21;01m.\u001b[39;00m\u001b[38;5;21;01mresponse\u001b[39;00m\u001b[38;5;250m \u001b[39m\u001b[38;5;28;01mimport\u001b[39;00m HTTPResponse\n\u001b[1;32m    506\u001b[0m \u001b[38;5;66;03m# Get the response from http.client.HTTPConnection\u001b[39;00m\n\u001b[0;32m--> 507\u001b[0m httplib_response \u001b[38;5;241m=\u001b[39m \u001b[38;5;28;43msuper\u001b[39;49m\u001b[43m(\u001b[49m\u001b[43m)\u001b[49m\u001b[38;5;241;43m.\u001b[39;49m\u001b[43mgetresponse\u001b[49m\u001b[43m(\u001b[49m\u001b[43m)\u001b[49m\n\u001b[1;32m    509\u001b[0m \u001b[38;5;28;01mtry\u001b[39;00m:\n\u001b[1;32m    510\u001b[0m     assert_header_parsing(httplib_response\u001b[38;5;241m.\u001b[39mmsg)\n",
      "File \u001b[0;32m/opt/anaconda3/envs/clean_env/lib/python3.9/http/client.py:1377\u001b[0m, in \u001b[0;36mHTTPConnection.getresponse\u001b[0;34m(self)\u001b[0m\n\u001b[1;32m   1375\u001b[0m \u001b[38;5;28;01mtry\u001b[39;00m:\n\u001b[1;32m   1376\u001b[0m     \u001b[38;5;28;01mtry\u001b[39;00m:\n\u001b[0;32m-> 1377\u001b[0m         \u001b[43mresponse\u001b[49m\u001b[38;5;241;43m.\u001b[39;49m\u001b[43mbegin\u001b[49m\u001b[43m(\u001b[49m\u001b[43m)\u001b[49m\n\u001b[1;32m   1378\u001b[0m     \u001b[38;5;28;01mexcept\u001b[39;00m \u001b[38;5;167;01mConnectionError\u001b[39;00m:\n\u001b[1;32m   1379\u001b[0m         \u001b[38;5;28mself\u001b[39m\u001b[38;5;241m.\u001b[39mclose()\n",
      "File \u001b[0;32m/opt/anaconda3/envs/clean_env/lib/python3.9/http/client.py:320\u001b[0m, in \u001b[0;36mHTTPResponse.begin\u001b[0;34m(self)\u001b[0m\n\u001b[1;32m    318\u001b[0m \u001b[38;5;66;03m# read until we get a non-100 response\u001b[39;00m\n\u001b[1;32m    319\u001b[0m \u001b[38;5;28;01mwhile\u001b[39;00m \u001b[38;5;28;01mTrue\u001b[39;00m:\n\u001b[0;32m--> 320\u001b[0m     version, status, reason \u001b[38;5;241m=\u001b[39m \u001b[38;5;28;43mself\u001b[39;49m\u001b[38;5;241;43m.\u001b[39;49m\u001b[43m_read_status\u001b[49m\u001b[43m(\u001b[49m\u001b[43m)\u001b[49m\n\u001b[1;32m    321\u001b[0m     \u001b[38;5;28;01mif\u001b[39;00m status \u001b[38;5;241m!=\u001b[39m CONTINUE:\n\u001b[1;32m    322\u001b[0m         \u001b[38;5;28;01mbreak\u001b[39;00m\n",
      "File \u001b[0;32m/opt/anaconda3/envs/clean_env/lib/python3.9/http/client.py:281\u001b[0m, in \u001b[0;36mHTTPResponse._read_status\u001b[0;34m(self)\u001b[0m\n\u001b[1;32m    280\u001b[0m \u001b[38;5;28;01mdef\u001b[39;00m\u001b[38;5;250m \u001b[39m\u001b[38;5;21m_read_status\u001b[39m(\u001b[38;5;28mself\u001b[39m):\n\u001b[0;32m--> 281\u001b[0m     line \u001b[38;5;241m=\u001b[39m \u001b[38;5;28mstr\u001b[39m(\u001b[38;5;28;43mself\u001b[39;49m\u001b[38;5;241;43m.\u001b[39;49m\u001b[43mfp\u001b[49m\u001b[38;5;241;43m.\u001b[39;49m\u001b[43mreadline\u001b[49m\u001b[43m(\u001b[49m\u001b[43m_MAXLINE\u001b[49m\u001b[43m \u001b[49m\u001b[38;5;241;43m+\u001b[39;49m\u001b[43m \u001b[49m\u001b[38;5;241;43m1\u001b[39;49m\u001b[43m)\u001b[49m, \u001b[38;5;124m\"\u001b[39m\u001b[38;5;124miso-8859-1\u001b[39m\u001b[38;5;124m\"\u001b[39m)\n\u001b[1;32m    282\u001b[0m     \u001b[38;5;28;01mif\u001b[39;00m \u001b[38;5;28mlen\u001b[39m(line) \u001b[38;5;241m>\u001b[39m _MAXLINE:\n\u001b[1;32m    283\u001b[0m         \u001b[38;5;28;01mraise\u001b[39;00m LineTooLong(\u001b[38;5;124m\"\u001b[39m\u001b[38;5;124mstatus line\u001b[39m\u001b[38;5;124m\"\u001b[39m)\n",
      "File \u001b[0;32m/opt/anaconda3/envs/clean_env/lib/python3.9/socket.py:716\u001b[0m, in \u001b[0;36mSocketIO.readinto\u001b[0;34m(self, b)\u001b[0m\n\u001b[1;32m    714\u001b[0m \u001b[38;5;28;01mwhile\u001b[39;00m \u001b[38;5;28;01mTrue\u001b[39;00m:\n\u001b[1;32m    715\u001b[0m     \u001b[38;5;28;01mtry\u001b[39;00m:\n\u001b[0;32m--> 716\u001b[0m         \u001b[38;5;28;01mreturn\u001b[39;00m \u001b[38;5;28;43mself\u001b[39;49m\u001b[38;5;241;43m.\u001b[39;49m\u001b[43m_sock\u001b[49m\u001b[38;5;241;43m.\u001b[39;49m\u001b[43mrecv_into\u001b[49m\u001b[43m(\u001b[49m\u001b[43mb\u001b[49m\u001b[43m)\u001b[49m\n\u001b[1;32m    717\u001b[0m     \u001b[38;5;28;01mexcept\u001b[39;00m timeout:\n\u001b[1;32m    718\u001b[0m         \u001b[38;5;28mself\u001b[39m\u001b[38;5;241m.\u001b[39m_timeout_occurred \u001b[38;5;241m=\u001b[39m \u001b[38;5;28;01mTrue\u001b[39;00m\n",
      "File \u001b[0;32m/opt/anaconda3/envs/clean_env/lib/python3.9/ssl.py:1275\u001b[0m, in \u001b[0;36mSSLSocket.recv_into\u001b[0;34m(self, buffer, nbytes, flags)\u001b[0m\n\u001b[1;32m   1271\u001b[0m     \u001b[38;5;28;01mif\u001b[39;00m flags \u001b[38;5;241m!=\u001b[39m \u001b[38;5;241m0\u001b[39m:\n\u001b[1;32m   1272\u001b[0m         \u001b[38;5;28;01mraise\u001b[39;00m \u001b[38;5;167;01mValueError\u001b[39;00m(\n\u001b[1;32m   1273\u001b[0m           \u001b[38;5;124m\"\u001b[39m\u001b[38;5;124mnon-zero flags not allowed in calls to recv_into() on \u001b[39m\u001b[38;5;132;01m%s\u001b[39;00m\u001b[38;5;124m\"\u001b[39m \u001b[38;5;241m%\u001b[39m\n\u001b[1;32m   1274\u001b[0m           \u001b[38;5;28mself\u001b[39m\u001b[38;5;241m.\u001b[39m\u001b[38;5;18m__class__\u001b[39m)\n\u001b[0;32m-> 1275\u001b[0m     \u001b[38;5;28;01mreturn\u001b[39;00m \u001b[38;5;28;43mself\u001b[39;49m\u001b[38;5;241;43m.\u001b[39;49m\u001b[43mread\u001b[49m\u001b[43m(\u001b[49m\u001b[43mnbytes\u001b[49m\u001b[43m,\u001b[49m\u001b[43m \u001b[49m\u001b[43mbuffer\u001b[49m\u001b[43m)\u001b[49m\n\u001b[1;32m   1276\u001b[0m \u001b[38;5;28;01melse\u001b[39;00m:\n\u001b[1;32m   1277\u001b[0m     \u001b[38;5;28;01mreturn\u001b[39;00m \u001b[38;5;28msuper\u001b[39m()\u001b[38;5;241m.\u001b[39mrecv_into(buffer, nbytes, flags)\n",
      "File \u001b[0;32m/opt/anaconda3/envs/clean_env/lib/python3.9/ssl.py:1133\u001b[0m, in \u001b[0;36mSSLSocket.read\u001b[0;34m(self, len, buffer)\u001b[0m\n\u001b[1;32m   1131\u001b[0m \u001b[38;5;28;01mtry\u001b[39;00m:\n\u001b[1;32m   1132\u001b[0m     \u001b[38;5;28;01mif\u001b[39;00m buffer \u001b[38;5;129;01mis\u001b[39;00m \u001b[38;5;129;01mnot\u001b[39;00m \u001b[38;5;28;01mNone\u001b[39;00m:\n\u001b[0;32m-> 1133\u001b[0m         \u001b[38;5;28;01mreturn\u001b[39;00m \u001b[38;5;28;43mself\u001b[39;49m\u001b[38;5;241;43m.\u001b[39;49m\u001b[43m_sslobj\u001b[49m\u001b[38;5;241;43m.\u001b[39;49m\u001b[43mread\u001b[49m\u001b[43m(\u001b[49m\u001b[38;5;28;43mlen\u001b[39;49m\u001b[43m,\u001b[49m\u001b[43m \u001b[49m\u001b[43mbuffer\u001b[49m\u001b[43m)\u001b[49m\n\u001b[1;32m   1134\u001b[0m     \u001b[38;5;28;01melse\u001b[39;00m:\n\u001b[1;32m   1135\u001b[0m         \u001b[38;5;28;01mreturn\u001b[39;00m \u001b[38;5;28mself\u001b[39m\u001b[38;5;241m.\u001b[39m_sslobj\u001b[38;5;241m.\u001b[39mread(\u001b[38;5;28mlen\u001b[39m)\n",
      "\u001b[0;31mKeyboardInterrupt\u001b[0m: "
     ]
    }
   ],
   "source": [
    "################################################################################################## Sub 60 days ##########################################################################################\n",
    "\n",
    "table_id = \"ft-customer-analytics.crg_nniu.historical_conversion_users_2023_onwards_60_days_lookback\"\n",
    "\n",
    "attribution_df_all_subs_60 = pd.DataFrame()\n",
    "normalized_removal_effects_all_subs_60 = pd.DataFrame()\n",
    "markov_transition_matrix_all_subs_60 = pd.DataFrame()\n",
    "user_df_all_subs_60 = pd.DataFrame()\n",
    "\n",
    "for current_date in pd.date_range(start_date, end_date, freq=\"D\"):\n",
    "    # Create SQL query for the current date\n",
    "    query = f\"\"\"\n",
    "    SELECT * FROM {table_id}\n",
    "    WHERE DATE(conversion_visit_timestamp) = \"{current_date.strftime('%Y-%m-%d')}\"\n",
    "    \"\"\"\n",
    "    print(f\"Fetching data for {current_date.strftime('%Y-%m-%d')}\")\n",
    "\n",
    "\n",
    "    # Execute the query\n",
    "    query_job = client.query(query)\n",
    "    df = query_job.to_dataframe()\n",
    "\n",
    "    if df.empty:\n",
    "        print(f\"No data for {current_date.strftime('%Y-%m-%d')}\")\n",
    "        continue\n",
    "    \n",
    "    ################################################# Data Cleaning  #########################################\n",
    "    \n",
    "    df[\"original_transaction\"] = df[\"converting_visit\"]\n",
    "    sub_df = df[df[\"conversion_type\"] == \"Subscription\"].drop(columns=[\"conversion_type\"])\n",
    "    \n",
    "    sub_df[\"user_max_date\"] = sub_df.groupby(ids)[date].transform(\"max\")\n",
    "    sub_df[transaction] = 0\n",
    "    sub_df.loc[(sub_df[date] == sub_df[\"user_max_date\"]) & (sub_df[\"original_transaction\"] == 1), transaction] = 1\n",
    "    sub_df.drop(columns=[\"user_max_date\"], inplace=True)\n",
    "    sub_df = sub_df.sort_values([ids, date], ascending=[False, True])\n",
    "    \n",
    "    sub_df[\"run_date\"] = current_date.date()\n",
    "    \n",
    "    ################################################# MAM Initialization #########################################\n",
    "    \n",
    "    try:\n",
    "        # Initialize the MAM class\n",
    "        attributions = MAM(\n",
    "            sub_df,\n",
    "            group_channels=True,\n",
    "            channels_colname=touchpoint,\n",
    "            journey_with_conv_colname=transaction,\n",
    "            group_channels_by_id_list=[ids],\n",
    "            group_timestamp_colname=date,\n",
    "            create_journey_id_based_on_conversion=True,\n",
    "        )\n",
    "    \n",
    "        ################################################# Apply Attribution Models #########################################\n",
    "    \n",
    "        attributions.attribution_last_click()\n",
    "        attributions.attribution_first_click()\n",
    "        attributions.attribution_position_based(\n",
    "            list_positions_first_middle_last=[0.3, 0.3, 0.4]\n",
    "        )\n",
    "        attributions.attribution_time_decay(\n",
    "            decay_over_time=0.6, frequency=7\n",
    "        )  # Frequency in hours\n",
    "        attribution_markov = attributions.attribution_markov(\n",
    "            transition_to_same_state=False\n",
    "        )\n",
    "    \n",
    "        ################################################# Process Results #########################################\n",
    "    \n",
    "        # User-level attribution data\n",
    "        user_df_temp = attributions.as_pd_dataframe()\n",
    "        user_df_temp[\"num_touchpoints\"] = (\n",
    "            user_df_temp[\"channels_agg\"].str.split(\" > \").apply(len)\n",
    "        )\n",
    "        user_df_temp[\"run_date\"] = current_date.date()\n",
    "    \n",
    "        # Extract user_guid from journey_id\n",
    "        user_df_temp['user_guid'] = user_df_temp['journey_id'].str.extract(r'id:(.*)_J:0')[0]\n",
    "    \n",
    "        # Prepare df for merging\n",
    "        df['conversion_visit_timestamp_date'] = df['conversion_visit_timestamp'].dt.date\n",
    "        product_arrangement_df = df[['user_guid', 'conversion_visit_timestamp_date', 'product_arrangement_id']].drop_duplicates()\n",
    "    \n",
    "        # Merge user_df_temp with product_arrangement_df\n",
    "        user_df_temp = user_df_temp.merge(\n",
    "            product_arrangement_df,\n",
    "            left_on=['user_guid', 'run_date'],\n",
    "            right_on=['user_guid', 'conversion_visit_timestamp_date'],\n",
    "            how='left'\n",
    "        )\n",
    "    \n",
    "        # Drop 'conversion_visit_timestamp_date' column after merge\n",
    "        user_df_temp.drop(columns=['conversion_visit_timestamp_date'], inplace=True)\n",
    "    \n",
    "        # Now concatenate user_df_temp into user_df_all_subs_60\n",
    "        user_df_all_subs_60 = pd.concat(\n",
    "            [user_df_all_subs_60, user_df_temp], ignore_index=True\n",
    "        )\n",
    "    \n",
    "        # Markov transition matrix\n",
    "        markov_transition_matrix = attribution_markov[2].round(3)\n",
    "        markov_transition_matrix = markov_transition_matrix.rename(\n",
    "            index=lambda x: x.replace(\"(inicio)\", \"(start)\"),\n",
    "            columns=lambda x: x.replace(\"(inicio)\", \"(start)\"),\n",
    "        )\n",
    "        markov_transition_matrix.reset_index(inplace=True)\n",
    "        markov_transition_matrix = pd.melt(\n",
    "            markov_transition_matrix,\n",
    "            id_vars=\"index\",\n",
    "            var_name=\"destination\",\n",
    "            value_name=\"probability\",\n",
    "        )\n",
    "        markov_transition_matrix.columns = [\"source\", \"destination\", \"probability\"]\n",
    "        markov_transition_matrix[\"run_date\"] = current_date.date()\n",
    "        markov_transition_matrix_all_subs_60 = pd.concat(\n",
    "            [markov_transition_matrix_all_subs_60, markov_transition_matrix],\n",
    "            ignore_index=True,\n",
    "        )\n",
    "    \n",
    "        # Removal effects\n",
    "        removal_effect_matrix = attribution_markov[3].round(3)\n",
    "        channels = removal_effect_matrix.index\n",
    "        removal_effect_values = removal_effect_matrix[[\"removal_effect\"]]\n",
    "        normalized_values = (removal_effect_values / removal_effect_values.sum()) * 100\n",
    "        normalized_removal_effects = pd.DataFrame(\n",
    "            normalized_values, index=channels, columns=[\"removal_effect\"]\n",
    "        )\n",
    "        normalized_removal_effects[\"run_date\"] = current_date.date()\n",
    "        normalized_removal_effects[\"removal_effect_raw\"] = (\n",
    "            removal_effect_values.values.flatten()\n",
    "        )\n",
    "        normalized_removal_effects.reset_index(inplace=True)\n",
    "        normalized_removal_effects.rename(columns={\"index\": \"channel\"}, inplace=True)\n",
    "        normalized_removal_effects_all_subs_60 = pd.concat(\n",
    "            [normalized_removal_effects_all_subs_60, normalized_removal_effects],\n",
    "            ignore_index=True,\n",
    "        )\n",
    "    \n",
    "        # Attribution by channels and models\n",
    "        attribution_df = attributions.group_by_channels_models\n",
    "        attribution_df[\"run_date\"] = current_date.date()\n",
    "        attribution_df.columns = attribution_df.columns.str.replace(\n",
    "            \".\", \"_\", regex=False\n",
    "        ).str.replace(\" \", \"_\", regex=False)\n",
    "        attribution_df_all_subs_60 = pd.concat(\n",
    "            [attribution_df_all_subs_60, attribution_df], ignore_index=True\n",
    "        )\n",
    "    \n",
    "        print(f\"Processed data for {current_date.strftime('%Y-%m-%d')}\")\n",
    "    \n",
    "    except Exception as e:\n",
    "        print(\n",
    "            f\"An error occurred for the date {current_date.strftime('%Y-%m-%d')}: {e}\"\n",
    "        )\n",
    "        continue\n",
    "\n",
    "################################################# Finalize Results #########################################\n",
    "\n",
    "# Update the conversion window to 60\n",
    "attribution_df_all_subs_60[\"conversion_window\"] = 60\n",
    "normalized_removal_effects_all_subs_60[\"conversion_window\"] = 60\n",
    "markov_transition_matrix_all_subs_60[\"conversion_window\"] = 60\n",
    "user_df_all_subs_60[\"conversion_window\"] = 60\n",
    "\n",
    "attribution_df_all_subs_60[\"conversion_type\"] = \"Subscription\"\n",
    "normalized_removal_effects_all_subs_60[\"conversion_type\"] = \"Subscription\"\n",
    "markov_transition_matrix_all_subs_60[\"conversion_type\"] = \"Subscription\"\n",
    "user_df_all_subs_60[\"conversion_type\"] = \"Subscription\"\n",
    "\n"
   ]
  },
  {
   "cell_type": "code",
   "execution_count": null,
   "metadata": {},
   "outputs": [],
   "source": [
    "attribution_df_all_subs_60.to_csv(\"attribution_df_all_subs_60.csv\", index=False)\n",
    "normalized_removal_effects_all_subs_60.to_csv(\"normalized_removal_effects_all_subs_60.csv\", index=False)\n",
    "markov_transition_matrix_all_subs_60.to_csv(\"markov_transition_matrix_all_subs_60.csv\", index=False)\n",
    "user_df_all_subs_60.to_csv(\"user_df_all_subs_60.csv\", index=False)"
   ]
  },
  {
   "cell_type": "code",
   "execution_count": null,
   "metadata": {},
   "outputs": [],
   "source": [
    "################################################################################################## Sub 30 days ##########################################################################################\n",
    "\n",
    "table_id = \"ft-customer-analytics.crg_nniu.historical_conversion_users_2023_onwards_30_days_lookback\"\n",
    "\n",
    "attribution_df_all_subs_30 = pd.DataFrame()\n",
    "normalized_removal_effects_all_subs_30 = pd.DataFrame()\n",
    "markov_transition_matrix_all_subs_30 = pd.DataFrame()\n",
    "user_df_all_subs_30 = pd.DataFrame()\n",
    "\n",
    "for current_date in pd.date_range(start_date, end_date, freq=\"D\"):\n",
    "    # Create SQL query for the current date\n",
    "    query = f\"\"\"\n",
    "    SELECT * FROM {table_id}\n",
    "    WHERE DATE(conversion_visit_timestamp) = \"{current_date.strftime('%Y-%m-%d')}\"\n",
    "    \"\"\"\n",
    "    print(f\"Fetching data for {current_date.strftime('%Y-%m-%d')}\")\n",
    "\n",
    "\n",
    "    # Execute the query\n",
    "    query_job = client.query(query)\n",
    "    df = query_job.to_dataframe()\n",
    "\n",
    "    if df.empty:\n",
    "        print(f\"No data for {current_date.strftime('%Y-%m-%d')}\")\n",
    "        continue\n",
    "    \n",
    "    ################################################# Data Cleaning  #########################################\n",
    "    \n",
    "    df[\"original_transaction\"] = df[\"converting_visit\"]\n",
    "    sub_df = df[df[\"conversion_type\"] == \"Subscription\"].drop(columns=[\"conversion_type\"])\n",
    "    \n",
    "    sub_df[\"user_max_date\"] = sub_df.groupby(ids)[date].transform(\"max\")\n",
    "    sub_df[transaction] = 0\n",
    "    sub_df.loc[(sub_df[date] == sub_df[\"user_max_date\"]) & (sub_df[\"original_transaction\"] == 1), transaction] = 1\n",
    "    sub_df.drop(columns=[\"user_max_date\"], inplace=True)\n",
    "    sub_df = sub_df.sort_values([ids, date], ascending=[False, True])\n",
    "    \n",
    "    sub_df[\"run_date\"] = current_date.date()\n",
    "    \n",
    "    ################################################# MAM Initialization #########################################\n",
    "    \n",
    "    try:\n",
    "        # Initialize the MAM class\n",
    "        attributions = MAM(\n",
    "            sub_df,\n",
    "            group_channels=True,\n",
    "            channels_colname=touchpoint,\n",
    "            journey_with_conv_colname=transaction,\n",
    "            group_channels_by_id_list=[ids],\n",
    "            group_timestamp_colname=date,\n",
    "            create_journey_id_based_on_conversion=True,\n",
    "        )\n",
    "    \n",
    "        ################################################# Apply Attribution Models #########################################\n",
    "    \n",
    "        attributions.attribution_last_click()\n",
    "        attributions.attribution_first_click()\n",
    "        attributions.attribution_position_based(\n",
    "            list_positions_first_middle_last=[0.3, 0.3, 0.4]\n",
    "        )\n",
    "        attributions.attribution_time_decay(\n",
    "            decay_over_time=0.6, frequency=7\n",
    "        )  # Frequency in hours\n",
    "        attribution_markov = attributions.attribution_markov(\n",
    "            transition_to_same_state=False\n",
    "        )\n",
    "    \n",
    "        ################################################# Process Results #########################################\n",
    "    \n",
    "       # User-level attribution data\n",
    "        user_df_temp = attributions.as_pd_dataframe()\n",
    "        user_df_temp[\"num_touchpoints\"] = (\n",
    "            user_df_temp[\"channels_agg\"].str.split(\" > \").apply(len)\n",
    "        )\n",
    "        user_df_temp[\"run_date\"] = current_date.date()\n",
    "    \n",
    "        # Extract user_guid from journey_id\n",
    "        user_df_temp['user_guid'] = user_df_temp['journey_id'].str.extract(r'id:(.*)_J:0')[0]\n",
    "    \n",
    "        # Prepare df for merging\n",
    "        df['conversion_visit_timestamp_date'] = df['conversion_visit_timestamp'].dt.date\n",
    "        product_arrangement_df = df[['user_guid', 'conversion_visit_timestamp_date', 'product_arrangement_id']].drop_duplicates()\n",
    "    \n",
    "        # Merge user_df_temp with product_arrangement_df\n",
    "        user_df_temp = user_df_temp.merge(\n",
    "            product_arrangement_df,\n",
    "            left_on=['user_guid', 'run_date'],\n",
    "            right_on=['user_guid', 'conversion_visit_timestamp_date'],\n",
    "            how='left'\n",
    "        )\n",
    "    \n",
    "        # Drop 'conversion_visit_timestamp_date' column after merge\n",
    "        user_df_temp.drop(columns=['conversion_visit_timestamp_date'], inplace=True)\n",
    "    \n",
    "        # Now concatenate user_df_temp into user_df_all_subs_30\n",
    "        user_df_all_subs_30 = pd.concat(\n",
    "            [user_df_all_subs_30, user_df_temp], ignore_index=True\n",
    "        )\n",
    "    \n",
    "        # Markov transition matrix\n",
    "        markov_transition_matrix = attribution_markov[2].round(3)\n",
    "        markov_transition_matrix = markov_transition_matrix.rename(\n",
    "            index=lambda x: x.replace(\"(inicio)\", \"(start)\"),\n",
    "            columns=lambda x: x.replace(\"(inicio)\", \"(start)\"),\n",
    "        )\n",
    "        markov_transition_matrix.reset_index(inplace=True)\n",
    "        markov_transition_matrix = pd.melt(\n",
    "            markov_transition_matrix,\n",
    "            id_vars=\"index\",\n",
    "            var_name=\"destination\",\n",
    "            value_name=\"probability\",\n",
    "        )\n",
    "        markov_transition_matrix.columns = [\"source\", \"destination\", \"probability\"]\n",
    "        markov_transition_matrix[\"run_date\"] = current_date.date()\n",
    "        markov_transition_matrix_all_subs_30 = pd.concat(\n",
    "            [markov_transition_matrix_all_subs_30, markov_transition_matrix],\n",
    "            ignore_index=True,\n",
    "        )\n",
    "    \n",
    "        # Removal effects\n",
    "        removal_effect_matrix = attribution_markov[3].round(3)\n",
    "        channels = removal_effect_matrix.index\n",
    "        removal_effect_values = removal_effect_matrix[[\"removal_effect\"]]\n",
    "        normalized_values = (removal_effect_values / removal_effect_values.sum()) * 100\n",
    "        normalized_removal_effects = pd.DataFrame(\n",
    "            normalized_values, index=channels, columns=[\"removal_effect\"]\n",
    "        )\n",
    "        normalized_removal_effects[\"run_date\"] = current_date.date()\n",
    "        normalized_removal_effects[\"removal_effect_raw\"] = (\n",
    "            removal_effect_values.values.flatten()\n",
    "        )\n",
    "        normalized_removal_effects.reset_index(inplace=True)\n",
    "        normalized_removal_effects.rename(columns={\"index\": \"channel\"}, inplace=True)\n",
    "        normalized_removal_effects_all_subs_30 = pd.concat(\n",
    "            [normalized_removal_effects_all_subs_30, normalized_removal_effects],\n",
    "            ignore_index=True,\n",
    "        )\n",
    "    \n",
    "        # Attribution by channels and models\n",
    "        attribution_df = attributions.group_by_channels_models\n",
    "        attribution_df[\"run_date\"] = current_date.date()\n",
    "        attribution_df.columns = attribution_df.columns.str.replace(\n",
    "            \".\", \"_\", regex=False\n",
    "        ).str.replace(\" \", \"_\", regex=False)\n",
    "        attribution_df_all_subs_30 = pd.concat(\n",
    "            [attribution_df_all_subs_30, attribution_df], ignore_index=True\n",
    "        )\n",
    "    \n",
    "        print(f\"Processed data for {current_date.strftime('%Y-%m-%d')}\")\n",
    "    \n",
    "    except Exception as e:\n",
    "        print(\n",
    "            f\"An error occurred for the date {current_date.strftime('%Y-%m-%d')}: {e}\"\n",
    "        )\n",
    "        continue\n",
    "\n",
    "################################################# Finalize Results #########################################\n",
    "\n",
    "# Update the conversion window to 60\n",
    "attribution_df_all_subs_30[\"conversion_window\"] = 30\n",
    "normalized_removal_effects_all_subs_30[\"conversion_window\"] = 30\n",
    "markov_transition_matrix_all_subs_30[\"conversion_window\"] = 30\n",
    "user_df_all_subs_30[\"conversion_window\"] = 30\n",
    "\n",
    "attribution_df_all_subs_30[\"conversion_type\"] = \"Subscription\"\n",
    "normalized_removal_effects_all_subs_30[\"conversion_type\"] = \"Subscription\"\n",
    "markov_transition_matrix_all_subs_30[\"conversion_type\"] = \"Subscription\"\n",
    "user_df_all_subs_30[\"conversion_type\"] = \"Subscription\"\n",
    "\n"
   ]
  },
  {
   "cell_type": "code",
   "execution_count": null,
   "metadata": {},
   "outputs": [],
   "source": [
    "attribution_df_all_subs_30.to_csv(\"attribution_df_all_subs_30.csv\", index=False)\n",
    "normalized_removal_effects_all_subs_30.to_csv(\"normalized_removal_effects_all_subs_30.csv\", index=False)\n",
    "markov_transition_matrix_all_subs_30.to_csv(\"markov_transition_matrix_all_subs_30.csv\", index=False)\n",
    "user_df_all_subs_30.to_csv(\"user_df_all_subs_30.csv\", index=False)"
   ]
  },
  {
   "cell_type": "code",
   "execution_count": null,
   "metadata": {},
   "outputs": [],
   "source": [
    "############################################################################################## Merge subs ##########################################################################################\n",
    "suffixes = ['30', '60', '90']\n",
    "\n",
    "attribution_dfs = [globals()[f'attribution_df_all_subs_{suffix}'] for suffix in suffixes]\n",
    "attribution_df_all_subs = pd.concat(attribution_dfs, ignore_index=True)\n",
    "\n",
    "removal_effects_dfs = [globals()[f'normalized_removal_effects_all_subs_{suffix}'] for suffix in suffixes]\n",
    "normalized_removal_effects_all_subs = pd.concat(removal_effects_dfs, ignore_index=True)\n",
    "\n",
    "markov_transition_dfs = [globals()[f'markov_transition_matrix_all_subs_{suffix}'] for suffix in suffixes]\n",
    "markov_transition_matrix_all_subs = pd.concat(markov_transition_dfs, ignore_index=True)\n",
    "\n",
    "user_dfs = [globals()[f'user_df_all_subs_{suffix}'] for suffix in suffixes]\n",
    "user_df_all_subs = pd.concat(user_dfs, ignore_index=True)\n",
    "\n",
    "user_df_all_subs['num_touchpoints'] = user_df_all_subs['channels_agg'].str.split(' > ').apply(len)\n",
    "user_df_all_subs[\"conversion_type\"] = \"Subscription\"\n",
    "markov_transition_matrix_all_subs[\"conversion_type\"] = \"Subscription\"\n",
    "normalized_removal_effects_all_subs[\"conversion_type\"] = \"Subscription\"\n",
    "attribution_df_all_subs[\"conversion_type\"] = \"Subscription\"\n",
    "\n",
    "# del attribution_df_all_subs_30\n",
    "# del normalized_removal_effects_all_subs_30\n",
    "# del markov_transition_matrix_all_subs_30\n",
    "# del user_df_all_subs_30\n",
    "\n",
    "# del attribution_df_all_subs_60\n",
    "# del normalized_removal_effects_all_subs_60\n",
    "# del markov_transition_matrix_all_subs_60\n",
    "# del user_df_all_subs_60\n",
    "\n",
    "# del attribution_df_all_subs_90\n",
    "# del normalized_removal_effects_all_subs_90\n",
    "# del markov_transition_matrix_all_subs_90\n",
    "# del user_df_all_subs_90\n",
    "# gc.collect()"
   ]
  },
  {
   "cell_type": "code",
   "execution_count": null,
   "metadata": {},
   "outputs": [],
   "source": [
    "############################################################################################## Trial 90 days ##########################################################################################\n",
    "table_id = \"ft-customer-analytics.crg_nniu.historical_conversion_users_2023_onwards_90_days_lookback\"\n",
    "\n",
    "attribution_df_all_trial_90 = pd.DataFrame()\n",
    "normalized_removal_effects_all_trial_90 = pd.DataFrame()\n",
    "markov_transition_matrix_all_trial_90 = pd.DataFrame()\n",
    "user_df_all_trial_90 = pd.DataFrame()\n",
    "conversion_window_df_trial = pd.DataFrame()\n",
    "\n",
    "for current_date in pd.date_range(start_date, end_date, freq=\"D\"):\n",
    "    # Create SQL query for the current date\n",
    "    query = f\"\"\"\n",
    "    SELECT * FROM {table_id}\n",
    "    WHERE DATE(conversion_visit_timestamp) = \"{current_date.strftime('%Y-%m-%d')}\"\n",
    "    \"\"\"\n",
    "    print(f\"Fetching data for {current_date.strftime('%Y-%m-%d')}\")\n",
    "\n",
    "\n",
    "    # Execute the query\n",
    "    query_job = client.query(query)\n",
    "    df = query_job.to_dataframe()\n",
    "\n",
    "    if df.empty:\n",
    "        print(f\"No data for {current_date.strftime('%Y-%m-%d')}\")\n",
    "        continue\n",
    "    \n",
    "    ################################################# Data Cleaning  #########################################\n",
    "    \n",
    "    df[\"original_transaction\"] = df[\"converting_visit\"]\n",
    "    trial_df = df[df[\"conversion_type\"] == \"Trial\"].drop(columns=[\"conversion_type\"])\n",
    "\n",
    "    trial_df[\"user_max_date\"] = trial_df.groupby(ids)[date].transform(\"max\")\n",
    "    trial_df[transaction] = 0\n",
    "    trial_df.loc[(trial_df[date] == trial_df[\"user_max_date\"]) & (trial_df[\"original_transaction\"] == 1), transaction] = 1\n",
    "    trial_df.drop(columns=[\"user_max_date\"], inplace=True)\n",
    "    trial_df = trial_df.sort_values([ids, date], ascending=[False, True])\n",
    "\n",
    "    trial_df[\"run_date\"] = current_date.date()\n",
    "\n",
    "    ################################################# Median day calculation #########################################\n",
    "    \n",
    "    # Initialize a list to store each user's median time to subscribe\n",
    "    user_median_days = []\n",
    "\n",
    "    # Calculate the median days for each user\n",
    "    for user_guid, user_data in trial_df.groupby(ids):\n",
    "        # Find the earliest visit where transaction = 0 (initial visit)\n",
    "        first_visit = user_data[user_data[transaction] == 0][date].min()\n",
    "\n",
    "        # If no valid first visit is found, skip this user\n",
    "        if pd.isnull(first_visit):\n",
    "            continue\n",
    "\n",
    "        # Find the conversion date (transaction = 1)\n",
    "        conversion_date = user_data[user_data[transaction] == 1][date].min()\n",
    "\n",
    "        # Calculate the time difference in days\n",
    "        if pd.notnull(conversion_date):\n",
    "            days_to_convert = (conversion_date - first_visit).days\n",
    "            user_median_days.append(days_to_convert)\n",
    "\n",
    "    # Calculate the median of the user's conversion times\n",
    "    if user_median_days:\n",
    "        median_days_to_subscribe = pd.Series(user_median_days).median()\n",
    "    else:\n",
    "        median_days_to_subscribe = None  # If no data, set median as None\n",
    "\n",
    "    # Add the calculated median days and run date to the output DataFrame\n",
    "    conversion_window_df_trial = pd.concat(\n",
    "        [\n",
    "            conversion_window_df_trial,\n",
    "            pd.DataFrame(\n",
    "                {\n",
    "                    \"stage\": [\"trial\"],\n",
    "                    \"median_days\": [median_days_to_subscribe],\n",
    "                    \"run_date\": [current_date.date()],\n",
    "                }\n",
    "            ),\n",
    "        ],\n",
    "        ignore_index=True,\n",
    "    )\n",
    "    \n",
    "    ################################################# MAM Initialization #########################################\n",
    "    \n",
    "    try:\n",
    "        # Initialize the MAM class\n",
    "        attributions = MAM(\n",
    "            trial_df,\n",
    "            group_channels=True,\n",
    "            channels_colname=touchpoint,\n",
    "            journey_with_conv_colname=transaction,\n",
    "            group_channels_by_id_list=[ids],\n",
    "            group_timestamp_colname=date,\n",
    "            create_journey_id_based_on_conversion=True,\n",
    "        )\n",
    "\n",
    "        ################################################# Apply Attribution Models #########################################\n",
    "\n",
    "        attributions.attribution_last_click()\n",
    "        attributions.attribution_first_click()\n",
    "        attributions.attribution_position_based(\n",
    "            list_positions_first_middle_last=[0.3, 0.3, 0.4]\n",
    "        )\n",
    "        attributions.attribution_time_decay(\n",
    "            decay_over_time=0.6, frequency=7\n",
    "        )  # Frequency in hours\n",
    "        attribution_markov = attributions.attribution_markov(\n",
    "            transition_to_same_state=False\n",
    "        )\n",
    "\n",
    "        ################################################# Process Results #########################################\n",
    "\n",
    "        # User-level attribution data\n",
    "        user_df_temp = attributions.as_pd_dataframe()\n",
    "        user_df_temp[\"num_touchpoints\"] = (\n",
    "            user_df_temp[\"channels_agg\"].str.split(\" > \").apply(len)\n",
    "        )\n",
    "        user_df_temp[\"run_date\"] = current_date.date()\n",
    "\n",
    "        # Extract user_guid from journey_id\n",
    "        user_df_temp['user_guid'] = user_df_temp['journey_id'].str.extract(r'id:(.*)_J:0')[0]\n",
    "\n",
    "        # Prepare df for merging\n",
    "        df['conversion_visit_timestamp_date'] = df['conversion_visit_timestamp'].dt.date\n",
    "        product_arrangement_df = df[['user_guid', 'conversion_visit_timestamp_date', 'product_arrangement_id']].drop_duplicates()\n",
    "\n",
    "        # Merge user_df_temp with product_arrangement_df\n",
    "        user_df_temp = user_df_temp.merge(\n",
    "            product_arrangement_df,\n",
    "            left_on=['user_guid', 'run_date'],\n",
    "            right_on=['user_guid', 'conversion_visit_timestamp_date'],\n",
    "            how='left'\n",
    "        )\n",
    "\n",
    "        # Drop 'conversion_visit_timestamp_date' column after merge\n",
    "        user_df_temp.drop(columns=['conversion_visit_timestamp_date'], inplace=True)\n",
    "\n",
    "        # Now concatenate user_df_temp into user_df_all_trial_90\n",
    "        user_df_all_trial_90 = pd.concat(\n",
    "            [user_df_all_trial_90, user_df_temp], ignore_index=True\n",
    "        )\n",
    "\n",
    "        # Markov transition matrix\n",
    "        markov_transition_matrix = attribution_markov[2].round(3)\n",
    "        markov_transition_matrix = markov_transition_matrix.rename(\n",
    "            index=lambda x: x.replace(\"(inicio)\", \"(start)\"),\n",
    "            columns=lambda x: x.replace(\"(inicio)\", \"(start)\"),\n",
    "        )\n",
    "        markov_transition_matrix.reset_index(inplace=True)\n",
    "        markov_transition_matrix = pd.melt(\n",
    "            markov_transition_matrix,\n",
    "            id_vars=\"index\",\n",
    "            var_name=\"destination\",\n",
    "            value_name=\"probability\",\n",
    "        )\n",
    "        markov_transition_matrix.columns = [\"source\", \"destination\", \"probability\"]\n",
    "        markov_transition_matrix[\"run_date\"] = current_date.date()\n",
    "        markov_transition_matrix_all_trial_90 = pd.concat(\n",
    "            [markov_transition_matrix_all_trial_90, markov_transition_matrix],\n",
    "            ignore_index=True,\n",
    "        )\n",
    "\n",
    "        # Removal effects\n",
    "        removal_effect_matrix = attribution_markov[3].round(3)\n",
    "        channels = removal_effect_matrix.index\n",
    "        removal_effect_values = removal_effect_matrix[[\"removal_effect\"]]\n",
    "        normalized_values = (removal_effect_values / removal_effect_values.sum()) * 100\n",
    "        normalized_removal_effects = pd.DataFrame(\n",
    "            normalized_values, index=channels, columns=[\"removal_effect\"]\n",
    "        )\n",
    "        normalized_removal_effects[\"run_date\"] = current_date.date()\n",
    "        normalized_removal_effects[\"removal_effect_raw\"] = (\n",
    "            removal_effect_values.values.flatten()\n",
    "        )\n",
    "        normalized_removal_effects.reset_index(inplace=True)\n",
    "        normalized_removal_effects.rename(columns={\"index\": \"channel\"}, inplace=True)\n",
    "        normalized_removal_effects_all_trial_90 = pd.concat(\n",
    "            [normalized_removal_effects_all_trial_90, normalized_removal_effects],\n",
    "            ignore_index=True,\n",
    "        )\n",
    "\n",
    "        # Attribution by channels and models\n",
    "        attribution_df = attributions.group_by_channels_models\n",
    "        attribution_df[\"run_date\"] = current_date.date()\n",
    "        attribution_df.columns = attribution_df.columns.str.replace(\n",
    "            \".\", \"_\", regex=False\n",
    "        ).str.replace(\" \", \"_\", regex=False)\n",
    "        attribution_df_all_trial_90 = pd.concat(\n",
    "            [attribution_df_all_trial_90, attribution_df], ignore_index=True\n",
    "        )\n",
    "\n",
    "        print(f\"Processed data for {current_date.strftime('%Y-%m-%d')}\")\n",
    "\n",
    "    except Exception as e:\n",
    "        print(\n",
    "            f\"An error occurred for the date {current_date.strftime('%Y-%m-%d')}: {e}\"\n",
    "        )\n",
    "        continue\n",
    "\n",
    "################################################# Finalize Results #########################################\n",
    "\n",
    "attribution_df_all_trial_90[\"conversion_window\"] = 90\n",
    "normalized_removal_effects_all_trial_90[\"conversion_window\"] = 90\n",
    "markov_transition_matrix_all_trial_90[\"conversion_window\"] = 90\n",
    "user_df_all_trial_90[\"conversion_window\"] = 90\n",
    "\n",
    "attribution_df_all_trial_90[\"conversion_type\"] = \"Trial\"\n",
    "normalized_removal_effects_all_trial_90[\"conversion_type\"] = \"Trial\"\n",
    "markov_transition_matrix_all_trial_90[\"conversion_type\"] = \"Trial\"\n",
    "user_df_all_trial_90[\"conversion_type\"] = \"Trial\"\n"
   ]
  },
  {
   "cell_type": "code",
   "execution_count": null,
   "metadata": {},
   "outputs": [],
   "source": [
    "attribution_df_all_trial_90.to_csv(\"attribution_df_all_trial_90.csv\", index=False)\n",
    "normalized_removal_effects_all_trial_90.to_csv(\"normalized_removal_effects_all_trial_90.csv\", index=False)\n",
    "markov_transition_matrix_all_trial_90.to_csv(\"markov_transition_matrix_all_trial_90.csv\", index=False)\n",
    "user_df_all_trial_90.to_csv(\"user_df_all_trial_90.csv\", index=False)"
   ]
  },
  {
   "cell_type": "code",
   "execution_count": null,
   "metadata": {},
   "outputs": [],
   "source": [
    "############################################################################################## Trial 60 days ##########################################################################################\n",
    "table_id = \"ft-customer-analytics.crg_nniu.historical_conversion_users_2023_onwards_60_days_lookback\"\n",
    "\n",
    "attribution_df_all_trial_60 = pd.DataFrame()\n",
    "normalized_removal_effects_all_trial_60 = pd.DataFrame()\n",
    "markov_transition_matrix_all_trial_60 = pd.DataFrame()\n",
    "user_df_all_trial_60 = pd.DataFrame()\n",
    "\n",
    "for current_date in pd.date_range(start_date, end_date, freq=\"D\"):\n",
    "    # Create SQL query for the current date\n",
    "    query = f\"\"\"\n",
    "    SELECT * FROM {table_id}\n",
    "    WHERE DATE(conversion_visit_timestamp) = \"{current_date.strftime('%Y-%m-%d')}\"\n",
    "    \"\"\"\n",
    "    print(f\"Fetching data for {current_date.strftime('%Y-%m-%d')}\")\n",
    "\n",
    "\n",
    "    # Execute the query\n",
    "    query_job = client.query(query)\n",
    "    df = query_job.to_dataframe()\n",
    "\n",
    "    if df.empty:\n",
    "        print(f\"No data for {current_date.strftime('%Y-%m-%d')}\")\n",
    "        continue\n",
    "    \n",
    "    ################################################# Data Cleaning  #########################################\n",
    "    \n",
    "    df[\"original_transaction\"] = df[\"converting_visit\"]\n",
    "    trial_df = df[df[\"conversion_type\"] == \"Trial\"].drop(columns=[\"conversion_type\"])\n",
    "\n",
    "    trial_df[\"user_max_date\"] = trial_df.groupby(ids)[date].transform(\"max\")\n",
    "    trial_df[transaction] = 0\n",
    "    trial_df.loc[(trial_df[date] == trial_df[\"user_max_date\"]) & (trial_df[\"original_transaction\"] == 1), transaction] = 1\n",
    "    trial_df.drop(columns=[\"user_max_date\"], inplace=True)\n",
    "    trial_df = trial_df.sort_values([ids, date], ascending=[False, True])\n",
    "\n",
    "    trial_df[\"run_date\"] = current_date.date()\n",
    "    \n",
    "    ################################################# MAM Initialization #########################################\n",
    "    \n",
    "    try:\n",
    "        # Initialize the MAM class\n",
    "        attributions = MAM(\n",
    "            trial_df,\n",
    "            group_channels=True,\n",
    "            channels_colname=touchpoint,\n",
    "            journey_with_conv_colname=transaction,\n",
    "            group_channels_by_id_list=[ids],\n",
    "            group_timestamp_colname=date,\n",
    "            create_journey_id_based_on_conversion=True,\n",
    "        )\n",
    "\n",
    "        ################################################# Apply Attribution Models #########################################\n",
    "\n",
    "        attributions.attribution_last_click()\n",
    "        attributions.attribution_first_click()\n",
    "        attributions.attribution_position_based(\n",
    "            list_positions_first_middle_last=[0.3, 0.3, 0.4]\n",
    "        )\n",
    "        attributions.attribution_time_decay(\n",
    "            decay_over_time=0.6, frequency=7\n",
    "        )  # Frequency in hours\n",
    "        attribution_markov = attributions.attribution_markov(\n",
    "            transition_to_same_state=False\n",
    "        )\n",
    "\n",
    "        ################################################# Process Results #########################################\n",
    "\n",
    "        # User-level attribution data\n",
    "        user_df_temp = attributions.as_pd_dataframe()\n",
    "        user_df_temp[\"num_touchpoints\"] = (\n",
    "            user_df_temp[\"channels_agg\"].str.split(\" > \").apply(len)\n",
    "        )\n",
    "        user_df_temp[\"run_date\"] = current_date.date()\n",
    "\n",
    "        # Extract user_guid from journey_id\n",
    "        user_df_temp['user_guid'] = user_df_temp['journey_id'].str.extract(r'id:(.*)_J:0')[0]\n",
    "\n",
    "        # Prepare df for merging\n",
    "        df['conversion_visit_timestamp_date'] = df['conversion_visit_timestamp'].dt.date\n",
    "        product_arrangement_df = df[['user_guid', 'conversion_visit_timestamp_date', 'product_arrangement_id']].drop_duplicates()\n",
    "\n",
    "        # Merge user_df_temp with product_arrangement_df\n",
    "        user_df_temp = user_df_temp.merge(\n",
    "            product_arrangement_df,\n",
    "            left_on=['user_guid', 'run_date'],\n",
    "            right_on=['user_guid', 'conversion_visit_timestamp_date'],\n",
    "            how='left'\n",
    "        )\n",
    "\n",
    "        # Drop 'conversion_visit_timestamp_date' column after merge\n",
    "        user_df_temp.drop(columns=['conversion_visit_timestamp_date'], inplace=True)\n",
    "\n",
    "        # Now concatenate user_df_temp into user_df_all_trial_60\n",
    "        user_df_all_trial_60 = pd.concat(\n",
    "            [user_df_all_trial_60, user_df_temp], ignore_index=True\n",
    "        )\n",
    "\n",
    "        # Markov transition matrix\n",
    "        markov_transition_matrix = attribution_markov[2].round(3)\n",
    "        markov_transition_matrix = markov_transition_matrix.rename(\n",
    "            index=lambda x: x.replace(\"(inicio)\", \"(start)\"),\n",
    "            columns=lambda x: x.replace(\"(inicio)\", \"(start)\"),\n",
    "        )\n",
    "        markov_transition_matrix.reset_index(inplace=True)\n",
    "        markov_transition_matrix = pd.melt(\n",
    "            markov_transition_matrix,\n",
    "            id_vars=\"index\",\n",
    "            var_name=\"destination\",\n",
    "            value_name=\"probability\",\n",
    "        )\n",
    "        markov_transition_matrix.columns = [\"source\", \"destination\", \"probability\"]\n",
    "        markov_transition_matrix[\"run_date\"] = current_date.date()\n",
    "        markov_transition_matrix_all_trial_60 = pd.concat(\n",
    "            [markov_transition_matrix_all_trial_60, markov_transition_matrix],\n",
    "            ignore_index=True,\n",
    "        )\n",
    "\n",
    "        # Removal effects\n",
    "        removal_effect_matrix = attribution_markov[3].round(3)\n",
    "        channels = removal_effect_matrix.index\n",
    "        removal_effect_values = removal_effect_matrix[[\"removal_effect\"]]\n",
    "        normalized_values = (removal_effect_values / removal_effect_values.sum()) * 100\n",
    "        normalized_removal_effects = pd.DataFrame(\n",
    "            normalized_values, index=channels, columns=[\"removal_effect\"]\n",
    "        )\n",
    "        normalized_removal_effects[\"run_date\"] = current_date.date()\n",
    "        normalized_removal_effects[\"removal_effect_raw\"] = (\n",
    "            removal_effect_values.values.flatten()\n",
    "        )\n",
    "        normalized_removal_effects.reset_index(inplace=True)\n",
    "        normalized_removal_effects.rename(columns={\"index\": \"channel\"}, inplace=True)\n",
    "        normalized_removal_effects_all_trial_60 = pd.concat(\n",
    "            [normalized_removal_effects_all_trial_60, normalized_removal_effects],\n",
    "            ignore_index=True,\n",
    "        )\n",
    "\n",
    "        # Attribution by channels and models\n",
    "        attribution_df = attributions.group_by_channels_models\n",
    "        attribution_df[\"run_date\"] = current_date.date()\n",
    "        attribution_df.columns = attribution_df.columns.str.replace(\n",
    "            \".\", \"_\", regex=False\n",
    "        ).str.replace(\" \", \"_\", regex=False)\n",
    "        attribution_df_all_trial_60 = pd.concat(\n",
    "            [attribution_df_all_trial_60, attribution_df], ignore_index=True\n",
    "        )\n",
    "\n",
    "        print(f\"Processed data for {current_date.strftime('%Y-%m-%d')}\")\n",
    "\n",
    "    except Exception as e:\n",
    "        print(\n",
    "            f\"An error occurred for the date {current_date.strftime('%Y-%m-%d')}: {e}\"\n",
    "        )\n",
    "        continue\n",
    "\n",
    "################################################# Finalize Results #########################################\n",
    "\n",
    "attribution_df_all_trial_60[\"conversion_window\"] = 60\n",
    "normalized_removal_effects_all_trial_60[\"conversion_window\"] = 60\n",
    "markov_transition_matrix_all_trial_60[\"conversion_window\"] = 60\n",
    "user_df_all_trial_60[\"conversion_window\"] = 60\n",
    "\n",
    "attribution_df_all_trial_60[\"conversion_type\"] = \"Trial\"\n",
    "normalized_removal_effects_all_trial_60[\"conversion_type\"] = \"Trial\"\n",
    "markov_transition_matrix_all_trial_60[\"conversion_type\"] = \"Trial\"\n",
    "user_df_all_trial_60[\"conversion_type\"] = \"Trial\"\n",
    "\n"
   ]
  },
  {
   "cell_type": "code",
   "execution_count": null,
   "metadata": {},
   "outputs": [],
   "source": [
    "attribution_df_all_trial_60.to_csv(\"attribution_df_all_trial_60.csv\", index=False)\n",
    "normalized_removal_effects_all_trial_60.to_csv(\"normalized_removal_effects_all_trial_60.csv\", index=False)\n",
    "markov_transition_matrix_all_trial_60.to_csv(\"markov_transition_matrix_all_trial_60.csv\", index=False)\n",
    "user_df_all_trial_60.to_csv(\"user_df_all_trial_60.csv\", index=False)"
   ]
  },
  {
   "cell_type": "code",
   "execution_count": null,
   "metadata": {},
   "outputs": [],
   "source": [
    "############################################################################################## Trial 30 days ##########################################################################################\n",
    "\n",
    "table_id = \"ft-customer-analytics.crg_nniu.historical_conversion_users_2023_onwards_30_days_lookback\"\n",
    "\n",
    "attribution_df_all_trial_30 = pd.DataFrame()\n",
    "normalized_removal_effects_all_trial_30 = pd.DataFrame()\n",
    "markov_transition_matrix_all_trial_30 = pd.DataFrame()\n",
    "user_df_all_trial_30 = pd.DataFrame()\n",
    "\n",
    "for current_date in pd.date_range(start_date, end_date, freq=\"D\"):\n",
    "    # Create SQL query for the current date\n",
    "    query = f\"\"\"\n",
    "    SELECT * FROM {table_id}\n",
    "    WHERE DATE(conversion_visit_timestamp) = \"{current_date.strftime('%Y-%m-%d')}\"\n",
    "    \"\"\"\n",
    "    print(f\"Fetching data for {current_date.strftime('%Y-%m-%d')}\")\n",
    "\n",
    "\n",
    "    # Execute the query\n",
    "    query_job = client.query(query)\n",
    "    df = query_job.to_dataframe()\n",
    "\n",
    "    if df.empty:\n",
    "        print(f\"No data for {current_date.strftime('%Y-%m-%d')}\")\n",
    "        continue\n",
    "    \n",
    "    ################################################# Data Cleaning  #########################################\n",
    "    \n",
    "    df[\"original_transaction\"] = df[\"converting_visit\"]\n",
    "    trial_df = df[df[\"conversion_type\"] == \"Trial\"].drop(columns=[\"conversion_type\"])\n",
    "\n",
    "    trial_df[\"user_max_date\"] = trial_df.groupby(ids)[date].transform(\"max\")\n",
    "    trial_df[transaction] = 0\n",
    "    trial_df.loc[(trial_df[date] == trial_df[\"user_max_date\"]) & (trial_df[\"original_transaction\"] == 1), transaction] = 1\n",
    "    trial_df.drop(columns=[\"user_max_date\"], inplace=True)\n",
    "    trial_df = trial_df.sort_values([ids, date], ascending=[False, True])\n",
    "\n",
    "    trial_df[\"run_date\"] = current_date.date()\n",
    "\n",
    "    ################################################# MAM Initialization #########################################\n",
    "    \n",
    "    try:\n",
    "        # Initialize the MAM class\n",
    "        attributions = MAM(\n",
    "            trial_df,\n",
    "            group_channels=True,\n",
    "            channels_colname=touchpoint,\n",
    "            journey_with_conv_colname=transaction,\n",
    "            group_channels_by_id_list=[ids],\n",
    "            group_timestamp_colname=date,\n",
    "            create_journey_id_based_on_conversion=True,\n",
    "        )\n",
    "\n",
    "        ################################################# Apply Attribution Models #########################################\n",
    "\n",
    "        attributions.attribution_last_click()\n",
    "        attributions.attribution_first_click()\n",
    "        attributions.attribution_position_based(\n",
    "            list_positions_first_middle_last=[0.3, 0.3, 0.4]\n",
    "        )\n",
    "        attributions.attribution_time_decay(\n",
    "            decay_over_time=0.6, frequency=7\n",
    "        )  # Frequency in hours\n",
    "        attribution_markov = attributions.attribution_markov(\n",
    "            transition_to_same_state=False\n",
    "        )\n",
    "\n",
    "        ################################################# Process Results #########################################\n",
    "\n",
    "        # User-level attribution data\n",
    "        user_df_temp = attributions.as_pd_dataframe()\n",
    "        user_df_temp[\"num_touchpoints\"] = (\n",
    "            user_df_temp[\"channels_agg\"].str.split(\" > \").apply(len)\n",
    "        )\n",
    "        user_df_temp[\"run_date\"] = current_date.date()\n",
    "\n",
    "        # Extract user_guid from journey_id\n",
    "        user_df_temp['user_guid'] = user_df_temp['journey_id'].str.extract(r'id:(.*)_J:0')[0]\n",
    "\n",
    "        # Prepare df for merging\n",
    "        df['conversion_visit_timestamp_date'] = df['conversion_visit_timestamp'].dt.date\n",
    "        product_arrangement_df = df[['user_guid', 'conversion_visit_timestamp_date', 'product_arrangement_id']].drop_duplicates()\n",
    "\n",
    "        # Merge user_df_temp with product_arrangement_df\n",
    "        user_df_temp = user_df_temp.merge(\n",
    "            product_arrangement_df,\n",
    "            left_on=['user_guid', 'run_date'],\n",
    "            right_on=['user_guid', 'conversion_visit_timestamp_date'],\n",
    "            how='left'\n",
    "        )\n",
    "\n",
    "        # Drop 'conversion_visit_timestamp_date' column after merge\n",
    "        user_df_temp.drop(columns=['conversion_visit_timestamp_date'], inplace=True)\n",
    "\n",
    "        # Now concatenate user_df_temp into user_df_all_trial_30\n",
    "        user_df_all_trial_30 = pd.concat(\n",
    "            [user_df_all_trial_30, user_df_temp], ignore_index=True\n",
    "        )\n",
    "\n",
    "        # Markov transition matrix\n",
    "        markov_transition_matrix = attribution_markov[2].round(3)\n",
    "        markov_transition_matrix = markov_transition_matrix.rename(\n",
    "            index=lambda x: x.replace(\"(inicio)\", \"(start)\"),\n",
    "            columns=lambda x: x.replace(\"(inicio)\", \"(start)\"),\n",
    "        )\n",
    "        markov_transition_matrix.reset_index(inplace=True)\n",
    "        markov_transition_matrix = pd.melt(\n",
    "            markov_transition_matrix,\n",
    "            id_vars=\"index\",\n",
    "            var_name=\"destination\",\n",
    "            value_name=\"probability\",\n",
    "        )\n",
    "        markov_transition_matrix.columns = [\"source\", \"destination\", \"probability\"]\n",
    "        markov_transition_matrix[\"run_date\"] = current_date.date()\n",
    "        markov_transition_matrix_all_trial_30 = pd.concat(\n",
    "            [markov_transition_matrix_all_trial_30, markov_transition_matrix],\n",
    "            ignore_index=True,\n",
    "        )\n",
    "\n",
    "        # Removal effects\n",
    "        removal_effect_matrix = attribution_markov[3].round(3)\n",
    "        channels = removal_effect_matrix.index\n",
    "        removal_effect_values = removal_effect_matrix[[\"removal_effect\"]]\n",
    "        normalized_values = (removal_effect_values / removal_effect_values.sum()) * 100\n",
    "        normalized_removal_effects = pd.DataFrame(\n",
    "            normalized_values, index=channels, columns=[\"removal_effect\"]\n",
    "        )\n",
    "        normalized_removal_effects[\"run_date\"] = current_date.date()\n",
    "        normalized_removal_effects[\"removal_effect_raw\"] = (\n",
    "            removal_effect_values.values.flatten()\n",
    "        )\n",
    "        normalized_removal_effects.reset_index(inplace=True)\n",
    "        normalized_removal_effects.rename(columns={\"index\": \"channel\"}, inplace=True)\n",
    "        normalized_removal_effects_all_trial_30 = pd.concat(\n",
    "            [normalized_removal_effects_all_trial_30, normalized_removal_effects],\n",
    "            ignore_index=True,\n",
    "        )\n",
    "\n",
    "        # Attribution by channels and models\n",
    "        attribution_df = attributions.group_by_channels_models\n",
    "        attribution_df[\"run_date\"] = current_date.date()\n",
    "        attribution_df.columns = attribution_df.columns.str.replace(\n",
    "            \".\", \"_\", regex=False\n",
    "        ).str.replace(\" \", \"_\", regex=False)\n",
    "        attribution_df_all_trial_30 = pd.concat(\n",
    "            [attribution_df_all_trial_30, attribution_df], ignore_index=True\n",
    "        )\n",
    "\n",
    "        print(f\"Processed data for {current_date.strftime('%Y-%m-%d')}\")\n",
    "\n",
    "    except Exception as e:\n",
    "        print(\n",
    "            f\"An error occurred for the date {current_date.strftime('%Y-%m-%d')}: {e}\"\n",
    "        )\n",
    "        continue\n",
    "\n",
    "################################################# Finalize Results #########################################\n",
    "\n",
    "attribution_df_all_trial_30[\"conversion_window\"] = 30\n",
    "normalized_removal_effects_all_trial_30[\"conversion_window\"] = 30\n",
    "markov_transition_matrix_all_trial_30[\"conversion_window\"] = 30\n",
    "user_df_all_trial_30[\"conversion_window\"] = 30\n",
    "\n",
    "attribution_df_all_trial_30[\"conversion_type\"] = \"Trial\"\n",
    "normalized_removal_effects_all_trial_30[\"conversion_type\"] = \"Trial\"\n",
    "markov_transition_matrix_all_trial_30[\"conversion_type\"] = \"Trial\"\n",
    "user_df_all_trial_30[\"conversion_type\"] = \"Trial\"\n",
    "\n",
    "\n"
   ]
  },
  {
   "cell_type": "code",
   "execution_count": null,
   "metadata": {},
   "outputs": [],
   "source": [
    "attribution_df_all_trial_30.to_csv(\"attribution_df_all_trial_30.csv\", index=False)\n",
    "normalized_removal_effects_all_trial_30.to_csv(\"normalized_removal_effects_all_trial_30.csv\", index=False)\n",
    "markov_transition_matrix_all_trial_30.to_csv(\"markov_transition_matrix_all_trial_30.csv\", index=False)\n",
    "user_df_all_trial_30.to_csv(\"user_df_all_trial_30.csv\", index=False)\n"
   ]
  },
  {
   "cell_type": "code",
   "execution_count": null,
   "metadata": {},
   "outputs": [],
   "source": [
    "############################################################################################## Merge trials ##########################################################################################\n",
    "suffixes = [\"30\", \"60\", \"90\"]\n",
    "\n",
    "attribution_dfs_trial = [\n",
    "    globals()[f\"attribution_df_all_trial_{suffix}\"] for suffix in suffixes\n",
    "]\n",
    "attribution_df_all_trial = pd.concat(attribution_dfs_trial, ignore_index=True)\n",
    "\n",
    "removal_effects_dfs_trial = [\n",
    "    globals()[f\"normalized_removal_effects_all_trial_{suffix}\"] for suffix in suffixes\n",
    "]\n",
    "normalized_removal_effects_all_trial = pd.concat(\n",
    "    removal_effects_dfs_trial, ignore_index=True\n",
    ")\n",
    "\n",
    "markov_transition_dfs_trial = [\n",
    "    globals()[f\"markov_transition_matrix_all_trial_{suffix}\"] for suffix in suffixes\n",
    "]\n",
    "markov_transition_matrix_all_trial = pd.concat(\n",
    "    markov_transition_dfs_trial, ignore_index=True\n",
    ")\n",
    "\n",
    "user_dfs_trial = [globals()[f\"user_df_all_trial_{suffix}\"] for suffix in suffixes]\n",
    "user_df_all_trial = pd.concat(user_dfs_trial, ignore_index=True)\n",
    "\n",
    "user_df_all_trial[\"num_touchpoints\"] = (\n",
    "    user_df_all_trial[\"channels_agg\"].str.split(\" > \").apply(len)\n",
    ")\n",
    "user_df_all_trial[\"conversion_type\"] = \"Trial\"\n",
    "markov_transition_matrix_all_trial[\"conversion_type\"] = \"Trial\"\n",
    "normalized_removal_effects_all_trial[\"conversion_type\"] = \"Trial\"\n",
    "attribution_df_all_trial[\"conversion_type\"] = \"Trial\"\n",
    "\n"
   ]
  },
  {
   "cell_type": "code",
   "execution_count": null,
   "metadata": {},
   "outputs": [],
   "source": [
    "################################################# Merge Trial, Subscription, Registration subsets #########################################\n",
    "\n",
    "user_df_all = pd.concat([user_df_all_trial, user_df_all_subs], ignore_index=True)\n",
    "# user_df_all= pd.concat([user_df_all, user_df_all_registration], ignore_index=True)\n",
    "\n",
    "markov_transition_matrix_all = pd.concat(\n",
    "    [markov_transition_matrix_all_trial, markov_transition_matrix_all_subs],\n",
    "    ignore_index=True,\n",
    ")\n",
    "# markov_transition_matrix_all = pd.concat([markov_transition_matrix_all, markov_transition_matrix_all_registration], ignore_index=True)\n",
    "\n",
    "normalized_removal_effects_all = pd.concat(\n",
    "    [normalized_removal_effects_all_trial, normalized_removal_effects_all_subs],\n",
    "    ignore_index=True,\n",
    ")\n",
    "# normalized_removal_effects_all = pd.concat([normalized_removal_effects_all, normalized_removal_effects_all_registration], ignore_index=True)\n",
    "\n",
    "attribution_df_all = pd.concat(\n",
    "    [attribution_df_all_subs, attribution_df_all_trial], ignore_index=True\n",
    ")\n",
    "# attribution_df_all = pd.concat([attribution_df_all, attribution_df_all_registration], ignore_index=True)\n",
    "\n",
    "conversion_window_df = pd.concat(\n",
    "    [conversion_window_df_subs, conversion_window_df_trial], ignore_index=True\n",
    ")\n",
    "\n",
    "# Rename user_df_all columns in big query format\n",
    "def sanitize_column_name(col_name):\n",
    "    # Remove patterns like '_0.3', '0.6', etc.\n",
    "    sanitized = re.sub(r\"(_)?\\d+\\.\\d+\", \"\", col_name)\n",
    "    # Replace multiple underscores with a single underscore\n",
    "    sanitized = re.sub(r\"_+\", \"_\", sanitized)\n",
    "    # Remove leading or trailing underscores\n",
    "    sanitized = sanitized.strip(\"_\")\n",
    "    return sanitized\n",
    "\n",
    "\n",
    "# Create a mapping from original to sanitized column names\n",
    "renamed_columns = {col: sanitize_column_name(col) for col in user_df_all.columns}\n",
    "\n",
    "# Rename the DataFrame columns\n",
    "user_df_all = user_df_all.rename(columns=renamed_columns)\n",
    "\n"
   ]
  },
  {
   "cell_type": "code",
   "execution_count": null,
   "metadata": {},
   "outputs": [],
   "source": [
    "######################################################################################## Merge with LTV #####################################################################################\n",
    "\n",
    "client = bigquery.Client(project=\"ft-customer-analytics\")\n",
    "ltv_table_id = \"ft-customer-analytics.crg_nniu.ltv_historical\"\n",
    "query = f\"\"\"\n",
    "    SELECT * FROM\n",
    "        {ltv_table_id}\n",
    "\"\"\"\n",
    "\n",
    "\n",
    "query_job = client.query(query)\n",
    "ltv_df = query_job.to_dataframe()\n",
    "\n",
    "ltv_df = ltv_df.dropna(subset=[\"ltv_acquisition_capped_12m\"])\n",
    "\n",
    "group_columns = [col for col in ltv_df.columns if col != \"ltv_acquisition_capped_12m\"]\n",
    "\n",
    "# Group by all columns except 'ltv_acquisition_capped_12m' and calculate its mean\n",
    "ltv_df = ltv_df.groupby(group_columns, as_index=False).agg(\n",
    "    ltv_acquisition_capped_12m=(\"ltv_acquisition_capped_12m\", \"mean\")\n",
    ")\n",
    "\n",
    "# # extract user guid from journey id\n",
    "user_df_all[\"user_guid\"] = user_df_all[\"journey_id\"].str.extract(r\"id:(.*)_J:0\")[0]\n",
    "\n",
    "# date column conversion for ltv df\n",
    "ltv_df[\"product_order_timestamp\"] = pd.to_datetime(\n",
    "    ltv_df[\"product_order_timestamp\"], utc=True\n",
    ")\n",
    "user_df_all[\"run_date\"] = pd.to_datetime(user_df_all[\"run_date\"], utc=True)\n",
    "\n",
    "# Convert date columns\n",
    "ltv_df[\"product_order_timestamp\"] = ltv_df[\"product_order_timestamp\"].dt.date\n",
    "user_df_all[\"run_date\"] = user_df_all[\"run_date\"].dt.date\n",
    "\n",
    "# convert ltv 12m as float\n",
    "ltv_df[\"ltv_acquisition_capped_12m\"] = ltv_df[\"ltv_acquisition_capped_12m\"].astype(\n",
    "    float\n",
    ")\n",
    "\n",
    "user_df_all = user_df_all[user_df_all[\"conversion_value\"] == 1]\n",
    "user_df_all[\"product_arrangement_id\"] = user_df_all[\"product_arrangement_id\"].fillna(0)\n",
    "\n",
    "user_df_all = pd.merge(\n",
    "    user_df_all,\n",
    "    ltv_df,\n",
    "    left_on=[\"product_arrangement_id\", \"run_date\"],\n",
    "    right_on=[\"product_arrangement_id\", \"product_order_timestamp\"],\n",
    "    how=\"left\",\n",
    ")\n",
    "\n",
    "# Trial conversion window DataFrames\n",
    "user_df_trial_30 = user_df_all[\n",
    "    (user_df_all[\"conversion_window\"] == 30)\n",
    "    & (user_df_all[\"conversion_type\"] == \"Trial\")\n",
    "]\n",
    "user_df_trial_60 = user_df_all[\n",
    "    (user_df_all[\"conversion_window\"] == 60)\n",
    "    & (user_df_all[\"conversion_type\"] == \"Trial\")\n",
    "]\n",
    "user_df_trial_90 = user_df_all[\n",
    "    (user_df_all[\"conversion_window\"] == 90)\n",
    "    & (user_df_all[\"conversion_type\"] == \"Trial\")\n",
    "]\n",
    "\n",
    "# Subscription conversion window DataFrames\n",
    "user_df_subscription_30 = user_df_all[\n",
    "    (user_df_all[\"conversion_window\"] == 30)\n",
    "    & (user_df_all[\"conversion_type\"] == \"Subscription\")\n",
    "]\n",
    "user_df_subscription_60 = user_df_all[\n",
    "    (user_df_all[\"conversion_window\"] == 60)\n",
    "    & (user_df_all[\"conversion_type\"] == \"Subscription\")\n",
    "]\n",
    "user_df_subscription_90 = user_df_all[\n",
    "    (user_df_all[\"conversion_window\"] == 90)\n",
    "    & (user_df_all[\"conversion_type\"] == \"Subscription\")\n",
    "]\n",
    "\n",
    "# Registration conversion window DataFrames\n",
    "# user_df_registration_30 = user_df_all[\n",
    "#     (user_df_all[\"conversion_window\"] == 30)\n",
    "#     & (user_df_all[\"conversion_type\"] == \"Registration\")\n",
    "# ]\n",
    "# user_df_registration_60 = user_df_all[\n",
    "#     (user_df_all[\"conversion_window\"] == 60)\n",
    "#     & (user_df_all[\"conversion_type\"] == \"Registration\")\n",
    "# ]\n",
    "# user_df_registration_90 = user_df_all[\n",
    "#     (user_df_all[\"conversion_window\"] == 90)\n",
    "#     & (user_df_all[\"conversion_type\"] == \"Registration\")\n",
    "# ]\n",
    "\n",
    "\n",
    "def calculate_removal_effect(row):\n",
    "    attr = row[\"attribution_markov_algorithmic\"]\n",
    "    ltv = row[\"ltv_acquisition_capped_12m\"]\n",
    "    channels = row[\"channels_agg\"]\n",
    "\n",
    "    if pd.isna(attr) or pd.isna(channels):\n",
    "        return np.nan\n",
    "\n",
    "    attr_parts = attr.split(\">\")\n",
    "    channel_parts = channels.split(\">\")\n",
    "\n",
    "    if len(attr_parts) != len(channel_parts):\n",
    "        return np.nan\n",
    "\n",
    "    new_parts = []\n",
    "    for channel, part in zip(channel_parts, attr_parts):\n",
    "        channel = channel.strip()\n",
    "        part = part.strip()\n",
    "        try:\n",
    "            val = float(part)\n",
    "            multiplied_val = val * ltv\n",
    "            formatted_val = f\"{multiplied_val}\"\n",
    "            new_parts.append(f\"{channel}: {formatted_val}\")\n",
    "        except ValueError:\n",
    "            return np.nan\n",
    "\n",
    "    return \" > \".join(new_parts)\n",
    "\n",
    "\n",
    "def process_user_df(user_df):\n",
    "    # Apply the function to create the 'removal_effect_ltv' column\n",
    "    user_df[\"removal_effect_ltv\"] = user_df.apply(calculate_removal_effect, axis=1)\n",
    "    user_df = user_df.dropna(subset=[\"removal_effect_ltv\"]).copy()\n",
    "\n",
    "    # Split 'removal_effect_ltv' into a list of 'channel: ltv' strings\n",
    "    user_df[\"channel_ltv_list\"] = user_df[\"removal_effect_ltv\"].str.split(\" > \")\n",
    "\n",
    "    # Explode the list to have one 'channel: ltv' per row\n",
    "    df_exploded = user_df.explode(\"channel_ltv_list\")\n",
    "\n",
    "    # Split each 'channel_ltv' into 'channel' and 'ltv'\n",
    "    df_exploded[[\"channel\", \"ltv\"]] = df_exploded[\"channel_ltv_list\"].str.split(\n",
    "        \": \", n=1, expand=True\n",
    "    )\n",
    "\n",
    "    # Convert 'ltv' to numeric, handling any non-numeric values gracefully\n",
    "    df_exploded[\"ltv\"] = pd.to_numeric(df_exploded[\"ltv\"], errors=\"coerce\")\n",
    "\n",
    "    # Group by 'channel' and 'run_date', then calculate the mean LTV\n",
    "    average_ltv_per_channel = (\n",
    "        df_exploded.groupby([\"channel\", \"run_date\"])[\"ltv\"].mean().reset_index()\n",
    "    )\n",
    "\n",
    "    # Rename columns for clarity\n",
    "    average_ltv_per_channel.rename(columns={\"ltv\": \"average_ltv\"}, inplace=True)\n",
    "\n",
    "    return average_ltv_per_channel\n",
    "\n",
    "\n",
    "# Applying the process to each DataFrame and storing the results\n",
    "user_df_trial_30_avg = process_user_df(user_df_trial_30)\n",
    "user_df_trial_60_avg = process_user_df(user_df_trial_60)\n",
    "user_df_trial_90_avg = process_user_df(user_df_trial_90)\n",
    "\n",
    "user_df_subscription_30_avg = process_user_df(user_df_subscription_30)\n",
    "user_df_subscription_60_avg = process_user_df(user_df_subscription_60)\n",
    "user_df_subscription_90_avg = process_user_df(user_df_subscription_90)\n",
    "\n",
    "# user_df_registration_30_avg = process_user_df(user_df_registration_30)\n",
    "# user_df_registration_60_avg = process_user_df(user_df_registration_60)\n",
    "# user_df_registration_90_avg = process_user_df(user_df_registration_90)\n",
    "\n",
    "# Adding the 'conversion_window' and 'conversion_type' columns to each DataFrame\n",
    "user_df_trial_30_avg[\"conversion_window\"] = 30\n",
    "user_df_trial_30_avg[\"conversion_type\"] = \"Trial\"\n",
    "\n",
    "user_df_trial_60_avg[\"conversion_window\"] = 60\n",
    "user_df_trial_60_avg[\"conversion_type\"] = \"Trial\"\n",
    "\n",
    "user_df_trial_90_avg[\"conversion_window\"] = 90\n",
    "user_df_trial_90_avg[\"conversion_type\"] = \"Trial\"\n",
    "\n",
    "user_df_subscription_30_avg[\"conversion_window\"] = 30\n",
    "user_df_subscription_30_avg[\"conversion_type\"] = \"Subscription\"\n",
    "\n",
    "user_df_subscription_60_avg[\"conversion_window\"] = 60\n",
    "user_df_subscription_60_avg[\"conversion_type\"] = \"Subscription\"\n",
    "\n",
    "user_df_subscription_90_avg[\"conversion_window\"] = 90\n",
    "user_df_subscription_90_avg[\"conversion_type\"] = \"Subscription\"\n",
    "\n",
    "# user_df_registration_30_avg['conversion_window'] = 30\n",
    "# user_df_registration_30_avg['conversion_type'] = 'Registration'\n",
    "\n",
    "# user_df_registration_60_avg['conversion_window'] = 60\n",
    "# user_df_registration_60_avg['conversion_type'] = 'Registration'\n",
    "\n",
    "# user_df_registration_90_avg['conversion_window'] = 90\n",
    "# user_df_registration_90_avg['conversion_type'] = 'Registration'\n",
    "\n",
    "# Merging all DataFrames together\n",
    "average_ltv_per_channel = pd.concat(\n",
    "    [\n",
    "        user_df_trial_30_avg,\n",
    "        user_df_trial_60_avg,\n",
    "        user_df_trial_90_avg,\n",
    "        user_df_subscription_30_avg,\n",
    "        user_df_subscription_60_avg,\n",
    "        user_df_subscription_90_avg\n",
    "        # user_df_registration_30_avg,\n",
    "        # user_df_registration_60_avg,\n",
    "        # user_df_registration_90_avg\n",
    "    ],\n",
    "    ignore_index=True,\n",
    ")\n",
    "\n",
    "normalized_removal_effects_all = normalized_removal_effects_all[\n",
    "    normalized_removal_effects_all[\"removal_effect\"] != 0\n",
    "]\n",
    "normalized_removal_effects_all = pd.merge(\n",
    "    normalized_removal_effects_all,\n",
    "    average_ltv_per_channel,\n",
    "    left_on=(\"channel\", \"conversion_window\", \"conversion_type\", \"run_date\"),\n",
    "    right_on=(\"channel\", \"conversion_window\", \"conversion_type\", \"run_date\"),\n",
    "    how=\"left\",\n",
    ")\n",
    "\n",
    "user_df_all.drop(columns=[\"user_guid_x\", \"user_guid_y\"], inplace=True)\n",
    "\n",
    "######################################################################################## Data upload #####################################################################################\n",
    "\n",
    "#Configure the load job\n",
    "\n",
    "# job_config = bigquery.LoadJobConfig(\n",
    "#     write_disposition=bigquery.WriteDisposition.WRITE_APPEND,  # WRITE_TRUNCATE. # WRITE_APPEND\n",
    "#     source_format=bigquery.SourceFormat.PARQUET,\n",
    "#     autodetect=True,\n",
    "#     time_partitioning=bigquery.TimePartitioning(\n",
    "#         type_=bigquery.TimePartitioningType.DAY, field=\"run_date\"\n",
    "#     ),\n",
    "# )\n",
    "\n",
    "# dataframes = {\n",
    "#     \"ft-customer-analytics.crg_nniu.attribution_markov_transition_matrix_all\": markov_transition_matrix_all,\n",
    "#     \"ft-customer-analytics.crg_nniu.attribution_normalized_removal_effects_all\": normalized_removal_effects_all,\n",
    "#     \"ft-customer-analytics.crg_nniu.attribution_user_df_all\": user_df_all,\n",
    "#     \"ft-customer-analytics.crg_nniu.attribution_df_all\": attribution_df_all,\n",
    "#     \"ft-customer-analytics.crg_nniu.attribution_conversion_window_df\": conversion_window_df\n",
    "    \n",
    "# }\n",
    "\n",
    "# for destination_table, dataframe in dataframes.items():\n",
    "#     try:\n",
    "#         load_job = client.load_table_from_dataframe(\n",
    "#             dataframe.reset_index(drop=True), destination_table, job_config=job_config\n",
    "#         )\n",
    "#         load_job.result()\n",
    "#         print(f\"Load job for {destination_table} completed successfully.\")\n",
    "#     except Exception as e:\n",
    "#         print(f\"Error loading data to {destination_table}: {e}\")"
   ]
  },
  {
   "cell_type": "code",
   "execution_count": 5,
   "metadata": {},
   "outputs": [
    {
     "name": "stdout",
     "output_type": "stream",
     "text": [
      "Deleted partition 2024-11-01 from ft-customer-analytics.crg_nniu.historical_markov_transition_matrix_all\n",
      "Deleted partition 2024-11-02 from ft-customer-analytics.crg_nniu.historical_markov_transition_matrix_all\n",
      "Deleted partition 2024-11-03 from ft-customer-analytics.crg_nniu.historical_markov_transition_matrix_all\n",
      "Deleted partition 2024-11-04 from ft-customer-analytics.crg_nniu.historical_markov_transition_matrix_all\n",
      "Deleted partition 2024-11-05 from ft-customer-analytics.crg_nniu.historical_markov_transition_matrix_all\n",
      "Deleted partition 2024-11-06 from ft-customer-analytics.crg_nniu.historical_markov_transition_matrix_all\n",
      "Deleted partition 2024-11-07 from ft-customer-analytics.crg_nniu.historical_markov_transition_matrix_all\n",
      "Deleted partition 2024-11-08 from ft-customer-analytics.crg_nniu.historical_markov_transition_matrix_all\n",
      "Deleted partition 2024-11-09 from ft-customer-analytics.crg_nniu.historical_markov_transition_matrix_all\n",
      "Deleted partition 2024-11-10 from ft-customer-analytics.crg_nniu.historical_markov_transition_matrix_all\n",
      "Deleted partition 2024-11-11 from ft-customer-analytics.crg_nniu.historical_markov_transition_matrix_all\n",
      "Deleted partition 2024-11-12 from ft-customer-analytics.crg_nniu.historical_markov_transition_matrix_all\n",
      "Deleted partition 2024-11-13 from ft-customer-analytics.crg_nniu.historical_markov_transition_matrix_all\n",
      "Deleted partition 2024-11-14 from ft-customer-analytics.crg_nniu.historical_markov_transition_matrix_all\n",
      "Deleted partition 2024-11-15 from ft-customer-analytics.crg_nniu.historical_markov_transition_matrix_all\n",
      "Deleted partition 2024-11-16 from ft-customer-analytics.crg_nniu.historical_markov_transition_matrix_all\n",
      "Deleted partition 2024-11-17 from ft-customer-analytics.crg_nniu.historical_markov_transition_matrix_all\n",
      "Deleted partition 2024-11-18 from ft-customer-analytics.crg_nniu.historical_markov_transition_matrix_all\n",
      "Deleted partition 2024-11-19 from ft-customer-analytics.crg_nniu.historical_markov_transition_matrix_all\n",
      "Deleted partition 2024-11-20 from ft-customer-analytics.crg_nniu.historical_markov_transition_matrix_all\n",
      "Deleted partition 2024-11-21 from ft-customer-analytics.crg_nniu.historical_markov_transition_matrix_all\n",
      "Deleted partition 2024-11-22 from ft-customer-analytics.crg_nniu.historical_markov_transition_matrix_all\n",
      "Deleted partition 2024-11-23 from ft-customer-analytics.crg_nniu.historical_markov_transition_matrix_all\n",
      "Deleted partition 2024-11-24 from ft-customer-analytics.crg_nniu.historical_markov_transition_matrix_all\n",
      "Deleted partition 2024-11-25 from ft-customer-analytics.crg_nniu.historical_markov_transition_matrix_all\n",
      "Deleted partition 2024-11-26 from ft-customer-analytics.crg_nniu.historical_markov_transition_matrix_all\n",
      "Deleted partition 2024-11-27 from ft-customer-analytics.crg_nniu.historical_markov_transition_matrix_all\n",
      "Deleted partition 2024-11-28 from ft-customer-analytics.crg_nniu.historical_markov_transition_matrix_all\n",
      "Deleted partition 2024-11-29 from ft-customer-analytics.crg_nniu.historical_markov_transition_matrix_all\n",
      "Deleted partition 2024-11-30 from ft-customer-analytics.crg_nniu.historical_markov_transition_matrix_all\n",
      "Deleted partition 2024-12-01 from ft-customer-analytics.crg_nniu.historical_markov_transition_matrix_all\n",
      "Deleted partition 2024-12-02 from ft-customer-analytics.crg_nniu.historical_markov_transition_matrix_all\n",
      "Deleted partition 2024-12-03 from ft-customer-analytics.crg_nniu.historical_markov_transition_matrix_all\n",
      "Deleted partition 2024-12-04 from ft-customer-analytics.crg_nniu.historical_markov_transition_matrix_all\n",
      "Deleted partition 2024-12-05 from ft-customer-analytics.crg_nniu.historical_markov_transition_matrix_all\n",
      "Deleted partition 2024-12-06 from ft-customer-analytics.crg_nniu.historical_markov_transition_matrix_all\n",
      "Deleted partition 2024-12-07 from ft-customer-analytics.crg_nniu.historical_markov_transition_matrix_all\n",
      "Deleted partition 2024-12-08 from ft-customer-analytics.crg_nniu.historical_markov_transition_matrix_all\n",
      "Deleted partition 2024-12-09 from ft-customer-analytics.crg_nniu.historical_markov_transition_matrix_all\n",
      "Deleted partition 2024-12-10 from ft-customer-analytics.crg_nniu.historical_markov_transition_matrix_all\n",
      "Deleted partition 2024-12-11 from ft-customer-analytics.crg_nniu.historical_markov_transition_matrix_all\n",
      "Deleted partition 2024-12-12 from ft-customer-analytics.crg_nniu.historical_markov_transition_matrix_all\n",
      "Deleted partition 2024-12-13 from ft-customer-analytics.crg_nniu.historical_markov_transition_matrix_all\n",
      "Deleted partition 2024-12-14 from ft-customer-analytics.crg_nniu.historical_markov_transition_matrix_all\n",
      "Deleted partition 2024-12-15 from ft-customer-analytics.crg_nniu.historical_markov_transition_matrix_all\n",
      "Deleted partition 2024-12-16 from ft-customer-analytics.crg_nniu.historical_markov_transition_matrix_all\n",
      "Deleted partition 2024-12-17 from ft-customer-analytics.crg_nniu.historical_markov_transition_matrix_all\n",
      "Deleted partition 2024-12-18 from ft-customer-analytics.crg_nniu.historical_markov_transition_matrix_all\n",
      "Deleted partition 2024-12-19 from ft-customer-analytics.crg_nniu.historical_markov_transition_matrix_all\n",
      "Deleted partition 2024-12-20 from ft-customer-analytics.crg_nniu.historical_markov_transition_matrix_all\n",
      "Deleted partition 2024-12-21 from ft-customer-analytics.crg_nniu.historical_markov_transition_matrix_all\n",
      "Deleted partition 2024-12-22 from ft-customer-analytics.crg_nniu.historical_markov_transition_matrix_all\n",
      "Deleted partition 2024-12-23 from ft-customer-analytics.crg_nniu.historical_markov_transition_matrix_all\n",
      "Deleted partition 2024-12-24 from ft-customer-analytics.crg_nniu.historical_markov_transition_matrix_all\n",
      "Deleted partition 2024-12-25 from ft-customer-analytics.crg_nniu.historical_markov_transition_matrix_all\n",
      "Deleted partition 2024-12-26 from ft-customer-analytics.crg_nniu.historical_markov_transition_matrix_all\n",
      "Deleted partition 2024-12-27 from ft-customer-analytics.crg_nniu.historical_markov_transition_matrix_all\n",
      "Deleted partition 2024-12-28 from ft-customer-analytics.crg_nniu.historical_markov_transition_matrix_all\n",
      "Deleted partition 2024-12-29 from ft-customer-analytics.crg_nniu.historical_markov_transition_matrix_all\n",
      "Deleted partition 2024-12-30 from ft-customer-analytics.crg_nniu.historical_markov_transition_matrix_all\n",
      "Deleted partition 2024-12-31 from ft-customer-analytics.crg_nniu.historical_markov_transition_matrix_all\n",
      "Deleted partition 2025-01-01 from ft-customer-analytics.crg_nniu.historical_markov_transition_matrix_all\n",
      "Deleted partition 2025-01-02 from ft-customer-analytics.crg_nniu.historical_markov_transition_matrix_all\n",
      "Deleted partition 2025-01-03 from ft-customer-analytics.crg_nniu.historical_markov_transition_matrix_all\n",
      "Deleted partition 2025-01-04 from ft-customer-analytics.crg_nniu.historical_markov_transition_matrix_all\n",
      "Deleted partition 2025-01-05 from ft-customer-analytics.crg_nniu.historical_markov_transition_matrix_all\n",
      "Deleted partition 2025-01-06 from ft-customer-analytics.crg_nniu.historical_markov_transition_matrix_all\n",
      "Deleted partition 2025-01-07 from ft-customer-analytics.crg_nniu.historical_markov_transition_matrix_all\n",
      "Deleted partition 2025-01-08 from ft-customer-analytics.crg_nniu.historical_markov_transition_matrix_all\n",
      "Deleted partition 2025-01-09 from ft-customer-analytics.crg_nniu.historical_markov_transition_matrix_all\n",
      "Deleted partition 2025-01-10 from ft-customer-analytics.crg_nniu.historical_markov_transition_matrix_all\n",
      "Deleted partition 2025-01-11 from ft-customer-analytics.crg_nniu.historical_markov_transition_matrix_all\n",
      "Deleted partition 2025-01-12 from ft-customer-analytics.crg_nniu.historical_markov_transition_matrix_all\n",
      "Deleted partition 2025-01-13 from ft-customer-analytics.crg_nniu.historical_markov_transition_matrix_all\n",
      "Deleted partition 2025-01-14 from ft-customer-analytics.crg_nniu.historical_markov_transition_matrix_all\n",
      "Loaded new data into ft-customer-analytics.crg_nniu.historical_markov_transition_matrix_all\n",
      "Deleted partition 2024-11-01 from ft-customer-analytics.crg_nniu.historical_normalized_removal_effects_all\n",
      "Deleted partition 2024-11-02 from ft-customer-analytics.crg_nniu.historical_normalized_removal_effects_all\n",
      "Deleted partition 2024-11-03 from ft-customer-analytics.crg_nniu.historical_normalized_removal_effects_all\n",
      "Deleted partition 2024-11-04 from ft-customer-analytics.crg_nniu.historical_normalized_removal_effects_all\n",
      "Deleted partition 2024-11-05 from ft-customer-analytics.crg_nniu.historical_normalized_removal_effects_all\n",
      "Deleted partition 2024-11-06 from ft-customer-analytics.crg_nniu.historical_normalized_removal_effects_all\n",
      "Deleted partition 2024-11-07 from ft-customer-analytics.crg_nniu.historical_normalized_removal_effects_all\n",
      "Deleted partition 2024-11-08 from ft-customer-analytics.crg_nniu.historical_normalized_removal_effects_all\n",
      "Deleted partition 2024-11-09 from ft-customer-analytics.crg_nniu.historical_normalized_removal_effects_all\n",
      "Deleted partition 2024-11-10 from ft-customer-analytics.crg_nniu.historical_normalized_removal_effects_all\n",
      "Deleted partition 2024-11-11 from ft-customer-analytics.crg_nniu.historical_normalized_removal_effects_all\n",
      "Deleted partition 2024-11-12 from ft-customer-analytics.crg_nniu.historical_normalized_removal_effects_all\n",
      "Deleted partition 2024-11-13 from ft-customer-analytics.crg_nniu.historical_normalized_removal_effects_all\n",
      "Deleted partition 2024-11-14 from ft-customer-analytics.crg_nniu.historical_normalized_removal_effects_all\n",
      "Deleted partition 2024-11-15 from ft-customer-analytics.crg_nniu.historical_normalized_removal_effects_all\n",
      "Deleted partition 2024-11-16 from ft-customer-analytics.crg_nniu.historical_normalized_removal_effects_all\n",
      "Deleted partition 2024-11-17 from ft-customer-analytics.crg_nniu.historical_normalized_removal_effects_all\n",
      "Deleted partition 2024-11-18 from ft-customer-analytics.crg_nniu.historical_normalized_removal_effects_all\n",
      "Deleted partition 2024-11-19 from ft-customer-analytics.crg_nniu.historical_normalized_removal_effects_all\n",
      "Deleted partition 2024-11-20 from ft-customer-analytics.crg_nniu.historical_normalized_removal_effects_all\n",
      "Deleted partition 2024-11-21 from ft-customer-analytics.crg_nniu.historical_normalized_removal_effects_all\n",
      "Deleted partition 2024-11-22 from ft-customer-analytics.crg_nniu.historical_normalized_removal_effects_all\n",
      "Deleted partition 2024-11-23 from ft-customer-analytics.crg_nniu.historical_normalized_removal_effects_all\n",
      "Deleted partition 2024-11-24 from ft-customer-analytics.crg_nniu.historical_normalized_removal_effects_all\n",
      "Deleted partition 2024-11-25 from ft-customer-analytics.crg_nniu.historical_normalized_removal_effects_all\n",
      "Deleted partition 2024-11-26 from ft-customer-analytics.crg_nniu.historical_normalized_removal_effects_all\n",
      "Deleted partition 2024-11-27 from ft-customer-analytics.crg_nniu.historical_normalized_removal_effects_all\n",
      "Deleted partition 2024-11-28 from ft-customer-analytics.crg_nniu.historical_normalized_removal_effects_all\n",
      "Deleted partition 2024-11-29 from ft-customer-analytics.crg_nniu.historical_normalized_removal_effects_all\n",
      "Deleted partition 2024-11-30 from ft-customer-analytics.crg_nniu.historical_normalized_removal_effects_all\n",
      "Deleted partition 2024-12-01 from ft-customer-analytics.crg_nniu.historical_normalized_removal_effects_all\n",
      "Deleted partition 2024-12-02 from ft-customer-analytics.crg_nniu.historical_normalized_removal_effects_all\n",
      "Deleted partition 2024-12-03 from ft-customer-analytics.crg_nniu.historical_normalized_removal_effects_all\n",
      "Deleted partition 2024-12-04 from ft-customer-analytics.crg_nniu.historical_normalized_removal_effects_all\n",
      "Deleted partition 2024-12-05 from ft-customer-analytics.crg_nniu.historical_normalized_removal_effects_all\n",
      "Deleted partition 2024-12-06 from ft-customer-analytics.crg_nniu.historical_normalized_removal_effects_all\n",
      "Deleted partition 2024-12-07 from ft-customer-analytics.crg_nniu.historical_normalized_removal_effects_all\n",
      "Deleted partition 2024-12-08 from ft-customer-analytics.crg_nniu.historical_normalized_removal_effects_all\n",
      "Deleted partition 2024-12-09 from ft-customer-analytics.crg_nniu.historical_normalized_removal_effects_all\n",
      "Deleted partition 2024-12-10 from ft-customer-analytics.crg_nniu.historical_normalized_removal_effects_all\n",
      "Deleted partition 2024-12-11 from ft-customer-analytics.crg_nniu.historical_normalized_removal_effects_all\n",
      "Deleted partition 2024-12-12 from ft-customer-analytics.crg_nniu.historical_normalized_removal_effects_all\n",
      "Deleted partition 2024-12-13 from ft-customer-analytics.crg_nniu.historical_normalized_removal_effects_all\n",
      "Deleted partition 2024-12-14 from ft-customer-analytics.crg_nniu.historical_normalized_removal_effects_all\n",
      "Deleted partition 2024-12-15 from ft-customer-analytics.crg_nniu.historical_normalized_removal_effects_all\n",
      "Deleted partition 2024-12-16 from ft-customer-analytics.crg_nniu.historical_normalized_removal_effects_all\n",
      "Deleted partition 2024-12-17 from ft-customer-analytics.crg_nniu.historical_normalized_removal_effects_all\n",
      "Deleted partition 2024-12-18 from ft-customer-analytics.crg_nniu.historical_normalized_removal_effects_all\n",
      "Deleted partition 2024-12-19 from ft-customer-analytics.crg_nniu.historical_normalized_removal_effects_all\n",
      "Deleted partition 2024-12-20 from ft-customer-analytics.crg_nniu.historical_normalized_removal_effects_all\n",
      "Deleted partition 2024-12-21 from ft-customer-analytics.crg_nniu.historical_normalized_removal_effects_all\n",
      "Deleted partition 2024-12-22 from ft-customer-analytics.crg_nniu.historical_normalized_removal_effects_all\n",
      "Deleted partition 2024-12-23 from ft-customer-analytics.crg_nniu.historical_normalized_removal_effects_all\n",
      "Deleted partition 2024-12-24 from ft-customer-analytics.crg_nniu.historical_normalized_removal_effects_all\n",
      "Deleted partition 2024-12-25 from ft-customer-analytics.crg_nniu.historical_normalized_removal_effects_all\n",
      "Deleted partition 2024-12-26 from ft-customer-analytics.crg_nniu.historical_normalized_removal_effects_all\n",
      "Deleted partition 2024-12-27 from ft-customer-analytics.crg_nniu.historical_normalized_removal_effects_all\n",
      "Deleted partition 2024-12-28 from ft-customer-analytics.crg_nniu.historical_normalized_removal_effects_all\n",
      "Deleted partition 2024-12-29 from ft-customer-analytics.crg_nniu.historical_normalized_removal_effects_all\n",
      "Deleted partition 2024-12-30 from ft-customer-analytics.crg_nniu.historical_normalized_removal_effects_all\n",
      "Deleted partition 2024-12-31 from ft-customer-analytics.crg_nniu.historical_normalized_removal_effects_all\n",
      "Deleted partition 2025-01-01 from ft-customer-analytics.crg_nniu.historical_normalized_removal_effects_all\n",
      "Deleted partition 2025-01-02 from ft-customer-analytics.crg_nniu.historical_normalized_removal_effects_all\n",
      "Deleted partition 2025-01-03 from ft-customer-analytics.crg_nniu.historical_normalized_removal_effects_all\n",
      "Deleted partition 2025-01-04 from ft-customer-analytics.crg_nniu.historical_normalized_removal_effects_all\n",
      "Deleted partition 2025-01-05 from ft-customer-analytics.crg_nniu.historical_normalized_removal_effects_all\n",
      "Deleted partition 2025-01-06 from ft-customer-analytics.crg_nniu.historical_normalized_removal_effects_all\n",
      "Deleted partition 2025-01-07 from ft-customer-analytics.crg_nniu.historical_normalized_removal_effects_all\n",
      "Deleted partition 2025-01-08 from ft-customer-analytics.crg_nniu.historical_normalized_removal_effects_all\n",
      "Deleted partition 2025-01-09 from ft-customer-analytics.crg_nniu.historical_normalized_removal_effects_all\n",
      "Deleted partition 2025-01-10 from ft-customer-analytics.crg_nniu.historical_normalized_removal_effects_all\n",
      "Deleted partition 2025-01-11 from ft-customer-analytics.crg_nniu.historical_normalized_removal_effects_all\n",
      "Deleted partition 2025-01-12 from ft-customer-analytics.crg_nniu.historical_normalized_removal_effects_all\n",
      "Deleted partition 2025-01-13 from ft-customer-analytics.crg_nniu.historical_normalized_removal_effects_all\n",
      "Deleted partition 2025-01-14 from ft-customer-analytics.crg_nniu.historical_normalized_removal_effects_all\n",
      "Loaded new data into ft-customer-analytics.crg_nniu.historical_normalized_removal_effects_all\n",
      "Deleted partition 2024-11-01 from ft-customer-analytics.crg_nniu.historical_user_df_all\n",
      "Deleted partition 2024-11-02 from ft-customer-analytics.crg_nniu.historical_user_df_all\n",
      "Deleted partition 2024-11-03 from ft-customer-analytics.crg_nniu.historical_user_df_all\n",
      "Deleted partition 2024-11-04 from ft-customer-analytics.crg_nniu.historical_user_df_all\n",
      "Deleted partition 2024-11-05 from ft-customer-analytics.crg_nniu.historical_user_df_all\n",
      "Deleted partition 2024-11-06 from ft-customer-analytics.crg_nniu.historical_user_df_all\n",
      "Deleted partition 2024-11-07 from ft-customer-analytics.crg_nniu.historical_user_df_all\n",
      "Deleted partition 2024-11-08 from ft-customer-analytics.crg_nniu.historical_user_df_all\n",
      "Deleted partition 2024-11-09 from ft-customer-analytics.crg_nniu.historical_user_df_all\n",
      "Deleted partition 2024-11-10 from ft-customer-analytics.crg_nniu.historical_user_df_all\n",
      "Deleted partition 2024-11-11 from ft-customer-analytics.crg_nniu.historical_user_df_all\n",
      "Deleted partition 2024-11-12 from ft-customer-analytics.crg_nniu.historical_user_df_all\n",
      "Deleted partition 2024-11-13 from ft-customer-analytics.crg_nniu.historical_user_df_all\n",
      "Deleted partition 2024-11-14 from ft-customer-analytics.crg_nniu.historical_user_df_all\n",
      "Deleted partition 2024-11-15 from ft-customer-analytics.crg_nniu.historical_user_df_all\n",
      "Deleted partition 2024-11-16 from ft-customer-analytics.crg_nniu.historical_user_df_all\n",
      "Deleted partition 2024-11-17 from ft-customer-analytics.crg_nniu.historical_user_df_all\n",
      "Deleted partition 2024-11-18 from ft-customer-analytics.crg_nniu.historical_user_df_all\n",
      "Deleted partition 2024-11-19 from ft-customer-analytics.crg_nniu.historical_user_df_all\n",
      "Deleted partition 2024-11-20 from ft-customer-analytics.crg_nniu.historical_user_df_all\n",
      "Deleted partition 2024-11-21 from ft-customer-analytics.crg_nniu.historical_user_df_all\n",
      "Deleted partition 2024-11-22 from ft-customer-analytics.crg_nniu.historical_user_df_all\n",
      "Deleted partition 2024-11-23 from ft-customer-analytics.crg_nniu.historical_user_df_all\n",
      "Deleted partition 2024-11-24 from ft-customer-analytics.crg_nniu.historical_user_df_all\n",
      "Deleted partition 2024-11-25 from ft-customer-analytics.crg_nniu.historical_user_df_all\n",
      "Deleted partition 2024-11-26 from ft-customer-analytics.crg_nniu.historical_user_df_all\n",
      "Deleted partition 2024-11-27 from ft-customer-analytics.crg_nniu.historical_user_df_all\n",
      "Deleted partition 2024-11-28 from ft-customer-analytics.crg_nniu.historical_user_df_all\n",
      "Deleted partition 2024-11-29 from ft-customer-analytics.crg_nniu.historical_user_df_all\n",
      "Deleted partition 2024-11-30 from ft-customer-analytics.crg_nniu.historical_user_df_all\n",
      "Deleted partition 2024-12-01 from ft-customer-analytics.crg_nniu.historical_user_df_all\n",
      "Deleted partition 2024-12-02 from ft-customer-analytics.crg_nniu.historical_user_df_all\n",
      "Deleted partition 2024-12-03 from ft-customer-analytics.crg_nniu.historical_user_df_all\n",
      "Deleted partition 2024-12-04 from ft-customer-analytics.crg_nniu.historical_user_df_all\n",
      "Deleted partition 2024-12-05 from ft-customer-analytics.crg_nniu.historical_user_df_all\n",
      "Deleted partition 2024-12-06 from ft-customer-analytics.crg_nniu.historical_user_df_all\n",
      "Deleted partition 2024-12-07 from ft-customer-analytics.crg_nniu.historical_user_df_all\n",
      "Deleted partition 2024-12-08 from ft-customer-analytics.crg_nniu.historical_user_df_all\n",
      "Deleted partition 2024-12-09 from ft-customer-analytics.crg_nniu.historical_user_df_all\n",
      "Deleted partition 2024-12-10 from ft-customer-analytics.crg_nniu.historical_user_df_all\n",
      "Deleted partition 2024-12-11 from ft-customer-analytics.crg_nniu.historical_user_df_all\n",
      "Deleted partition 2024-12-12 from ft-customer-analytics.crg_nniu.historical_user_df_all\n",
      "Deleted partition 2024-12-13 from ft-customer-analytics.crg_nniu.historical_user_df_all\n",
      "Deleted partition 2024-12-14 from ft-customer-analytics.crg_nniu.historical_user_df_all\n",
      "Deleted partition 2024-12-15 from ft-customer-analytics.crg_nniu.historical_user_df_all\n",
      "Deleted partition 2024-12-16 from ft-customer-analytics.crg_nniu.historical_user_df_all\n",
      "Deleted partition 2024-12-17 from ft-customer-analytics.crg_nniu.historical_user_df_all\n",
      "Deleted partition 2024-12-18 from ft-customer-analytics.crg_nniu.historical_user_df_all\n",
      "Deleted partition 2024-12-19 from ft-customer-analytics.crg_nniu.historical_user_df_all\n",
      "Deleted partition 2024-12-20 from ft-customer-analytics.crg_nniu.historical_user_df_all\n",
      "Deleted partition 2024-12-21 from ft-customer-analytics.crg_nniu.historical_user_df_all\n",
      "Deleted partition 2024-12-22 from ft-customer-analytics.crg_nniu.historical_user_df_all\n",
      "Deleted partition 2024-12-23 from ft-customer-analytics.crg_nniu.historical_user_df_all\n",
      "Deleted partition 2024-12-24 from ft-customer-analytics.crg_nniu.historical_user_df_all\n",
      "Deleted partition 2024-12-25 from ft-customer-analytics.crg_nniu.historical_user_df_all\n",
      "Deleted partition 2024-12-26 from ft-customer-analytics.crg_nniu.historical_user_df_all\n",
      "Deleted partition 2024-12-27 from ft-customer-analytics.crg_nniu.historical_user_df_all\n",
      "Deleted partition 2024-12-28 from ft-customer-analytics.crg_nniu.historical_user_df_all\n",
      "Deleted partition 2024-12-29 from ft-customer-analytics.crg_nniu.historical_user_df_all\n",
      "Deleted partition 2024-12-30 from ft-customer-analytics.crg_nniu.historical_user_df_all\n",
      "Deleted partition 2024-12-31 from ft-customer-analytics.crg_nniu.historical_user_df_all\n",
      "Deleted partition 2025-01-01 from ft-customer-analytics.crg_nniu.historical_user_df_all\n",
      "Deleted partition 2025-01-02 from ft-customer-analytics.crg_nniu.historical_user_df_all\n",
      "Deleted partition 2025-01-03 from ft-customer-analytics.crg_nniu.historical_user_df_all\n",
      "Deleted partition 2025-01-04 from ft-customer-analytics.crg_nniu.historical_user_df_all\n",
      "Deleted partition 2025-01-05 from ft-customer-analytics.crg_nniu.historical_user_df_all\n",
      "Deleted partition 2025-01-06 from ft-customer-analytics.crg_nniu.historical_user_df_all\n",
      "Deleted partition 2025-01-07 from ft-customer-analytics.crg_nniu.historical_user_df_all\n",
      "Deleted partition 2025-01-08 from ft-customer-analytics.crg_nniu.historical_user_df_all\n",
      "Deleted partition 2025-01-09 from ft-customer-analytics.crg_nniu.historical_user_df_all\n",
      "Deleted partition 2025-01-10 from ft-customer-analytics.crg_nniu.historical_user_df_all\n",
      "Deleted partition 2025-01-11 from ft-customer-analytics.crg_nniu.historical_user_df_all\n",
      "Deleted partition 2025-01-12 from ft-customer-analytics.crg_nniu.historical_user_df_all\n",
      "Deleted partition 2025-01-13 from ft-customer-analytics.crg_nniu.historical_user_df_all\n",
      "Deleted partition 2025-01-14 from ft-customer-analytics.crg_nniu.historical_user_df_all\n",
      "Loaded new data into ft-customer-analytics.crg_nniu.historical_user_df_all\n",
      "Deleted partition 2024-11-01 from ft-customer-analytics.crg_nniu.historical_attribution_df_all\n",
      "Deleted partition 2024-11-02 from ft-customer-analytics.crg_nniu.historical_attribution_df_all\n",
      "Deleted partition 2024-11-03 from ft-customer-analytics.crg_nniu.historical_attribution_df_all\n",
      "Deleted partition 2024-11-04 from ft-customer-analytics.crg_nniu.historical_attribution_df_all\n",
      "Deleted partition 2024-11-05 from ft-customer-analytics.crg_nniu.historical_attribution_df_all\n",
      "Deleted partition 2024-11-06 from ft-customer-analytics.crg_nniu.historical_attribution_df_all\n",
      "Deleted partition 2024-11-07 from ft-customer-analytics.crg_nniu.historical_attribution_df_all\n",
      "Deleted partition 2024-11-08 from ft-customer-analytics.crg_nniu.historical_attribution_df_all\n",
      "Deleted partition 2024-11-09 from ft-customer-analytics.crg_nniu.historical_attribution_df_all\n",
      "Deleted partition 2024-11-10 from ft-customer-analytics.crg_nniu.historical_attribution_df_all\n",
      "Deleted partition 2024-11-11 from ft-customer-analytics.crg_nniu.historical_attribution_df_all\n",
      "Deleted partition 2024-11-12 from ft-customer-analytics.crg_nniu.historical_attribution_df_all\n",
      "Deleted partition 2024-11-13 from ft-customer-analytics.crg_nniu.historical_attribution_df_all\n",
      "Deleted partition 2024-11-14 from ft-customer-analytics.crg_nniu.historical_attribution_df_all\n",
      "Deleted partition 2024-11-15 from ft-customer-analytics.crg_nniu.historical_attribution_df_all\n",
      "Deleted partition 2024-11-16 from ft-customer-analytics.crg_nniu.historical_attribution_df_all\n",
      "Deleted partition 2024-11-17 from ft-customer-analytics.crg_nniu.historical_attribution_df_all\n",
      "Deleted partition 2024-11-18 from ft-customer-analytics.crg_nniu.historical_attribution_df_all\n",
      "Deleted partition 2024-11-19 from ft-customer-analytics.crg_nniu.historical_attribution_df_all\n",
      "Deleted partition 2024-11-20 from ft-customer-analytics.crg_nniu.historical_attribution_df_all\n",
      "Deleted partition 2024-11-21 from ft-customer-analytics.crg_nniu.historical_attribution_df_all\n",
      "Deleted partition 2024-11-22 from ft-customer-analytics.crg_nniu.historical_attribution_df_all\n",
      "Deleted partition 2024-11-23 from ft-customer-analytics.crg_nniu.historical_attribution_df_all\n",
      "Deleted partition 2024-11-24 from ft-customer-analytics.crg_nniu.historical_attribution_df_all\n",
      "Deleted partition 2024-11-25 from ft-customer-analytics.crg_nniu.historical_attribution_df_all\n",
      "Deleted partition 2024-11-26 from ft-customer-analytics.crg_nniu.historical_attribution_df_all\n",
      "Deleted partition 2024-11-27 from ft-customer-analytics.crg_nniu.historical_attribution_df_all\n",
      "Deleted partition 2024-11-28 from ft-customer-analytics.crg_nniu.historical_attribution_df_all\n",
      "Deleted partition 2024-11-29 from ft-customer-analytics.crg_nniu.historical_attribution_df_all\n",
      "Deleted partition 2024-11-30 from ft-customer-analytics.crg_nniu.historical_attribution_df_all\n",
      "Deleted partition 2024-12-01 from ft-customer-analytics.crg_nniu.historical_attribution_df_all\n",
      "Deleted partition 2024-12-02 from ft-customer-analytics.crg_nniu.historical_attribution_df_all\n",
      "Deleted partition 2024-12-03 from ft-customer-analytics.crg_nniu.historical_attribution_df_all\n",
      "Deleted partition 2024-12-04 from ft-customer-analytics.crg_nniu.historical_attribution_df_all\n",
      "Deleted partition 2024-12-05 from ft-customer-analytics.crg_nniu.historical_attribution_df_all\n",
      "Deleted partition 2024-12-06 from ft-customer-analytics.crg_nniu.historical_attribution_df_all\n",
      "Deleted partition 2024-12-07 from ft-customer-analytics.crg_nniu.historical_attribution_df_all\n",
      "Deleted partition 2024-12-08 from ft-customer-analytics.crg_nniu.historical_attribution_df_all\n",
      "Deleted partition 2024-12-09 from ft-customer-analytics.crg_nniu.historical_attribution_df_all\n",
      "Deleted partition 2024-12-10 from ft-customer-analytics.crg_nniu.historical_attribution_df_all\n",
      "Deleted partition 2024-12-11 from ft-customer-analytics.crg_nniu.historical_attribution_df_all\n",
      "Deleted partition 2024-12-12 from ft-customer-analytics.crg_nniu.historical_attribution_df_all\n",
      "Deleted partition 2024-12-13 from ft-customer-analytics.crg_nniu.historical_attribution_df_all\n",
      "Deleted partition 2024-12-14 from ft-customer-analytics.crg_nniu.historical_attribution_df_all\n",
      "Deleted partition 2024-12-15 from ft-customer-analytics.crg_nniu.historical_attribution_df_all\n",
      "Deleted partition 2024-12-16 from ft-customer-analytics.crg_nniu.historical_attribution_df_all\n",
      "Deleted partition 2024-12-17 from ft-customer-analytics.crg_nniu.historical_attribution_df_all\n",
      "Deleted partition 2024-12-18 from ft-customer-analytics.crg_nniu.historical_attribution_df_all\n",
      "Deleted partition 2024-12-19 from ft-customer-analytics.crg_nniu.historical_attribution_df_all\n",
      "Deleted partition 2024-12-20 from ft-customer-analytics.crg_nniu.historical_attribution_df_all\n",
      "Deleted partition 2024-12-21 from ft-customer-analytics.crg_nniu.historical_attribution_df_all\n",
      "Deleted partition 2024-12-22 from ft-customer-analytics.crg_nniu.historical_attribution_df_all\n",
      "Deleted partition 2024-12-23 from ft-customer-analytics.crg_nniu.historical_attribution_df_all\n",
      "Deleted partition 2024-12-24 from ft-customer-analytics.crg_nniu.historical_attribution_df_all\n",
      "Deleted partition 2024-12-25 from ft-customer-analytics.crg_nniu.historical_attribution_df_all\n",
      "Deleted partition 2024-12-26 from ft-customer-analytics.crg_nniu.historical_attribution_df_all\n",
      "Deleted partition 2024-12-27 from ft-customer-analytics.crg_nniu.historical_attribution_df_all\n",
      "Deleted partition 2024-12-28 from ft-customer-analytics.crg_nniu.historical_attribution_df_all\n",
      "Deleted partition 2024-12-29 from ft-customer-analytics.crg_nniu.historical_attribution_df_all\n",
      "Deleted partition 2024-12-30 from ft-customer-analytics.crg_nniu.historical_attribution_df_all\n",
      "Deleted partition 2024-12-31 from ft-customer-analytics.crg_nniu.historical_attribution_df_all\n",
      "Deleted partition 2025-01-01 from ft-customer-analytics.crg_nniu.historical_attribution_df_all\n",
      "Deleted partition 2025-01-02 from ft-customer-analytics.crg_nniu.historical_attribution_df_all\n",
      "Deleted partition 2025-01-03 from ft-customer-analytics.crg_nniu.historical_attribution_df_all\n",
      "Deleted partition 2025-01-04 from ft-customer-analytics.crg_nniu.historical_attribution_df_all\n",
      "Deleted partition 2025-01-05 from ft-customer-analytics.crg_nniu.historical_attribution_df_all\n",
      "Deleted partition 2025-01-06 from ft-customer-analytics.crg_nniu.historical_attribution_df_all\n",
      "Deleted partition 2025-01-07 from ft-customer-analytics.crg_nniu.historical_attribution_df_all\n",
      "Deleted partition 2025-01-08 from ft-customer-analytics.crg_nniu.historical_attribution_df_all\n",
      "Deleted partition 2025-01-09 from ft-customer-analytics.crg_nniu.historical_attribution_df_all\n",
      "Deleted partition 2025-01-10 from ft-customer-analytics.crg_nniu.historical_attribution_df_all\n",
      "Deleted partition 2025-01-11 from ft-customer-analytics.crg_nniu.historical_attribution_df_all\n",
      "Deleted partition 2025-01-12 from ft-customer-analytics.crg_nniu.historical_attribution_df_all\n",
      "Deleted partition 2025-01-13 from ft-customer-analytics.crg_nniu.historical_attribution_df_all\n",
      "Deleted partition 2025-01-14 from ft-customer-analytics.crg_nniu.historical_attribution_df_all\n",
      "Loaded new data into ft-customer-analytics.crg_nniu.historical_attribution_df_all\n",
      "Error deleting partition 2024-11-01: 400 No matching signature for operator = for argument types: TIMESTAMP, DATE\n",
      "  Signature: T1 = T1\n",
      "    Unable to find common supertype for templated argument <T1>\n",
      "      Input types for <T1>: {DATE, TIMESTAMP} at [3:19]; reason: invalidQuery, location: query, message: No matching signature for operator = for argument types: TIMESTAMP, DATE\n",
      "  Signature: T1 = T1\n",
      "    Unable to find common supertype for templated argument <T1>\n",
      "      Input types for <T1>: {DATE, TIMESTAMP} at [3:19]\n",
      "\n",
      "Location: EU\n",
      "Job ID: 230a8cff-5bab-4b90-989f-71774cc64983\n",
      "\n",
      "Error deleting partition 2024-11-02: 400 No matching signature for operator = for argument types: TIMESTAMP, DATE\n",
      "  Signature: T1 = T1\n",
      "    Unable to find common supertype for templated argument <T1>\n",
      "      Input types for <T1>: {DATE, TIMESTAMP} at [3:19]; reason: invalidQuery, location: query, message: No matching signature for operator = for argument types: TIMESTAMP, DATE\n",
      "  Signature: T1 = T1\n",
      "    Unable to find common supertype for templated argument <T1>\n",
      "      Input types for <T1>: {DATE, TIMESTAMP} at [3:19]\n",
      "\n",
      "Location: EU\n",
      "Job ID: 4553ce9c-b171-48cd-91f5-b44dd45f2eca\n",
      "\n",
      "Error deleting partition 2024-11-03: 400 GET https://bigquery.googleapis.com/bigquery/v2/projects/ft-customer-analytics/queries/ae979b14-57d0-40ea-b589-0dee9358ed0d?maxResults=0&location=EU&prettyPrint=false: No matching signature for operator = for argument types: TIMESTAMP, DATE\n",
      "  Signature: T1 = T1\n",
      "    Unable to find common supertype for templated argument <T1>\n",
      "      Input types for <T1>: {DATE, TIMESTAMP} at [3:19]\n",
      "\n",
      "Location: EU\n",
      "Job ID: ae979b14-57d0-40ea-b589-0dee9358ed0d\n",
      "\n",
      "Error deleting partition 2024-11-04: 400 GET https://bigquery.googleapis.com/bigquery/v2/projects/ft-customer-analytics/queries/57786c88-c563-4e1e-b69f-6f7564673f5a?maxResults=0&location=EU&prettyPrint=false: No matching signature for operator = for argument types: TIMESTAMP, DATE\n",
      "  Signature: T1 = T1\n",
      "    Unable to find common supertype for templated argument <T1>\n",
      "      Input types for <T1>: {DATE, TIMESTAMP} at [3:19]\n",
      "\n",
      "Location: EU\n",
      "Job ID: 57786c88-c563-4e1e-b69f-6f7564673f5a\n",
      "\n",
      "Error deleting partition 2024-11-05: 400 GET https://bigquery.googleapis.com/bigquery/v2/projects/ft-customer-analytics/queries/d8f4b94c-cc3a-41c7-8c4f-fcb50e621448?maxResults=0&location=EU&prettyPrint=false: No matching signature for operator = for argument types: TIMESTAMP, DATE\n",
      "  Signature: T1 = T1\n",
      "    Unable to find common supertype for templated argument <T1>\n",
      "      Input types for <T1>: {DATE, TIMESTAMP} at [3:19]\n",
      "\n",
      "Location: EU\n",
      "Job ID: d8f4b94c-cc3a-41c7-8c4f-fcb50e621448\n",
      "\n",
      "Error deleting partition 2024-11-06: 400 GET https://bigquery.googleapis.com/bigquery/v2/projects/ft-customer-analytics/queries/43024e35-7f91-428f-b2c6-0eb54ac776c7?maxResults=0&location=EU&prettyPrint=false: No matching signature for operator = for argument types: TIMESTAMP, DATE\n",
      "  Signature: T1 = T1\n",
      "    Unable to find common supertype for templated argument <T1>\n",
      "      Input types for <T1>: {DATE, TIMESTAMP} at [3:19]\n",
      "\n",
      "Location: EU\n",
      "Job ID: 43024e35-7f91-428f-b2c6-0eb54ac776c7\n",
      "\n",
      "Error deleting partition 2024-11-07: 400 No matching signature for operator = for argument types: TIMESTAMP, DATE\n",
      "  Signature: T1 = T1\n",
      "    Unable to find common supertype for templated argument <T1>\n",
      "      Input types for <T1>: {DATE, TIMESTAMP} at [3:19]; reason: invalidQuery, location: query, message: No matching signature for operator = for argument types: TIMESTAMP, DATE\n",
      "  Signature: T1 = T1\n",
      "    Unable to find common supertype for templated argument <T1>\n",
      "      Input types for <T1>: {DATE, TIMESTAMP} at [3:19]\n",
      "\n",
      "Location: EU\n",
      "Job ID: cf04d77c-59aa-4291-bbe5-024871ee3e9c\n",
      "\n",
      "Error deleting partition 2024-11-08: 400 GET https://bigquery.googleapis.com/bigquery/v2/projects/ft-customer-analytics/queries/3cdfd3b7-726b-49c9-b084-54821edda94c?maxResults=0&location=EU&prettyPrint=false: No matching signature for operator = for argument types: TIMESTAMP, DATE\n",
      "  Signature: T1 = T1\n",
      "    Unable to find common supertype for templated argument <T1>\n",
      "      Input types for <T1>: {DATE, TIMESTAMP} at [3:19]\n",
      "\n",
      "Location: EU\n",
      "Job ID: 3cdfd3b7-726b-49c9-b084-54821edda94c\n",
      "\n",
      "Error deleting partition 2024-11-09: 400 GET https://bigquery.googleapis.com/bigquery/v2/projects/ft-customer-analytics/queries/8e7daf46-91d2-4049-859a-6447dfe94793?maxResults=0&location=EU&prettyPrint=false: No matching signature for operator = for argument types: TIMESTAMP, DATE\n",
      "  Signature: T1 = T1\n",
      "    Unable to find common supertype for templated argument <T1>\n",
      "      Input types for <T1>: {DATE, TIMESTAMP} at [3:19]\n",
      "\n",
      "Location: EU\n",
      "Job ID: 8e7daf46-91d2-4049-859a-6447dfe94793\n",
      "\n",
      "Error deleting partition 2024-11-10: 400 No matching signature for operator = for argument types: TIMESTAMP, DATE\n",
      "  Signature: T1 = T1\n",
      "    Unable to find common supertype for templated argument <T1>\n",
      "      Input types for <T1>: {DATE, TIMESTAMP} at [3:19]; reason: invalidQuery, location: query, message: No matching signature for operator = for argument types: TIMESTAMP, DATE\n",
      "  Signature: T1 = T1\n",
      "    Unable to find common supertype for templated argument <T1>\n",
      "      Input types for <T1>: {DATE, TIMESTAMP} at [3:19]\n",
      "\n",
      "Location: EU\n",
      "Job ID: 07c8123c-e812-4947-9b64-86358ca13814\n",
      "\n",
      "Error deleting partition 2024-11-11: 400 GET https://bigquery.googleapis.com/bigquery/v2/projects/ft-customer-analytics/queries/07c5b7cf-b211-459c-a145-8ec1c5742959?maxResults=0&location=EU&prettyPrint=false: No matching signature for operator = for argument types: TIMESTAMP, DATE\n",
      "  Signature: T1 = T1\n",
      "    Unable to find common supertype for templated argument <T1>\n",
      "      Input types for <T1>: {DATE, TIMESTAMP} at [3:19]\n",
      "\n",
      "Location: EU\n",
      "Job ID: 07c5b7cf-b211-459c-a145-8ec1c5742959\n",
      "\n",
      "Error deleting partition 2024-11-12: 400 GET https://bigquery.googleapis.com/bigquery/v2/projects/ft-customer-analytics/queries/180849e3-0709-4b1c-b7f7-bddc67edc8a3?maxResults=0&location=EU&prettyPrint=false: No matching signature for operator = for argument types: TIMESTAMP, DATE\n",
      "  Signature: T1 = T1\n",
      "    Unable to find common supertype for templated argument <T1>\n",
      "      Input types for <T1>: {DATE, TIMESTAMP} at [3:19]\n",
      "\n",
      "Location: EU\n",
      "Job ID: 180849e3-0709-4b1c-b7f7-bddc67edc8a3\n",
      "\n",
      "Error deleting partition 2024-11-13: 400 GET https://bigquery.googleapis.com/bigquery/v2/projects/ft-customer-analytics/queries/82e6b388-1a93-45c4-8dcb-f2174e17c198?maxResults=0&location=EU&prettyPrint=false: No matching signature for operator = for argument types: TIMESTAMP, DATE\n",
      "  Signature: T1 = T1\n",
      "    Unable to find common supertype for templated argument <T1>\n",
      "      Input types for <T1>: {DATE, TIMESTAMP} at [3:19]\n",
      "\n",
      "Location: EU\n",
      "Job ID: 82e6b388-1a93-45c4-8dcb-f2174e17c198\n",
      "\n",
      "Error deleting partition 2024-11-14: 400 GET https://bigquery.googleapis.com/bigquery/v2/projects/ft-customer-analytics/queries/b882aeb3-184b-4d1e-b0be-f1f10cc3de56?maxResults=0&location=EU&prettyPrint=false: No matching signature for operator = for argument types: TIMESTAMP, DATE\n",
      "  Signature: T1 = T1\n",
      "    Unable to find common supertype for templated argument <T1>\n",
      "      Input types for <T1>: {DATE, TIMESTAMP} at [3:19]\n",
      "\n",
      "Location: EU\n",
      "Job ID: b882aeb3-184b-4d1e-b0be-f1f10cc3de56\n",
      "\n",
      "Error deleting partition 2024-11-15: 400 GET https://bigquery.googleapis.com/bigquery/v2/projects/ft-customer-analytics/queries/3bcb53b4-49c1-46e2-85f1-cff5dd915cf0?maxResults=0&location=EU&prettyPrint=false: No matching signature for operator = for argument types: TIMESTAMP, DATE\n",
      "  Signature: T1 = T1\n",
      "    Unable to find common supertype for templated argument <T1>\n",
      "      Input types for <T1>: {DATE, TIMESTAMP} at [3:19]\n",
      "\n",
      "Location: EU\n",
      "Job ID: 3bcb53b4-49c1-46e2-85f1-cff5dd915cf0\n",
      "\n",
      "Error deleting partition 2024-11-16: 400 GET https://bigquery.googleapis.com/bigquery/v2/projects/ft-customer-analytics/queries/458391aa-7435-4a00-8e33-9e50aa02ac46?maxResults=0&location=EU&prettyPrint=false: No matching signature for operator = for argument types: TIMESTAMP, DATE\n",
      "  Signature: T1 = T1\n",
      "    Unable to find common supertype for templated argument <T1>\n",
      "      Input types for <T1>: {DATE, TIMESTAMP} at [3:19]\n",
      "\n",
      "Location: EU\n",
      "Job ID: 458391aa-7435-4a00-8e33-9e50aa02ac46\n",
      "\n",
      "Error deleting partition 2024-11-17: 400 GET https://bigquery.googleapis.com/bigquery/v2/projects/ft-customer-analytics/queries/9cc76a7f-35ab-4981-9dfc-6cc00e36bb0b?maxResults=0&location=EU&prettyPrint=false: No matching signature for operator = for argument types: TIMESTAMP, DATE\n",
      "  Signature: T1 = T1\n",
      "    Unable to find common supertype for templated argument <T1>\n",
      "      Input types for <T1>: {DATE, TIMESTAMP} at [3:19]\n",
      "\n",
      "Location: EU\n",
      "Job ID: 9cc76a7f-35ab-4981-9dfc-6cc00e36bb0b\n",
      "\n",
      "Error deleting partition 2024-11-18: 400 GET https://bigquery.googleapis.com/bigquery/v2/projects/ft-customer-analytics/queries/d01ed61b-6c1a-4024-96ae-db680068d3de?maxResults=0&location=EU&prettyPrint=false: No matching signature for operator = for argument types: TIMESTAMP, DATE\n",
      "  Signature: T1 = T1\n",
      "    Unable to find common supertype for templated argument <T1>\n",
      "      Input types for <T1>: {DATE, TIMESTAMP} at [3:19]\n",
      "\n",
      "Location: EU\n",
      "Job ID: d01ed61b-6c1a-4024-96ae-db680068d3de\n",
      "\n",
      "Error deleting partition 2024-11-19: 400 No matching signature for operator = for argument types: TIMESTAMP, DATE\n",
      "  Signature: T1 = T1\n",
      "    Unable to find common supertype for templated argument <T1>\n",
      "      Input types for <T1>: {DATE, TIMESTAMP} at [3:19]; reason: invalidQuery, location: query, message: No matching signature for operator = for argument types: TIMESTAMP, DATE\n",
      "  Signature: T1 = T1\n",
      "    Unable to find common supertype for templated argument <T1>\n",
      "      Input types for <T1>: {DATE, TIMESTAMP} at [3:19]\n",
      "\n",
      "Location: EU\n",
      "Job ID: a4bfe87b-f752-44ac-82ca-3f3d23cffbf8\n",
      "\n",
      "Error deleting partition 2024-11-20: 400 No matching signature for operator = for argument types: TIMESTAMP, DATE\n",
      "  Signature: T1 = T1\n",
      "    Unable to find common supertype for templated argument <T1>\n",
      "      Input types for <T1>: {DATE, TIMESTAMP} at [3:19]; reason: invalidQuery, location: query, message: No matching signature for operator = for argument types: TIMESTAMP, DATE\n",
      "  Signature: T1 = T1\n",
      "    Unable to find common supertype for templated argument <T1>\n",
      "      Input types for <T1>: {DATE, TIMESTAMP} at [3:19]\n",
      "\n",
      "Location: EU\n",
      "Job ID: 88db4dd7-7bd1-4b08-b5d8-8f217480b32e\n",
      "\n",
      "Error deleting partition 2024-11-21: 400 GET https://bigquery.googleapis.com/bigquery/v2/projects/ft-customer-analytics/queries/eaf14853-5591-4705-9a7f-525f09e22f9e?maxResults=0&location=EU&prettyPrint=false: No matching signature for operator = for argument types: TIMESTAMP, DATE\n",
      "  Signature: T1 = T1\n",
      "    Unable to find common supertype for templated argument <T1>\n",
      "      Input types for <T1>: {DATE, TIMESTAMP} at [3:19]\n",
      "\n",
      "Location: EU\n",
      "Job ID: eaf14853-5591-4705-9a7f-525f09e22f9e\n",
      "\n",
      "Error deleting partition 2024-11-22: 400 GET https://bigquery.googleapis.com/bigquery/v2/projects/ft-customer-analytics/queries/a095ff6b-8ec5-4b6f-ac7b-8489d6dfe5b4?maxResults=0&location=EU&prettyPrint=false: No matching signature for operator = for argument types: TIMESTAMP, DATE\n",
      "  Signature: T1 = T1\n",
      "    Unable to find common supertype for templated argument <T1>\n",
      "      Input types for <T1>: {DATE, TIMESTAMP} at [3:19]\n",
      "\n",
      "Location: EU\n",
      "Job ID: a095ff6b-8ec5-4b6f-ac7b-8489d6dfe5b4\n",
      "\n",
      "Error deleting partition 2024-11-23: 400 No matching signature for operator = for argument types: TIMESTAMP, DATE\n",
      "  Signature: T1 = T1\n",
      "    Unable to find common supertype for templated argument <T1>\n",
      "      Input types for <T1>: {DATE, TIMESTAMP} at [3:19]; reason: invalidQuery, location: query, message: No matching signature for operator = for argument types: TIMESTAMP, DATE\n",
      "  Signature: T1 = T1\n",
      "    Unable to find common supertype for templated argument <T1>\n",
      "      Input types for <T1>: {DATE, TIMESTAMP} at [3:19]\n",
      "\n",
      "Location: EU\n",
      "Job ID: 31ef7378-6be6-41e4-83c8-b77652c76716\n",
      "\n",
      "Error deleting partition 2024-11-24: 400 GET https://bigquery.googleapis.com/bigquery/v2/projects/ft-customer-analytics/queries/2bd06503-ed60-4d10-b957-286db12357a4?maxResults=0&location=EU&prettyPrint=false: No matching signature for operator = for argument types: TIMESTAMP, DATE\n",
      "  Signature: T1 = T1\n",
      "    Unable to find common supertype for templated argument <T1>\n",
      "      Input types for <T1>: {DATE, TIMESTAMP} at [3:19]\n",
      "\n",
      "Location: EU\n",
      "Job ID: 2bd06503-ed60-4d10-b957-286db12357a4\n",
      "\n",
      "Error deleting partition 2024-11-25: 400 GET https://bigquery.googleapis.com/bigquery/v2/projects/ft-customer-analytics/queries/318622ec-3b0f-4fbb-8fd3-b46512d0c046?maxResults=0&location=EU&prettyPrint=false: No matching signature for operator = for argument types: TIMESTAMP, DATE\n",
      "  Signature: T1 = T1\n",
      "    Unable to find common supertype for templated argument <T1>\n",
      "      Input types for <T1>: {DATE, TIMESTAMP} at [3:19]\n",
      "\n",
      "Location: EU\n",
      "Job ID: 318622ec-3b0f-4fbb-8fd3-b46512d0c046\n",
      "\n",
      "Error deleting partition 2024-11-26: 400 GET https://bigquery.googleapis.com/bigquery/v2/projects/ft-customer-analytics/queries/fec3ade5-49b1-45e6-a4cf-b8fa1afb0003?maxResults=0&location=EU&prettyPrint=false: No matching signature for operator = for argument types: TIMESTAMP, DATE\n",
      "  Signature: T1 = T1\n",
      "    Unable to find common supertype for templated argument <T1>\n",
      "      Input types for <T1>: {DATE, TIMESTAMP} at [3:19]\n",
      "\n",
      "Location: EU\n",
      "Job ID: fec3ade5-49b1-45e6-a4cf-b8fa1afb0003\n",
      "\n",
      "Error deleting partition 2024-11-27: 400 GET https://bigquery.googleapis.com/bigquery/v2/projects/ft-customer-analytics/queries/d4d442a1-3b1d-42ad-a89c-f88827103ca9?maxResults=0&location=EU&prettyPrint=false: No matching signature for operator = for argument types: TIMESTAMP, DATE\n",
      "  Signature: T1 = T1\n",
      "    Unable to find common supertype for templated argument <T1>\n",
      "      Input types for <T1>: {DATE, TIMESTAMP} at [3:19]\n",
      "\n",
      "Location: EU\n",
      "Job ID: d4d442a1-3b1d-42ad-a89c-f88827103ca9\n",
      "\n",
      "Error deleting partition 2024-11-28: 400 GET https://bigquery.googleapis.com/bigquery/v2/projects/ft-customer-analytics/queries/bc380fa8-76e7-4166-9bb5-0811a0aa8161?maxResults=0&location=EU&prettyPrint=false: No matching signature for operator = for argument types: TIMESTAMP, DATE\n",
      "  Signature: T1 = T1\n",
      "    Unable to find common supertype for templated argument <T1>\n",
      "      Input types for <T1>: {DATE, TIMESTAMP} at [3:19]\n",
      "\n",
      "Location: EU\n",
      "Job ID: bc380fa8-76e7-4166-9bb5-0811a0aa8161\n",
      "\n",
      "Error deleting partition 2024-11-29: 400 GET https://bigquery.googleapis.com/bigquery/v2/projects/ft-customer-analytics/queries/d936e715-67b3-439b-b0ab-dbb52ba37083?maxResults=0&location=EU&prettyPrint=false: No matching signature for operator = for argument types: TIMESTAMP, DATE\n",
      "  Signature: T1 = T1\n",
      "    Unable to find common supertype for templated argument <T1>\n",
      "      Input types for <T1>: {DATE, TIMESTAMP} at [3:19]\n",
      "\n",
      "Location: EU\n",
      "Job ID: d936e715-67b3-439b-b0ab-dbb52ba37083\n",
      "\n",
      "Error deleting partition 2024-11-30: 400 GET https://bigquery.googleapis.com/bigquery/v2/projects/ft-customer-analytics/queries/b5dec16d-b991-4ca7-8e7b-85bd96dea07a?maxResults=0&location=EU&prettyPrint=false: No matching signature for operator = for argument types: TIMESTAMP, DATE\n",
      "  Signature: T1 = T1\n",
      "    Unable to find common supertype for templated argument <T1>\n",
      "      Input types for <T1>: {DATE, TIMESTAMP} at [3:19]\n",
      "\n",
      "Location: EU\n",
      "Job ID: b5dec16d-b991-4ca7-8e7b-85bd96dea07a\n",
      "\n",
      "Error deleting partition 2024-12-01: 400 GET https://bigquery.googleapis.com/bigquery/v2/projects/ft-customer-analytics/queries/14dffd88-79f3-4bf0-8c41-7f9c21b2de30?maxResults=0&location=EU&prettyPrint=false: No matching signature for operator = for argument types: TIMESTAMP, DATE\n",
      "  Signature: T1 = T1\n",
      "    Unable to find common supertype for templated argument <T1>\n",
      "      Input types for <T1>: {DATE, TIMESTAMP} at [3:19]\n",
      "\n",
      "Location: EU\n",
      "Job ID: 14dffd88-79f3-4bf0-8c41-7f9c21b2de30\n",
      "\n",
      "Error deleting partition 2024-12-02: 400 GET https://bigquery.googleapis.com/bigquery/v2/projects/ft-customer-analytics/queries/4e030ecc-f4bf-4cf3-aac0-8d1f0dd58e5d?maxResults=0&location=EU&prettyPrint=false: No matching signature for operator = for argument types: TIMESTAMP, DATE\n",
      "  Signature: T1 = T1\n",
      "    Unable to find common supertype for templated argument <T1>\n",
      "      Input types for <T1>: {DATE, TIMESTAMP} at [3:19]\n",
      "\n",
      "Location: EU\n",
      "Job ID: 4e030ecc-f4bf-4cf3-aac0-8d1f0dd58e5d\n",
      "\n",
      "Error deleting partition 2024-12-03: 400 GET https://bigquery.googleapis.com/bigquery/v2/projects/ft-customer-analytics/queries/fff20c7e-a04f-49ad-adb7-197f99650c77?maxResults=0&location=EU&prettyPrint=false: No matching signature for operator = for argument types: TIMESTAMP, DATE\n",
      "  Signature: T1 = T1\n",
      "    Unable to find common supertype for templated argument <T1>\n",
      "      Input types for <T1>: {DATE, TIMESTAMP} at [3:19]\n",
      "\n",
      "Location: EU\n",
      "Job ID: fff20c7e-a04f-49ad-adb7-197f99650c77\n",
      "\n",
      "Error deleting partition 2024-12-04: 400 No matching signature for operator = for argument types: TIMESTAMP, DATE\n",
      "  Signature: T1 = T1\n",
      "    Unable to find common supertype for templated argument <T1>\n",
      "      Input types for <T1>: {DATE, TIMESTAMP} at [3:19]; reason: invalidQuery, location: query, message: No matching signature for operator = for argument types: TIMESTAMP, DATE\n",
      "  Signature: T1 = T1\n",
      "    Unable to find common supertype for templated argument <T1>\n",
      "      Input types for <T1>: {DATE, TIMESTAMP} at [3:19]\n",
      "\n",
      "Location: EU\n",
      "Job ID: 93a86154-8d93-4e98-8f2d-bab7c6780e75\n",
      "\n",
      "Error deleting partition 2024-12-05: 400 GET https://bigquery.googleapis.com/bigquery/v2/projects/ft-customer-analytics/queries/3c7962b6-f97e-4626-b045-500ef01ae8dc?maxResults=0&location=EU&prettyPrint=false: No matching signature for operator = for argument types: TIMESTAMP, DATE\n",
      "  Signature: T1 = T1\n",
      "    Unable to find common supertype for templated argument <T1>\n",
      "      Input types for <T1>: {DATE, TIMESTAMP} at [3:19]\n",
      "\n",
      "Location: EU\n",
      "Job ID: 3c7962b6-f97e-4626-b045-500ef01ae8dc\n",
      "\n",
      "Error deleting partition 2024-12-06: 400 GET https://bigquery.googleapis.com/bigquery/v2/projects/ft-customer-analytics/queries/20f4a427-6b79-41d8-99f9-c07afeaf49ac?maxResults=0&location=EU&prettyPrint=false: No matching signature for operator = for argument types: TIMESTAMP, DATE\n",
      "  Signature: T1 = T1\n",
      "    Unable to find common supertype for templated argument <T1>\n",
      "      Input types for <T1>: {DATE, TIMESTAMP} at [3:19]\n",
      "\n",
      "Location: EU\n",
      "Job ID: 20f4a427-6b79-41d8-99f9-c07afeaf49ac\n",
      "\n",
      "Error deleting partition 2024-12-07: 400 GET https://bigquery.googleapis.com/bigquery/v2/projects/ft-customer-analytics/queries/62ae721b-4e1f-442d-8f06-b6f2463e4013?maxResults=0&location=EU&prettyPrint=false: No matching signature for operator = for argument types: TIMESTAMP, DATE\n",
      "  Signature: T1 = T1\n",
      "    Unable to find common supertype for templated argument <T1>\n",
      "      Input types for <T1>: {DATE, TIMESTAMP} at [3:19]\n",
      "\n",
      "Location: EU\n",
      "Job ID: 62ae721b-4e1f-442d-8f06-b6f2463e4013\n",
      "\n",
      "Error deleting partition 2024-12-08: 400 GET https://bigquery.googleapis.com/bigquery/v2/projects/ft-customer-analytics/queries/839c1747-1b26-402c-88e3-fc40bf2b164d?maxResults=0&location=EU&prettyPrint=false: No matching signature for operator = for argument types: TIMESTAMP, DATE\n",
      "  Signature: T1 = T1\n",
      "    Unable to find common supertype for templated argument <T1>\n",
      "      Input types for <T1>: {DATE, TIMESTAMP} at [3:19]\n",
      "\n",
      "Location: EU\n",
      "Job ID: 839c1747-1b26-402c-88e3-fc40bf2b164d\n",
      "\n",
      "Error deleting partition 2024-12-09: 400 No matching signature for operator = for argument types: TIMESTAMP, DATE\n",
      "  Signature: T1 = T1\n",
      "    Unable to find common supertype for templated argument <T1>\n",
      "      Input types for <T1>: {DATE, TIMESTAMP} at [3:19]; reason: invalidQuery, location: query, message: No matching signature for operator = for argument types: TIMESTAMP, DATE\n",
      "  Signature: T1 = T1\n",
      "    Unable to find common supertype for templated argument <T1>\n",
      "      Input types for <T1>: {DATE, TIMESTAMP} at [3:19]\n",
      "\n",
      "Location: EU\n",
      "Job ID: 2a2d93fc-ba45-4e9f-b8bc-044140b889e0\n",
      "\n",
      "Error deleting partition 2024-12-10: 400 GET https://bigquery.googleapis.com/bigquery/v2/projects/ft-customer-analytics/queries/a9f8b9ea-5d0b-4094-beb8-9757cbaecc54?maxResults=0&location=EU&prettyPrint=false: No matching signature for operator = for argument types: TIMESTAMP, DATE\n",
      "  Signature: T1 = T1\n",
      "    Unable to find common supertype for templated argument <T1>\n",
      "      Input types for <T1>: {DATE, TIMESTAMP} at [3:19]\n",
      "\n",
      "Location: EU\n",
      "Job ID: a9f8b9ea-5d0b-4094-beb8-9757cbaecc54\n",
      "\n",
      "Error deleting partition 2024-12-11: 400 No matching signature for operator = for argument types: TIMESTAMP, DATE\n",
      "  Signature: T1 = T1\n",
      "    Unable to find common supertype for templated argument <T1>\n",
      "      Input types for <T1>: {DATE, TIMESTAMP} at [3:19]; reason: invalidQuery, location: query, message: No matching signature for operator = for argument types: TIMESTAMP, DATE\n",
      "  Signature: T1 = T1\n",
      "    Unable to find common supertype for templated argument <T1>\n",
      "      Input types for <T1>: {DATE, TIMESTAMP} at [3:19]\n",
      "\n",
      "Location: EU\n",
      "Job ID: fa2853b5-95c1-486a-9945-e58c45a331e4\n",
      "\n",
      "Error deleting partition 2024-12-12: 400 GET https://bigquery.googleapis.com/bigquery/v2/projects/ft-customer-analytics/queries/2065f3a3-3f22-4e19-a2b5-30819c6a3f0d?maxResults=0&location=EU&prettyPrint=false: No matching signature for operator = for argument types: TIMESTAMP, DATE\n",
      "  Signature: T1 = T1\n",
      "    Unable to find common supertype for templated argument <T1>\n",
      "      Input types for <T1>: {DATE, TIMESTAMP} at [3:19]\n",
      "\n",
      "Location: EU\n",
      "Job ID: 2065f3a3-3f22-4e19-a2b5-30819c6a3f0d\n",
      "\n",
      "Error deleting partition 2024-12-13: 400 GET https://bigquery.googleapis.com/bigquery/v2/projects/ft-customer-analytics/queries/54a1bfad-8bfc-495d-a1c1-190f0176a06a?maxResults=0&location=EU&prettyPrint=false: No matching signature for operator = for argument types: TIMESTAMP, DATE\n",
      "  Signature: T1 = T1\n",
      "    Unable to find common supertype for templated argument <T1>\n",
      "      Input types for <T1>: {DATE, TIMESTAMP} at [3:19]\n",
      "\n",
      "Location: EU\n",
      "Job ID: 54a1bfad-8bfc-495d-a1c1-190f0176a06a\n",
      "\n",
      "Error deleting partition 2024-12-14: 400 GET https://bigquery.googleapis.com/bigquery/v2/projects/ft-customer-analytics/queries/cf34b22e-ceca-45f5-bdcd-b84b9f05df3a?maxResults=0&location=EU&prettyPrint=false: No matching signature for operator = for argument types: TIMESTAMP, DATE\n",
      "  Signature: T1 = T1\n",
      "    Unable to find common supertype for templated argument <T1>\n",
      "      Input types for <T1>: {DATE, TIMESTAMP} at [3:19]\n",
      "\n",
      "Location: EU\n",
      "Job ID: cf34b22e-ceca-45f5-bdcd-b84b9f05df3a\n",
      "\n",
      "Error deleting partition 2024-12-15: 400 No matching signature for operator = for argument types: TIMESTAMP, DATE\n",
      "  Signature: T1 = T1\n",
      "    Unable to find common supertype for templated argument <T1>\n",
      "      Input types for <T1>: {DATE, TIMESTAMP} at [3:19]; reason: invalidQuery, location: query, message: No matching signature for operator = for argument types: TIMESTAMP, DATE\n",
      "  Signature: T1 = T1\n",
      "    Unable to find common supertype for templated argument <T1>\n",
      "      Input types for <T1>: {DATE, TIMESTAMP} at [3:19]\n",
      "\n",
      "Location: EU\n",
      "Job ID: 5bd018fa-8a1c-4e38-9b7b-704cf464e940\n",
      "\n",
      "Error deleting partition 2024-12-16: 400 No matching signature for operator = for argument types: TIMESTAMP, DATE\n",
      "  Signature: T1 = T1\n",
      "    Unable to find common supertype for templated argument <T1>\n",
      "      Input types for <T1>: {DATE, TIMESTAMP} at [3:19]; reason: invalidQuery, location: query, message: No matching signature for operator = for argument types: TIMESTAMP, DATE\n",
      "  Signature: T1 = T1\n",
      "    Unable to find common supertype for templated argument <T1>\n",
      "      Input types for <T1>: {DATE, TIMESTAMP} at [3:19]\n",
      "\n",
      "Location: EU\n",
      "Job ID: 09f8d1fa-c15f-45a7-9d2e-716391c51f4f\n",
      "\n",
      "Error deleting partition 2024-12-17: 400 GET https://bigquery.googleapis.com/bigquery/v2/projects/ft-customer-analytics/queries/9b2b8e2b-2030-4c64-a871-d020429fb915?maxResults=0&location=EU&prettyPrint=false: No matching signature for operator = for argument types: TIMESTAMP, DATE\n",
      "  Signature: T1 = T1\n",
      "    Unable to find common supertype for templated argument <T1>\n",
      "      Input types for <T1>: {DATE, TIMESTAMP} at [3:19]\n",
      "\n",
      "Location: EU\n",
      "Job ID: 9b2b8e2b-2030-4c64-a871-d020429fb915\n",
      "\n",
      "Error deleting partition 2024-12-18: 400 GET https://bigquery.googleapis.com/bigquery/v2/projects/ft-customer-analytics/queries/3ce3dcbd-8a19-4567-a27e-ba41e03169a2?maxResults=0&location=EU&prettyPrint=false: No matching signature for operator = for argument types: TIMESTAMP, DATE\n",
      "  Signature: T1 = T1\n",
      "    Unable to find common supertype for templated argument <T1>\n",
      "      Input types for <T1>: {DATE, TIMESTAMP} at [3:19]\n",
      "\n",
      "Location: EU\n",
      "Job ID: 3ce3dcbd-8a19-4567-a27e-ba41e03169a2\n",
      "\n",
      "Error deleting partition 2024-12-19: 400 No matching signature for operator = for argument types: TIMESTAMP, DATE\n",
      "  Signature: T1 = T1\n",
      "    Unable to find common supertype for templated argument <T1>\n",
      "      Input types for <T1>: {DATE, TIMESTAMP} at [3:19]; reason: invalidQuery, location: query, message: No matching signature for operator = for argument types: TIMESTAMP, DATE\n",
      "  Signature: T1 = T1\n",
      "    Unable to find common supertype for templated argument <T1>\n",
      "      Input types for <T1>: {DATE, TIMESTAMP} at [3:19]\n",
      "\n",
      "Location: EU\n",
      "Job ID: 4e2efdbd-9a05-408f-adea-7fcde6cfdd6f\n",
      "\n",
      "Error deleting partition 2024-12-20: 400 No matching signature for operator = for argument types: TIMESTAMP, DATE\n",
      "  Signature: T1 = T1\n",
      "    Unable to find common supertype for templated argument <T1>\n",
      "      Input types for <T1>: {DATE, TIMESTAMP} at [3:19]; reason: invalidQuery, location: query, message: No matching signature for operator = for argument types: TIMESTAMP, DATE\n",
      "  Signature: T1 = T1\n",
      "    Unable to find common supertype for templated argument <T1>\n",
      "      Input types for <T1>: {DATE, TIMESTAMP} at [3:19]\n",
      "\n",
      "Location: EU\n",
      "Job ID: 2010964f-b565-4c02-8f58-964d19eab88a\n",
      "\n",
      "Error deleting partition 2024-12-21: 400 GET https://bigquery.googleapis.com/bigquery/v2/projects/ft-customer-analytics/queries/d8cdd75c-dfeb-4dfd-bdca-8df407ff2c46?maxResults=0&location=EU&prettyPrint=false: No matching signature for operator = for argument types: TIMESTAMP, DATE\n",
      "  Signature: T1 = T1\n",
      "    Unable to find common supertype for templated argument <T1>\n",
      "      Input types for <T1>: {DATE, TIMESTAMP} at [3:19]\n",
      "\n",
      "Location: EU\n",
      "Job ID: d8cdd75c-dfeb-4dfd-bdca-8df407ff2c46\n",
      "\n",
      "Error deleting partition 2024-12-22: 400 No matching signature for operator = for argument types: TIMESTAMP, DATE\n",
      "  Signature: T1 = T1\n",
      "    Unable to find common supertype for templated argument <T1>\n",
      "      Input types for <T1>: {DATE, TIMESTAMP} at [3:19]; reason: invalidQuery, location: query, message: No matching signature for operator = for argument types: TIMESTAMP, DATE\n",
      "  Signature: T1 = T1\n",
      "    Unable to find common supertype for templated argument <T1>\n",
      "      Input types for <T1>: {DATE, TIMESTAMP} at [3:19]\n",
      "\n",
      "Location: EU\n",
      "Job ID: 3803cb2a-03c2-49a3-a077-f56dda4aafca\n",
      "\n",
      "Error deleting partition 2024-12-23: 400 GET https://bigquery.googleapis.com/bigquery/v2/projects/ft-customer-analytics/queries/f5df0c85-8637-44fb-b590-55fb0fe1b431?maxResults=0&location=EU&prettyPrint=false: No matching signature for operator = for argument types: TIMESTAMP, DATE\n",
      "  Signature: T1 = T1\n",
      "    Unable to find common supertype for templated argument <T1>\n",
      "      Input types for <T1>: {DATE, TIMESTAMP} at [3:19]\n",
      "\n",
      "Location: EU\n",
      "Job ID: f5df0c85-8637-44fb-b590-55fb0fe1b431\n",
      "\n",
      "Error deleting partition 2024-12-24: 400 GET https://bigquery.googleapis.com/bigquery/v2/projects/ft-customer-analytics/queries/881e6fd7-236a-46c5-8474-d5ed25844602?maxResults=0&location=EU&prettyPrint=false: No matching signature for operator = for argument types: TIMESTAMP, DATE\n",
      "  Signature: T1 = T1\n",
      "    Unable to find common supertype for templated argument <T1>\n",
      "      Input types for <T1>: {DATE, TIMESTAMP} at [3:19]\n",
      "\n",
      "Location: EU\n",
      "Job ID: 881e6fd7-236a-46c5-8474-d5ed25844602\n",
      "\n",
      "Error deleting partition 2024-12-25: 400 GET https://bigquery.googleapis.com/bigquery/v2/projects/ft-customer-analytics/queries/87f61e1c-2499-44f6-b3d5-a4c5ac61b1e5?maxResults=0&location=EU&prettyPrint=false: No matching signature for operator = for argument types: TIMESTAMP, DATE\n",
      "  Signature: T1 = T1\n",
      "    Unable to find common supertype for templated argument <T1>\n",
      "      Input types for <T1>: {DATE, TIMESTAMP} at [3:19]\n",
      "\n",
      "Location: EU\n",
      "Job ID: 87f61e1c-2499-44f6-b3d5-a4c5ac61b1e5\n",
      "\n",
      "Error deleting partition 2024-12-26: 400 GET https://bigquery.googleapis.com/bigquery/v2/projects/ft-customer-analytics/queries/3e2ed8bf-5bb3-4245-b814-708cdc9a9844?maxResults=0&location=EU&prettyPrint=false: No matching signature for operator = for argument types: TIMESTAMP, DATE\n",
      "  Signature: T1 = T1\n",
      "    Unable to find common supertype for templated argument <T1>\n",
      "      Input types for <T1>: {DATE, TIMESTAMP} at [3:19]\n",
      "\n",
      "Location: EU\n",
      "Job ID: 3e2ed8bf-5bb3-4245-b814-708cdc9a9844\n",
      "\n",
      "Error deleting partition 2024-12-27: 400 GET https://bigquery.googleapis.com/bigquery/v2/projects/ft-customer-analytics/queries/810fa710-d72e-49e7-b0d8-bbb768d99597?maxResults=0&location=EU&prettyPrint=false: No matching signature for operator = for argument types: TIMESTAMP, DATE\n",
      "  Signature: T1 = T1\n",
      "    Unable to find common supertype for templated argument <T1>\n",
      "      Input types for <T1>: {DATE, TIMESTAMP} at [3:19]\n",
      "\n",
      "Location: EU\n",
      "Job ID: 810fa710-d72e-49e7-b0d8-bbb768d99597\n",
      "\n",
      "Error deleting partition 2024-12-28: 400 No matching signature for operator = for argument types: TIMESTAMP, DATE\n",
      "  Signature: T1 = T1\n",
      "    Unable to find common supertype for templated argument <T1>\n",
      "      Input types for <T1>: {DATE, TIMESTAMP} at [3:19]; reason: invalidQuery, location: query, message: No matching signature for operator = for argument types: TIMESTAMP, DATE\n",
      "  Signature: T1 = T1\n",
      "    Unable to find common supertype for templated argument <T1>\n",
      "      Input types for <T1>: {DATE, TIMESTAMP} at [3:19]\n",
      "\n",
      "Location: EU\n",
      "Job ID: 4cf85387-5caa-48a6-84af-287511ff952f\n",
      "\n",
      "Error deleting partition 2024-12-29: 400 GET https://bigquery.googleapis.com/bigquery/v2/projects/ft-customer-analytics/queries/6ec4dd3f-96d0-4b67-9056-be09b04410e1?maxResults=0&location=EU&prettyPrint=false: No matching signature for operator = for argument types: TIMESTAMP, DATE\n",
      "  Signature: T1 = T1\n",
      "    Unable to find common supertype for templated argument <T1>\n",
      "      Input types for <T1>: {DATE, TIMESTAMP} at [3:19]\n",
      "\n",
      "Location: EU\n",
      "Job ID: 6ec4dd3f-96d0-4b67-9056-be09b04410e1\n",
      "\n",
      "Error deleting partition 2024-12-30: 400 GET https://bigquery.googleapis.com/bigquery/v2/projects/ft-customer-analytics/queries/461ab3d9-fc6c-47f1-a55e-f798b5141fb2?maxResults=0&location=EU&prettyPrint=false: No matching signature for operator = for argument types: TIMESTAMP, DATE\n",
      "  Signature: T1 = T1\n",
      "    Unable to find common supertype for templated argument <T1>\n",
      "      Input types for <T1>: {DATE, TIMESTAMP} at [3:19]\n",
      "\n",
      "Location: EU\n",
      "Job ID: 461ab3d9-fc6c-47f1-a55e-f798b5141fb2\n",
      "\n",
      "Error deleting partition 2024-12-31: 400 GET https://bigquery.googleapis.com/bigquery/v2/projects/ft-customer-analytics/queries/7dd349cc-b10a-4004-8763-d70936382391?maxResults=0&location=EU&prettyPrint=false: No matching signature for operator = for argument types: TIMESTAMP, DATE\n",
      "  Signature: T1 = T1\n",
      "    Unable to find common supertype for templated argument <T1>\n",
      "      Input types for <T1>: {DATE, TIMESTAMP} at [3:19]\n",
      "\n",
      "Location: EU\n",
      "Job ID: 7dd349cc-b10a-4004-8763-d70936382391\n",
      "\n",
      "Error deleting partition 2025-01-01: 400 GET https://bigquery.googleapis.com/bigquery/v2/projects/ft-customer-analytics/queries/517ea61c-f8dc-4f64-9a6a-255d1321991b?maxResults=0&location=EU&prettyPrint=false: No matching signature for operator = for argument types: TIMESTAMP, DATE\n",
      "  Signature: T1 = T1\n",
      "    Unable to find common supertype for templated argument <T1>\n",
      "      Input types for <T1>: {DATE, TIMESTAMP} at [3:19]\n",
      "\n",
      "Location: EU\n",
      "Job ID: 517ea61c-f8dc-4f64-9a6a-255d1321991b\n",
      "\n",
      "Error deleting partition 2025-01-02: 400 No matching signature for operator = for argument types: TIMESTAMP, DATE\n",
      "  Signature: T1 = T1\n",
      "    Unable to find common supertype for templated argument <T1>\n",
      "      Input types for <T1>: {DATE, TIMESTAMP} at [3:19]; reason: invalidQuery, location: query, message: No matching signature for operator = for argument types: TIMESTAMP, DATE\n",
      "  Signature: T1 = T1\n",
      "    Unable to find common supertype for templated argument <T1>\n",
      "      Input types for <T1>: {DATE, TIMESTAMP} at [3:19]\n",
      "\n",
      "Location: EU\n",
      "Job ID: c5e6204e-4fe8-4094-ae93-87fcb9f4a9f7\n",
      "\n",
      "Error deleting partition 2025-01-03: 400 No matching signature for operator = for argument types: TIMESTAMP, DATE\n",
      "  Signature: T1 = T1\n",
      "    Unable to find common supertype for templated argument <T1>\n",
      "      Input types for <T1>: {DATE, TIMESTAMP} at [3:19]; reason: invalidQuery, location: query, message: No matching signature for operator = for argument types: TIMESTAMP, DATE\n",
      "  Signature: T1 = T1\n",
      "    Unable to find common supertype for templated argument <T1>\n",
      "      Input types for <T1>: {DATE, TIMESTAMP} at [3:19]\n",
      "\n",
      "Location: EU\n",
      "Job ID: ddc61149-203e-4871-9ec1-79afbafd414a\n",
      "\n",
      "Error deleting partition 2025-01-04: 400 No matching signature for operator = for argument types: TIMESTAMP, DATE\n",
      "  Signature: T1 = T1\n",
      "    Unable to find common supertype for templated argument <T1>\n",
      "      Input types for <T1>: {DATE, TIMESTAMP} at [3:19]; reason: invalidQuery, location: query, message: No matching signature for operator = for argument types: TIMESTAMP, DATE\n",
      "  Signature: T1 = T1\n",
      "    Unable to find common supertype for templated argument <T1>\n",
      "      Input types for <T1>: {DATE, TIMESTAMP} at [3:19]\n",
      "\n",
      "Location: EU\n",
      "Job ID: c6cdf4b6-43e5-422e-895c-efd71ac4b86a\n",
      "\n",
      "Error deleting partition 2025-01-05: 400 GET https://bigquery.googleapis.com/bigquery/v2/projects/ft-customer-analytics/queries/073efc94-b6cc-4ccb-980d-d63264cb6f5e?maxResults=0&location=EU&prettyPrint=false: No matching signature for operator = for argument types: TIMESTAMP, DATE\n",
      "  Signature: T1 = T1\n",
      "    Unable to find common supertype for templated argument <T1>\n",
      "      Input types for <T1>: {DATE, TIMESTAMP} at [3:19]\n",
      "\n",
      "Location: EU\n",
      "Job ID: 073efc94-b6cc-4ccb-980d-d63264cb6f5e\n",
      "\n",
      "Error deleting partition 2025-01-06: 400 No matching signature for operator = for argument types: TIMESTAMP, DATE\n",
      "  Signature: T1 = T1\n",
      "    Unable to find common supertype for templated argument <T1>\n",
      "      Input types for <T1>: {DATE, TIMESTAMP} at [3:19]; reason: invalidQuery, location: query, message: No matching signature for operator = for argument types: TIMESTAMP, DATE\n",
      "  Signature: T1 = T1\n",
      "    Unable to find common supertype for templated argument <T1>\n",
      "      Input types for <T1>: {DATE, TIMESTAMP} at [3:19]\n",
      "\n",
      "Location: EU\n",
      "Job ID: 5f7d0e53-7b50-48e0-8d4b-dc641346c619\n",
      "\n",
      "Error deleting partition 2025-01-07: 400 GET https://bigquery.googleapis.com/bigquery/v2/projects/ft-customer-analytics/queries/704bf2b3-262f-4215-9977-f27014c8046c?maxResults=0&location=EU&prettyPrint=false: No matching signature for operator = for argument types: TIMESTAMP, DATE\n",
      "  Signature: T1 = T1\n",
      "    Unable to find common supertype for templated argument <T1>\n",
      "      Input types for <T1>: {DATE, TIMESTAMP} at [3:19]\n",
      "\n",
      "Location: EU\n",
      "Job ID: 704bf2b3-262f-4215-9977-f27014c8046c\n",
      "\n",
      "Error deleting partition 2025-01-08: 400 GET https://bigquery.googleapis.com/bigquery/v2/projects/ft-customer-analytics/queries/bb1d5014-34e6-4e56-8802-dd762f88e534?maxResults=0&location=EU&prettyPrint=false: No matching signature for operator = for argument types: TIMESTAMP, DATE\n",
      "  Signature: T1 = T1\n",
      "    Unable to find common supertype for templated argument <T1>\n",
      "      Input types for <T1>: {DATE, TIMESTAMP} at [3:19]\n",
      "\n",
      "Location: EU\n",
      "Job ID: bb1d5014-34e6-4e56-8802-dd762f88e534\n",
      "\n",
      "Error deleting partition 2025-01-09: 400 GET https://bigquery.googleapis.com/bigquery/v2/projects/ft-customer-analytics/queries/525da956-a13c-4415-abef-7701be48baa4?maxResults=0&location=EU&prettyPrint=false: No matching signature for operator = for argument types: TIMESTAMP, DATE\n",
      "  Signature: T1 = T1\n",
      "    Unable to find common supertype for templated argument <T1>\n",
      "      Input types for <T1>: {DATE, TIMESTAMP} at [3:19]\n",
      "\n",
      "Location: EU\n",
      "Job ID: 525da956-a13c-4415-abef-7701be48baa4\n",
      "\n",
      "Error deleting partition 2025-01-10: 400 No matching signature for operator = for argument types: TIMESTAMP, DATE\n",
      "  Signature: T1 = T1\n",
      "    Unable to find common supertype for templated argument <T1>\n",
      "      Input types for <T1>: {DATE, TIMESTAMP} at [3:19]; reason: invalidQuery, location: query, message: No matching signature for operator = for argument types: TIMESTAMP, DATE\n",
      "  Signature: T1 = T1\n",
      "    Unable to find common supertype for templated argument <T1>\n",
      "      Input types for <T1>: {DATE, TIMESTAMP} at [3:19]\n",
      "\n",
      "Location: EU\n",
      "Job ID: 47c9baa7-0fae-4fc8-9e4e-f10362bd4df8\n",
      "\n",
      "Error deleting partition 2025-01-11: 400 GET https://bigquery.googleapis.com/bigquery/v2/projects/ft-customer-analytics/queries/afb0780d-f687-4a70-8e09-13c65ed6ab00?maxResults=0&location=EU&prettyPrint=false: No matching signature for operator = for argument types: TIMESTAMP, DATE\n",
      "  Signature: T1 = T1\n",
      "    Unable to find common supertype for templated argument <T1>\n",
      "      Input types for <T1>: {DATE, TIMESTAMP} at [3:19]\n",
      "\n",
      "Location: EU\n",
      "Job ID: afb0780d-f687-4a70-8e09-13c65ed6ab00\n",
      "\n",
      "Error deleting partition 2025-01-12: 400 GET https://bigquery.googleapis.com/bigquery/v2/projects/ft-customer-analytics/queries/ae0f51e9-85df-4d3f-bd80-b66f72430afc?maxResults=0&location=EU&prettyPrint=false: No matching signature for operator = for argument types: TIMESTAMP, DATE\n",
      "  Signature: T1 = T1\n",
      "    Unable to find common supertype for templated argument <T1>\n",
      "      Input types for <T1>: {DATE, TIMESTAMP} at [3:19]\n",
      "\n",
      "Location: EU\n",
      "Job ID: ae0f51e9-85df-4d3f-bd80-b66f72430afc\n",
      "\n",
      "Error deleting partition 2025-01-13: 400 No matching signature for operator = for argument types: TIMESTAMP, DATE\n",
      "  Signature: T1 = T1\n",
      "    Unable to find common supertype for templated argument <T1>\n",
      "      Input types for <T1>: {DATE, TIMESTAMP} at [3:19]; reason: invalidQuery, location: query, message: No matching signature for operator = for argument types: TIMESTAMP, DATE\n",
      "  Signature: T1 = T1\n",
      "    Unable to find common supertype for templated argument <T1>\n",
      "      Input types for <T1>: {DATE, TIMESTAMP} at [3:19]\n",
      "\n",
      "Location: EU\n",
      "Job ID: b63ba3ce-8e8c-4e86-a096-00b21c389d5f\n",
      "\n"
     ]
    },
    {
     "name": "stderr",
     "output_type": "stream",
     "text": [
      "Error converting Pandas column with name: \"run_date\" and datatype: \"object\" to an appropriate pyarrow datatype: Array, ListArray, or StructArray\n"
     ]
    },
    {
     "name": "stdout",
     "output_type": "stream",
     "text": [
      "Error deleting partition 2025-01-14: 400 No matching signature for operator = for argument types: TIMESTAMP, DATE\n",
      "  Signature: T1 = T1\n",
      "    Unable to find common supertype for templated argument <T1>\n",
      "      Input types for <T1>: {DATE, TIMESTAMP} at [3:19]; reason: invalidQuery, location: query, message: No matching signature for operator = for argument types: TIMESTAMP, DATE\n",
      "  Signature: T1 = T1\n",
      "    Unable to find common supertype for templated argument <T1>\n",
      "      Input types for <T1>: {DATE, TIMESTAMP} at [3:19]\n",
      "\n",
      "Location: EU\n",
      "Job ID: b6d9a0ee-4948-4382-b50e-67667524030f\n",
      "\n",
      "Error loading data to ft-customer-analytics.crg_nniu.historical_conversion_window_by_date_df: Error converting Pandas column with name: \"run_date\" and datatype: \"object\" to an appropriate pyarrow datatype: Array, ListArray, or StructArray\n"
     ]
    }
   ],
   "source": [
    "job_config = bigquery.LoadJobConfig(\n",
    "    write_disposition=bigquery.WriteDisposition.WRITE_APPEND,  # Append after deleting old partitions\n",
    "    source_format=bigquery.SourceFormat.PARQUET,\n",
    "    autodetect=True,\n",
    "    time_partitioning=bigquery.TimePartitioning(\n",
    "        type_=bigquery.TimePartitioningType.DAY, field=\"run_date\"\n",
    "    ),\n",
    ")\n",
    "\n",
    "dataframes = {\n",
    "    \"ft-customer-analytics.crg_nniu.attribution_markov_transition_matrix_all\": markov_transition_matrix_all,\n",
    "    \"ft-customer-analytics.crg_nniu.attribution_normalized_removal_effects_all\": normalized_removal_effects_all,\n",
    "    \"ft-customer-analytics.crg_nniu.attribution_user_df_all\": user_df_all,\n",
    "    \"ft-customer-analytics.crg_nniu.attribution_df_all\": attribution_df_all,\n",
    "    \"ft-customer-analytics.crg_nniu.attribution_conversion_window_df\": conversion_window_df\n",
    "}\n",
    "\n",
    "for destination_table, dataframe in dataframes.items():\n",
    "    # Extract unique run_dates from the DataFrame\n",
    "    run_dates = dataframe['run_date'].unique()  # Already in \"YYYY-MM-DD\" format\n",
    "    \n",
    "    # Delete existing data for these run_dates\n",
    "    for run_date in run_dates:\n",
    "        query = f\"\"\"\n",
    "            DELETE FROM `{destination_table}`\n",
    "            WHERE run_date = DATE('{run_date}')\n",
    "        \"\"\"\n",
    "        try:\n",
    "            delete_job = client.query(query)\n",
    "            delete_job.result()  # Wait for completion\n",
    "            print(f\"Deleted partition {run_date} from {destination_table}\")\n",
    "        except Exception as e:\n",
    "            print(f\"Error deleting partition {run_date}: {e}\")\n",
    "    \n",
    "    # Load new data into the cleared partitions\n",
    "    try:\n",
    "        load_job = client.load_table_from_dataframe(\n",
    "            dataframe.reset_index(drop=True), destination_table, job_config=job_config\n",
    "        )\n",
    "        load_job.result()\n",
    "        print(f\"Loaded new data into {destination_table}\")\n",
    "    except Exception as e:\n",
    "        print(f\"Error loading data to {destination_table}: {e}\")"
   ]
  }
 ],
 "metadata": {
  "kernelspec": {
   "display_name": "clean_env",
   "language": "python",
   "name": "python3"
  },
  "language_info": {
   "codemirror_mode": {
    "name": "ipython",
    "version": 3
   },
   "file_extension": ".py",
   "mimetype": "text/x-python",
   "name": "python",
   "nbconvert_exporter": "python",
   "pygments_lexer": "ipython3",
   "version": "3.9.20"
  }
 },
 "nbformat": 4,
 "nbformat_minor": 2
}
