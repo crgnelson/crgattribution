{
 "cells": [
  {
   "cell_type": "code",
   "execution_count": 8,
   "metadata": {},
   "outputs": [],
   "source": [
    "from marketing_attribution_models import MAM\n",
    "import pandas as pd\n",
    "import numpy as np\n",
    "from collections import defaultdict\n",
    "import matplotlib.pyplot as plt\n",
    "from markovclick.models import MarkovClickstream\n",
    "from markovclick.viz import visualise_markov_chain\n",
    "import os\n",
    "import graphviz\n",
    "import matplotlib as mpl\n",
    "from pandas.io import gbq\n",
    "import pandas_gbq\n",
    "import glob\n",
    "from pylab import *\n",
    "import tempfile\n",
    "import json\n",
    "from datetime import timedelta\n",
    "import seaborn as sns\n",
    "import gc\n",
    "from datetime import datetime\n",
    "import re\n",
    "from google.cloud import bigquery\n",
    "\n",
    "################################################# Data Loading  #########################################\n",
    "\n",
    "project = \"ft-customer-analytics\"\n",
    "location = \"EU\"\n",
    "client = bigquery.Client(project=project, location=location)\n",
    "\n",
    "################################################# Define variables #################################################\n",
    "\n",
    "ids = \"user_guid\"\n",
    "date = \"attribution_visit_start_time\"\n",
    "touchpoint = \"touchpoint\"\n",
    "transaction = \"converting_visit\"\n",
    "\n",
    "################################################# Define the date range for processing #################################################\n",
    "\n",
    "end_date = pd.Timestamp.today().date() - pd.DateOffset(days=1)\n",
    "start_date = end_date - pd.DateOffset(days=14)\n",
    "\n",
    "start_date = start_date.date()\n",
    "end_date = end_date.date() \n",
    "\n",
    "table_id = \"ft-customer-analytics.crg_nniu.stg_conversion_users_last_15_days_90_days_lookback_table\"\n",
    "\n",
    "################################################# Output DataFrames  #################################################\n"
   ]
  },
  {
   "cell_type": "code",
   "execution_count": 9,
   "metadata": {
    "vscode": {
     "languageId": "perl"
    }
   },
   "outputs": [
    {
     "name": "stdout",
     "output_type": "stream",
     "text": [
      "Fetching data for 2025-02-19\n"
     ]
    },
    {
     "name": "stderr",
     "output_type": "stream",
     "text": [
      "/opt/anaconda3/envs/clean_env/lib/python3.9/site-packages/google/cloud/bigquery/table.py:2309: UserWarning: Unable to represent RANGE schema as struct using pandas ArrowDtype. Using `object` instead. To use ArrowDtype, use pandas >= 1.5 and pyarrow >= 10.0.1.\n",
      "  warnings.warn(_RANGE_PYARROW_WARNING)\n",
      "/opt/anaconda3/envs/clean_env/lib/python3.9/site-packages/google/cloud/bigquery/table.py:2323: UserWarning: Unable to represent RANGE schema as struct using pandas ArrowDtype. Using `object` instead. To use ArrowDtype, use pandas >= 1.5 and pyarrow >= 10.0.1.\n",
      "  warnings.warn(_RANGE_PYARROW_WARNING)\n",
      "/opt/anaconda3/envs/clean_env/lib/python3.9/site-packages/google/cloud/bigquery/table.py:2337: UserWarning: Unable to represent RANGE schema as struct using pandas ArrowDtype. Using `object` instead. To use ArrowDtype, use pandas >= 1.5 and pyarrow >= 10.0.1.\n",
      "  warnings.warn(_RANGE_PYARROW_WARNING)\n"
     ]
    },
    {
     "name": "stdout",
     "output_type": "stream",
     "text": [
      "Processed data for 2025-02-19\n",
      "Fetching data for 2025-02-20\n"
     ]
    },
    {
     "name": "stderr",
     "output_type": "stream",
     "text": [
      "/opt/anaconda3/envs/clean_env/lib/python3.9/site-packages/google/cloud/bigquery/table.py:2309: UserWarning: Unable to represent RANGE schema as struct using pandas ArrowDtype. Using `object` instead. To use ArrowDtype, use pandas >= 1.5 and pyarrow >= 10.0.1.\n",
      "  warnings.warn(_RANGE_PYARROW_WARNING)\n",
      "/opt/anaconda3/envs/clean_env/lib/python3.9/site-packages/google/cloud/bigquery/table.py:2323: UserWarning: Unable to represent RANGE schema as struct using pandas ArrowDtype. Using `object` instead. To use ArrowDtype, use pandas >= 1.5 and pyarrow >= 10.0.1.\n",
      "  warnings.warn(_RANGE_PYARROW_WARNING)\n",
      "/opt/anaconda3/envs/clean_env/lib/python3.9/site-packages/google/cloud/bigquery/table.py:2337: UserWarning: Unable to represent RANGE schema as struct using pandas ArrowDtype. Using `object` instead. To use ArrowDtype, use pandas >= 1.5 and pyarrow >= 10.0.1.\n",
      "  warnings.warn(_RANGE_PYARROW_WARNING)\n"
     ]
    },
    {
     "name": "stdout",
     "output_type": "stream",
     "text": [
      "Processed data for 2025-02-20\n",
      "Fetching data for 2025-02-21\n"
     ]
    },
    {
     "name": "stderr",
     "output_type": "stream",
     "text": [
      "/opt/anaconda3/envs/clean_env/lib/python3.9/site-packages/google/cloud/bigquery/table.py:2309: UserWarning: Unable to represent RANGE schema as struct using pandas ArrowDtype. Using `object` instead. To use ArrowDtype, use pandas >= 1.5 and pyarrow >= 10.0.1.\n",
      "  warnings.warn(_RANGE_PYARROW_WARNING)\n",
      "/opt/anaconda3/envs/clean_env/lib/python3.9/site-packages/google/cloud/bigquery/table.py:2323: UserWarning: Unable to represent RANGE schema as struct using pandas ArrowDtype. Using `object` instead. To use ArrowDtype, use pandas >= 1.5 and pyarrow >= 10.0.1.\n",
      "  warnings.warn(_RANGE_PYARROW_WARNING)\n",
      "/opt/anaconda3/envs/clean_env/lib/python3.9/site-packages/google/cloud/bigquery/table.py:2337: UserWarning: Unable to represent RANGE schema as struct using pandas ArrowDtype. Using `object` instead. To use ArrowDtype, use pandas >= 1.5 and pyarrow >= 10.0.1.\n",
      "  warnings.warn(_RANGE_PYARROW_WARNING)\n"
     ]
    },
    {
     "name": "stdout",
     "output_type": "stream",
     "text": [
      "Processed data for 2025-02-21\n",
      "Fetching data for 2025-02-22\n"
     ]
    },
    {
     "name": "stderr",
     "output_type": "stream",
     "text": [
      "/opt/anaconda3/envs/clean_env/lib/python3.9/site-packages/google/cloud/bigquery/table.py:2309: UserWarning: Unable to represent RANGE schema as struct using pandas ArrowDtype. Using `object` instead. To use ArrowDtype, use pandas >= 1.5 and pyarrow >= 10.0.1.\n",
      "  warnings.warn(_RANGE_PYARROW_WARNING)\n",
      "/opt/anaconda3/envs/clean_env/lib/python3.9/site-packages/google/cloud/bigquery/table.py:2323: UserWarning: Unable to represent RANGE schema as struct using pandas ArrowDtype. Using `object` instead. To use ArrowDtype, use pandas >= 1.5 and pyarrow >= 10.0.1.\n",
      "  warnings.warn(_RANGE_PYARROW_WARNING)\n",
      "/opt/anaconda3/envs/clean_env/lib/python3.9/site-packages/google/cloud/bigquery/table.py:2337: UserWarning: Unable to represent RANGE schema as struct using pandas ArrowDtype. Using `object` instead. To use ArrowDtype, use pandas >= 1.5 and pyarrow >= 10.0.1.\n",
      "  warnings.warn(_RANGE_PYARROW_WARNING)\n"
     ]
    },
    {
     "name": "stdout",
     "output_type": "stream",
     "text": [
      "Processed data for 2025-02-22\n",
      "Fetching data for 2025-02-23\n"
     ]
    },
    {
     "name": "stderr",
     "output_type": "stream",
     "text": [
      "/opt/anaconda3/envs/clean_env/lib/python3.9/site-packages/google/cloud/bigquery/table.py:2309: UserWarning: Unable to represent RANGE schema as struct using pandas ArrowDtype. Using `object` instead. To use ArrowDtype, use pandas >= 1.5 and pyarrow >= 10.0.1.\n",
      "  warnings.warn(_RANGE_PYARROW_WARNING)\n",
      "/opt/anaconda3/envs/clean_env/lib/python3.9/site-packages/google/cloud/bigquery/table.py:2323: UserWarning: Unable to represent RANGE schema as struct using pandas ArrowDtype. Using `object` instead. To use ArrowDtype, use pandas >= 1.5 and pyarrow >= 10.0.1.\n",
      "  warnings.warn(_RANGE_PYARROW_WARNING)\n",
      "/opt/anaconda3/envs/clean_env/lib/python3.9/site-packages/google/cloud/bigquery/table.py:2337: UserWarning: Unable to represent RANGE schema as struct using pandas ArrowDtype. Using `object` instead. To use ArrowDtype, use pandas >= 1.5 and pyarrow >= 10.0.1.\n",
      "  warnings.warn(_RANGE_PYARROW_WARNING)\n"
     ]
    },
    {
     "name": "stdout",
     "output_type": "stream",
     "text": [
      "Processed data for 2025-02-23\n",
      "Fetching data for 2025-02-24\n"
     ]
    },
    {
     "name": "stderr",
     "output_type": "stream",
     "text": [
      "/opt/anaconda3/envs/clean_env/lib/python3.9/site-packages/google/cloud/bigquery/table.py:2309: UserWarning: Unable to represent RANGE schema as struct using pandas ArrowDtype. Using `object` instead. To use ArrowDtype, use pandas >= 1.5 and pyarrow >= 10.0.1.\n",
      "  warnings.warn(_RANGE_PYARROW_WARNING)\n",
      "/opt/anaconda3/envs/clean_env/lib/python3.9/site-packages/google/cloud/bigquery/table.py:2323: UserWarning: Unable to represent RANGE schema as struct using pandas ArrowDtype. Using `object` instead. To use ArrowDtype, use pandas >= 1.5 and pyarrow >= 10.0.1.\n",
      "  warnings.warn(_RANGE_PYARROW_WARNING)\n",
      "/opt/anaconda3/envs/clean_env/lib/python3.9/site-packages/google/cloud/bigquery/table.py:2337: UserWarning: Unable to represent RANGE schema as struct using pandas ArrowDtype. Using `object` instead. To use ArrowDtype, use pandas >= 1.5 and pyarrow >= 10.0.1.\n",
      "  warnings.warn(_RANGE_PYARROW_WARNING)\n"
     ]
    },
    {
     "name": "stdout",
     "output_type": "stream",
     "text": [
      "Processed data for 2025-02-24\n",
      "Fetching data for 2025-02-25\n"
     ]
    },
    {
     "name": "stderr",
     "output_type": "stream",
     "text": [
      "/opt/anaconda3/envs/clean_env/lib/python3.9/site-packages/google/cloud/bigquery/table.py:2309: UserWarning: Unable to represent RANGE schema as struct using pandas ArrowDtype. Using `object` instead. To use ArrowDtype, use pandas >= 1.5 and pyarrow >= 10.0.1.\n",
      "  warnings.warn(_RANGE_PYARROW_WARNING)\n",
      "/opt/anaconda3/envs/clean_env/lib/python3.9/site-packages/google/cloud/bigquery/table.py:2323: UserWarning: Unable to represent RANGE schema as struct using pandas ArrowDtype. Using `object` instead. To use ArrowDtype, use pandas >= 1.5 and pyarrow >= 10.0.1.\n",
      "  warnings.warn(_RANGE_PYARROW_WARNING)\n",
      "/opt/anaconda3/envs/clean_env/lib/python3.9/site-packages/google/cloud/bigquery/table.py:2337: UserWarning: Unable to represent RANGE schema as struct using pandas ArrowDtype. Using `object` instead. To use ArrowDtype, use pandas >= 1.5 and pyarrow >= 10.0.1.\n",
      "  warnings.warn(_RANGE_PYARROW_WARNING)\n"
     ]
    },
    {
     "name": "stdout",
     "output_type": "stream",
     "text": [
      "Processed data for 2025-02-25\n",
      "Fetching data for 2025-02-26\n"
     ]
    },
    {
     "name": "stderr",
     "output_type": "stream",
     "text": [
      "/opt/anaconda3/envs/clean_env/lib/python3.9/site-packages/google/cloud/bigquery/table.py:2309: UserWarning: Unable to represent RANGE schema as struct using pandas ArrowDtype. Using `object` instead. To use ArrowDtype, use pandas >= 1.5 and pyarrow >= 10.0.1.\n",
      "  warnings.warn(_RANGE_PYARROW_WARNING)\n",
      "/opt/anaconda3/envs/clean_env/lib/python3.9/site-packages/google/cloud/bigquery/table.py:2323: UserWarning: Unable to represent RANGE schema as struct using pandas ArrowDtype. Using `object` instead. To use ArrowDtype, use pandas >= 1.5 and pyarrow >= 10.0.1.\n",
      "  warnings.warn(_RANGE_PYARROW_WARNING)\n",
      "/opt/anaconda3/envs/clean_env/lib/python3.9/site-packages/google/cloud/bigquery/table.py:2337: UserWarning: Unable to represent RANGE schema as struct using pandas ArrowDtype. Using `object` instead. To use ArrowDtype, use pandas >= 1.5 and pyarrow >= 10.0.1.\n",
      "  warnings.warn(_RANGE_PYARROW_WARNING)\n"
     ]
    },
    {
     "name": "stdout",
     "output_type": "stream",
     "text": [
      "Processed data for 2025-02-26\n",
      "Fetching data for 2025-02-27\n"
     ]
    },
    {
     "name": "stderr",
     "output_type": "stream",
     "text": [
      "/opt/anaconda3/envs/clean_env/lib/python3.9/site-packages/google/cloud/bigquery/table.py:2309: UserWarning: Unable to represent RANGE schema as struct using pandas ArrowDtype. Using `object` instead. To use ArrowDtype, use pandas >= 1.5 and pyarrow >= 10.0.1.\n",
      "  warnings.warn(_RANGE_PYARROW_WARNING)\n",
      "/opt/anaconda3/envs/clean_env/lib/python3.9/site-packages/google/cloud/bigquery/table.py:2323: UserWarning: Unable to represent RANGE schema as struct using pandas ArrowDtype. Using `object` instead. To use ArrowDtype, use pandas >= 1.5 and pyarrow >= 10.0.1.\n",
      "  warnings.warn(_RANGE_PYARROW_WARNING)\n",
      "/opt/anaconda3/envs/clean_env/lib/python3.9/site-packages/google/cloud/bigquery/table.py:2337: UserWarning: Unable to represent RANGE schema as struct using pandas ArrowDtype. Using `object` instead. To use ArrowDtype, use pandas >= 1.5 and pyarrow >= 10.0.1.\n",
      "  warnings.warn(_RANGE_PYARROW_WARNING)\n"
     ]
    },
    {
     "name": "stdout",
     "output_type": "stream",
     "text": [
      "Processed data for 2025-02-27\n",
      "Fetching data for 2025-02-28\n"
     ]
    },
    {
     "name": "stderr",
     "output_type": "stream",
     "text": [
      "/opt/anaconda3/envs/clean_env/lib/python3.9/site-packages/google/cloud/bigquery/table.py:2309: UserWarning: Unable to represent RANGE schema as struct using pandas ArrowDtype. Using `object` instead. To use ArrowDtype, use pandas >= 1.5 and pyarrow >= 10.0.1.\n",
      "  warnings.warn(_RANGE_PYARROW_WARNING)\n",
      "/opt/anaconda3/envs/clean_env/lib/python3.9/site-packages/google/cloud/bigquery/table.py:2323: UserWarning: Unable to represent RANGE schema as struct using pandas ArrowDtype. Using `object` instead. To use ArrowDtype, use pandas >= 1.5 and pyarrow >= 10.0.1.\n",
      "  warnings.warn(_RANGE_PYARROW_WARNING)\n",
      "/opt/anaconda3/envs/clean_env/lib/python3.9/site-packages/google/cloud/bigquery/table.py:2337: UserWarning: Unable to represent RANGE schema as struct using pandas ArrowDtype. Using `object` instead. To use ArrowDtype, use pandas >= 1.5 and pyarrow >= 10.0.1.\n",
      "  warnings.warn(_RANGE_PYARROW_WARNING)\n"
     ]
    },
    {
     "name": "stdout",
     "output_type": "stream",
     "text": [
      "Processed data for 2025-02-28\n",
      "Fetching data for 2025-03-01\n"
     ]
    },
    {
     "name": "stderr",
     "output_type": "stream",
     "text": [
      "/opt/anaconda3/envs/clean_env/lib/python3.9/site-packages/google/cloud/bigquery/table.py:2309: UserWarning: Unable to represent RANGE schema as struct using pandas ArrowDtype. Using `object` instead. To use ArrowDtype, use pandas >= 1.5 and pyarrow >= 10.0.1.\n",
      "  warnings.warn(_RANGE_PYARROW_WARNING)\n",
      "/opt/anaconda3/envs/clean_env/lib/python3.9/site-packages/google/cloud/bigquery/table.py:2323: UserWarning: Unable to represent RANGE schema as struct using pandas ArrowDtype. Using `object` instead. To use ArrowDtype, use pandas >= 1.5 and pyarrow >= 10.0.1.\n",
      "  warnings.warn(_RANGE_PYARROW_WARNING)\n",
      "/opt/anaconda3/envs/clean_env/lib/python3.9/site-packages/google/cloud/bigquery/table.py:2337: UserWarning: Unable to represent RANGE schema as struct using pandas ArrowDtype. Using `object` instead. To use ArrowDtype, use pandas >= 1.5 and pyarrow >= 10.0.1.\n",
      "  warnings.warn(_RANGE_PYARROW_WARNING)\n"
     ]
    },
    {
     "name": "stdout",
     "output_type": "stream",
     "text": [
      "Processed data for 2025-03-01\n",
      "Fetching data for 2025-03-02\n"
     ]
    },
    {
     "name": "stderr",
     "output_type": "stream",
     "text": [
      "/opt/anaconda3/envs/clean_env/lib/python3.9/site-packages/google/cloud/bigquery/table.py:2309: UserWarning: Unable to represent RANGE schema as struct using pandas ArrowDtype. Using `object` instead. To use ArrowDtype, use pandas >= 1.5 and pyarrow >= 10.0.1.\n",
      "  warnings.warn(_RANGE_PYARROW_WARNING)\n",
      "/opt/anaconda3/envs/clean_env/lib/python3.9/site-packages/google/cloud/bigquery/table.py:2323: UserWarning: Unable to represent RANGE schema as struct using pandas ArrowDtype. Using `object` instead. To use ArrowDtype, use pandas >= 1.5 and pyarrow >= 10.0.1.\n",
      "  warnings.warn(_RANGE_PYARROW_WARNING)\n",
      "/opt/anaconda3/envs/clean_env/lib/python3.9/site-packages/google/cloud/bigquery/table.py:2337: UserWarning: Unable to represent RANGE schema as struct using pandas ArrowDtype. Using `object` instead. To use ArrowDtype, use pandas >= 1.5 and pyarrow >= 10.0.1.\n",
      "  warnings.warn(_RANGE_PYARROW_WARNING)\n"
     ]
    },
    {
     "name": "stdout",
     "output_type": "stream",
     "text": [
      "Processed data for 2025-03-02\n",
      "Fetching data for 2025-03-03\n"
     ]
    },
    {
     "name": "stderr",
     "output_type": "stream",
     "text": [
      "/opt/anaconda3/envs/clean_env/lib/python3.9/site-packages/google/cloud/bigquery/table.py:2309: UserWarning: Unable to represent RANGE schema as struct using pandas ArrowDtype. Using `object` instead. To use ArrowDtype, use pandas >= 1.5 and pyarrow >= 10.0.1.\n",
      "  warnings.warn(_RANGE_PYARROW_WARNING)\n",
      "/opt/anaconda3/envs/clean_env/lib/python3.9/site-packages/google/cloud/bigquery/table.py:2323: UserWarning: Unable to represent RANGE schema as struct using pandas ArrowDtype. Using `object` instead. To use ArrowDtype, use pandas >= 1.5 and pyarrow >= 10.0.1.\n",
      "  warnings.warn(_RANGE_PYARROW_WARNING)\n",
      "/opt/anaconda3/envs/clean_env/lib/python3.9/site-packages/google/cloud/bigquery/table.py:2337: UserWarning: Unable to represent RANGE schema as struct using pandas ArrowDtype. Using `object` instead. To use ArrowDtype, use pandas >= 1.5 and pyarrow >= 10.0.1.\n",
      "  warnings.warn(_RANGE_PYARROW_WARNING)\n"
     ]
    },
    {
     "name": "stdout",
     "output_type": "stream",
     "text": [
      "Processed data for 2025-03-03\n",
      "Fetching data for 2025-03-04\n"
     ]
    },
    {
     "name": "stderr",
     "output_type": "stream",
     "text": [
      "/opt/anaconda3/envs/clean_env/lib/python3.9/site-packages/google/cloud/bigquery/table.py:2309: UserWarning: Unable to represent RANGE schema as struct using pandas ArrowDtype. Using `object` instead. To use ArrowDtype, use pandas >= 1.5 and pyarrow >= 10.0.1.\n",
      "  warnings.warn(_RANGE_PYARROW_WARNING)\n",
      "/opt/anaconda3/envs/clean_env/lib/python3.9/site-packages/google/cloud/bigquery/table.py:2323: UserWarning: Unable to represent RANGE schema as struct using pandas ArrowDtype. Using `object` instead. To use ArrowDtype, use pandas >= 1.5 and pyarrow >= 10.0.1.\n",
      "  warnings.warn(_RANGE_PYARROW_WARNING)\n",
      "/opt/anaconda3/envs/clean_env/lib/python3.9/site-packages/google/cloud/bigquery/table.py:2337: UserWarning: Unable to represent RANGE schema as struct using pandas ArrowDtype. Using `object` instead. To use ArrowDtype, use pandas >= 1.5 and pyarrow >= 10.0.1.\n",
      "  warnings.warn(_RANGE_PYARROW_WARNING)\n"
     ]
    },
    {
     "name": "stdout",
     "output_type": "stream",
     "text": [
      "An error occurred for the date 2025-03-04: cumsum is not supported for object dtype\n",
      "Fetching data for 2025-03-05\n"
     ]
    },
    {
     "name": "stderr",
     "output_type": "stream",
     "text": [
      "/opt/anaconda3/envs/clean_env/lib/python3.9/site-packages/google/cloud/bigquery/table.py:2309: UserWarning: Unable to represent RANGE schema as struct using pandas ArrowDtype. Using `object` instead. To use ArrowDtype, use pandas >= 1.5 and pyarrow >= 10.0.1.\n",
      "  warnings.warn(_RANGE_PYARROW_WARNING)\n",
      "/opt/anaconda3/envs/clean_env/lib/python3.9/site-packages/google/cloud/bigquery/table.py:2323: UserWarning: Unable to represent RANGE schema as struct using pandas ArrowDtype. Using `object` instead. To use ArrowDtype, use pandas >= 1.5 and pyarrow >= 10.0.1.\n",
      "  warnings.warn(_RANGE_PYARROW_WARNING)\n",
      "/opt/anaconda3/envs/clean_env/lib/python3.9/site-packages/google/cloud/bigquery/table.py:2337: UserWarning: Unable to represent RANGE schema as struct using pandas ArrowDtype. Using `object` instead. To use ArrowDtype, use pandas >= 1.5 and pyarrow >= 10.0.1.\n",
      "  warnings.warn(_RANGE_PYARROW_WARNING)\n"
     ]
    },
    {
     "name": "stdout",
     "output_type": "stream",
     "text": [
      "An error occurred for the date 2025-03-05: cumsum is not supported for object dtype\n"
     ]
    }
   ],
   "source": [
    "################################################# Output DataFrames  #################################################\n",
    "\n",
    "attribution_df_all_regis_90 = pd.DataFrame()\n",
    "normalized_removal_effects_all_regis_90 = pd.DataFrame()\n",
    "markov_transition_matrix_all_regis_90 = pd.DataFrame()\n",
    "user_df_all_regis_90 = pd.DataFrame()\n",
    "conversion_window_df_regis = pd.DataFrame()\n",
    "\n",
    "################################################# Process Data for Each Day #########################################\n",
    "\n",
    "for current_date in pd.date_range(start_date, end_date, freq=\"D\"):\n",
    "    # Create SQL query for the current date\n",
    "    query = f\"\"\"\n",
    "    SELECT * FROM {table_id}\n",
    "    WHERE DATE(conversion_visit_timestamp) = \"{current_date.strftime('%Y-%m-%d')}\"\n",
    "    \"\"\"\n",
    "    print(f\"Fetching data for {current_date.strftime('%Y-%m-%d')}\")\n",
    "\n",
    "\n",
    "    # Execute the query\n",
    "    query_job = client.query(query)\n",
    "    df = query_job.to_dataframe()\n",
    "\n",
    "    if df.empty:\n",
    "        print(f\"No data for {current_date.strftime('%Y-%m-%d')}\")\n",
    "        continue\n",
    "\n",
    "    ################################################# Data Cleaning  #########################################\n",
    "    \n",
    "    df[\"original_transaction\"] = df[\"converting_visit\"]\n",
    "    regis_df = df[df[\"conversion_type\"] == \"registration\"].drop(columns=[\"conversion_type\"])\n",
    "\n",
    "    regis_df[\"user_max_date\"] = regis_df.groupby(ids)[\"conversion_visit_timestamp\"].transform(\"max\")\n",
    "    regis_df[transaction] = 0\n",
    "    regis_df.loc[(regis_df[date] == regis_df[\"user_max_date\"]) & (regis_df[\"original_transaction\"] == 1), transaction] = 1\n",
    "\n",
    "    regis_df = regis_df.sort_values([ids, date], ascending=[False, True])\n",
    "\n",
    "    regis_df[\"run_date\"] = current_date.date()\n",
    "\n",
    "    ################################################# Median day calculation #########################################\n",
    "    \n",
    "    # Initialize a list to store each user's median time to register\n",
    "    user_median_days = []\n",
    "\n",
    "    # Calculate the median days for each user\n",
    "    for user_guid, user_data in regis_df.groupby(ids):\n",
    "        # Find the earliest visit where transaction = 0 (initial visit)\n",
    "        first_visit = user_data[user_data[transaction] == 0][date].min()\n",
    "\n",
    "        # If no valid first visit is found, skip this user\n",
    "        if pd.isnull(first_visit):\n",
    "            continue\n",
    "\n",
    "        # Find the conversion date (transaction = 1)\n",
    "        conversion_date = user_data[user_data[transaction] == 1][date].min()\n",
    "\n",
    "        # Calculate the time difference in days\n",
    "        if pd.notnull(conversion_date):\n",
    "            days_to_convert = (conversion_date - first_visit).days\n",
    "            user_median_days.append(days_to_convert)\n",
    "\n",
    "    # Calculate the median of the user's conversion times\n",
    "    if user_median_days:\n",
    "        median_days_to_register = pd.Series(user_median_days).median()\n",
    "    else:\n",
    "        median_days_to_register = None  # If no data, set median as None\n",
    "\n",
    "    # Add the calculated median days and run date to the output DataFrame\n",
    "    conversion_window_df_regis = pd.concat(\n",
    "        [\n",
    "            conversion_window_df_regis,\n",
    "            pd.DataFrame(\n",
    "                {\n",
    "                    \"stage\": [\"registration\"],\n",
    "                    \"median_days\": [median_days_to_register],\n",
    "                    \"run_date\": [current_date.date()],\n",
    "                }\n",
    "            ),\n",
    "        ],\n",
    "        ignore_index=True,\n",
    "    )\n",
    "\n",
    "\n",
    "    ################################################# MAM Initialization #########################################\n",
    "\n",
    "    try:\n",
    "        # Initialize the MAM class\n",
    "        attributions = MAM(\n",
    "            regis_df,\n",
    "            group_channels=True,\n",
    "            channels_colname=touchpoint,\n",
    "            journey_with_conv_colname=transaction,\n",
    "            group_channels_by_id_list=[ids],\n",
    "            group_timestamp_colname=date,\n",
    "            create_journey_id_based_on_conversion=True,\n",
    "        )\n",
    "\n",
    "        ################################################# Apply Attribution Models #########################################\n",
    "\n",
    "        attributions.attribution_last_click()\n",
    "        attributions.attribution_first_click()\n",
    "        attributions.attribution_position_based(\n",
    "            list_positions_first_middle_last=[0.3, 0.3, 0.4]\n",
    "        )\n",
    "        attributions.attribution_time_decay(\n",
    "            decay_over_time=0.6, frequency=7\n",
    "        )  # Frequency in hours\n",
    "        attribution_markov = attributions.attribution_markov(\n",
    "            transition_to_same_state=False\n",
    "        )\n",
    "\n",
    "        ################################################# Process Results #########################################\n",
    "\n",
    "        # User-level attribution data\n",
    "        user_df_temp = attributions.as_pd_dataframe()\n",
    "        user_df_temp[\"num_touchpoints\"] = (\n",
    "            user_df_temp[\"channels_agg\"].str.split(\" > \").apply(len)\n",
    "        )\n",
    "        user_df_temp[\"run_date\"] = current_date.date()\n",
    "\n",
    "        # Extract user_guid from journey_id\n",
    "        user_df_temp['user_guid'] = user_df_temp['journey_id'].str.extract(r'id:(.*)_J:0')[0]\n",
    "\n",
    "        # Prepare df for merging\n",
    "        df['conversion_visit_timestamp_date'] = df['conversion_visit_timestamp'].dt.date\n",
    "        product_arrangement_df = df[['user_guid', 'conversion_visit_timestamp_date', 'product_arrangement_id']].drop_duplicates()\n",
    "\n",
    "        # Merge user_df_temp with product_arrangement_df\n",
    "        user_df_temp = user_df_temp.merge(\n",
    "            product_arrangement_df,\n",
    "            left_on=['user_guid', 'run_date'],\n",
    "            right_on=['user_guid', 'conversion_visit_timestamp_date'],\n",
    "            how='left'\n",
    "        )\n",
    "\n",
    "        # Drop 'conversion_visit_timestamp_date' column after merge\n",
    "        user_df_temp.drop(columns=['conversion_visit_timestamp_date'], inplace=True)\n",
    "\n",
    "        # Now concatenate user_df_temp into user_df_all_regis_90\n",
    "        user_df_all_regis_90 = pd.concat(\n",
    "            [user_df_all_regis_90, user_df_temp], ignore_index=True\n",
    "        )\n",
    "\n",
    "        # Proceed with processing markov_transition_matrix and other dataframes as before\n",
    "        # Markov transition matrix\n",
    "        markov_transition_matrix = attribution_markov[2].round(3)\n",
    "        markov_transition_matrix = markov_transition_matrix.rename(\n",
    "            index=lambda x: x.replace(\"(inicio)\", \"(start)\"),\n",
    "            columns=lambda x: x.replace(\"(inicio)\", \"(start)\"),\n",
    "        )\n",
    "        markov_transition_matrix.reset_index(inplace=True)\n",
    "        markov_transition_matrix = pd.melt(\n",
    "            markov_transition_matrix,\n",
    "            id_vars=\"index\",\n",
    "            var_name=\"destination\",\n",
    "            value_name=\"probability\",\n",
    "        )\n",
    "        markov_transition_matrix.columns = [\"source\", \"destination\", \"probability\"]\n",
    "        markov_transition_matrix[\"run_date\"] = current_date.date()\n",
    "        markov_transition_matrix_all_regis_90 = pd.concat(\n",
    "            [markov_transition_matrix_all_regis_90, markov_transition_matrix],\n",
    "            ignore_index=True,\n",
    "        )\n",
    "\n",
    "        # Removal effects\n",
    "        removal_effect_matrix = attribution_markov[3].round(3)\n",
    "        channels = removal_effect_matrix.index\n",
    "        removal_effect_values = removal_effect_matrix[[\"removal_effect\"]]\n",
    "        normalized_values = (removal_effect_values / removal_effect_values.sum()) * 100\n",
    "        normalized_removal_effects = pd.DataFrame(\n",
    "            normalized_values, index=channels, columns=[\"removal_effect\"]\n",
    "        )\n",
    "        normalized_removal_effects[\"run_date\"] = current_date.date()\n",
    "        normalized_removal_effects[\"removal_effect_raw\"] = (\n",
    "            removal_effect_values.values.flatten()\n",
    "        )\n",
    "        normalized_removal_effects.reset_index(inplace=True)\n",
    "        normalized_removal_effects.rename(columns={\"index\": \"channel\"}, inplace=True)\n",
    "        normalized_removal_effects_all_regis_90 = pd.concat(\n",
    "            [normalized_removal_effects_all_regis_90, normalized_removal_effects],\n",
    "            ignore_index=True,\n",
    "        )\n",
    "\n",
    "        # Attribution by channels and models\n",
    "        attribution_df = attributions.group_by_channels_models\n",
    "        attribution_df[\"run_date\"] = current_date.date()\n",
    "        attribution_df.columns = attribution_df.columns.str.replace(\n",
    "            \".\", \"_\", regex=False\n",
    "        ).str.replace(\" \", \"_\", regex=False)\n",
    "        attribution_df_all_regis_90 = pd.concat(\n",
    "            [attribution_df_all_regis_90, attribution_df], ignore_index=True\n",
    "        )\n",
    "\n",
    "        print(f\"Processed data for {current_date.strftime('%Y-%m-%d')}\")\n",
    "\n",
    "    except Exception as e:\n",
    "        print(\n",
    "            f\"An error occurred for the date {current_date.strftime('%Y-%m-%d')}: {e}\"\n",
    "        )\n",
    "        continue\n",
    "\n",
    "################################################# Finalize Results #########################################\n",
    "\n",
    "attribution_df_all_regis_90[\"conversion_window\"] = 90\n",
    "normalized_removal_effects_all_regis_90[\"conversion_window\"] = 90\n",
    "markov_transition_matrix_all_regis_90[\"conversion_window\"] = 90\n",
    "user_df_all_regis_90[\"conversion_window\"] = 90\n",
    "\n",
    "attribution_df_all_regis_90[\"conversion_type\"] = \"registration\"\n",
    "normalized_removal_effects_all_regis_90[\"conversion_type\"] = \"registration\"\n",
    "markov_transition_matrix_all_regis_90[\"conversion_type\"] = \"registration\"\n",
    "user_df_all_regis_90[\"conversion_type\"] = \"registration\""
   ]
  },
  {
   "cell_type": "code",
   "execution_count": null,
   "metadata": {},
   "outputs": [
    {
     "name": "stdout",
     "output_type": "stream",
     "text": [
      "Fetching data for 2025-02-16\n"
     ]
    },
    {
     "name": "stderr",
     "output_type": "stream",
     "text": [
      "/opt/anaconda3/envs/clean_env/lib/python3.9/site-packages/google/cloud/bigquery/table.py:2309: UserWarning: Unable to represent RANGE schema as struct using pandas ArrowDtype. Using `object` instead. To use ArrowDtype, use pandas >= 1.5 and pyarrow >= 10.0.1.\n",
      "  warnings.warn(_RANGE_PYARROW_WARNING)\n",
      "/opt/anaconda3/envs/clean_env/lib/python3.9/site-packages/google/cloud/bigquery/table.py:2323: UserWarning: Unable to represent RANGE schema as struct using pandas ArrowDtype. Using `object` instead. To use ArrowDtype, use pandas >= 1.5 and pyarrow >= 10.0.1.\n",
      "  warnings.warn(_RANGE_PYARROW_WARNING)\n",
      "/opt/anaconda3/envs/clean_env/lib/python3.9/site-packages/google/cloud/bigquery/table.py:2337: UserWarning: Unable to represent RANGE schema as struct using pandas ArrowDtype. Using `object` instead. To use ArrowDtype, use pandas >= 1.5 and pyarrow >= 10.0.1.\n",
      "  warnings.warn(_RANGE_PYARROW_WARNING)\n"
     ]
    },
    {
     "name": "stdout",
     "output_type": "stream",
     "text": [
      "Processed data for 2025-02-16\n",
      "Fetching data for 2025-02-17\n"
     ]
    },
    {
     "name": "stderr",
     "output_type": "stream",
     "text": [
      "/opt/anaconda3/envs/clean_env/lib/python3.9/site-packages/google/cloud/bigquery/table.py:2309: UserWarning: Unable to represent RANGE schema as struct using pandas ArrowDtype. Using `object` instead. To use ArrowDtype, use pandas >= 1.5 and pyarrow >= 10.0.1.\n",
      "  warnings.warn(_RANGE_PYARROW_WARNING)\n",
      "/opt/anaconda3/envs/clean_env/lib/python3.9/site-packages/google/cloud/bigquery/table.py:2323: UserWarning: Unable to represent RANGE schema as struct using pandas ArrowDtype. Using `object` instead. To use ArrowDtype, use pandas >= 1.5 and pyarrow >= 10.0.1.\n",
      "  warnings.warn(_RANGE_PYARROW_WARNING)\n",
      "/opt/anaconda3/envs/clean_env/lib/python3.9/site-packages/google/cloud/bigquery/table.py:2337: UserWarning: Unable to represent RANGE schema as struct using pandas ArrowDtype. Using `object` instead. To use ArrowDtype, use pandas >= 1.5 and pyarrow >= 10.0.1.\n",
      "  warnings.warn(_RANGE_PYARROW_WARNING)\n"
     ]
    },
    {
     "name": "stdout",
     "output_type": "stream",
     "text": [
      "Processed data for 2025-02-17\n",
      "Fetching data for 2025-02-18\n"
     ]
    },
    {
     "name": "stderr",
     "output_type": "stream",
     "text": [
      "/opt/anaconda3/envs/clean_env/lib/python3.9/site-packages/google/cloud/bigquery/table.py:2309: UserWarning: Unable to represent RANGE schema as struct using pandas ArrowDtype. Using `object` instead. To use ArrowDtype, use pandas >= 1.5 and pyarrow >= 10.0.1.\n",
      "  warnings.warn(_RANGE_PYARROW_WARNING)\n",
      "/opt/anaconda3/envs/clean_env/lib/python3.9/site-packages/google/cloud/bigquery/table.py:2323: UserWarning: Unable to represent RANGE schema as struct using pandas ArrowDtype. Using `object` instead. To use ArrowDtype, use pandas >= 1.5 and pyarrow >= 10.0.1.\n",
      "  warnings.warn(_RANGE_PYARROW_WARNING)\n",
      "/opt/anaconda3/envs/clean_env/lib/python3.9/site-packages/google/cloud/bigquery/table.py:2337: UserWarning: Unable to represent RANGE schema as struct using pandas ArrowDtype. Using `object` instead. To use ArrowDtype, use pandas >= 1.5 and pyarrow >= 10.0.1.\n",
      "  warnings.warn(_RANGE_PYARROW_WARNING)\n"
     ]
    },
    {
     "name": "stdout",
     "output_type": "stream",
     "text": [
      "Processed data for 2025-02-18\n",
      "Fetching data for 2025-02-19\n"
     ]
    },
    {
     "name": "stderr",
     "output_type": "stream",
     "text": [
      "/opt/anaconda3/envs/clean_env/lib/python3.9/site-packages/google/cloud/bigquery/table.py:2309: UserWarning: Unable to represent RANGE schema as struct using pandas ArrowDtype. Using `object` instead. To use ArrowDtype, use pandas >= 1.5 and pyarrow >= 10.0.1.\n",
      "  warnings.warn(_RANGE_PYARROW_WARNING)\n",
      "/opt/anaconda3/envs/clean_env/lib/python3.9/site-packages/google/cloud/bigquery/table.py:2323: UserWarning: Unable to represent RANGE schema as struct using pandas ArrowDtype. Using `object` instead. To use ArrowDtype, use pandas >= 1.5 and pyarrow >= 10.0.1.\n",
      "  warnings.warn(_RANGE_PYARROW_WARNING)\n",
      "/opt/anaconda3/envs/clean_env/lib/python3.9/site-packages/google/cloud/bigquery/table.py:2337: UserWarning: Unable to represent RANGE schema as struct using pandas ArrowDtype. Using `object` instead. To use ArrowDtype, use pandas >= 1.5 and pyarrow >= 10.0.1.\n",
      "  warnings.warn(_RANGE_PYARROW_WARNING)\n"
     ]
    },
    {
     "name": "stdout",
     "output_type": "stream",
     "text": [
      "Processed data for 2025-02-19\n",
      "Fetching data for 2025-02-20\n"
     ]
    },
    {
     "name": "stderr",
     "output_type": "stream",
     "text": [
      "/opt/anaconda3/envs/clean_env/lib/python3.9/site-packages/google/cloud/bigquery/table.py:2309: UserWarning: Unable to represent RANGE schema as struct using pandas ArrowDtype. Using `object` instead. To use ArrowDtype, use pandas >= 1.5 and pyarrow >= 10.0.1.\n",
      "  warnings.warn(_RANGE_PYARROW_WARNING)\n",
      "/opt/anaconda3/envs/clean_env/lib/python3.9/site-packages/google/cloud/bigquery/table.py:2323: UserWarning: Unable to represent RANGE schema as struct using pandas ArrowDtype. Using `object` instead. To use ArrowDtype, use pandas >= 1.5 and pyarrow >= 10.0.1.\n",
      "  warnings.warn(_RANGE_PYARROW_WARNING)\n",
      "/opt/anaconda3/envs/clean_env/lib/python3.9/site-packages/google/cloud/bigquery/table.py:2337: UserWarning: Unable to represent RANGE schema as struct using pandas ArrowDtype. Using `object` instead. To use ArrowDtype, use pandas >= 1.5 and pyarrow >= 10.0.1.\n",
      "  warnings.warn(_RANGE_PYARROW_WARNING)\n"
     ]
    },
    {
     "name": "stdout",
     "output_type": "stream",
     "text": [
      "Processed data for 2025-02-20\n",
      "Fetching data for 2025-02-21\n"
     ]
    },
    {
     "name": "stderr",
     "output_type": "stream",
     "text": [
      "/opt/anaconda3/envs/clean_env/lib/python3.9/site-packages/google/cloud/bigquery/table.py:2309: UserWarning: Unable to represent RANGE schema as struct using pandas ArrowDtype. Using `object` instead. To use ArrowDtype, use pandas >= 1.5 and pyarrow >= 10.0.1.\n",
      "  warnings.warn(_RANGE_PYARROW_WARNING)\n",
      "/opt/anaconda3/envs/clean_env/lib/python3.9/site-packages/google/cloud/bigquery/table.py:2323: UserWarning: Unable to represent RANGE schema as struct using pandas ArrowDtype. Using `object` instead. To use ArrowDtype, use pandas >= 1.5 and pyarrow >= 10.0.1.\n",
      "  warnings.warn(_RANGE_PYARROW_WARNING)\n",
      "/opt/anaconda3/envs/clean_env/lib/python3.9/site-packages/google/cloud/bigquery/table.py:2337: UserWarning: Unable to represent RANGE schema as struct using pandas ArrowDtype. Using `object` instead. To use ArrowDtype, use pandas >= 1.5 and pyarrow >= 10.0.1.\n",
      "  warnings.warn(_RANGE_PYARROW_WARNING)\n"
     ]
    },
    {
     "name": "stdout",
     "output_type": "stream",
     "text": [
      "Processed data for 2025-02-21\n",
      "Fetching data for 2025-02-22\n"
     ]
    },
    {
     "name": "stderr",
     "output_type": "stream",
     "text": [
      "/opt/anaconda3/envs/clean_env/lib/python3.9/site-packages/google/cloud/bigquery/table.py:2309: UserWarning: Unable to represent RANGE schema as struct using pandas ArrowDtype. Using `object` instead. To use ArrowDtype, use pandas >= 1.5 and pyarrow >= 10.0.1.\n",
      "  warnings.warn(_RANGE_PYARROW_WARNING)\n",
      "/opt/anaconda3/envs/clean_env/lib/python3.9/site-packages/google/cloud/bigquery/table.py:2323: UserWarning: Unable to represent RANGE schema as struct using pandas ArrowDtype. Using `object` instead. To use ArrowDtype, use pandas >= 1.5 and pyarrow >= 10.0.1.\n",
      "  warnings.warn(_RANGE_PYARROW_WARNING)\n",
      "/opt/anaconda3/envs/clean_env/lib/python3.9/site-packages/google/cloud/bigquery/table.py:2337: UserWarning: Unable to represent RANGE schema as struct using pandas ArrowDtype. Using `object` instead. To use ArrowDtype, use pandas >= 1.5 and pyarrow >= 10.0.1.\n",
      "  warnings.warn(_RANGE_PYARROW_WARNING)\n"
     ]
    },
    {
     "name": "stdout",
     "output_type": "stream",
     "text": [
      "Processed data for 2025-02-22\n",
      "Fetching data for 2025-02-23\n"
     ]
    },
    {
     "name": "stderr",
     "output_type": "stream",
     "text": [
      "/opt/anaconda3/envs/clean_env/lib/python3.9/site-packages/google/cloud/bigquery/table.py:2309: UserWarning: Unable to represent RANGE schema as struct using pandas ArrowDtype. Using `object` instead. To use ArrowDtype, use pandas >= 1.5 and pyarrow >= 10.0.1.\n",
      "  warnings.warn(_RANGE_PYARROW_WARNING)\n",
      "/opt/anaconda3/envs/clean_env/lib/python3.9/site-packages/google/cloud/bigquery/table.py:2323: UserWarning: Unable to represent RANGE schema as struct using pandas ArrowDtype. Using `object` instead. To use ArrowDtype, use pandas >= 1.5 and pyarrow >= 10.0.1.\n",
      "  warnings.warn(_RANGE_PYARROW_WARNING)\n",
      "/opt/anaconda3/envs/clean_env/lib/python3.9/site-packages/google/cloud/bigquery/table.py:2337: UserWarning: Unable to represent RANGE schema as struct using pandas ArrowDtype. Using `object` instead. To use ArrowDtype, use pandas >= 1.5 and pyarrow >= 10.0.1.\n",
      "  warnings.warn(_RANGE_PYARROW_WARNING)\n"
     ]
    },
    {
     "name": "stdout",
     "output_type": "stream",
     "text": [
      "Processed data for 2025-02-23\n",
      "Fetching data for 2025-02-24\n"
     ]
    },
    {
     "name": "stderr",
     "output_type": "stream",
     "text": [
      "/opt/anaconda3/envs/clean_env/lib/python3.9/site-packages/google/cloud/bigquery/table.py:2309: UserWarning: Unable to represent RANGE schema as struct using pandas ArrowDtype. Using `object` instead. To use ArrowDtype, use pandas >= 1.5 and pyarrow >= 10.0.1.\n",
      "  warnings.warn(_RANGE_PYARROW_WARNING)\n",
      "/opt/anaconda3/envs/clean_env/lib/python3.9/site-packages/google/cloud/bigquery/table.py:2323: UserWarning: Unable to represent RANGE schema as struct using pandas ArrowDtype. Using `object` instead. To use ArrowDtype, use pandas >= 1.5 and pyarrow >= 10.0.1.\n",
      "  warnings.warn(_RANGE_PYARROW_WARNING)\n",
      "/opt/anaconda3/envs/clean_env/lib/python3.9/site-packages/google/cloud/bigquery/table.py:2337: UserWarning: Unable to represent RANGE schema as struct using pandas ArrowDtype. Using `object` instead. To use ArrowDtype, use pandas >= 1.5 and pyarrow >= 10.0.1.\n",
      "  warnings.warn(_RANGE_PYARROW_WARNING)\n"
     ]
    },
    {
     "name": "stdout",
     "output_type": "stream",
     "text": [
      "Processed data for 2025-02-24\n",
      "Fetching data for 2025-02-25\n"
     ]
    },
    {
     "name": "stderr",
     "output_type": "stream",
     "text": [
      "/opt/anaconda3/envs/clean_env/lib/python3.9/site-packages/google/cloud/bigquery/table.py:2309: UserWarning: Unable to represent RANGE schema as struct using pandas ArrowDtype. Using `object` instead. To use ArrowDtype, use pandas >= 1.5 and pyarrow >= 10.0.1.\n",
      "  warnings.warn(_RANGE_PYARROW_WARNING)\n",
      "/opt/anaconda3/envs/clean_env/lib/python3.9/site-packages/google/cloud/bigquery/table.py:2323: UserWarning: Unable to represent RANGE schema as struct using pandas ArrowDtype. Using `object` instead. To use ArrowDtype, use pandas >= 1.5 and pyarrow >= 10.0.1.\n",
      "  warnings.warn(_RANGE_PYARROW_WARNING)\n",
      "/opt/anaconda3/envs/clean_env/lib/python3.9/site-packages/google/cloud/bigquery/table.py:2337: UserWarning: Unable to represent RANGE schema as struct using pandas ArrowDtype. Using `object` instead. To use ArrowDtype, use pandas >= 1.5 and pyarrow >= 10.0.1.\n",
      "  warnings.warn(_RANGE_PYARROW_WARNING)\n"
     ]
    },
    {
     "name": "stdout",
     "output_type": "stream",
     "text": [
      "Processed data for 2025-02-25\n",
      "Fetching data for 2025-02-26\n"
     ]
    },
    {
     "name": "stderr",
     "output_type": "stream",
     "text": [
      "/opt/anaconda3/envs/clean_env/lib/python3.9/site-packages/google/cloud/bigquery/table.py:2309: UserWarning: Unable to represent RANGE schema as struct using pandas ArrowDtype. Using `object` instead. To use ArrowDtype, use pandas >= 1.5 and pyarrow >= 10.0.1.\n",
      "  warnings.warn(_RANGE_PYARROW_WARNING)\n",
      "/opt/anaconda3/envs/clean_env/lib/python3.9/site-packages/google/cloud/bigquery/table.py:2323: UserWarning: Unable to represent RANGE schema as struct using pandas ArrowDtype. Using `object` instead. To use ArrowDtype, use pandas >= 1.5 and pyarrow >= 10.0.1.\n",
      "  warnings.warn(_RANGE_PYARROW_WARNING)\n",
      "/opt/anaconda3/envs/clean_env/lib/python3.9/site-packages/google/cloud/bigquery/table.py:2337: UserWarning: Unable to represent RANGE schema as struct using pandas ArrowDtype. Using `object` instead. To use ArrowDtype, use pandas >= 1.5 and pyarrow >= 10.0.1.\n",
      "  warnings.warn(_RANGE_PYARROW_WARNING)\n"
     ]
    },
    {
     "name": "stdout",
     "output_type": "stream",
     "text": [
      "Processed data for 2025-02-26\n",
      "Fetching data for 2025-02-27\n"
     ]
    },
    {
     "name": "stderr",
     "output_type": "stream",
     "text": [
      "/opt/anaconda3/envs/clean_env/lib/python3.9/site-packages/google/cloud/bigquery/table.py:2309: UserWarning: Unable to represent RANGE schema as struct using pandas ArrowDtype. Using `object` instead. To use ArrowDtype, use pandas >= 1.5 and pyarrow >= 10.0.1.\n",
      "  warnings.warn(_RANGE_PYARROW_WARNING)\n",
      "/opt/anaconda3/envs/clean_env/lib/python3.9/site-packages/google/cloud/bigquery/table.py:2323: UserWarning: Unable to represent RANGE schema as struct using pandas ArrowDtype. Using `object` instead. To use ArrowDtype, use pandas >= 1.5 and pyarrow >= 10.0.1.\n",
      "  warnings.warn(_RANGE_PYARROW_WARNING)\n",
      "/opt/anaconda3/envs/clean_env/lib/python3.9/site-packages/google/cloud/bigquery/table.py:2337: UserWarning: Unable to represent RANGE schema as struct using pandas ArrowDtype. Using `object` instead. To use ArrowDtype, use pandas >= 1.5 and pyarrow >= 10.0.1.\n",
      "  warnings.warn(_RANGE_PYARROW_WARNING)\n"
     ]
    },
    {
     "name": "stdout",
     "output_type": "stream",
     "text": [
      "Processed data for 2025-02-27\n",
      "Fetching data for 2025-02-28\n"
     ]
    },
    {
     "name": "stderr",
     "output_type": "stream",
     "text": [
      "/opt/anaconda3/envs/clean_env/lib/python3.9/site-packages/google/cloud/bigquery/table.py:2309: UserWarning: Unable to represent RANGE schema as struct using pandas ArrowDtype. Using `object` instead. To use ArrowDtype, use pandas >= 1.5 and pyarrow >= 10.0.1.\n",
      "  warnings.warn(_RANGE_PYARROW_WARNING)\n",
      "/opt/anaconda3/envs/clean_env/lib/python3.9/site-packages/google/cloud/bigquery/table.py:2323: UserWarning: Unable to represent RANGE schema as struct using pandas ArrowDtype. Using `object` instead. To use ArrowDtype, use pandas >= 1.5 and pyarrow >= 10.0.1.\n",
      "  warnings.warn(_RANGE_PYARROW_WARNING)\n",
      "/opt/anaconda3/envs/clean_env/lib/python3.9/site-packages/google/cloud/bigquery/table.py:2337: UserWarning: Unable to represent RANGE schema as struct using pandas ArrowDtype. Using `object` instead. To use ArrowDtype, use pandas >= 1.5 and pyarrow >= 10.0.1.\n",
      "  warnings.warn(_RANGE_PYARROW_WARNING)\n"
     ]
    },
    {
     "name": "stdout",
     "output_type": "stream",
     "text": [
      "An error occurred for the date 2025-02-28: cumsum is not supported for object dtype\n",
      "Fetching data for 2025-03-01\n"
     ]
    },
    {
     "name": "stderr",
     "output_type": "stream",
     "text": [
      "/opt/anaconda3/envs/clean_env/lib/python3.9/site-packages/google/cloud/bigquery/table.py:2309: UserWarning: Unable to represent RANGE schema as struct using pandas ArrowDtype. Using `object` instead. To use ArrowDtype, use pandas >= 1.5 and pyarrow >= 10.0.1.\n",
      "  warnings.warn(_RANGE_PYARROW_WARNING)\n",
      "/opt/anaconda3/envs/clean_env/lib/python3.9/site-packages/google/cloud/bigquery/table.py:2323: UserWarning: Unable to represent RANGE schema as struct using pandas ArrowDtype. Using `object` instead. To use ArrowDtype, use pandas >= 1.5 and pyarrow >= 10.0.1.\n",
      "  warnings.warn(_RANGE_PYARROW_WARNING)\n",
      "/opt/anaconda3/envs/clean_env/lib/python3.9/site-packages/google/cloud/bigquery/table.py:2337: UserWarning: Unable to represent RANGE schema as struct using pandas ArrowDtype. Using `object` instead. To use ArrowDtype, use pandas >= 1.5 and pyarrow >= 10.0.1.\n",
      "  warnings.warn(_RANGE_PYARROW_WARNING)\n"
     ]
    },
    {
     "name": "stdout",
     "output_type": "stream",
     "text": [
      "An error occurred for the date 2025-03-01: cumsum is not supported for object dtype\n",
      "Fetching data for 2025-03-02\n"
     ]
    },
    {
     "name": "stderr",
     "output_type": "stream",
     "text": [
      "/opt/anaconda3/envs/clean_env/lib/python3.9/site-packages/google/cloud/bigquery/table.py:2309: UserWarning: Unable to represent RANGE schema as struct using pandas ArrowDtype. Using `object` instead. To use ArrowDtype, use pandas >= 1.5 and pyarrow >= 10.0.1.\n",
      "  warnings.warn(_RANGE_PYARROW_WARNING)\n",
      "/opt/anaconda3/envs/clean_env/lib/python3.9/site-packages/google/cloud/bigquery/table.py:2323: UserWarning: Unable to represent RANGE schema as struct using pandas ArrowDtype. Using `object` instead. To use ArrowDtype, use pandas >= 1.5 and pyarrow >= 10.0.1.\n",
      "  warnings.warn(_RANGE_PYARROW_WARNING)\n",
      "/opt/anaconda3/envs/clean_env/lib/python3.9/site-packages/google/cloud/bigquery/table.py:2337: UserWarning: Unable to represent RANGE schema as struct using pandas ArrowDtype. Using `object` instead. To use ArrowDtype, use pandas >= 1.5 and pyarrow >= 10.0.1.\n",
      "  warnings.warn(_RANGE_PYARROW_WARNING)\n"
     ]
    },
    {
     "name": "stdout",
     "output_type": "stream",
     "text": [
      "An error occurred for the date 2025-03-02: cumsum is not supported for object dtype\n"
     ]
    }
   ],
   "source": [
    "################################################# Output DataFrames  #################################################\n",
    "table_id = \"ft-customer-analytics.crg_nniu.stg_conversion_users_last_15_days_60_days_lookback_table\"\n",
    "\n",
    "attribution_df_all_regis_60 = pd.DataFrame()\n",
    "normalized_removal_effects_all_regis_60 = pd.DataFrame()\n",
    "markov_transition_matrix_all_regis_60 = pd.DataFrame()\n",
    "user_df_all_regis_60 = pd.DataFrame()\n",
    "conversion_window_df_regis = pd.DataFrame()\n",
    "\n",
    "################################################# Process Data for Each Day #########################################\n",
    "\n",
    "for current_date in pd.date_range(start_date, end_date, freq=\"D\"):\n",
    "    # Create SQL query for the current date\n",
    "    query = f\"\"\"\n",
    "    SELECT * FROM {table_id}\n",
    "    WHERE DATE(conversion_visit_timestamp) = \"{current_date.strftime('%Y-%m-%d')}\"\n",
    "    \"\"\"\n",
    "    print(f\"Fetching data for {current_date.strftime('%Y-%m-%d')}\")\n",
    "\n",
    "\n",
    "    # Execute the query\n",
    "    query_job = client.query(query)\n",
    "    df = query_job.to_dataframe()\n",
    "\n",
    "    if df.empty:\n",
    "        print(f\"No data for {current_date.strftime('%Y-%m-%d')}\")\n",
    "        continue\n",
    "\n",
    "    ################################################# Data Cleaning  #########################################\n",
    "    \n",
    "    df[\"original_transaction\"] = df[\"converting_visit\"]\n",
    "    regis_df = df[df[\"conversion_type\"] == \"registration\"].drop(columns=[\"conversion_type\"])\n",
    "\n",
    "    regis_df[\"user_max_date\"] = regis_df.groupby(ids)[\"conversion_visit_timestamp\"].transform(\"max\")\n",
    "    regis_df[transaction] = 0\n",
    "    regis_df.loc[(regis_df[date] == regis_df[\"user_max_date\"]) & (regis_df[\"original_transaction\"] == 1), transaction] = 1\n",
    "\n",
    "    regis_df = regis_df.sort_values([ids, date], ascending=[False, True])\n",
    "\n",
    "    regis_df[\"run_date\"] = current_date.date()\n",
    "\n",
    "    ################################################# Median day calculation #########################################\n",
    "    \n",
    "    # Initialize a list to store each user's median time to register\n",
    "    user_median_days = []\n",
    "\n",
    "    # Calculate the median days for each user\n",
    "    for user_guid, user_data in regis_df.groupby(ids):\n",
    "        # Find the earliest visit where transaction = 0 (initial visit)\n",
    "        first_visit = user_data[user_data[transaction] == 0][date].min()\n",
    "\n",
    "        # If no valid first visit is found, skip this user\n",
    "        if pd.isnull(first_visit):\n",
    "            continue\n",
    "\n",
    "        # Find the conversion date (transaction = 1)\n",
    "        conversion_date = user_data[user_data[transaction] == 1][date].min()\n",
    "\n",
    "        # Calculate the time difference in days\n",
    "        if pd.notnull(conversion_date):\n",
    "            days_to_convert = (conversion_date - first_visit).days\n",
    "            user_median_days.append(days_to_convert)\n",
    "\n",
    "    # Calculate the median of the user's conversion times\n",
    "    if user_median_days:\n",
    "        median_days_to_register = pd.Series(user_median_days).median()\n",
    "    else:\n",
    "        median_days_to_register = None  # If no data, set median as None\n",
    "\n",
    "    # Add the calculated median days and run date to the output DataFrame\n",
    "    conversion_window_df_regis = pd.concat(\n",
    "        [\n",
    "            conversion_window_df_regis,\n",
    "            pd.DataFrame(\n",
    "                {\n",
    "                    \"stage\": [\"registration\"],\n",
    "                    \"median_days\": [median_days_to_register],\n",
    "                    \"run_date\": [current_date.date()],\n",
    "                }\n",
    "            ),\n",
    "        ],\n",
    "        ignore_index=True,\n",
    "    )\n",
    "\n",
    "\n",
    "    ################################################# MAM Initialization #########################################\n",
    "\n",
    "    try:\n",
    "        # Initialize the MAM class\n",
    "        attributions = MAM(\n",
    "            regis_df,\n",
    "            group_channels=True,\n",
    "            channels_colname=touchpoint,\n",
    "            journey_with_conv_colname=transaction,\n",
    "            group_channels_by_id_list=[ids],\n",
    "            group_timestamp_colname=date,\n",
    "            create_journey_id_based_on_conversion=True,\n",
    "        )\n",
    "\n",
    "        ################################################# Apply Attribution Models #########################################\n",
    "\n",
    "        attributions.attribution_last_click()\n",
    "        attributions.attribution_first_click()\n",
    "        attributions.attribution_position_based(\n",
    "            list_positions_first_middle_last=[0.3, 0.3, 0.4]\n",
    "        )\n",
    "        attributions.attribution_time_decay(\n",
    "            decay_over_time=0.6, frequency=7\n",
    "        )  # Frequency in hours\n",
    "        attribution_markov = attributions.attribution_markov(\n",
    "            transition_to_same_state=False\n",
    "        )\n",
    "\n",
    "        ################################################# Process Results #########################################\n",
    "\n",
    "        # User-level attribution data\n",
    "        user_df_temp = attributions.as_pd_dataframe()\n",
    "        user_df_temp[\"num_touchpoints\"] = (\n",
    "            user_df_temp[\"channels_agg\"].str.split(\" > \").apply(len)\n",
    "        )\n",
    "        user_df_temp[\"run_date\"] = current_date.date()\n",
    "\n",
    "        # Extract user_guid from journey_id\n",
    "        user_df_temp['user_guid'] = user_df_temp['journey_id'].str.extract(r'id:(.*)_J:0')[0]\n",
    "\n",
    "        # Prepare df for merging\n",
    "        df['conversion_visit_timestamp_date'] = df['conversion_visit_timestamp'].dt.date\n",
    "        product_arrangement_df = df[['user_guid', 'conversion_visit_timestamp_date', 'product_arrangement_id']].drop_duplicates()\n",
    "\n",
    "        # Merge user_df_temp with product_arrangement_df\n",
    "        user_df_temp = user_df_temp.merge(\n",
    "            product_arrangement_df,\n",
    "            left_on=['user_guid', 'run_date'],\n",
    "            right_on=['user_guid', 'conversion_visit_timestamp_date'],\n",
    "            how='left'\n",
    "        )\n",
    "\n",
    "        # Drop 'conversion_visit_timestamp_date' column after merge\n",
    "        user_df_temp.drop(columns=['conversion_visit_timestamp_date'], inplace=True)\n",
    "\n",
    "        # Now concatenate user_df_temp into user_df_all_regis_60\n",
    "        user_df_all_regis_60 = pd.concat(\n",
    "            [user_df_all_regis_60, user_df_temp], ignore_index=True\n",
    "        )\n",
    "\n",
    "        # Proceed with processing markov_transition_matrix and other dataframes as before\n",
    "        # Markov transition matrix\n",
    "        markov_transition_matrix = attribution_markov[2].round(3)\n",
    "        markov_transition_matrix = markov_transition_matrix.rename(\n",
    "            index=lambda x: x.replace(\"(inicio)\", \"(start)\"),\n",
    "            columns=lambda x: x.replace(\"(inicio)\", \"(start)\"),\n",
    "        )\n",
    "        markov_transition_matrix.reset_index(inplace=True)\n",
    "        markov_transition_matrix = pd.melt(\n",
    "            markov_transition_matrix,\n",
    "            id_vars=\"index\",\n",
    "            var_name=\"destination\",\n",
    "            value_name=\"probability\",\n",
    "        )\n",
    "        markov_transition_matrix.columns = [\"source\", \"destination\", \"probability\"]\n",
    "        markov_transition_matrix[\"run_date\"] = current_date.date()\n",
    "        markov_transition_matrix_all_regis_60 = pd.concat(\n",
    "            [markov_transition_matrix_all_regis_60, markov_transition_matrix],\n",
    "            ignore_index=True,\n",
    "        )\n",
    "\n",
    "        # Removal effects\n",
    "        removal_effect_matrix = attribution_markov[3].round(3)\n",
    "        channels = removal_effect_matrix.index\n",
    "        removal_effect_values = removal_effect_matrix[[\"removal_effect\"]]\n",
    "        normalized_values = (removal_effect_values / removal_effect_values.sum()) * 100\n",
    "        normalized_removal_effects = pd.DataFrame(\n",
    "            normalized_values, index=channels, columns=[\"removal_effect\"]\n",
    "        )\n",
    "        normalized_removal_effects[\"run_date\"] = current_date.date()\n",
    "        normalized_removal_effects[\"removal_effect_raw\"] = (\n",
    "            removal_effect_values.values.flatten()\n",
    "        )\n",
    "        normalized_removal_effects.reset_index(inplace=True)\n",
    "        normalized_removal_effects.rename(columns={\"index\": \"channel\"}, inplace=True)\n",
    "        normalized_removal_effects_all_regis_60 = pd.concat(\n",
    "            [normalized_removal_effects_all_regis_60, normalized_removal_effects],\n",
    "            ignore_index=True,\n",
    "        )\n",
    "\n",
    "        # Attribution by channels and models\n",
    "        attribution_df = attributions.group_by_channels_models\n",
    "        attribution_df[\"run_date\"] = current_date.date()\n",
    "        attribution_df.columns = attribution_df.columns.str.replace(\n",
    "            \".\", \"_\", regex=False\n",
    "        ).str.replace(\" \", \"_\", regex=False)\n",
    "        attribution_df_all_regis_60 = pd.concat(\n",
    "            [attribution_df_all_regis_60, attribution_df], ignore_index=True\n",
    "        )\n",
    "\n",
    "        print(f\"Processed data for {current_date.strftime('%Y-%m-%d')}\")\n",
    "\n",
    "    except Exception as e:\n",
    "        print(\n",
    "            f\"An error occurred for the date {current_date.strftime('%Y-%m-%d')}: {e}\"\n",
    "        )\n",
    "        continue\n",
    "\n",
    "################################################# Finalize Results #########################################\n",
    "\n",
    "attribution_df_all_regis_60[\"conversion_window\"] = 60\n",
    "normalized_removal_effects_all_regis_60[\"conversion_window\"] = 60\n",
    "markov_transition_matrix_all_regis_60[\"conversion_window\"] = 60\n",
    "user_df_all_regis_60[\"conversion_window\"] = 60\n",
    "\n",
    "attribution_df_all_regis_60[\"conversion_type\"] = \"registration\"\n",
    "normalized_removal_effects_all_regis_60[\"conversion_type\"] = \"registration\"\n",
    "markov_transition_matrix_all_regis_60[\"conversion_type\"] = \"registration\"\n",
    "user_df_all_regis_60[\"conversion_type\"] = \"registration\""
   ]
  },
  {
   "cell_type": "code",
   "execution_count": null,
   "metadata": {},
   "outputs": [],
   "source": [
    "################################################# Output DataFrames  #################################################\n",
    "table_id = \"ft-customer-analytics.crg_nniu.stg_conversion_users_last_15_days_30_days_lookback_table\"\n",
    "\n",
    "attribution_df_all_regis_30 = pd.DataFrame()\n",
    "normalized_removal_effects_all_regis_30 = pd.DataFrame()\n",
    "markov_transition_matrix_all_regis_30 = pd.DataFrame()\n",
    "user_df_all_regis_30 = pd.DataFrame()\n",
    "conversion_window_df_regis = pd.DataFrame()\n",
    "\n",
    "################################################# Process Data for Each Day #########################################\n",
    "\n",
    "for current_date in pd.date_range(start_date, end_date, freq=\"D\"):\n",
    "    # Create SQL query for the current date\n",
    "    query = f\"\"\"\n",
    "    SELECT * FROM {table_id}\n",
    "    WHERE DATE(conversion_visit_timestamp) = \"{current_date.strftime('%Y-%m-%d')}\"\n",
    "    \"\"\"\n",
    "    print(f\"Fetching data for {current_date.strftime('%Y-%m-%d')}\")\n",
    "\n",
    "\n",
    "    # Execute the query\n",
    "    query_job = client.query(query)\n",
    "    df = query_job.to_dataframe()\n",
    "\n",
    "    if df.empty:\n",
    "        print(f\"No data for {current_date.strftime('%Y-%m-%d')}\")\n",
    "        continue\n",
    "\n",
    "    ################################################# Data Cleaning  #########################################\n",
    "    \n",
    "    df[\"original_transaction\"] = df[\"converting_visit\"]\n",
    "    regis_df = df[df[\"conversion_type\"] == \"registration\"].drop(columns=[\"conversion_type\"])\n",
    "\n",
    "    regis_df[\"user_max_date\"] = regis_df.groupby(ids)[\"conversion_visit_timestamp\"].transform(\"max\")\n",
    "    regis_df[transaction] = 0\n",
    "    regis_df.loc[(regis_df[date] == regis_df[\"user_max_date\"]) & (regis_df[\"original_transaction\"] == 1), transaction] = 1\n",
    "\n",
    "    regis_df = regis_df.sort_values([ids, date], ascending=[False, True])\n",
    "\n",
    "    regis_df[\"run_date\"] = current_date.date()\n",
    "\n",
    "    ################################################# Median day calculation #########################################\n",
    "    \n",
    "    # Initialize a list to store each user's median time to register\n",
    "    user_median_days = []\n",
    "\n",
    "    # Calculate the median days for each user\n",
    "    for user_guid, user_data in regis_df.groupby(ids):\n",
    "        # Find the earliest visit where transaction = 0 (initial visit)\n",
    "        first_visit = user_data[user_data[transaction] == 0][date].min()\n",
    "\n",
    "        # If no valid first visit is found, skip this user\n",
    "        if pd.isnull(first_visit):\n",
    "            continue\n",
    "\n",
    "        # Find the conversion date (transaction = 1)\n",
    "        conversion_date = user_data[user_data[transaction] == 1][date].min()\n",
    "\n",
    "        # Calculate the time difference in days\n",
    "        if pd.notnull(conversion_date):\n",
    "            days_to_convert = (conversion_date - first_visit).days\n",
    "            user_median_days.append(days_to_convert)\n",
    "\n",
    "    # Calculate the median of the user's conversion times\n",
    "    if user_median_days:\n",
    "        median_days_to_register = pd.Series(user_median_days).median()\n",
    "    else:\n",
    "        median_days_to_register = None  # If no data, set median as None\n",
    "\n",
    "    # Add the calculated median days and run date to the output DataFrame\n",
    "    conversion_window_df_regis = pd.concat(\n",
    "        [\n",
    "            conversion_window_df_regis,\n",
    "            pd.DataFrame(\n",
    "                {\n",
    "                    \"stage\": [\"registration\"],\n",
    "                    \"median_days\": [median_days_to_register],\n",
    "                    \"run_date\": [current_date.date()],\n",
    "                }\n",
    "            ),\n",
    "        ],\n",
    "        ignore_index=True,\n",
    "    )\n",
    "\n",
    "\n",
    "    ################################################# MAM Initialization #########################################\n",
    "\n",
    "    try:\n",
    "        # Initialize the MAM class\n",
    "        attributions = MAM(\n",
    "            regis_df,\n",
    "            group_channels=True,\n",
    "            channels_colname=touchpoint,\n",
    "            journey_with_conv_colname=transaction,\n",
    "            group_channels_by_id_list=[ids],\n",
    "            group_timestamp_colname=date,\n",
    "            create_journey_id_based_on_conversion=True,\n",
    "        )\n",
    "\n",
    "        ################################################# Apply Attribution Models #########################################\n",
    "\n",
    "        attributions.attribution_last_click()\n",
    "        attributions.attribution_first_click()\n",
    "        attributions.attribution_position_based(\n",
    "            list_positions_first_middle_last=[0.3, 0.3, 0.4]\n",
    "        )\n",
    "        attributions.attribution_time_decay(\n",
    "            decay_over_time=0.6, frequency=7\n",
    "        )  # Frequency in hours\n",
    "        attribution_markov = attributions.attribution_markov(\n",
    "            transition_to_same_state=False\n",
    "        )\n",
    "\n",
    "        ################################################# Process Results #########################################\n",
    "\n",
    "        # User-level attribution data\n",
    "        user_df_temp = attributions.as_pd_dataframe()\n",
    "        user_df_temp[\"num_touchpoints\"] = (\n",
    "            user_df_temp[\"channels_agg\"].str.split(\" > \").apply(len)\n",
    "        )\n",
    "        user_df_temp[\"run_date\"] = current_date.date()\n",
    "\n",
    "        # Extract user_guid from journey_id\n",
    "        user_df_temp['user_guid'] = user_df_temp['journey_id'].str.extract(r'id:(.*)_J:0')[0]\n",
    "\n",
    "        # Prepare df for merging\n",
    "        df['conversion_visit_timestamp_date'] = df['conversion_visit_timestamp'].dt.date\n",
    "        product_arrangement_df = df[['user_guid', 'conversion_visit_timestamp_date', 'product_arrangement_id']].drop_duplicates()\n",
    "\n",
    "        # Merge user_df_temp with product_arrangement_df\n",
    "        user_df_temp = user_df_temp.merge(\n",
    "            product_arrangement_df,\n",
    "            left_on=['user_guid', 'run_date'],\n",
    "            right_on=['user_guid', 'conversion_visit_timestamp_date'],\n",
    "            how='left'\n",
    "        )\n",
    "\n",
    "        # Drop 'conversion_visit_timestamp_date' column after merge\n",
    "        user_df_temp.drop(columns=['conversion_visit_timestamp_date'], inplace=True)\n",
    "\n",
    "        # Now concatenate user_df_temp into user_df_all_regis_30\n",
    "        user_df_all_regis_30 = pd.concat(\n",
    "            [user_df_all_regis_30, user_df_temp], ignore_index=True\n",
    "        )\n",
    "\n",
    "        # Proceed with processing markov_transition_matrix and other dataframes as before\n",
    "        # Markov transition matrix\n",
    "        markov_transition_matrix = attribution_markov[2].round(3)\n",
    "        markov_transition_matrix = markov_transition_matrix.rename(\n",
    "            index=lambda x: x.replace(\"(inicio)\", \"(start)\"),\n",
    "            columns=lambda x: x.replace(\"(inicio)\", \"(start)\"),\n",
    "        )\n",
    "        markov_transition_matrix.reset_index(inplace=True)\n",
    "        markov_transition_matrix = pd.melt(\n",
    "            markov_transition_matrix,\n",
    "            id_vars=\"index\",\n",
    "            var_name=\"destination\",\n",
    "            value_name=\"probability\",\n",
    "        )\n",
    "        markov_transition_matrix.columns = [\"source\", \"destination\", \"probability\"]\n",
    "        markov_transition_matrix[\"run_date\"] = current_date.date()\n",
    "        markov_transition_matrix_all_regis_30 = pd.concat(\n",
    "            [markov_transition_matrix_all_regis_30, markov_transition_matrix],\n",
    "            ignore_index=True,\n",
    "        )\n",
    "\n",
    "        # Removal effects\n",
    "        removal_effect_matrix = attribution_markov[3].round(3)\n",
    "        channels = removal_effect_matrix.index\n",
    "        removal_effect_values = removal_effect_matrix[[\"removal_effect\"]]\n",
    "        normalized_values = (removal_effect_values / removal_effect_values.sum()) * 100\n",
    "        normalized_removal_effects = pd.DataFrame(\n",
    "            normalized_values, index=channels, columns=[\"removal_effect\"]\n",
    "        )\n",
    "        normalized_removal_effects[\"run_date\"] = current_date.date()\n",
    "        normalized_removal_effects[\"removal_effect_raw\"] = (\n",
    "            removal_effect_values.values.flatten()\n",
    "        )\n",
    "        normalized_removal_effects.reset_index(inplace=True)\n",
    "        normalized_removal_effects.rename(columns={\"index\": \"channel\"}, inplace=True)\n",
    "        normalized_removal_effects_all_regis_30 = pd.concat(\n",
    "            [normalized_removal_effects_all_regis_30, normalized_removal_effects],\n",
    "            ignore_index=True,\n",
    "        )\n",
    "\n",
    "        # Attribution by channels and models\n",
    "        attribution_df = attributions.group_by_channels_models\n",
    "        attribution_df[\"run_date\"] = current_date.date()\n",
    "        attribution_df.columns = attribution_df.columns.str.replace(\n",
    "            \".\", \"_\", regex=False\n",
    "        ).str.replace(\" \", \"_\", regex=False)\n",
    "        attribution_df_all_regis_30 = pd.concat(\n",
    "            [attribution_df_all_regis_30, attribution_df], ignore_index=True\n",
    "        )\n",
    "\n",
    "        print(f\"Processed data for {current_date.strftime('%Y-%m-%d')}\")\n",
    "\n",
    "    except Exception as e:\n",
    "        print(\n",
    "            f\"An error occurred for the date {current_date.strftime('%Y-%m-%d')}: {e}\"\n",
    "        )\n",
    "        continue\n",
    "\n",
    "################################################# Finalize Results #########################################\n",
    "\n",
    "attribution_df_all_regis_30[\"conversion_window\"] = 30\n",
    "normalized_removal_effects_all_regis_30[\"conversion_window\"] = 30\n",
    "markov_transition_matrix_all_regis_30[\"conversion_window\"] = 30\n",
    "user_df_all_regis_30[\"conversion_window\"] = 30\n",
    "\n",
    "attribution_df_all_regis_30[\"conversion_type\"] = \"registration\"\n",
    "normalized_removal_effects_all_regis_30[\"conversion_type\"] = \"registration\"\n",
    "markov_transition_matrix_all_regis_30[\"conversion_type\"] = \"registration\"\n",
    "user_df_all_regis_30[\"conversion_type\"] = \"registration\""
   ]
  }
 ],
 "metadata": {
  "kernelspec": {
   "display_name": "clean_env",
   "language": "python",
   "name": "python3"
  },
  "language_info": {
   "codemirror_mode": {
    "name": "ipython",
    "version": 3
   },
   "file_extension": ".py",
   "mimetype": "text/x-python",
   "name": "python",
   "nbconvert_exporter": "python",
   "pygments_lexer": "ipython3",
   "version": "3.9.20"
  }
 },
 "nbformat": 4,
 "nbformat_minor": 2
}
